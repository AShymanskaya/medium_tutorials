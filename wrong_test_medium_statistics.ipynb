{
 "cells": [
  {
   "cell_type": "markdown",
   "id": "c66eca8f",
   "metadata": {},
   "source": [
    "## Read in data"
   ]
  },
  {
   "cell_type": "code",
   "execution_count": 1,
   "id": "8923480f",
   "metadata": {},
   "outputs": [],
   "source": [
    "import pandas as pd\n",
    "import numpy as np\n",
    "from scipy import stats\n",
    "from typing import Tuple\n",
    "from scipy.stats import bartlett\n",
    "from scipy.stats import levene\n",
    "from scipy.stats import mannwhitneyu\n",
    "from statsmodels.sandbox.stats.multicomp import multipletests"
   ]
  },
  {
   "cell_type": "code",
   "execution_count": 2,
   "id": "ff10de1e",
   "metadata": {},
   "outputs": [],
   "source": [
    "data_df=pd.read_csv(r'WineQT.csv')"
   ]
  },
  {
   "cell_type": "code",
   "execution_count": 3,
   "id": "58e9073a",
   "metadata": {},
   "outputs": [],
   "source": [
    "#we are interested in wine with quality values 5 and 6\n",
    "data_df=data_df.loc[(data_df.quality==5)|(data_df.quality==6)].drop(columns='Id')\n"
   ]
  },
  {
   "cell_type": "markdown",
   "id": "5227f5b8",
   "metadata": {},
   "source": [
    "## Visualise the features of the two groups"
   ]
  },
  {
   "cell_type": "code",
   "execution_count": 5,
   "id": "683b958c",
   "metadata": {},
   "outputs": [
    {
     "data": {
      "text/html": [
       "<div>\n",
       "<style scoped>\n",
       "    .dataframe tbody tr th:only-of-type {\n",
       "        vertical-align: middle;\n",
       "    }\n",
       "\n",
       "    .dataframe tbody tr th {\n",
       "        vertical-align: top;\n",
       "    }\n",
       "\n",
       "    .dataframe thead th {\n",
       "        text-align: right;\n",
       "    }\n",
       "</style>\n",
       "<table border=\"1\" class=\"dataframe\">\n",
       "  <thead>\n",
       "    <tr style=\"text-align: right;\">\n",
       "      <th></th>\n",
       "      <th>fixed acidity</th>\n",
       "      <th>volatile acidity</th>\n",
       "      <th>citric acid</th>\n",
       "      <th>residual sugar</th>\n",
       "      <th>chlorides</th>\n",
       "      <th>free sulfur dioxide</th>\n",
       "      <th>total sulfur dioxide</th>\n",
       "      <th>density</th>\n",
       "      <th>pH</th>\n",
       "      <th>sulphates</th>\n",
       "      <th>alcohol</th>\n",
       "    </tr>\n",
       "  </thead>\n",
       "  <tbody>\n",
       "    <tr>\n",
       "      <th>0</th>\n",
       "      <td>7.4</td>\n",
       "      <td>0.70</td>\n",
       "      <td>0.00</td>\n",
       "      <td>1.9</td>\n",
       "      <td>0.076</td>\n",
       "      <td>11.0</td>\n",
       "      <td>34.0</td>\n",
       "      <td>0.9978</td>\n",
       "      <td>3.51</td>\n",
       "      <td>0.56</td>\n",
       "      <td>9.4</td>\n",
       "    </tr>\n",
       "    <tr>\n",
       "      <th>1</th>\n",
       "      <td>7.8</td>\n",
       "      <td>0.88</td>\n",
       "      <td>0.00</td>\n",
       "      <td>2.6</td>\n",
       "      <td>0.098</td>\n",
       "      <td>25.0</td>\n",
       "      <td>67.0</td>\n",
       "      <td>0.9968</td>\n",
       "      <td>3.20</td>\n",
       "      <td>0.68</td>\n",
       "      <td>9.8</td>\n",
       "    </tr>\n",
       "    <tr>\n",
       "      <th>2</th>\n",
       "      <td>7.8</td>\n",
       "      <td>0.76</td>\n",
       "      <td>0.04</td>\n",
       "      <td>2.3</td>\n",
       "      <td>0.092</td>\n",
       "      <td>15.0</td>\n",
       "      <td>54.0</td>\n",
       "      <td>0.9970</td>\n",
       "      <td>3.26</td>\n",
       "      <td>0.65</td>\n",
       "      <td>9.8</td>\n",
       "    </tr>\n",
       "    <tr>\n",
       "      <th>3</th>\n",
       "      <td>11.2</td>\n",
       "      <td>0.28</td>\n",
       "      <td>0.56</td>\n",
       "      <td>1.9</td>\n",
       "      <td>0.075</td>\n",
       "      <td>17.0</td>\n",
       "      <td>60.0</td>\n",
       "      <td>0.9980</td>\n",
       "      <td>3.16</td>\n",
       "      <td>0.58</td>\n",
       "      <td>9.8</td>\n",
       "    </tr>\n",
       "    <tr>\n",
       "      <th>4</th>\n",
       "      <td>7.4</td>\n",
       "      <td>0.70</td>\n",
       "      <td>0.00</td>\n",
       "      <td>1.9</td>\n",
       "      <td>0.076</td>\n",
       "      <td>11.0</td>\n",
       "      <td>34.0</td>\n",
       "      <td>0.9978</td>\n",
       "      <td>3.51</td>\n",
       "      <td>0.56</td>\n",
       "      <td>9.4</td>\n",
       "    </tr>\n",
       "  </tbody>\n",
       "</table>\n",
       "</div>"
      ],
      "text/plain": [
       "   fixed acidity  volatile acidity  citric acid  residual sugar  chlorides  \\\n",
       "0            7.4              0.70         0.00             1.9      0.076   \n",
       "1            7.8              0.88         0.00             2.6      0.098   \n",
       "2            7.8              0.76         0.04             2.3      0.092   \n",
       "3           11.2              0.28         0.56             1.9      0.075   \n",
       "4            7.4              0.70         0.00             1.9      0.076   \n",
       "\n",
       "   free sulfur dioxide  total sulfur dioxide  density    pH  sulphates  \\\n",
       "0                 11.0                  34.0   0.9978  3.51       0.56   \n",
       "1                 25.0                  67.0   0.9968  3.20       0.68   \n",
       "2                 15.0                  54.0   0.9970  3.26       0.65   \n",
       "3                 17.0                  60.0   0.9980  3.16       0.58   \n",
       "4                 11.0                  34.0   0.9978  3.51       0.56   \n",
       "\n",
       "   alcohol  \n",
       "0      9.4  \n",
       "1      9.8  \n",
       "2      9.8  \n",
       "3      9.8  \n",
       "4      9.4  "
      ]
     },
     "execution_count": 5,
     "metadata": {},
     "output_type": "execute_result"
    }
   ],
   "source": [
    "average_data_df_features=data_df.drop(columns='quality')\n",
    "average_data_df_features.head()"
   ]
  },
  {
   "cell_type": "code",
   "execution_count": 15,
   "id": "51f25439",
   "metadata": {},
   "outputs": [],
   "source": [
    "def calc_normally_distributed_variables(data:pd.DataFrame, grouping_variable:int, target:str)->Tuple[list,list]:\n",
    "    \"\"\"Determine which features are normally distributed.\n",
    "    \n",
    "    Args:\n",
    "        data: input dataframe with wine information\n",
    "        grouping_variable: a variable to differentiate on between the groups\n",
    "        target: name of the target column\n",
    "    \n",
    "    Returns: \n",
    "        Tuple[list, list]: the first list is of normally distributed features\n",
    "                           the second list is of non-normally distributed features\n",
    "     \n",
    "    \"\"\"\n",
    "    group=data.loc[data[target]==grouping_variable]\n",
    "    data=data.drop(columns=target)\n",
    "    normally_distributed_variables=list()\n",
    "    for col in data.columns:\n",
    "            shapiro_test = stats.shapiro(group[col])\n",
    "            if shapiro_test.pvalue <= 0.05:\n",
    "                normally_distributed_variables.append(col)\n",
    "    non_normally_distributed_variables=set(data.columns) - set(normally_distributed_variables)\n",
    "\n",
    "    return normally_distributed_variables,non_normally_distributed_variables\n",
    "\n",
    "\n",
    "def estimate_same_variance_variables(group_fair:list,group_alright:list, normality:bool, data:pd.DataFrame, target:str\n",
    ")->Tuple[dict,dict]:\n",
    "        \"\"\"Determine which features have same and different variance.\n",
    "    \n",
    "        Args:\n",
    "            group_fair: list of names of variables of group \"fair\"\n",
    "            group_alright: list of names of variables of group \"alright\"\n",
    "            normality: are we investigating normally or non-normally distributed features\n",
    "            data: input dataframe with wine information\n",
    "            target: name of the target column\n",
    "        Returns: \n",
    "            Tuple[dict, dict]: the first list is of features with the same variance\n",
    "                               the second list is of features with different variances\n",
    "\n",
    "        \"\"\"\n",
    "        same_variance_dict=dict()\n",
    "        not_same_variance_dict=dict()\n",
    "        fair=data.loc[data[target]==6]\n",
    "        alright=data.loc[data[target]==5]\n",
    "        if normality==True:\n",
    "            \n",
    "            for col in list(set(group_fair).intersection(group_alright)):\n",
    "                _, p = bartlett(alright[col], fair[col])\n",
    "                if p>0.05:\n",
    "                    same_variance_dict[col]=p\n",
    "                else:\n",
    "                    not_same_variance_dict[col]=p\n",
    "        else:\n",
    "            for col in list(set(group_fair).union(group_alright)):\n",
    "                _, p = levene(alright[col], fair[col])\n",
    "                if p>0.05:\n",
    "                    same_variance_dict[col]=p\n",
    "                #a very small p-value suggests that the populations do not have equal variances.\n",
    "                else:\n",
    "                    not_same_variance_dict[col]=p\n",
    "        \n",
    "        return same_variance_dict,not_same_variance_dict"
   ]
  },
  {
   "cell_type": "code",
   "execution_count": 8,
   "id": "cdbc0eea",
   "metadata": {},
   "outputs": [],
   "source": [
    "#test data for normality\n",
    "\n",
    "normally_distributed_variables_fair,non_normally_distributed_variables_fair=calc_normally_distributed_variables(data=data_df, grouping_variable=6, target='quality')\n",
    "normally_distributed_variables_alright,non_normally_distributed_variables_alright=calc_normally_distributed_variables(data=data_df, grouping_variable=5, target='quality')\n"
   ]
  },
  {
   "cell_type": "code",
   "execution_count": 9,
   "id": "b57ae576",
   "metadata": {},
   "outputs": [
    {
     "data": {
      "text/plain": [
       "['fixed acidity',\n",
       " 'volatile acidity',\n",
       " 'citric acid',\n",
       " 'residual sugar',\n",
       " 'chlorides',\n",
       " 'free sulfur dioxide',\n",
       " 'total sulfur dioxide',\n",
       " 'density',\n",
       " 'pH',\n",
       " 'sulphates',\n",
       " 'alcohol']"
      ]
     },
     "execution_count": 9,
     "metadata": {},
     "output_type": "execute_result"
    }
   ],
   "source": [
    "normally_distributed_variables_fair"
   ]
  },
  {
   "cell_type": "code",
   "execution_count": 10,
   "id": "d06bd4b3",
   "metadata": {
    "scrolled": true
   },
   "outputs": [
    {
     "data": {
      "text/plain": [
       "set()"
      ]
     },
     "execution_count": 10,
     "metadata": {},
     "output_type": "execute_result"
    }
   ],
   "source": [
    "non_normally_distributed_variables_fair"
   ]
  },
  {
   "cell_type": "code",
   "execution_count": 11,
   "id": "002d0c2b",
   "metadata": {},
   "outputs": [
    {
     "data": {
      "text/plain": [
       "['fixed acidity',\n",
       " 'volatile acidity',\n",
       " 'citric acid',\n",
       " 'residual sugar',\n",
       " 'chlorides',\n",
       " 'free sulfur dioxide',\n",
       " 'total sulfur dioxide',\n",
       " 'density',\n",
       " 'sulphates',\n",
       " 'alcohol']"
      ]
     },
     "execution_count": 11,
     "metadata": {},
     "output_type": "execute_result"
    }
   ],
   "source": [
    "normally_distributed_variables_alright"
   ]
  },
  {
   "cell_type": "code",
   "execution_count": 12,
   "id": "38614036",
   "metadata": {},
   "outputs": [
    {
     "data": {
      "text/plain": [
       "{'pH'}"
      ]
     },
     "execution_count": 12,
     "metadata": {},
     "output_type": "execute_result"
    }
   ],
   "source": [
    "non_normally_distributed_variables_alright"
   ]
  },
  {
   "cell_type": "code",
   "execution_count": 16,
   "id": "05d7b92b",
   "metadata": {},
   "outputs": [],
   "source": [
    "\n",
    "normal_same_variance_dict,normal_not_same_variance_dict=estimate_same_variance_variables(normally_distributed_variables_fair,normally_distributed_variables_alright, True,data_df,'quality')\n",
    "non_normal_same_variance_dict,non_normal_not_same_variance_dict=estimate_same_variance_variables(non_normally_distributed_variables_fair,non_normally_distributed_variables_alright, False,data_df,'quality')\n",
    "\n"
   ]
  },
  {
   "cell_type": "code",
   "execution_count": 17,
   "id": "fececac0",
   "metadata": {},
   "outputs": [
    {
     "data": {
      "text/plain": [
       "{'sulphates': 0.750800224710428,\n",
       " 'volatile acidity': 0.25648362107461176,\n",
       " 'citric acid': 0.06964209452616645}"
      ]
     },
     "execution_count": 17,
     "metadata": {},
     "output_type": "execute_result"
    }
   ],
   "source": [
    "normal_same_variance_dict"
   ]
  },
  {
   "cell_type": "code",
   "execution_count": 18,
   "id": "a135d793",
   "metadata": {},
   "outputs": [
    {
     "data": {
      "text/plain": [
       "{'chlorides': 3.0900043620550144e-08,\n",
       " 'density': 1.3232640111812429e-05,\n",
       " 'free sulfur dioxide': 0.0023982226764014186,\n",
       " 'fixed acidity': 0.00527365230262844,\n",
       " 'total sulfur dioxide': 2.8400885489636255e-17,\n",
       " 'alcohol': 3.7362808577513587e-13,\n",
       " 'residual sugar': 0.0036696758030806886}"
      ]
     },
     "execution_count": 18,
     "metadata": {},
     "output_type": "execute_result"
    }
   ],
   "source": [
    "normal_not_same_variance_dict"
   ]
  },
  {
   "cell_type": "code",
   "execution_count": 19,
   "id": "c75ba929",
   "metadata": {},
   "outputs": [
    {
     "data": {
      "text/plain": [
       "{'pH': 0.9241068801834686}"
      ]
     },
     "execution_count": 19,
     "metadata": {},
     "output_type": "execute_result"
    }
   ],
   "source": [
    "non_normal_same_variance_dict"
   ]
  },
  {
   "cell_type": "code",
   "execution_count": 20,
   "id": "0089a531",
   "metadata": {},
   "outputs": [
    {
     "data": {
      "text/plain": [
       "{}"
      ]
     },
     "execution_count": 20,
     "metadata": {},
     "output_type": "execute_result"
    }
   ],
   "source": [
    "non_normal_not_same_variance_dict"
   ]
  },
  {
   "cell_type": "code",
   "execution_count": 21,
   "id": "af64b54f",
   "metadata": {},
   "outputs": [],
   "source": [
    "fair=data_df.loc[data_df.quality==6]\n",
    "alright=data_df.loc[data_df.quality==5]"
   ]
  },
  {
   "cell_type": "code",
   "execution_count": 23,
   "id": "8690d836",
   "metadata": {},
   "outputs": [
    {
     "data": {
      "text/html": [
       "<div>\n",
       "<style scoped>\n",
       "    .dataframe tbody tr th:only-of-type {\n",
       "        vertical-align: middle;\n",
       "    }\n",
       "\n",
       "    .dataframe tbody tr th {\n",
       "        vertical-align: top;\n",
       "    }\n",
       "\n",
       "    .dataframe thead th {\n",
       "        text-align: right;\n",
       "    }\n",
       "</style>\n",
       "<table border=\"1\" class=\"dataframe\">\n",
       "  <thead>\n",
       "    <tr style=\"text-align: right;\">\n",
       "      <th></th>\n",
       "      <th>feature</th>\n",
       "      <th>p_value</th>\n",
       "    </tr>\n",
       "  </thead>\n",
       "  <tbody>\n",
       "    <tr>\n",
       "      <th>0</th>\n",
       "      <td>pH</td>\n",
       "      <td>0.035209</td>\n",
       "    </tr>\n",
       "  </tbody>\n",
       "</table>\n",
       "</div>"
      ],
      "text/plain": [
       "  feature   p_value\n",
       "0      pH  0.035209"
      ]
     },
     "execution_count": 23,
     "metadata": {},
     "output_type": "execute_result"
    }
   ],
   "source": [
    "#matt whitney for non-parametric t test of independent means\n",
    "#non normal, but same variance\n",
    "test_results_MWT=dict()\n",
    "for col in non_normal_same_variance_dict.keys():\n",
    "    _, p_MWT = mannwhitneyu(alright[col], fair[col])\n",
    "    test_results_MWT[col]=p_MWT \n",
    "test_results_MWT=pd.DataFrame.from_dict(test_results_MWT, orient='index')\n",
    "test_results_MWT=test_results_MWT.reset_index().rename(columns={0:'p_value','index':'feature'})\n",
    "test_results_MWT"
   ]
  },
  {
   "cell_type": "code",
   "execution_count": 25,
   "id": "175ac3c5",
   "metadata": {},
   "outputs": [
    {
     "data": {
      "text/html": [
       "<div>\n",
       "<style scoped>\n",
       "    .dataframe tbody tr th:only-of-type {\n",
       "        vertical-align: middle;\n",
       "    }\n",
       "\n",
       "    .dataframe tbody tr th {\n",
       "        vertical-align: top;\n",
       "    }\n",
       "\n",
       "    .dataframe thead th {\n",
       "        text-align: right;\n",
       "    }\n",
       "</style>\n",
       "<table border=\"1\" class=\"dataframe\">\n",
       "  <thead>\n",
       "    <tr style=\"text-align: right;\">\n",
       "      <th></th>\n",
       "      <th>feature</th>\n",
       "      <th>p_value</th>\n",
       "    </tr>\n",
       "  </thead>\n",
       "  <tbody>\n",
       "    <tr>\n",
       "      <th>0</th>\n",
       "      <td>chlorides</td>\n",
       "      <td>3.280101e-02</td>\n",
       "    </tr>\n",
       "    <tr>\n",
       "      <th>1</th>\n",
       "      <td>density</td>\n",
       "      <td>1.105157e-04</td>\n",
       "    </tr>\n",
       "    <tr>\n",
       "      <th>2</th>\n",
       "      <td>free sulfur dioxide</td>\n",
       "      <td>3.648400e-02</td>\n",
       "    </tr>\n",
       "    <tr>\n",
       "      <th>3</th>\n",
       "      <td>fixed acidity</td>\n",
       "      <td>1.498613e-01</td>\n",
       "    </tr>\n",
       "    <tr>\n",
       "      <th>4</th>\n",
       "      <td>total sulfur dioxide</td>\n",
       "      <td>7.462163e-14</td>\n",
       "    </tr>\n",
       "    <tr>\n",
       "      <th>5</th>\n",
       "      <td>alcohol</td>\n",
       "      <td>2.197012e-33</td>\n",
       "    </tr>\n",
       "    <tr>\n",
       "      <th>6</th>\n",
       "      <td>residual sugar</td>\n",
       "      <td>2.754747e-01</td>\n",
       "    </tr>\n",
       "  </tbody>\n",
       "</table>\n",
       "</div>"
      ],
      "text/plain": [
       "                feature       p_value\n",
       "0             chlorides  3.280101e-02\n",
       "1               density  1.105157e-04\n",
       "2   free sulfur dioxide  3.648400e-02\n",
       "3         fixed acidity  1.498613e-01\n",
       "4  total sulfur dioxide  7.462163e-14\n",
       "5               alcohol  2.197012e-33\n",
       "6        residual sugar  2.754747e-01"
      ]
     },
     "execution_count": 25,
     "metadata": {},
     "output_type": "execute_result"
    }
   ],
   "source": [
    "#not same variance and normally distributed: use Welch's t test for comparison\n",
    "_, p_WT = stats.ttest_ind(alright[list(normal_not_same_variance_dict.keys())], fair[list(normal_not_same_variance_dict.keys())], equal_var=False)\n",
    "test_results_WT=pd.DataFrame(data={'feature':list(normal_not_same_variance_dict.keys()),'p_value':p_WT})\n",
    "test_results_WT"
   ]
  },
  {
   "cell_type": "code",
   "execution_count": 26,
   "id": "26f8afec",
   "metadata": {},
   "outputs": [
    {
     "data": {
      "text/html": [
       "<div>\n",
       "<style scoped>\n",
       "    .dataframe tbody tr th:only-of-type {\n",
       "        vertical-align: middle;\n",
       "    }\n",
       "\n",
       "    .dataframe tbody tr th {\n",
       "        vertical-align: top;\n",
       "    }\n",
       "\n",
       "    .dataframe thead th {\n",
       "        text-align: right;\n",
       "    }\n",
       "</style>\n",
       "<table border=\"1\" class=\"dataframe\">\n",
       "  <thead>\n",
       "    <tr style=\"text-align: right;\">\n",
       "      <th></th>\n",
       "      <th>feature</th>\n",
       "      <th>p_value</th>\n",
       "    </tr>\n",
       "  </thead>\n",
       "  <tbody>\n",
       "    <tr>\n",
       "      <th>0</th>\n",
       "      <td>sulphates</td>\n",
       "      <td>3.054234e-09</td>\n",
       "    </tr>\n",
       "    <tr>\n",
       "      <th>1</th>\n",
       "      <td>volatile acidity</td>\n",
       "      <td>1.255344e-13</td>\n",
       "    </tr>\n",
       "    <tr>\n",
       "      <th>2</th>\n",
       "      <td>citric acid</td>\n",
       "      <td>5.387698e-02</td>\n",
       "    </tr>\n",
       "  </tbody>\n",
       "</table>\n",
       "</div>"
      ],
      "text/plain": [
       "            feature       p_value\n",
       "0         sulphates  3.054234e-09\n",
       "1  volatile acidity  1.255344e-13\n",
       "2       citric acid  5.387698e-02"
      ]
     },
     "execution_count": 26,
     "metadata": {},
     "output_type": "execute_result"
    }
   ],
   "source": [
    "#same variance and normally distributed: use independent t test for comparison\n",
    "_, p_IND = stats.ttest_ind(alright[list(normal_same_variance_dict.keys())], fair[list(normal_same_variance_dict.keys())], equal_var=True)\n",
    "test_results_IND=pd.DataFrame(data={'feature':list(normal_same_variance_dict.keys()),'p_value':p_IND})\n",
    "test_results_IND"
   ]
  },
  {
   "cell_type": "code",
   "execution_count": 28,
   "id": "7c1b774c",
   "metadata": {},
   "outputs": [
    {
     "data": {
      "text/html": [
       "<div>\n",
       "<style scoped>\n",
       "    .dataframe tbody tr th:only-of-type {\n",
       "        vertical-align: middle;\n",
       "    }\n",
       "\n",
       "    .dataframe tbody tr th {\n",
       "        vertical-align: top;\n",
       "    }\n",
       "\n",
       "    .dataframe thead th {\n",
       "        text-align: right;\n",
       "    }\n",
       "</style>\n",
       "<table border=\"1\" class=\"dataframe\">\n",
       "  <thead>\n",
       "    <tr style=\"text-align: right;\">\n",
       "      <th></th>\n",
       "      <th>feature</th>\n",
       "      <th>p_value</th>\n",
       "    </tr>\n",
       "  </thead>\n",
       "  <tbody>\n",
       "  </tbody>\n",
       "</table>\n",
       "</div>"
      ],
      "text/plain": [
       "Empty DataFrame\n",
       "Columns: [feature, p_value]\n",
       "Index: []"
      ]
     },
     "execution_count": 28,
     "metadata": {},
     "output_type": "execute_result"
    }
   ],
   "source": [
    "#diff variance and non normally distributed: use Yuen Welchs test\n",
    "_, p_YWT = stats.ttest_ind(alright[list(non_normal_not_same_variance_dict.keys())], fair[list(non_normal_not_same_variance_dict.keys())], equal_var=False, trim=0.1)\n",
    "test_results_YWT=pd.DataFrame(data={'feature':list(non_normal_not_same_variance_dict.keys()),'p_value':p_YWT})\n",
    "test_results_YWT"
   ]
  },
  {
   "cell_type": "code",
   "execution_count": 29,
   "id": "5ef42183",
   "metadata": {},
   "outputs": [
    {
     "data": {
      "text/plain": [
       "{}"
      ]
     },
     "execution_count": 29,
     "metadata": {},
     "output_type": "execute_result"
    }
   ],
   "source": [
    "non_normal_not_same_variance_dict"
   ]
  },
  {
   "cell_type": "code",
   "execution_count": 32,
   "id": "92b1f19e",
   "metadata": {},
   "outputs": [],
   "source": [
    "#correct the test results due to multiple comparisons using Bonferroni correction\n",
    "test_results_correct=pd.concat([test_results_WT,test_results_IND], ignore_index=True)\n",
    "test_results_correct=pd.concat([test_results_correct,test_results_MWT], ignore_index=True)\n",
    "\n",
    "test_results_correct=test_results_correct.sort_values(by='feature')\n",
    "test_results_correct['p_adjusted'] = multipletests(test_results_correct.p_value, method='bonferroni')[1]\n",
    "test_results_correct.loc[test_results_correct.p_adjusted>0.05,'significance']=False\n",
    "test_results_correct.loc[test_results_correct.p_adjusted<=0.05,'significance']=True\n"
   ]
  },
  {
   "cell_type": "code",
   "execution_count": 33,
   "id": "d368b56b",
   "metadata": {},
   "outputs": [
    {
     "data": {
      "text/html": [
       "<div>\n",
       "<style scoped>\n",
       "    .dataframe tbody tr th:only-of-type {\n",
       "        vertical-align: middle;\n",
       "    }\n",
       "\n",
       "    .dataframe tbody tr th {\n",
       "        vertical-align: top;\n",
       "    }\n",
       "\n",
       "    .dataframe thead th {\n",
       "        text-align: right;\n",
       "    }\n",
       "</style>\n",
       "<table border=\"1\" class=\"dataframe\">\n",
       "  <thead>\n",
       "    <tr style=\"text-align: right;\">\n",
       "      <th></th>\n",
       "      <th>feature</th>\n",
       "      <th>p_value</th>\n",
       "      <th>p_adjusted</th>\n",
       "      <th>significance</th>\n",
       "    </tr>\n",
       "  </thead>\n",
       "  <tbody>\n",
       "    <tr>\n",
       "      <th>5</th>\n",
       "      <td>alcohol</td>\n",
       "      <td>2.197012e-33</td>\n",
       "      <td>2.416713e-32</td>\n",
       "      <td>True</td>\n",
       "    </tr>\n",
       "    <tr>\n",
       "      <th>0</th>\n",
       "      <td>chlorides</td>\n",
       "      <td>3.280101e-02</td>\n",
       "      <td>3.608111e-01</td>\n",
       "      <td>False</td>\n",
       "    </tr>\n",
       "    <tr>\n",
       "      <th>9</th>\n",
       "      <td>citric acid</td>\n",
       "      <td>5.387698e-02</td>\n",
       "      <td>5.926468e-01</td>\n",
       "      <td>False</td>\n",
       "    </tr>\n",
       "    <tr>\n",
       "      <th>1</th>\n",
       "      <td>density</td>\n",
       "      <td>1.105157e-04</td>\n",
       "      <td>1.215673e-03</td>\n",
       "      <td>True</td>\n",
       "    </tr>\n",
       "    <tr>\n",
       "      <th>3</th>\n",
       "      <td>fixed acidity</td>\n",
       "      <td>1.498613e-01</td>\n",
       "      <td>1.000000e+00</td>\n",
       "      <td>False</td>\n",
       "    </tr>\n",
       "    <tr>\n",
       "      <th>2</th>\n",
       "      <td>free sulfur dioxide</td>\n",
       "      <td>3.648400e-02</td>\n",
       "      <td>4.013240e-01</td>\n",
       "      <td>False</td>\n",
       "    </tr>\n",
       "    <tr>\n",
       "      <th>10</th>\n",
       "      <td>pH</td>\n",
       "      <td>3.520941e-02</td>\n",
       "      <td>3.873035e-01</td>\n",
       "      <td>False</td>\n",
       "    </tr>\n",
       "    <tr>\n",
       "      <th>6</th>\n",
       "      <td>residual sugar</td>\n",
       "      <td>2.754747e-01</td>\n",
       "      <td>1.000000e+00</td>\n",
       "      <td>False</td>\n",
       "    </tr>\n",
       "    <tr>\n",
       "      <th>7</th>\n",
       "      <td>sulphates</td>\n",
       "      <td>3.054234e-09</td>\n",
       "      <td>3.359658e-08</td>\n",
       "      <td>True</td>\n",
       "    </tr>\n",
       "    <tr>\n",
       "      <th>4</th>\n",
       "      <td>total sulfur dioxide</td>\n",
       "      <td>7.462163e-14</td>\n",
       "      <td>8.208379e-13</td>\n",
       "      <td>True</td>\n",
       "    </tr>\n",
       "    <tr>\n",
       "      <th>8</th>\n",
       "      <td>volatile acidity</td>\n",
       "      <td>1.255344e-13</td>\n",
       "      <td>1.380878e-12</td>\n",
       "      <td>True</td>\n",
       "    </tr>\n",
       "  </tbody>\n",
       "</table>\n",
       "</div>"
      ],
      "text/plain": [
       "                 feature       p_value    p_adjusted significance\n",
       "5                alcohol  2.197012e-33  2.416713e-32         True\n",
       "0              chlorides  3.280101e-02  3.608111e-01        False\n",
       "9            citric acid  5.387698e-02  5.926468e-01        False\n",
       "1                density  1.105157e-04  1.215673e-03         True\n",
       "3          fixed acidity  1.498613e-01  1.000000e+00        False\n",
       "2    free sulfur dioxide  3.648400e-02  4.013240e-01        False\n",
       "10                    pH  3.520941e-02  3.873035e-01        False\n",
       "6         residual sugar  2.754747e-01  1.000000e+00        False\n",
       "7              sulphates  3.054234e-09  3.359658e-08         True\n",
       "4   total sulfur dioxide  7.462163e-14  8.208379e-13         True\n",
       "8       volatile acidity  1.255344e-13  1.380878e-12         True"
      ]
     },
     "execution_count": 33,
     "metadata": {},
     "output_type": "execute_result"
    }
   ],
   "source": [
    "test_results_correct"
   ]
  },
  {
   "cell_type": "code",
   "execution_count": 34,
   "id": "683efb00",
   "metadata": {},
   "outputs": [],
   "source": [
    "alright=alright.drop(columns='quality')\n",
    "fair=fair.drop(columns='quality')"
   ]
  },
  {
   "cell_type": "code",
   "execution_count": 37,
   "id": "ed0e2ade",
   "metadata": {},
   "outputs": [
    {
     "data": {
      "text/html": [
       "<div>\n",
       "<style scoped>\n",
       "    .dataframe tbody tr th:only-of-type {\n",
       "        vertical-align: middle;\n",
       "    }\n",
       "\n",
       "    .dataframe tbody tr th {\n",
       "        vertical-align: top;\n",
       "    }\n",
       "\n",
       "    .dataframe thead th {\n",
       "        text-align: right;\n",
       "    }\n",
       "</style>\n",
       "<table border=\"1\" class=\"dataframe\">\n",
       "  <thead>\n",
       "    <tr style=\"text-align: right;\">\n",
       "      <th></th>\n",
       "      <th>feature</th>\n",
       "      <th>p_value</th>\n",
       "      <th>p_adjusted</th>\n",
       "      <th>significance</th>\n",
       "    </tr>\n",
       "  </thead>\n",
       "  <tbody>\n",
       "    <tr>\n",
       "      <th>10</th>\n",
       "      <td>alcohol</td>\n",
       "      <td>1.750347e-33</td>\n",
       "      <td>1.925382e-32</td>\n",
       "      <td>True</td>\n",
       "    </tr>\n",
       "    <tr>\n",
       "      <th>4</th>\n",
       "      <td>chlorides</td>\n",
       "      <td>2.201052e-05</td>\n",
       "      <td>2.421157e-04</td>\n",
       "      <td>True</td>\n",
       "    </tr>\n",
       "    <tr>\n",
       "      <th>2</th>\n",
       "      <td>citric acid</td>\n",
       "      <td>7.515839e-02</td>\n",
       "      <td>8.267422e-01</td>\n",
       "      <td>False</td>\n",
       "    </tr>\n",
       "    <tr>\n",
       "      <th>7</th>\n",
       "      <td>density</td>\n",
       "      <td>1.460483e-04</td>\n",
       "      <td>1.606531e-03</td>\n",
       "      <td>True</td>\n",
       "    </tr>\n",
       "    <tr>\n",
       "      <th>0</th>\n",
       "      <td>fixed acidity</td>\n",
       "      <td>5.388902e-01</td>\n",
       "      <td>1.000000e+00</td>\n",
       "      <td>False</td>\n",
       "    </tr>\n",
       "    <tr>\n",
       "      <th>5</th>\n",
       "      <td>free sulfur dioxide</td>\n",
       "      <td>1.299649e-01</td>\n",
       "      <td>1.000000e+00</td>\n",
       "      <td>False</td>\n",
       "    </tr>\n",
       "    <tr>\n",
       "      <th>8</th>\n",
       "      <td>pH</td>\n",
       "      <td>3.520941e-02</td>\n",
       "      <td>3.873035e-01</td>\n",
       "      <td>False</td>\n",
       "    </tr>\n",
       "    <tr>\n",
       "      <th>3</th>\n",
       "      <td>residual sugar</td>\n",
       "      <td>7.376520e-01</td>\n",
       "      <td>1.000000e+00</td>\n",
       "      <td>False</td>\n",
       "    </tr>\n",
       "    <tr>\n",
       "      <th>9</th>\n",
       "      <td>sulphates</td>\n",
       "      <td>3.544100e-20</td>\n",
       "      <td>3.898510e-19</td>\n",
       "      <td>True</td>\n",
       "    </tr>\n",
       "    <tr>\n",
       "      <th>6</th>\n",
       "      <td>total sulfur dioxide</td>\n",
       "      <td>4.929519e-09</td>\n",
       "      <td>5.422471e-08</td>\n",
       "      <td>True</td>\n",
       "    </tr>\n",
       "    <tr>\n",
       "      <th>1</th>\n",
       "      <td>volatile acidity</td>\n",
       "      <td>1.808636e-13</td>\n",
       "      <td>1.989499e-12</td>\n",
       "      <td>True</td>\n",
       "    </tr>\n",
       "  </tbody>\n",
       "</table>\n",
       "</div>"
      ],
      "text/plain": [
       "                 feature       p_value    p_adjusted significance\n",
       "10               alcohol  1.750347e-33  1.925382e-32         True\n",
       "4              chlorides  2.201052e-05  2.421157e-04         True\n",
       "2            citric acid  7.515839e-02  8.267422e-01        False\n",
       "7                density  1.460483e-04  1.606531e-03         True\n",
       "0          fixed acidity  5.388902e-01  1.000000e+00        False\n",
       "5    free sulfur dioxide  1.299649e-01  1.000000e+00        False\n",
       "8                     pH  3.520941e-02  3.873035e-01        False\n",
       "3         residual sugar  7.376520e-01  1.000000e+00        False\n",
       "9              sulphates  3.544100e-20  3.898510e-19         True\n",
       "6   total sulfur dioxide  4.929519e-09  5.422471e-08         True\n",
       "1       volatile acidity  1.808636e-13  1.989499e-12         True"
      ]
     },
     "execution_count": 37,
     "metadata": {},
     "output_type": "execute_result"
    }
   ],
   "source": [
    "#what if a wrong test is used\n",
    "#matt whitney for non-parametric t test of independent means\n",
    "full_sample_test_results_MWT=dict()\n",
    "for col in list(average_data_df_features.columns):\n",
    "    if col!='output':\n",
    "        _, p_MWT = mannwhitneyu(alright[col], fair[col])\n",
    "        full_sample_test_results_MWT[col]=p_MWT \n",
    "full_sample_test_results_MWT=pd.DataFrame.from_dict(full_sample_test_results_MWT, orient='index')\n",
    "full_sample_test_results_MWT=full_sample_test_results_MWT.reset_index().rename(columns={0:'p_value','index':'feature'})\n",
    "full_sample_test_results_MWT['p_adjusted'] = multipletests(full_sample_test_results_MWT.p_value, method='bonferroni')[1]\n",
    "full_sample_test_results_MWT.loc[full_sample_test_results_MWT.p_adjusted>0.05,'significance']=False\n",
    "full_sample_test_results_MWT.loc[full_sample_test_results_MWT.p_adjusted<=0.05,'significance']=True\n",
    "full_sample_test_results_MWT.sort_values(by='feature')  \n",
    "\n"
   ]
  },
  {
   "cell_type": "code",
   "execution_count": 54,
   "id": "d6976ff7",
   "metadata": {},
   "outputs": [
    {
     "data": {
      "image/png": "[encoded data removed]",
      "text/plain": [
       "<Figure size 432x288 with 1 Axes>"
      ]
     },
     "metadata": {
      "needs_background": "light"
     },
     "output_type": "display_data"
    }
   ],
   "source": [
    "from matplotlib import pyplot\n",
    "\n",
    "\n",
    "bins = np.linspace(0, 0.15, 50)\n",
    "\n",
    "pyplot.hist(alright['chlorides'], bins, alpha=0.5, label='Alright Wine Chloride')\n",
    "pyplot.hist(fair['chlorides'], bins, alpha=0.5, label='Fair Wine Chloride')\n",
    "pyplot.legend(loc='upper right')\n",
    "pyplot.show()"
   ]
  },
  {
   "cell_type": "code",
   "execution_count": null,
   "id": "c2c0301b",
   "metadata": {},
   "outputs": [],
   "source": []
  }
 ],
 "metadata": {
  "kernelspec": {
   "display_name": "Python 3 (ipykernel)",
   "language": "python",
   "name": "python3"
  },
  "language_info": {
   "codemirror_mode": {
    "name": "ipython",
    "version": 3
   },
   "file_extension": ".py",
   "mimetype": "text/x-python",
   "name": "python",
   "nbconvert_exporter": "python",
   "pygments_lexer": "ipython3",
   "version": "3.9.12"
  }
 },
 "nbformat": 4,
 "nbformat_minor": 5
}
