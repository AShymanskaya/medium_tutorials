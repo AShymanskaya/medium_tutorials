{
 "cells": [
  {
   "cell_type": "code",
   "execution_count": 23,
   "id": "2638424f",
   "metadata": {},
   "outputs": [],
   "source": [
    "import face_recognition\n",
    "import dlib\n",
    "import cv2\n",
    "import imageio\n",
    "import numpy as np\n",
    "import os\n",
    "from PIL import Image, ImageDraw"
   ]
  },
  {
   "cell_type": "code",
   "execution_count": 24,
   "id": "74282bf2",
   "metadata": {},
   "outputs": [],
   "source": [
    "#The code below is adopted from https://blog.paperspace.com/facial-recognition-with-deep-learning/\n",
    "\n",
    "def get_face_encodings(path_to_image):\n",
    "   image=cv2.imread(path_to_image)\n",
    "   detected_faces = face_detector(image, 1)\n",
    "   shapes_faces = [shape_predictor(image, face) for face in detected_faces]\n",
    "   return [np.array(face_recognition_model.compute_face_descriptor(image, face_pose, 1)) for face_pose in shapes_faces]\n",
    "\n",
    "def compare_face_encodings(known_faces, face):\n",
    "    a=np.linalg.norm(known_faces - face, axis=1)   \n",
    "    return [a,(a <= TOLERANCE)]\n",
    "\n",
    "def find_match(known_faces, names, face):\n",
    "   [a,matches] = compare_face_encodings(known_faces, face)\n",
    "   print(a,names)\n",
    "   count = 0\n",
    "   for match in matches:\n",
    "       if match:\n",
    "           return names[count]\n",
    "       count += 1\n",
    "   return print('Not Found')"
   ]
  },
  {
   "cell_type": "code",
   "execution_count": 25,
   "id": "99fe1f8f",
   "metadata": {},
   "outputs": [],
   "source": [
    "# Import Face Detector from dlib, to find faces in the images\n",
    "face_detector = dlib.get_frontal_face_detector()\n",
    "# Import Shape Predictor, that detects facial landmark points\n",
    "shape_predictor = dlib.shape_predictor('/Users/alexfion/sciebo/software_neuro/face_reco/shape_predictor_68_face_landmarks.dat')\n",
    "# Import the Face Recognition Model, which delivers the face encodings \n",
    "face_recognition_model = dlib.face_recognition_model_v1('/Users/alexfion/sciebo/software_neuro/face_reco/dlib_face_recognition_resnet_model_v1.dat')\n",
    "# Tolerance describes the highest distance that faces can have, to still be considered a match. \n",
    "# Lower tolerance is more restrictive, and 0.6 idelivers typically the best performance.\n",
    "TOLERANCE = 0.7"
   ]
  },
  {
   "cell_type": "code",
   "execution_count": 26,
   "id": "a1c08e1a",
   "metadata": {
    "scrolled": false
   },
   "outputs": [
    {
     "name": "stdout",
     "output_type": "stream",
     "text": [
      "[0.74466014 0.64071178 0.69777809 0.67272186 0.69934906 0.73731642] ['34049718_2215508268459277_5295707238747340800_n', 'Photo', 'Photo_2', 'Untitled', 'cv_photo', 'picture1']\n",
      "/Users/alexfion/sciebo/software_neuro/face_reco/test/reco_alex_2021_sharp_not_bright.png Photo\n",
      "[0.7558248  0.70421275 0.69146095 0.69822437 0.73469024 0.80501742] ['34049718_2215508268459277_5295707238747340800_n', 'Photo', 'Photo_2', 'Untitled', 'cv_photo', 'picture1']\n",
      "/Users/alexfion/sciebo/software_neuro/face_reco/test/91693755_nose1_4_0.18_1_0.3.png Photo_2\n",
      "[0.73557737 0.64785699 0.68952439 0.66973352 0.71700798 0.80457494] ['34049718_2215508268459277_5295707238747340800_n', 'Photo', 'Photo_2', 'Untitled', 'cv_photo', 'picture1']\n",
      "/Users/alexfion/sciebo/software_neuro/face_reco/test/reco_alex.png Photo\n",
      "[0.70652957 0.58726632 0.65023255 0.6347072  0.61542897 0.65791727] ['34049718_2215508268459277_5295707238747340800_n', 'Photo', 'Photo_2', 'Untitled', 'cv_photo', 'picture1']\n",
      "/Users/alexfion/sciebo/software_neuro/face_reco/test/reco_MRI.png Photo\n",
      "[0.74455594 0.69790416 0.6874878  0.68473418 0.73627082 0.8188287 ] ['34049718_2215508268459277_5295707238747340800_n', 'Photo', 'Photo_2', 'Untitled', 'cv_photo', 'picture1']\n",
      "/Users/alexfion/sciebo/software_neuro/face_reco/test/91693755_nose1_4.5_0.18_1_0.1.png Photo\n",
      "[0.7146425  0.607356   0.68000636 0.64469598 0.64569794 0.67436738] ['34049718_2215508268459277_5295707238747340800_n', 'Photo', 'Photo_2', 'Untitled', 'cv_photo', 'picture1']\n",
      "/Users/alexfion/sciebo/software_neuro/face_reco/test/reco_alex_2021_very_smooth.png Photo\n",
      "[0.75986172 0.7029494  0.6824666  0.68029609 0.75145945 0.77369405] ['34049718_2215508268459277_5295707238747340800_n', 'Photo', 'Photo_2', 'Untitled', 'cv_photo', 'picture1']\n",
      "/Users/alexfion/sciebo/software_neuro/face_reco/test/EE017E28_nose1_1.5_0.2_1_0.18.png Photo_2\n",
      "[0.72902365 0.60508983 0.68369048 0.65539583 0.66139129 0.69383255] ['34049718_2215508268459277_5295707238747340800_n', 'Photo', 'Photo_2', 'Untitled', 'cv_photo', 'picture1']\n",
      "/Users/alexfion/sciebo/software_neuro/face_reco/test/reco_alex_2021.png Photo\n"
     ]
    }
   ],
   "source": [
    "#import image filenames from the \"real\" pictures\n",
    "image_filenames = filter(lambda x: x.endswith('.png'), os.listdir('/Users/alexfion/sciebo/software_neuro/face_reco/known/'))\n",
    "image_filenames = sorted(image_filenames)\n",
    "paths_to_images = ['/Users/alexfion/sciebo/software_neuro/face_reco/known/' + x for x in image_filenames]\n",
    "face_encodings = []\n",
    "for path_to_image in paths_to_images:\n",
    "   face_encodings_in_image = get_face_encodings(path_to_image)\n",
    "   if len(face_encodings_in_image) != 1:\n",
    "       print(\"Please change image: \" + path_to_image + \" - it has \" + str(len(face_encodings_in_image)) + \" faces; it can only have one\")\n",
    "       exit()\n",
    "   face_encodings.append(get_face_encodings(path_to_image)[0])\n",
    "\n",
    "#import image filenames from the \"MRI\" pictures\n",
    "test_filenames = filter(lambda x: x.endswith('.png'), os.listdir('/Users/alexfion/sciebo/software_neuro/face_reco/test/'))\n",
    "paths_to_test_images = ['/Users/alexfion/sciebo/software_neuro/face_reco/test/' + x for x in test_filenames]\n",
    "names = [x[:-4] for x in image_filenames]\n",
    "\n",
    "#The output returns estimated distances between faces for every MRI reconstruction, as well as names of \"known\" photographs,\n",
    "#against which these reconstractions were tested. Also, the best fit is returned\n",
    "for path_to_image in paths_to_test_images:\n",
    "   face_encodings_in_image = get_face_encodings(path_to_image)\n",
    "   if len(face_encodings_in_image) != 1:\n",
    "       print(\"Please change image: \" + path_to_image + \" - it has \" + str(len(face_encodings_in_image)) + \" faces; it can only have one\")\n",
    "       exit()\n",
    "   match = find_match(face_encodings, names, face_encodings_in_image[0])\n",
    "   print(path_to_image, match)"
   ]
  },
  {
   "cell_type": "markdown",
   "id": "070d3324",
   "metadata": {},
   "source": [
    "Let's demonstrate the overlap between two faces with the best overlap. This is the case for the MRI reconstruction \"reco_MRI.png\" and the photograph \"Photo.png\". "
   ]
  },
  {
   "cell_type": "code",
   "execution_count": 28,
   "id": "feeae7cb",
   "metadata": {},
   "outputs": [
    {
     "name": "stdout",
     "output_type": "stream",
     "text": [
      "[True]\n"
     ]
    }
   ],
   "source": [
    "known_image = face_recognition.load_image_file(\"/Users/alexfion/sciebo/software_neuro/face_reco/known/Photo.png\")\n",
    "unknown_image = face_recognition.load_image_file(\"/Users/alexfion/sciebo/software_neuro/face_reco/test/reco_MRI.png\")\n",
    "\n",
    "known_encoding = face_recognition.face_encodings(known_image)[0]\n",
    "unknown_encoding = face_recognition.face_encodings(unknown_image)[0]\n",
    "#under threshold of 0.6, do the faces overlap? \n",
    "results = face_recognition.compare_faces([known_encoding], unknown_encoding,0.6)\n",
    "print(results)"
   ]
  },
  {
   "cell_type": "markdown",
   "id": "bed9319d",
   "metadata": {},
   "source": [
    "The face distance in this case is:"
   ]
  },
  {
   "cell_type": "code",
   "execution_count": 29,
   "id": "7fab3d4a",
   "metadata": {},
   "outputs": [
    {
     "data": {
      "text/plain": [
       "array([0.59155943])"
      ]
     },
     "execution_count": 29,
     "metadata": {},
     "output_type": "execute_result"
    }
   ],
   "source": [
    "face_distances = face_recognition.face_distance(face_recognition.face_encodings(known_image), unknown_encoding)\n",
    "face_distances"
   ]
  },
  {
   "cell_type": "markdown",
   "id": "40f2e6a2",
   "metadata": {},
   "source": [
    "Let's look for faces in the pictures:"
   ]
  },
  {
   "cell_type": "code",
   "execution_count": 33,
   "id": "a6a78864",
   "metadata": {
    "scrolled": true
   },
   "outputs": [],
   "source": [
    "face_locations = face_recognition.face_locations(unknown_image, number_of_times_to_upsample=0, model=\"cnn\")\n",
    "for face_location in face_locations:\n",
    "    top, right, bottom, left = face_location\n",
    "    face_image = unknown_image[top:bottom, left:right]\n",
    "    pil_image = Image.fromarray(face_image)\n",
    "    pil_image.show()"
   ]
  },
  {
   "cell_type": "code",
   "execution_count": 32,
   "id": "2d353b83",
   "metadata": {},
   "outputs": [],
   "source": [
    "face_locations = face_recognition.face_locations(known_image, number_of_times_to_upsample=0, model=\"cnn\")\n",
    "for face_location in face_locations:\n",
    "    top, right, bottom, left = face_location\n",
    "    face_image = known_image[top:bottom, left:right]\n",
    "    pil_image = Image.fromarray(face_image)\n",
    "    pil_image.show()"
   ]
  },
  {
   "cell_type": "markdown",
   "id": "8abda3e4",
   "metadata": {},
   "source": [
    "Let's also draw detect faces in the images: "
   ]
  },
  {
   "cell_type": "code",
   "execution_count": 34,
   "id": "98419623",
   "metadata": {},
   "outputs": [],
   "source": [
    "image = face_recognition.load_image_file(\"/Users/alexfion/sciebo/software_neuro/face_reco/known/Photo.png\")\n",
    "face_landmarks_list = face_recognition.face_landmarks(image)  \n",
    "face_landmarks = face_landmarks_list[0]  \n",
    "im = Image.open(\"/Users/alexfion/sciebo/software_neuro/face_reco/known/Photo.png\")\n",
    "draw = ImageDraw.Draw(im)\n",
    "\n",
    "# Draw all the features for the first face\n",
    "draw.line(face_landmarks['chin'])\n",
    "draw.line(face_landmarks['left_eyebrow'])\n",
    "draw.line(face_landmarks['right_eyebrow'])\n",
    "draw.line(face_landmarks['nose_bridge'])\n",
    "draw.line(face_landmarks['nose_tip'])\n",
    "draw.line(face_landmarks['left_eye'])\n",
    "draw.line(face_landmarks['right_eye'])\n",
    "draw.line(face_landmarks['top_lip'])\n",
    "draw.line(face_landmarks['bottom_lip'])\n",
    "im.show()\n"
   ]
  },
  {
   "cell_type": "code",
   "execution_count": 35,
   "id": "990c85e9",
   "metadata": {},
   "outputs": [],
   "source": [
    "image = face_recognition.load_image_file(\"/Users/alexfion/sciebo/software_neuro/face_reco/test/reco_MRI.png\")\n",
    "face_landmarks_list = face_recognition.face_landmarks(image)  \n",
    "face_landmarks = face_landmarks_list[0]  \n",
    "im = Image.open(\"/Users/alexfion/sciebo/software_neuro/face_reco/test/reco_MRI.png\")\n",
    "draw = ImageDraw.Draw(im)\n",
    "# Draw all the features for the second face\n",
    "draw.line(face_landmarks['chin'])\n",
    "draw.line(face_landmarks['left_eyebrow'])\n",
    "draw.line(face_landmarks['right_eyebrow'])\n",
    "draw.line(face_landmarks['nose_bridge'])\n",
    "draw.line(face_landmarks['nose_tip'])\n",
    "draw.line(face_landmarks['left_eye'])\n",
    "draw.line(face_landmarks['right_eye'])\n",
    "draw.line(face_landmarks['top_lip'])\n",
    "draw.line(face_landmarks['bottom_lip'])\n",
    "im.show()\n"
   ]
  },
  {
   "cell_type": "markdown",
   "id": "fdd9294e",
   "metadata": {},
   "source": [
    "This way we see, that a significant overlap exists between reconstructed MRI faces and actual photos. "
   ]
  }
 ],
 "metadata": {
  "kernelspec": {
   "display_name": "Python 3 (ipykernel)",
   "language": "python",
   "name": "python3"
  },
  "language_info": {
   "codemirror_mode": {
    "name": "ipython",
    "version": 3
   },
   "file_extension": ".py",
   "mimetype": "text/x-python",
   "name": "python",
   "nbconvert_exporter": "python",
   "pygments_lexer": "ipython3",
   "version": "3.9.7"
  }
 },
 "nbformat": 4,
 "nbformat_minor": 5
}
