{
 "cells": [
  {
   "cell_type": "code",
   "execution_count": 59,
   "id": "8247aa8f",
   "metadata": {},
   "outputs": [],
   "source": [
    "\n",
    "import pandas as pd\n",
    "import geopandas as gpd\n",
    "import geojson\n",
    "import plotly.io as pio\n",
    "import os\n",
    "import json\n",
    "import re\n",
    "import numpy as np\n",
    "import plotly.express as px\n",
    "import plotly.graph_objects as go\n",
    "import openai\n",
    "from openai import OpenAI\n",
    "client = OpenAI(\n",
    "    api_key='INSERT-YOUR-KEY'\n",
    ")\n"
   ]
  },
  {
   "cell_type": "code",
   "execution_count": 60,
   "id": "03a587aa",
   "metadata": {},
   "outputs": [],
   "source": [
    "bog_mummies=pd.read_csv('bog_mummies.csv', sep=';', header=None)\n",
    "bog_mummies=pd.DataFrame(bog_mummies.iloc[1:].values,columns=bog_mummies.iloc[0])\n",
    "bog_mummies=bog_mummies.drop_duplicates('No.')\n",
    "bog_mummies['Latitude'] = bog_mummies['Latitude'].astype(float)\n",
    "bog_mummies['Longitude'] = bog_mummies['Longitude'].astype(float)\n",
    "bog_mummies['Name'] = bog_mummies['Name'].fillna(bog_mummies['Bog '])\n",
    "bog_mummies['Name'] = bog_mummies['Name'].fillna(bog_mummies['Location (nearest village or city)'])\n",
    "bog_mummies=bog_mummies.reset_index()\n"
   ]
  },
  {
   "cell_type": "code",
   "execution_count": 63,
   "id": "44890bb2",
   "metadata": {
    "scrolled": true
   },
   "outputs": [
    {
     "data": {
      "application/vnd.plotly.v1+json": {
       "config": {
        "plotlyServerURL": "https://plot.ly"
       },
       "data": [
        {
         "marker": {
          "color": "#42973A"
         },
         "name": "Bog mummies in Nothern Europe",
         "type": "bar",
         "x": [
          "Denmark",
          "Sweden",
          "United Kingdom",
          "Ireland",
          "Germany",
          "Netherlands",
          "Norway",
          "Poland",
          "Estonia",
          "Finland",
          "Denmark  ",
          "Lithuania",
          "Sweden "
         ],
         "y": [
          106,
          66,
          52,
          34,
          31,
          15,
          15,
          3,
          2,
          2,
          1,
          1,
          1
         ]
        }
       ],
       "layout": {
        "template": {
         "data": {
          "bar": [
           {
            "error_x": {
             "color": "#2a3f5f"
            },
            "error_y": {
             "color": "#2a3f5f"
            },
            "marker": {
             "line": {
              "color": "white",
              "width": 0.5
             },
             "pattern": {
              "fillmode": "overlay",
              "size": 10,
              "solidity": 0.2
             }
            },
            "type": "bar"
           }
          ],
          "barpolar": [
           {
            "marker": {
             "line": {
              "color": "white",
              "width": 0.5
             },
             "pattern": {
              "fillmode": "overlay",
              "size": 10,
              "solidity": 0.2
             }
            },
            "type": "barpolar"
           }
          ],
          "carpet": [
           {
            "aaxis": {
             "endlinecolor": "#2a3f5f",
             "gridcolor": "#C8D4E3",
             "linecolor": "#C8D4E3",
             "minorgridcolor": "#C8D4E3",
             "startlinecolor": "#2a3f5f"
            },
            "baxis": {
             "endlinecolor": "#2a3f5f",
             "gridcolor": "#C8D4E3",
             "linecolor": "#C8D4E3",
             "minorgridcolor": "#C8D4E3",
             "startlinecolor": "#2a3f5f"
            },
            "type": "carpet"
           }
          ],
          "choropleth": [
           {
            "colorbar": {
             "outlinewidth": 0,
             "ticks": ""
            },
            "type": "choropleth"
           }
          ],
          "contour": [
           {
            "colorbar": {
             "outlinewidth": 0,
             "ticks": ""
            },
            "colorscale": [
             [
              0,
              "#0d0887"
             ],
             [
              0.1111111111111111,
              "#46039f"
             ],
             [
              0.2222222222222222,
              "#7201a8"
             ],
             [
              0.3333333333333333,
              "#9c179e"
             ],
             [
              0.4444444444444444,
              "#bd3786"
             ],
             [
              0.5555555555555556,
              "#d8576b"
             ],
             [
              0.6666666666666666,
              "#ed7953"
             ],
             [
              0.7777777777777778,
              "#fb9f3a"
             ],
             [
              0.8888888888888888,
              "#fdca26"
             ],
             [
              1,
              "#f0f921"
             ]
            ],
            "type": "contour"
           }
          ],
          "contourcarpet": [
           {
            "colorbar": {
             "outlinewidth": 0,
             "ticks": ""
            },
            "type": "contourcarpet"
           }
          ],
          "heatmap": [
           {
            "colorbar": {
             "outlinewidth": 0,
             "ticks": ""
            },
            "colorscale": [
             [
              0,
              "#0d0887"
             ],
             [
              0.1111111111111111,
              "#46039f"
             ],
             [
              0.2222222222222222,
              "#7201a8"
             ],
             [
              0.3333333333333333,
              "#9c179e"
             ],
             [
              0.4444444444444444,
              "#bd3786"
             ],
             [
              0.5555555555555556,
              "#d8576b"
             ],
             [
              0.6666666666666666,
              "#ed7953"
             ],
             [
              0.7777777777777778,
              "#fb9f3a"
             ],
             [
              0.8888888888888888,
              "#fdca26"
             ],
             [
              1,
              "#f0f921"
             ]
            ],
            "type": "heatmap"
           }
          ],
          "heatmapgl": [
           {
            "colorbar": {
             "outlinewidth": 0,
             "ticks": ""
            },
            "colorscale": [
             [
              0,
              "#0d0887"
             ],
             [
              0.1111111111111111,
              "#46039f"
             ],
             [
              0.2222222222222222,
              "#7201a8"
             ],
             [
              0.3333333333333333,
              "#9c179e"
             ],
             [
              0.4444444444444444,
              "#bd3786"
             ],
             [
              0.5555555555555556,
              "#d8576b"
             ],
             [
              0.6666666666666666,
              "#ed7953"
             ],
             [
              0.7777777777777778,
              "#fb9f3a"
             ],
             [
              0.8888888888888888,
              "#fdca26"
             ],
             [
              1,
              "#f0f921"
             ]
            ],
            "type": "heatmapgl"
           }
          ],
          "histogram": [
           {
            "marker": {
             "pattern": {
              "fillmode": "overlay",
              "size": 10,
              "solidity": 0.2
             }
            },
            "type": "histogram"
           }
          ],
          "histogram2d": [
           {
            "colorbar": {
             "outlinewidth": 0,
             "ticks": ""
            },
            "colorscale": [
             [
              0,
              "#0d0887"
             ],
             [
              0.1111111111111111,
              "#46039f"
             ],
             [
              0.2222222222222222,
              "#7201a8"
             ],
             [
              0.3333333333333333,
              "#9c179e"
             ],
             [
              0.4444444444444444,
              "#bd3786"
             ],
             [
              0.5555555555555556,
              "#d8576b"
             ],
             [
              0.6666666666666666,
              "#ed7953"
             ],
             [
              0.7777777777777778,
              "#fb9f3a"
             ],
             [
              0.8888888888888888,
              "#fdca26"
             ],
             [
              1,
              "#f0f921"
             ]
            ],
            "type": "histogram2d"
           }
          ],
          "histogram2dcontour": [
           {
            "colorbar": {
             "outlinewidth": 0,
             "ticks": ""
            },
            "colorscale": [
             [
              0,
              "#0d0887"
             ],
             [
              0.1111111111111111,
              "#46039f"
             ],
             [
              0.2222222222222222,
              "#7201a8"
             ],
             [
              0.3333333333333333,
              "#9c179e"
             ],
             [
              0.4444444444444444,
              "#bd3786"
             ],
             [
              0.5555555555555556,
              "#d8576b"
             ],
             [
              0.6666666666666666,
              "#ed7953"
             ],
             [
              0.7777777777777778,
              "#fb9f3a"
             ],
             [
              0.8888888888888888,
              "#fdca26"
             ],
             [
              1,
              "#f0f921"
             ]
            ],
            "type": "histogram2dcontour"
           }
          ],
          "mesh3d": [
           {
            "colorbar": {
             "outlinewidth": 0,
             "ticks": ""
            },
            "type": "mesh3d"
           }
          ],
          "parcoords": [
           {
            "line": {
             "colorbar": {
              "outlinewidth": 0,
              "ticks": ""
             }
            },
            "type": "parcoords"
           }
          ],
          "pie": [
           {
            "automargin": true,
            "type": "pie"
           }
          ],
          "scatter": [
           {
            "fillpattern": {
             "fillmode": "overlay",
             "size": 10,
             "solidity": 0.2
            },
            "type": "scatter"
           }
          ],
          "scatter3d": [
           {
            "line": {
             "colorbar": {
              "outlinewidth": 0,
              "ticks": ""
             }
            },
            "marker": {
             "colorbar": {
              "outlinewidth": 0,
              "ticks": ""
             }
            },
            "type": "scatter3d"
           }
          ],
          "scattercarpet": [
           {
            "marker": {
             "colorbar": {
              "outlinewidth": 0,
              "ticks": ""
             }
            },
            "type": "scattercarpet"
           }
          ],
          "scattergeo": [
           {
            "marker": {
             "colorbar": {
              "outlinewidth": 0,
              "ticks": ""
             }
            },
            "type": "scattergeo"
           }
          ],
          "scattergl": [
           {
            "marker": {
             "colorbar": {
              "outlinewidth": 0,
              "ticks": ""
             }
            },
            "type": "scattergl"
           }
          ],
          "scattermapbox": [
           {
            "marker": {
             "colorbar": {
              "outlinewidth": 0,
              "ticks": ""
             }
            },
            "type": "scattermapbox"
           }
          ],
          "scatterpolar": [
           {
            "marker": {
             "colorbar": {
              "outlinewidth": 0,
              "ticks": ""
             }
            },
            "type": "scatterpolar"
           }
          ],
          "scatterpolargl": [
           {
            "marker": {
             "colorbar": {
              "outlinewidth": 0,
              "ticks": ""
             }
            },
            "type": "scatterpolargl"
           }
          ],
          "scatterternary": [
           {
            "marker": {
             "colorbar": {
              "outlinewidth": 0,
              "ticks": ""
             }
            },
            "type": "scatterternary"
           }
          ],
          "surface": [
           {
            "colorbar": {
             "outlinewidth": 0,
             "ticks": ""
            },
            "colorscale": [
             [
              0,
              "#0d0887"
             ],
             [
              0.1111111111111111,
              "#46039f"
             ],
             [
              0.2222222222222222,
              "#7201a8"
             ],
             [
              0.3333333333333333,
              "#9c179e"
             ],
             [
              0.4444444444444444,
              "#bd3786"
             ],
             [
              0.5555555555555556,
              "#d8576b"
             ],
             [
              0.6666666666666666,
              "#ed7953"
             ],
             [
              0.7777777777777778,
              "#fb9f3a"
             ],
             [
              0.8888888888888888,
              "#fdca26"
             ],
             [
              1,
              "#f0f921"
             ]
            ],
            "type": "surface"
           }
          ],
          "table": [
           {
            "cells": {
             "fill": {
              "color": "#EBF0F8"
             },
             "line": {
              "color": "white"
             }
            },
            "header": {
             "fill": {
              "color": "#C8D4E3"
             },
             "line": {
              "color": "white"
             }
            },
            "type": "table"
           }
          ]
         },
         "layout": {
          "annotationdefaults": {
           "arrowcolor": "#2a3f5f",
           "arrowhead": 0,
           "arrowwidth": 1
          },
          "autotypenumbers": "strict",
          "coloraxis": {
           "colorbar": {
            "outlinewidth": 0,
            "ticks": ""
           }
          },
          "colorscale": {
           "diverging": [
            [
             0,
             "#8e0152"
            ],
            [
             0.1,
             "#c51b7d"
            ],
            [
             0.2,
             "#de77ae"
            ],
            [
             0.3,
             "#f1b6da"
            ],
            [
             0.4,
             "#fde0ef"
            ],
            [
             0.5,
             "#f7f7f7"
            ],
            [
             0.6,
             "#e6f5d0"
            ],
            [
             0.7,
             "#b8e186"
            ],
            [
             0.8,
             "#7fbc41"
            ],
            [
             0.9,
             "#4d9221"
            ],
            [
             1,
             "#276419"
            ]
           ],
           "sequential": [
            [
             0,
             "#0d0887"
            ],
            [
             0.1111111111111111,
             "#46039f"
            ],
            [
             0.2222222222222222,
             "#7201a8"
            ],
            [
             0.3333333333333333,
             "#9c179e"
            ],
            [
             0.4444444444444444,
             "#bd3786"
            ],
            [
             0.5555555555555556,
             "#d8576b"
            ],
            [
             0.6666666666666666,
             "#ed7953"
            ],
            [
             0.7777777777777778,
             "#fb9f3a"
            ],
            [
             0.8888888888888888,
             "#fdca26"
            ],
            [
             1,
             "#f0f921"
            ]
           ],
           "sequentialminus": [
            [
             0,
             "#0d0887"
            ],
            [
             0.1111111111111111,
             "#46039f"
            ],
            [
             0.2222222222222222,
             "#7201a8"
            ],
            [
             0.3333333333333333,
             "#9c179e"
            ],
            [
             0.4444444444444444,
             "#bd3786"
            ],
            [
             0.5555555555555556,
             "#d8576b"
            ],
            [
             0.6666666666666666,
             "#ed7953"
            ],
            [
             0.7777777777777778,
             "#fb9f3a"
            ],
            [
             0.8888888888888888,
             "#fdca26"
            ],
            [
             1,
             "#f0f921"
            ]
           ]
          },
          "colorway": [
           "#636efa",
           "#EF553B",
           "#00cc96",
           "#ab63fa",
           "#FFA15A",
           "#19d3f3",
           "#FF6692",
           "#B6E880",
           "#FF97FF",
           "#FECB52"
          ],
          "font": {
           "color": "#2a3f5f"
          },
          "geo": {
           "bgcolor": "white",
           "lakecolor": "white",
           "landcolor": "white",
           "showlakes": true,
           "showland": true,
           "subunitcolor": "#C8D4E3"
          },
          "hoverlabel": {
           "align": "left"
          },
          "hovermode": "closest",
          "mapbox": {
           "style": "light"
          },
          "paper_bgcolor": "white",
          "plot_bgcolor": "white",
          "polar": {
           "angularaxis": {
            "gridcolor": "#EBF0F8",
            "linecolor": "#EBF0F8",
            "ticks": ""
           },
           "bgcolor": "white",
           "radialaxis": {
            "gridcolor": "#EBF0F8",
            "linecolor": "#EBF0F8",
            "ticks": ""
           }
          },
          "scene": {
           "xaxis": {
            "backgroundcolor": "white",
            "gridcolor": "#DFE8F3",
            "gridwidth": 2,
            "linecolor": "#EBF0F8",
            "showbackground": true,
            "ticks": "",
            "zerolinecolor": "#EBF0F8"
           },
           "yaxis": {
            "backgroundcolor": "white",
            "gridcolor": "#DFE8F3",
            "gridwidth": 2,
            "linecolor": "#EBF0F8",
            "showbackground": true,
            "ticks": "",
            "zerolinecolor": "#EBF0F8"
           },
           "zaxis": {
            "backgroundcolor": "white",
            "gridcolor": "#DFE8F3",
            "gridwidth": 2,
            "linecolor": "#EBF0F8",
            "showbackground": true,
            "ticks": "",
            "zerolinecolor": "#EBF0F8"
           }
          },
          "shapedefaults": {
           "line": {
            "color": "#2a3f5f"
           }
          },
          "ternary": {
           "aaxis": {
            "gridcolor": "#DFE8F3",
            "linecolor": "#A2B1C6",
            "ticks": ""
           },
           "baxis": {
            "gridcolor": "#DFE8F3",
            "linecolor": "#A2B1C6",
            "ticks": ""
           },
           "bgcolor": "white",
           "caxis": {
            "gridcolor": "#DFE8F3",
            "linecolor": "#A2B1C6",
            "ticks": ""
           }
          },
          "title": {
           "x": 0.05
          },
          "xaxis": {
           "automargin": true,
           "gridcolor": "#EBF0F8",
           "linecolor": "#EBF0F8",
           "ticks": "",
           "title": {
            "standoff": 15
           },
           "zerolinecolor": "#EBF0F8",
           "zerolinewidth": 2
          },
          "yaxis": {
           "automargin": true,
           "gridcolor": "#EBF0F8",
           "linecolor": "#EBF0F8",
           "ticks": "",
           "title": {
            "standoff": 15
           },
           "zerolinecolor": "#EBF0F8",
           "zerolinewidth": 2
          }
         }
        },
        "title": {
         "text": "Bog bodies in Nothern Europe"
        },
        "xaxis": {
         "title": {
          "text": "Countries"
         }
        },
        "yaxis": {
         "title": {
          "text": "Number of bog mummies found"
         }
        }
       }
      },
      "text/html": [
       "<div>                            <div id=\"8f232083-714a-4244-a0b5-bad42c737a4b\" class=\"plotly-graph-div\" style=\"height:525px; width:100%;\"></div>            <script type=\"text/javascript\">                require([\"plotly\"], function(Plotly) {                    window.PLOTLYENV=window.PLOTLYENV || {};                                    if (document.getElementById(\"8f232083-714a-4244-a0b5-bad42c737a4b\")) {                    Plotly.newPlot(                        \"8f232083-714a-4244-a0b5-bad42c737a4b\",                        [{\"marker\":{\"color\":\"#42973A\"},\"name\":\"Bog mummies in Nothern Europe\",\"x\":[\"Denmark\",\"Sweden\",\"United Kingdom\",\"Ireland\",\"Germany\",\"Netherlands\",\"Norway\",\"Poland\",\"Estonia\",\"Finland\",\"Denmark  \",\"Lithuania\",\"Sweden \"],\"y\":[106,66,52,34,31,15,15,3,2,2,1,1,1],\"type\":\"bar\"}],                        {\"template\":{\"data\":{\"barpolar\":[{\"marker\":{\"line\":{\"color\":\"white\",\"width\":0.5},\"pattern\":{\"fillmode\":\"overlay\",\"size\":10,\"solidity\":0.2}},\"type\":\"barpolar\"}],\"bar\":[{\"error_x\":{\"color\":\"#2a3f5f\"},\"error_y\":{\"color\":\"#2a3f5f\"},\"marker\":{\"line\":{\"color\":\"white\",\"width\":0.5},\"pattern\":{\"fillmode\":\"overlay\",\"size\":10,\"solidity\":0.2}},\"type\":\"bar\"}],\"carpet\":[{\"aaxis\":{\"endlinecolor\":\"#2a3f5f\",\"gridcolor\":\"#C8D4E3\",\"linecolor\":\"#C8D4E3\",\"minorgridcolor\":\"#C8D4E3\",\"startlinecolor\":\"#2a3f5f\"},\"baxis\":{\"endlinecolor\":\"#2a3f5f\",\"gridcolor\":\"#C8D4E3\",\"linecolor\":\"#C8D4E3\",\"minorgridcolor\":\"#C8D4E3\",\"startlinecolor\":\"#2a3f5f\"},\"type\":\"carpet\"}],\"choropleth\":[{\"colorbar\":{\"outlinewidth\":0,\"ticks\":\"\"},\"type\":\"choropleth\"}],\"contourcarpet\":[{\"colorbar\":{\"outlinewidth\":0,\"ticks\":\"\"},\"type\":\"contourcarpet\"}],\"contour\":[{\"colorbar\":{\"outlinewidth\":0,\"ticks\":\"\"},\"colorscale\":[[0.0,\"#0d0887\"],[0.1111111111111111,\"#46039f\"],[0.2222222222222222,\"#7201a8\"],[0.3333333333333333,\"#9c179e\"],[0.4444444444444444,\"#bd3786\"],[0.5555555555555556,\"#d8576b\"],[0.6666666666666666,\"#ed7953\"],[0.7777777777777778,\"#fb9f3a\"],[0.8888888888888888,\"#fdca26\"],[1.0,\"#f0f921\"]],\"type\":\"contour\"}],\"heatmapgl\":[{\"colorbar\":{\"outlinewidth\":0,\"ticks\":\"\"},\"colorscale\":[[0.0,\"#0d0887\"],[0.1111111111111111,\"#46039f\"],[0.2222222222222222,\"#7201a8\"],[0.3333333333333333,\"#9c179e\"],[0.4444444444444444,\"#bd3786\"],[0.5555555555555556,\"#d8576b\"],[0.6666666666666666,\"#ed7953\"],[0.7777777777777778,\"#fb9f3a\"],[0.8888888888888888,\"#fdca26\"],[1.0,\"#f0f921\"]],\"type\":\"heatmapgl\"}],\"heatmap\":[{\"colorbar\":{\"outlinewidth\":0,\"ticks\":\"\"},\"colorscale\":[[0.0,\"#0d0887\"],[0.1111111111111111,\"#46039f\"],[0.2222222222222222,\"#7201a8\"],[0.3333333333333333,\"#9c179e\"],[0.4444444444444444,\"#bd3786\"],[0.5555555555555556,\"#d8576b\"],[0.6666666666666666,\"#ed7953\"],[0.7777777777777778,\"#fb9f3a\"],[0.8888888888888888,\"#fdca26\"],[1.0,\"#f0f921\"]],\"type\":\"heatmap\"}],\"histogram2dcontour\":[{\"colorbar\":{\"outlinewidth\":0,\"ticks\":\"\"},\"colorscale\":[[0.0,\"#0d0887\"],[0.1111111111111111,\"#46039f\"],[0.2222222222222222,\"#7201a8\"],[0.3333333333333333,\"#9c179e\"],[0.4444444444444444,\"#bd3786\"],[0.5555555555555556,\"#d8576b\"],[0.6666666666666666,\"#ed7953\"],[0.7777777777777778,\"#fb9f3a\"],[0.8888888888888888,\"#fdca26\"],[1.0,\"#f0f921\"]],\"type\":\"histogram2dcontour\"}],\"histogram2d\":[{\"colorbar\":{\"outlinewidth\":0,\"ticks\":\"\"},\"colorscale\":[[0.0,\"#0d0887\"],[0.1111111111111111,\"#46039f\"],[0.2222222222222222,\"#7201a8\"],[0.3333333333333333,\"#9c179e\"],[0.4444444444444444,\"#bd3786\"],[0.5555555555555556,\"#d8576b\"],[0.6666666666666666,\"#ed7953\"],[0.7777777777777778,\"#fb9f3a\"],[0.8888888888888888,\"#fdca26\"],[1.0,\"#f0f921\"]],\"type\":\"histogram2d\"}],\"histogram\":[{\"marker\":{\"pattern\":{\"fillmode\":\"overlay\",\"size\":10,\"solidity\":0.2}},\"type\":\"histogram\"}],\"mesh3d\":[{\"colorbar\":{\"outlinewidth\":0,\"ticks\":\"\"},\"type\":\"mesh3d\"}],\"parcoords\":[{\"line\":{\"colorbar\":{\"outlinewidth\":0,\"ticks\":\"\"}},\"type\":\"parcoords\"}],\"pie\":[{\"automargin\":true,\"type\":\"pie\"}],\"scatter3d\":[{\"line\":{\"colorbar\":{\"outlinewidth\":0,\"ticks\":\"\"}},\"marker\":{\"colorbar\":{\"outlinewidth\":0,\"ticks\":\"\"}},\"type\":\"scatter3d\"}],\"scattercarpet\":[{\"marker\":{\"colorbar\":{\"outlinewidth\":0,\"ticks\":\"\"}},\"type\":\"scattercarpet\"}],\"scattergeo\":[{\"marker\":{\"colorbar\":{\"outlinewidth\":0,\"ticks\":\"\"}},\"type\":\"scattergeo\"}],\"scattergl\":[{\"marker\":{\"colorbar\":{\"outlinewidth\":0,\"ticks\":\"\"}},\"type\":\"scattergl\"}],\"scattermapbox\":[{\"marker\":{\"colorbar\":{\"outlinewidth\":0,\"ticks\":\"\"}},\"type\":\"scattermapbox\"}],\"scatterpolargl\":[{\"marker\":{\"colorbar\":{\"outlinewidth\":0,\"ticks\":\"\"}},\"type\":\"scatterpolargl\"}],\"scatterpolar\":[{\"marker\":{\"colorbar\":{\"outlinewidth\":0,\"ticks\":\"\"}},\"type\":\"scatterpolar\"}],\"scatter\":[{\"fillpattern\":{\"fillmode\":\"overlay\",\"size\":10,\"solidity\":0.2},\"type\":\"scatter\"}],\"scatterternary\":[{\"marker\":{\"colorbar\":{\"outlinewidth\":0,\"ticks\":\"\"}},\"type\":\"scatterternary\"}],\"surface\":[{\"colorbar\":{\"outlinewidth\":0,\"ticks\":\"\"},\"colorscale\":[[0.0,\"#0d0887\"],[0.1111111111111111,\"#46039f\"],[0.2222222222222222,\"#7201a8\"],[0.3333333333333333,\"#9c179e\"],[0.4444444444444444,\"#bd3786\"],[0.5555555555555556,\"#d8576b\"],[0.6666666666666666,\"#ed7953\"],[0.7777777777777778,\"#fb9f3a\"],[0.8888888888888888,\"#fdca26\"],[1.0,\"#f0f921\"]],\"type\":\"surface\"}],\"table\":[{\"cells\":{\"fill\":{\"color\":\"#EBF0F8\"},\"line\":{\"color\":\"white\"}},\"header\":{\"fill\":{\"color\":\"#C8D4E3\"},\"line\":{\"color\":\"white\"}},\"type\":\"table\"}]},\"layout\":{\"annotationdefaults\":{\"arrowcolor\":\"#2a3f5f\",\"arrowhead\":0,\"arrowwidth\":1},\"autotypenumbers\":\"strict\",\"coloraxis\":{\"colorbar\":{\"outlinewidth\":0,\"ticks\":\"\"}},\"colorscale\":{\"diverging\":[[0,\"#8e0152\"],[0.1,\"#c51b7d\"],[0.2,\"#de77ae\"],[0.3,\"#f1b6da\"],[0.4,\"#fde0ef\"],[0.5,\"#f7f7f7\"],[0.6,\"#e6f5d0\"],[0.7,\"#b8e186\"],[0.8,\"#7fbc41\"],[0.9,\"#4d9221\"],[1,\"#276419\"]],\"sequential\":[[0.0,\"#0d0887\"],[0.1111111111111111,\"#46039f\"],[0.2222222222222222,\"#7201a8\"],[0.3333333333333333,\"#9c179e\"],[0.4444444444444444,\"#bd3786\"],[0.5555555555555556,\"#d8576b\"],[0.6666666666666666,\"#ed7953\"],[0.7777777777777778,\"#fb9f3a\"],[0.8888888888888888,\"#fdca26\"],[1.0,\"#f0f921\"]],\"sequentialminus\":[[0.0,\"#0d0887\"],[0.1111111111111111,\"#46039f\"],[0.2222222222222222,\"#7201a8\"],[0.3333333333333333,\"#9c179e\"],[0.4444444444444444,\"#bd3786\"],[0.5555555555555556,\"#d8576b\"],[0.6666666666666666,\"#ed7953\"],[0.7777777777777778,\"#fb9f3a\"],[0.8888888888888888,\"#fdca26\"],[1.0,\"#f0f921\"]]},\"colorway\":[\"#636efa\",\"#EF553B\",\"#00cc96\",\"#ab63fa\",\"#FFA15A\",\"#19d3f3\",\"#FF6692\",\"#B6E880\",\"#FF97FF\",\"#FECB52\"],\"font\":{\"color\":\"#2a3f5f\"},\"geo\":{\"bgcolor\":\"white\",\"lakecolor\":\"white\",\"landcolor\":\"white\",\"showlakes\":true,\"showland\":true,\"subunitcolor\":\"#C8D4E3\"},\"hoverlabel\":{\"align\":\"left\"},\"hovermode\":\"closest\",\"mapbox\":{\"style\":\"light\"},\"paper_bgcolor\":\"white\",\"plot_bgcolor\":\"white\",\"polar\":{\"angularaxis\":{\"gridcolor\":\"#EBF0F8\",\"linecolor\":\"#EBF0F8\",\"ticks\":\"\"},\"bgcolor\":\"white\",\"radialaxis\":{\"gridcolor\":\"#EBF0F8\",\"linecolor\":\"#EBF0F8\",\"ticks\":\"\"}},\"scene\":{\"xaxis\":{\"backgroundcolor\":\"white\",\"gridcolor\":\"#DFE8F3\",\"gridwidth\":2,\"linecolor\":\"#EBF0F8\",\"showbackground\":true,\"ticks\":\"\",\"zerolinecolor\":\"#EBF0F8\"},\"yaxis\":{\"backgroundcolor\":\"white\",\"gridcolor\":\"#DFE8F3\",\"gridwidth\":2,\"linecolor\":\"#EBF0F8\",\"showbackground\":true,\"ticks\":\"\",\"zerolinecolor\":\"#EBF0F8\"},\"zaxis\":{\"backgroundcolor\":\"white\",\"gridcolor\":\"#DFE8F3\",\"gridwidth\":2,\"linecolor\":\"#EBF0F8\",\"showbackground\":true,\"ticks\":\"\",\"zerolinecolor\":\"#EBF0F8\"}},\"shapedefaults\":{\"line\":{\"color\":\"#2a3f5f\"}},\"ternary\":{\"aaxis\":{\"gridcolor\":\"#DFE8F3\",\"linecolor\":\"#A2B1C6\",\"ticks\":\"\"},\"baxis\":{\"gridcolor\":\"#DFE8F3\",\"linecolor\":\"#A2B1C6\",\"ticks\":\"\"},\"bgcolor\":\"white\",\"caxis\":{\"gridcolor\":\"#DFE8F3\",\"linecolor\":\"#A2B1C6\",\"ticks\":\"\"}},\"title\":{\"x\":0.05},\"xaxis\":{\"automargin\":true,\"gridcolor\":\"#EBF0F8\",\"linecolor\":\"#EBF0F8\",\"ticks\":\"\",\"title\":{\"standoff\":15},\"zerolinecolor\":\"#EBF0F8\",\"zerolinewidth\":2},\"yaxis\":{\"automargin\":true,\"gridcolor\":\"#EBF0F8\",\"linecolor\":\"#EBF0F8\",\"ticks\":\"\",\"title\":{\"standoff\":15},\"zerolinecolor\":\"#EBF0F8\",\"zerolinewidth\":2}}},\"title\":{\"text\":\"Bog bodies in Nothern Europe\"},\"xaxis\":{\"title\":{\"text\":\"Countries\"}},\"yaxis\":{\"title\":{\"text\":\"Number of bog mummies found\"}}},                        {\"responsive\": true}                    ).then(function(){\n",
       "                            \n",
       "var gd = document.getElementById('8f232083-714a-4244-a0b5-bad42c737a4b');\n",
       "var x = new MutationObserver(function (mutations, observer) {{\n",
       "        var display = window.getComputedStyle(gd).display;\n",
       "        if (!display || display === 'none') {{\n",
       "            console.log([gd, 'removed!']);\n",
       "            Plotly.purge(gd);\n",
       "            observer.disconnect();\n",
       "        }}\n",
       "}});\n",
       "\n",
       "// Listen for the removal of the full notebook cells\n",
       "var notebookContainer = gd.closest('#notebook-container');\n",
       "if (notebookContainer) {{\n",
       "    x.observe(notebookContainer, {childList: true});\n",
       "}}\n",
       "\n",
       "// Listen for the clearing of the current output cell\n",
       "var outputEl = gd.closest('.output');\n",
       "if (outputEl) {{\n",
       "    x.observe(outputEl, {childList: true});\n",
       "}}\n",
       "\n",
       "                        })                };                });            </script>        </div>"
      ]
     },
     "metadata": {},
     "output_type": "display_data"
    }
   ],
   "source": [
    "# in which countries are mummies\n",
    "value_counts_df = bog_mummies.Country.value_counts().reset_index()\n",
    "\n",
    "fig = go.Figure()\n",
    "\n",
    "# Add bar plot to the same figure\n",
    "fig.add_trace(\n",
    "    go.Bar(x=value_counts_df['index'] , y=value_counts_df['Country'], name='Bog mummies in Nothern Europe',marker_color='#42973A')\n",
    ")\n",
    "\n",
    "fig.update_layout(title='Bog bodies in Nothern Europe',\n",
    "                  xaxis_title='Countries',\n",
    "                  yaxis_title='Number of bog mummies found',\n",
    "                  template=\"plotly_white\",\n",
    "                 )\n",
    "\n",
    "\n",
    "fig.show()\n",
    "file_path = 'country_distribution.svg'\n",
    "pio.write_image(fig, file_path)"
   ]
  },
  {
   "cell_type": "code",
   "execution_count": 62,
   "id": "3cc56a4e",
   "metadata": {},
   "outputs": [
    {
     "data": {
      "text/plain": [
       "array(['unknown', 'male', 'female', 'male ', 'mixed (but mainly men)',\n",
       "       'mixed (both males and females)',\n",
       "       'unknown (but possible dominated by males)', 'probably mixed',\n",
       "       'probably mixed, but at least two males are represented',\n",
       "       'mixed; both males and females are represented'], dtype=object)"
      ]
     },
     "execution_count": 62,
     "metadata": {},
     "output_type": "execute_result"
    }
   ],
   "source": [
    "bog_mummies.Sex.unique()"
   ]
  },
  {
   "cell_type": "markdown",
   "id": "18303b8f",
   "metadata": {},
   "source": [
    "### In the 'Sex' column, several values are to be found, not only female/male/unknown/mixed. Therefore, we use ChatGPT to clean up the data. \n"
   ]
  },
  {
   "cell_type": "code",
   "execution_count": 12,
   "id": "f61952f7",
   "metadata": {
    "collapsed": true
   },
   "outputs": [
    {
     "data": {
      "text/plain": [
       "array([['unknown', 'unknown'],\n",
       "       ['male', 'male'],\n",
       "       ['male', 'male'],\n",
       "       ['male', 'male'],\n",
       "       ['male', 'male'],\n",
       "       ['female', 'female'],\n",
       "       ['male', 'male'],\n",
       "       ['male', 'male'],\n",
       "       ['female', 'female'],\n",
       "       ['male', 'male'],\n",
       "       ['unknown', 'unknown'],\n",
       "       ['male', 'male'],\n",
       "       ['unknown', 'unknown'],\n",
       "       ['male', 'male'],\n",
       "       ['female', 'female'],\n",
       "       ['unknown', 'unknown'],\n",
       "       ['male', 'male'],\n",
       "       ['male', 'male'],\n",
       "       ['male', 'male'],\n",
       "       ['male', 'male'],\n",
       "       ['unknown', 'unknown'],\n",
       "       ['unknown', 'unknown'],\n",
       "       ['male', 'male'],\n",
       "       ['female', 'female'],\n",
       "       ['male', 'male'],\n",
       "       ['male', 'male'],\n",
       "       ['male', 'male'],\n",
       "       ['female', 'female'],\n",
       "       ['female', 'female'],\n",
       "       ['unknown', 'unknown'],\n",
       "       ['female', 'female'],\n",
       "       ['male', 'male'],\n",
       "       ['unknown', 'unknown'],\n",
       "       ['male', 'male'],\n",
       "       ['male', 'male'],\n",
       "       ['male', 'male'],\n",
       "       ['female', 'female'],\n",
       "       ['unknown', 'unknown'],\n",
       "       ['male', 'male'],\n",
       "       ['male', 'male'],\n",
       "       ['male', 'male'],\n",
       "       ['unknown', 'unknown'],\n",
       "       ['unknown', 'unknown'],\n",
       "       ['male', 'male'],\n",
       "       ['male', 'male'],\n",
       "       ['female', 'female'],\n",
       "       ['male', 'male'],\n",
       "       ['male', 'male'],\n",
       "       ['male', 'male'],\n",
       "       ['male', 'male'],\n",
       "       ['unknown', 'unknown'],\n",
       "       ['unknown', 'unknown'],\n",
       "       ['unknown', 'unknown'],\n",
       "       ['female', 'female'],\n",
       "       ['unknown', 'unknown'],\n",
       "       ['female', 'female'],\n",
       "       ['female', 'female'],\n",
       "       ['unknown', 'unknown'],\n",
       "       ['unknown', 'unknown'],\n",
       "       ['female', 'female'],\n",
       "       ['male', 'male'],\n",
       "       ['male', 'male'],\n",
       "       ['female', 'female'],\n",
       "       ['male', 'male'],\n",
       "       ['unknown', 'unknown'],\n",
       "       ['male', 'male'],\n",
       "       ['female', 'female'],\n",
       "       ['male', 'male'],\n",
       "       ['male', 'male '],\n",
       "       ['unknown', 'unknown'],\n",
       "       ['female', 'female'],\n",
       "       ['unknown', 'unknown'],\n",
       "       ['unknown', 'unknown'],\n",
       "       ['male', 'male'],\n",
       "       ['male', 'male'],\n",
       "       ['male', 'male'],\n",
       "       ['male', 'male'],\n",
       "       ['male', 'male'],\n",
       "       ['male', 'male'],\n",
       "       ['unknown', 'unknown'],\n",
       "       ['male', 'male'],\n",
       "       ['male', 'male'],\n",
       "       ['male', 'male'],\n",
       "       ['unknown', 'unknown'],\n",
       "       ['male', 'male'],\n",
       "       ['male', 'male'],\n",
       "       ['unknown', 'unknown'],\n",
       "       ['male', 'male'],\n",
       "       ['female', 'female'],\n",
       "       ['female', 'female'],\n",
       "       ['male', 'male'],\n",
       "       ['male', 'male'],\n",
       "       ['male', 'male'],\n",
       "       ['female', 'female'],\n",
       "       ['female', 'female'],\n",
       "       ['male', 'male'],\n",
       "       ['female', 'female'],\n",
       "       ['male', 'male'],\n",
       "       ['unknown', 'unknown'],\n",
       "       ['female', 'female'],\n",
       "       ['male', 'male'],\n",
       "       ['female', 'female'],\n",
       "       ['female', 'female'],\n",
       "       ['female', 'female'],\n",
       "       ['female', 'female'],\n",
       "       ['female', 'female'],\n",
       "       ['male', 'male'],\n",
       "       ['male', 'male'],\n",
       "       ['male', 'male'],\n",
       "       ['female', 'female'],\n",
       "       ['male', 'male'],\n",
       "       ['female', 'female'],\n",
       "       ['female', 'female'],\n",
       "       ['male', 'male'],\n",
       "       ['female', 'female'],\n",
       "       ['male', 'male'],\n",
       "       ['male', 'male'],\n",
       "       ['female', 'female'],\n",
       "       ['male', 'male'],\n",
       "       ['male', 'male'],\n",
       "       ['female', 'female'],\n",
       "       ['female', 'female'],\n",
       "       ['unknown', 'unknown'],\n",
       "       ['unknown', 'unknown'],\n",
       "       ['unknown', 'unknown'],\n",
       "       ['male', 'male'],\n",
       "       ['unknown', 'unknown'],\n",
       "       ['male', 'male'],\n",
       "       ['male', 'male'],\n",
       "       ['female', 'female'],\n",
       "       ['male', 'male'],\n",
       "       ['female', 'female'],\n",
       "       ['unknown', 'unknown'],\n",
       "       ['male', 'male'],\n",
       "       ['unknown', 'unknown'],\n",
       "       ['male', 'male'],\n",
       "       ['female', 'female'],\n",
       "       ['male', 'male'],\n",
       "       ['female', 'female'],\n",
       "       ['male', 'male'],\n",
       "       ['unknown', 'unknown'],\n",
       "       ['female', 'female'],\n",
       "       ['unknown', 'unknown'],\n",
       "       ['female', 'female'],\n",
       "       ['unknown', 'unknown'],\n",
       "       ['male', 'male'],\n",
       "       ['female', 'female'],\n",
       "       ['unknown', 'unknown'],\n",
       "       ['unknown', 'unknown'],\n",
       "       ['male', 'male'],\n",
       "       ['male', 'male'],\n",
       "       ['unknown', 'unknown'],\n",
       "       ['female', 'female'],\n",
       "       ['female', 'female'],\n",
       "       ['male', 'male'],\n",
       "       ['male', 'male'],\n",
       "       ['female', 'female'],\n",
       "       ['unknown', 'unknown'],\n",
       "       ['female', 'female'],\n",
       "       ['female', 'female'],\n",
       "       ['unknown', 'unknown'],\n",
       "       ['unknown', 'unknown'],\n",
       "       ['male', 'male'],\n",
       "       ['female', 'female'],\n",
       "       ['male', 'male'],\n",
       "       ['male', 'male'],\n",
       "       ['male', 'male'],\n",
       "       ['male', 'male'],\n",
       "       ['male', 'male'],\n",
       "       ['male', 'male'],\n",
       "       ['female', 'female'],\n",
       "       ['male', 'male'],\n",
       "       ['male', 'male'],\n",
       "       ['male', 'male'],\n",
       "       ['unknown', 'unknown'],\n",
       "       ['female', 'female'],\n",
       "       ['female', 'female'],\n",
       "       ['male', 'male'],\n",
       "       ['male', 'male'],\n",
       "       ['male', 'male'],\n",
       "       ['male', 'male'],\n",
       "       ['female', 'female'],\n",
       "       ['female', 'female'],\n",
       "       ['female', 'female'],\n",
       "       ['female', 'female'],\n",
       "       ['male', 'male'],\n",
       "       ['female', 'female'],\n",
       "       ['female', 'female'],\n",
       "       ['male', 'male'],\n",
       "       ['unknown', 'unknown'],\n",
       "       ['unknown', 'unknown'],\n",
       "       ['female', 'female'],\n",
       "       ['unknown', 'unknown'],\n",
       "       ['unknown', 'unknown'],\n",
       "       ['unknown', 'unknown'],\n",
       "       ['female', 'female'],\n",
       "       ['female', 'female'],\n",
       "       ['unknown', 'unknown'],\n",
       "       ['male', 'male'],\n",
       "       ['female', 'female'],\n",
       "       ['male', 'male'],\n",
       "       ['female', 'female'],\n",
       "       ['male', 'male'],\n",
       "       ['unknown', 'unknown'],\n",
       "       ['unknown', 'unknown'],\n",
       "       ['unknown', 'unknown'],\n",
       "       ['unknown', 'unknown'],\n",
       "       ['male', 'male'],\n",
       "       ['male', 'male'],\n",
       "       ['male', 'male'],\n",
       "       ['male', 'male'],\n",
       "       ['unknown', 'unknown'],\n",
       "       ['male', 'male'],\n",
       "       ['male', 'male'],\n",
       "       ['unknown', 'unknown'],\n",
       "       ['female', 'female'],\n",
       "       ['unknown', 'unknown'],\n",
       "       ['female', 'female'],\n",
       "       ['female', 'female'],\n",
       "       ['male', 'male'],\n",
       "       ['male', 'male'],\n",
       "       ['male', 'male'],\n",
       "       ['male', 'male'],\n",
       "       ['mixed', 'mixed (but mainly men)'],\n",
       "       ['female', 'female'],\n",
       "       ['unknown', 'unknown'],\n",
       "       ['male', 'male'],\n",
       "       ['female', 'female'],\n",
       "       ['unknown', 'unknown'],\n",
       "       ['male', 'male'],\n",
       "       ['unknown', 'unknown'],\n",
       "       ['unknown', 'unknown'],\n",
       "       ['unknown', 'unknown'],\n",
       "       ['unknown', 'unknown'],\n",
       "       ['unknown', 'unknown'],\n",
       "       ['female', 'female'],\n",
       "       ['female', 'female'],\n",
       "       ['unknown', 'unknown'],\n",
       "       ['unknown', 'unknown'],\n",
       "       ['unknown', 'unknown'],\n",
       "       ['unknown', 'unknown'],\n",
       "       ['unknown', 'unknown'],\n",
       "       ['male', 'male'],\n",
       "       ['male', 'male'],\n",
       "       ['mixed', 'mixed (both males and females)'],\n",
       "       ['mixed', 'mixed (both males and females)'],\n",
       "       ['male', 'male'],\n",
       "       ['female', 'female'],\n",
       "       ['female', 'female'],\n",
       "       ['male', 'male'],\n",
       "       ['female', 'female'],\n",
       "       ['mixed', 'mixed (both males and females)'],\n",
       "       ['female', 'female'],\n",
       "       ['unknown', 'unknown'],\n",
       "       ['female', 'female'],\n",
       "       ['female', 'female'],\n",
       "       ['unknown', 'unknown'],\n",
       "       ['unknown', 'unknown'],\n",
       "       ['female', 'female'],\n",
       "       ['female', 'female'],\n",
       "       ['male', 'male'],\n",
       "       ['male', 'male'],\n",
       "       ['unknown', 'unknown'],\n",
       "       ['female', 'female'],\n",
       "       ['male', 'male'],\n",
       "       ['male', 'male'],\n",
       "       ['female', 'female'],\n",
       "       ['female', 'female'],\n",
       "       ['male', 'male'],\n",
       "       ['male', 'male'],\n",
       "       ['unknown', 'unknown'],\n",
       "       ['female', 'female'],\n",
       "       ['unknown', 'unknown'],\n",
       "       ['female', 'female'],\n",
       "       ['male', 'male'],\n",
       "       ['unknown', 'unknown'],\n",
       "       ['unknown', 'unknown'],\n",
       "       ['female', 'female'],\n",
       "       ['unknown', 'unknown'],\n",
       "       ['unknown', 'unknown'],\n",
       "       ['unknown', 'unknown'],\n",
       "       ['unknown', 'unknown'],\n",
       "       ['unknown', 'unknown'],\n",
       "       ['unknown', 'unknown'],\n",
       "       ['unknown', 'unknown (but possible dominated by males)'],\n",
       "       ['unknown', 'unknown'],\n",
       "       ['mixed', 'probably mixed'],\n",
       "       ['mixed',\n",
       "        'probably mixed, but at least two males are represented'],\n",
       "       ['unknown', 'unknown'],\n",
       "       ['female', 'female'],\n",
       "       ['male', 'male'],\n",
       "       ['unknown', 'unknown'],\n",
       "       ['male', 'male'],\n",
       "       ['unknown', 'unknown'],\n",
       "       ['male', 'male'],\n",
       "       ['female', 'female'],\n",
       "       ['female', 'female'],\n",
       "       ['unknown', 'unknown'],\n",
       "       ['female', 'female'],\n",
       "       ['unknown', 'unknown'],\n",
       "       ['female', 'female'],\n",
       "       ['male', 'male'],\n",
       "       ['unknown', 'unknown'],\n",
       "       ['male', 'male'],\n",
       "       ['unknown', 'unknown'],\n",
       "       ['male', 'male'],\n",
       "       ['unknown', 'unknown'],\n",
       "       ['male', 'male'],\n",
       "       ['female', 'female'],\n",
       "       ['female', 'female'],\n",
       "       ['male', 'male'],\n",
       "       ['male', 'male'],\n",
       "       ['unknown', 'unknown'],\n",
       "       ['male', 'male'],\n",
       "       ['male', 'male'],\n",
       "       ['male', 'male'],\n",
       "       ['male', 'male'],\n",
       "       ['unknown', 'unknown'],\n",
       "       ['female', 'female'],\n",
       "       ['male', 'male'],\n",
       "       ['male', 'male'],\n",
       "       ['male', 'male'],\n",
       "       ['male', 'male'],\n",
       "       ['unknown', 'unknown'],\n",
       "       ['unknown', 'unknown'],\n",
       "       ['unknown', 'unknown'],\n",
       "       ['unknown', 'unknown'],\n",
       "       ['mixed', 'mixed; both males and females are represented'],\n",
       "       ['male', 'male']], dtype=object)"
      ]
     },
     "execution_count": 12,
     "metadata": {},
     "output_type": "execute_result"
    }
   ],
   "source": [
    "gender=list()\n",
    "for i in bog_mummies['Sex']:\n",
    "    chatgpt_response = client.chat.completions.create(\n",
    "        model=\"gpt-4-1106-preview\", \n",
    "        messages=[\n",
    "            {\"role\": \"system\", \"content\": \"\"\"You are an LLM that understands human gender. Furthermore, you can recognise if several genders are provided. You understand that 'female' and 'male' are two distinctive genders, and 'mixed' is achieved when many women and men are considered. If you are unsure, provide 'unknown' as an answer.\"\"\"},\n",
    "            {\"role\": \"user\", \"content\": f\"\"\" You are provided an input {i}, output the gender defined in this string in one word. It can be either 'male' or 'female'. If NaN is provided, return NaN. If there are several genders, provide the word 'mixed' as an answer. \"\"\"}\n",
    "        ],\n",
    "        max_tokens=4096,\n",
    "        temperature=0\n",
    "    )\n",
    "    chatgpt_response_message = chatgpt_response.choices[0].message.content\n",
    "    #print(chatgpt_response_message)\n",
    "    gender.append(chatgpt_response_message)\n",
    "bog_mummies['gender']=gender\n",
    "bog_mummies[['gender','Sex']].values"
   ]
  },
  {
   "cell_type": "code",
   "execution_count": 17,
   "id": "51346a03",
   "metadata": {
    "scrolled": false
   },
   "outputs": [
    {
     "data": {
      "application/vnd.plotly.v1+json": {
       "config": {
        "plotlyServerURL": "https://plot.ly"
       },
       "data": [
        {
         "domain": {
          "x": [
           0,
           1
          ],
          "y": [
           0,
           1
          ]
         },
         "hole": 0.3,
         "hovertemplate": "index=%{label}<br>gender=%{value}<extra></extra>",
         "labels": [
          "male",
          "unknown",
          "female",
          "mixed"
         ],
         "legendgroup": "",
         "name": "",
         "showlegend": true,
         "type": "pie",
         "values": [
          136,
          96,
          90,
          7
         ]
        }
       ],
       "layout": {
        "legend": {
         "tracegroupgap": 0
        },
        "piecolorway": [
         "rgb(3, 35, 51)",
         "rgb(13, 48, 100)",
         "rgb(53, 50, 155)",
         "rgb(93, 62, 153)",
         "rgb(126, 77, 143)",
         "rgb(158, 89, 135)",
         "rgb(193, 100, 121)",
         "rgb(225, 113, 97)",
         "rgb(246, 139, 69)",
         "rgb(251, 173, 60)",
         "rgb(246, 211, 70)",
         "rgb(231, 250, 90)"
        ],
        "template": {
         "data": {
          "bar": [
           {
            "error_x": {
             "color": "#2a3f5f"
            },
            "error_y": {
             "color": "#2a3f5f"
            },
            "marker": {
             "line": {
              "color": "#E5ECF6",
              "width": 0.5
             },
             "pattern": {
              "fillmode": "overlay",
              "size": 10,
              "solidity": 0.2
             }
            },
            "type": "bar"
           }
          ],
          "barpolar": [
           {
            "marker": {
             "line": {
              "color": "#E5ECF6",
              "width": 0.5
             },
             "pattern": {
              "fillmode": "overlay",
              "size": 10,
              "solidity": 0.2
             }
            },
            "type": "barpolar"
           }
          ],
          "carpet": [
           {
            "aaxis": {
             "endlinecolor": "#2a3f5f",
             "gridcolor": "white",
             "linecolor": "white",
             "minorgridcolor": "white",
             "startlinecolor": "#2a3f5f"
            },
            "baxis": {
             "endlinecolor": "#2a3f5f",
             "gridcolor": "white",
             "linecolor": "white",
             "minorgridcolor": "white",
             "startlinecolor": "#2a3f5f"
            },
            "type": "carpet"
           }
          ],
          "choropleth": [
           {
            "colorbar": {
             "outlinewidth": 0,
             "ticks": ""
            },
            "type": "choropleth"
           }
          ],
          "contour": [
           {
            "colorbar": {
             "outlinewidth": 0,
             "ticks": ""
            },
            "colorscale": [
             [
              0,
              "#0d0887"
             ],
             [
              0.1111111111111111,
              "#46039f"
             ],
             [
              0.2222222222222222,
              "#7201a8"
             ],
             [
              0.3333333333333333,
              "#9c179e"
             ],
             [
              0.4444444444444444,
              "#bd3786"
             ],
             [
              0.5555555555555556,
              "#d8576b"
             ],
             [
              0.6666666666666666,
              "#ed7953"
             ],
             [
              0.7777777777777778,
              "#fb9f3a"
             ],
             [
              0.8888888888888888,
              "#fdca26"
             ],
             [
              1,
              "#f0f921"
             ]
            ],
            "type": "contour"
           }
          ],
          "contourcarpet": [
           {
            "colorbar": {
             "outlinewidth": 0,
             "ticks": ""
            },
            "type": "contourcarpet"
           }
          ],
          "heatmap": [
           {
            "colorbar": {
             "outlinewidth": 0,
             "ticks": ""
            },
            "colorscale": [
             [
              0,
              "#0d0887"
             ],
             [
              0.1111111111111111,
              "#46039f"
             ],
             [
              0.2222222222222222,
              "#7201a8"
             ],
             [
              0.3333333333333333,
              "#9c179e"
             ],
             [
              0.4444444444444444,
              "#bd3786"
             ],
             [
              0.5555555555555556,
              "#d8576b"
             ],
             [
              0.6666666666666666,
              "#ed7953"
             ],
             [
              0.7777777777777778,
              "#fb9f3a"
             ],
             [
              0.8888888888888888,
              "#fdca26"
             ],
             [
              1,
              "#f0f921"
             ]
            ],
            "type": "heatmap"
           }
          ],
          "heatmapgl": [
           {
            "colorbar": {
             "outlinewidth": 0,
             "ticks": ""
            },
            "colorscale": [
             [
              0,
              "#0d0887"
             ],
             [
              0.1111111111111111,
              "#46039f"
             ],
             [
              0.2222222222222222,
              "#7201a8"
             ],
             [
              0.3333333333333333,
              "#9c179e"
             ],
             [
              0.4444444444444444,
              "#bd3786"
             ],
             [
              0.5555555555555556,
              "#d8576b"
             ],
             [
              0.6666666666666666,
              "#ed7953"
             ],
             [
              0.7777777777777778,
              "#fb9f3a"
             ],
             [
              0.8888888888888888,
              "#fdca26"
             ],
             [
              1,
              "#f0f921"
             ]
            ],
            "type": "heatmapgl"
           }
          ],
          "histogram": [
           {
            "marker": {
             "pattern": {
              "fillmode": "overlay",
              "size": 10,
              "solidity": 0.2
             }
            },
            "type": "histogram"
           }
          ],
          "histogram2d": [
           {
            "colorbar": {
             "outlinewidth": 0,
             "ticks": ""
            },
            "colorscale": [
             [
              0,
              "#0d0887"
             ],
             [
              0.1111111111111111,
              "#46039f"
             ],
             [
              0.2222222222222222,
              "#7201a8"
             ],
             [
              0.3333333333333333,
              "#9c179e"
             ],
             [
              0.4444444444444444,
              "#bd3786"
             ],
             [
              0.5555555555555556,
              "#d8576b"
             ],
             [
              0.6666666666666666,
              "#ed7953"
             ],
             [
              0.7777777777777778,
              "#fb9f3a"
             ],
             [
              0.8888888888888888,
              "#fdca26"
             ],
             [
              1,
              "#f0f921"
             ]
            ],
            "type": "histogram2d"
           }
          ],
          "histogram2dcontour": [
           {
            "colorbar": {
             "outlinewidth": 0,
             "ticks": ""
            },
            "colorscale": [
             [
              0,
              "#0d0887"
             ],
             [
              0.1111111111111111,
              "#46039f"
             ],
             [
              0.2222222222222222,
              "#7201a8"
             ],
             [
              0.3333333333333333,
              "#9c179e"
             ],
             [
              0.4444444444444444,
              "#bd3786"
             ],
             [
              0.5555555555555556,
              "#d8576b"
             ],
             [
              0.6666666666666666,
              "#ed7953"
             ],
             [
              0.7777777777777778,
              "#fb9f3a"
             ],
             [
              0.8888888888888888,
              "#fdca26"
             ],
             [
              1,
              "#f0f921"
             ]
            ],
            "type": "histogram2dcontour"
           }
          ],
          "mesh3d": [
           {
            "colorbar": {
             "outlinewidth": 0,
             "ticks": ""
            },
            "type": "mesh3d"
           }
          ],
          "parcoords": [
           {
            "line": {
             "colorbar": {
              "outlinewidth": 0,
              "ticks": ""
             }
            },
            "type": "parcoords"
           }
          ],
          "pie": [
           {
            "automargin": true,
            "type": "pie"
           }
          ],
          "scatter": [
           {
            "fillpattern": {
             "fillmode": "overlay",
             "size": 10,
             "solidity": 0.2
            },
            "type": "scatter"
           }
          ],
          "scatter3d": [
           {
            "line": {
             "colorbar": {
              "outlinewidth": 0,
              "ticks": ""
             }
            },
            "marker": {
             "colorbar": {
              "outlinewidth": 0,
              "ticks": ""
             }
            },
            "type": "scatter3d"
           }
          ],
          "scattercarpet": [
           {
            "marker": {
             "colorbar": {
              "outlinewidth": 0,
              "ticks": ""
             }
            },
            "type": "scattercarpet"
           }
          ],
          "scattergeo": [
           {
            "marker": {
             "colorbar": {
              "outlinewidth": 0,
              "ticks": ""
             }
            },
            "type": "scattergeo"
           }
          ],
          "scattergl": [
           {
            "marker": {
             "colorbar": {
              "outlinewidth": 0,
              "ticks": ""
             }
            },
            "type": "scattergl"
           }
          ],
          "scattermapbox": [
           {
            "marker": {
             "colorbar": {
              "outlinewidth": 0,
              "ticks": ""
             }
            },
            "type": "scattermapbox"
           }
          ],
          "scatterpolar": [
           {
            "marker": {
             "colorbar": {
              "outlinewidth": 0,
              "ticks": ""
             }
            },
            "type": "scatterpolar"
           }
          ],
          "scatterpolargl": [
           {
            "marker": {
             "colorbar": {
              "outlinewidth": 0,
              "ticks": ""
             }
            },
            "type": "scatterpolargl"
           }
          ],
          "scatterternary": [
           {
            "marker": {
             "colorbar": {
              "outlinewidth": 0,
              "ticks": ""
             }
            },
            "type": "scatterternary"
           }
          ],
          "surface": [
           {
            "colorbar": {
             "outlinewidth": 0,
             "ticks": ""
            },
            "colorscale": [
             [
              0,
              "#0d0887"
             ],
             [
              0.1111111111111111,
              "#46039f"
             ],
             [
              0.2222222222222222,
              "#7201a8"
             ],
             [
              0.3333333333333333,
              "#9c179e"
             ],
             [
              0.4444444444444444,
              "#bd3786"
             ],
             [
              0.5555555555555556,
              "#d8576b"
             ],
             [
              0.6666666666666666,
              "#ed7953"
             ],
             [
              0.7777777777777778,
              "#fb9f3a"
             ],
             [
              0.8888888888888888,
              "#fdca26"
             ],
             [
              1,
              "#f0f921"
             ]
            ],
            "type": "surface"
           }
          ],
          "table": [
           {
            "cells": {
             "fill": {
              "color": "#EBF0F8"
             },
             "line": {
              "color": "white"
             }
            },
            "header": {
             "fill": {
              "color": "#C8D4E3"
             },
             "line": {
              "color": "white"
             }
            },
            "type": "table"
           }
          ]
         },
         "layout": {
          "annotationdefaults": {
           "arrowcolor": "#2a3f5f",
           "arrowhead": 0,
           "arrowwidth": 1
          },
          "autotypenumbers": "strict",
          "coloraxis": {
           "colorbar": {
            "outlinewidth": 0,
            "ticks": ""
           }
          },
          "colorscale": {
           "diverging": [
            [
             0,
             "#8e0152"
            ],
            [
             0.1,
             "#c51b7d"
            ],
            [
             0.2,
             "#de77ae"
            ],
            [
             0.3,
             "#f1b6da"
            ],
            [
             0.4,
             "#fde0ef"
            ],
            [
             0.5,
             "#f7f7f7"
            ],
            [
             0.6,
             "#e6f5d0"
            ],
            [
             0.7,
             "#b8e186"
            ],
            [
             0.8,
             "#7fbc41"
            ],
            [
             0.9,
             "#4d9221"
            ],
            [
             1,
             "#276419"
            ]
           ],
           "sequential": [
            [
             0,
             "#0d0887"
            ],
            [
             0.1111111111111111,
             "#46039f"
            ],
            [
             0.2222222222222222,
             "#7201a8"
            ],
            [
             0.3333333333333333,
             "#9c179e"
            ],
            [
             0.4444444444444444,
             "#bd3786"
            ],
            [
             0.5555555555555556,
             "#d8576b"
            ],
            [
             0.6666666666666666,
             "#ed7953"
            ],
            [
             0.7777777777777778,
             "#fb9f3a"
            ],
            [
             0.8888888888888888,
             "#fdca26"
            ],
            [
             1,
             "#f0f921"
            ]
           ],
           "sequentialminus": [
            [
             0,
             "#0d0887"
            ],
            [
             0.1111111111111111,
             "#46039f"
            ],
            [
             0.2222222222222222,
             "#7201a8"
            ],
            [
             0.3333333333333333,
             "#9c179e"
            ],
            [
             0.4444444444444444,
             "#bd3786"
            ],
            [
             0.5555555555555556,
             "#d8576b"
            ],
            [
             0.6666666666666666,
             "#ed7953"
            ],
            [
             0.7777777777777778,
             "#fb9f3a"
            ],
            [
             0.8888888888888888,
             "#fdca26"
            ],
            [
             1,
             "#f0f921"
            ]
           ]
          },
          "colorway": [
           "#636efa",
           "#EF553B",
           "#00cc96",
           "#ab63fa",
           "#FFA15A",
           "#19d3f3",
           "#FF6692",
           "#B6E880",
           "#FF97FF",
           "#FECB52"
          ],
          "font": {
           "color": "#2a3f5f"
          },
          "geo": {
           "bgcolor": "white",
           "lakecolor": "white",
           "landcolor": "#E5ECF6",
           "showlakes": true,
           "showland": true,
           "subunitcolor": "white"
          },
          "hoverlabel": {
           "align": "left"
          },
          "hovermode": "closest",
          "mapbox": {
           "style": "light"
          },
          "paper_bgcolor": "white",
          "plot_bgcolor": "#E5ECF6",
          "polar": {
           "angularaxis": {
            "gridcolor": "white",
            "linecolor": "white",
            "ticks": ""
           },
           "bgcolor": "#E5ECF6",
           "radialaxis": {
            "gridcolor": "white",
            "linecolor": "white",
            "ticks": ""
           }
          },
          "scene": {
           "xaxis": {
            "backgroundcolor": "#E5ECF6",
            "gridcolor": "white",
            "gridwidth": 2,
            "linecolor": "white",
            "showbackground": true,
            "ticks": "",
            "zerolinecolor": "white"
           },
           "yaxis": {
            "backgroundcolor": "#E5ECF6",
            "gridcolor": "white",
            "gridwidth": 2,
            "linecolor": "white",
            "showbackground": true,
            "ticks": "",
            "zerolinecolor": "white"
           },
           "zaxis": {
            "backgroundcolor": "#E5ECF6",
            "gridcolor": "white",
            "gridwidth": 2,
            "linecolor": "white",
            "showbackground": true,
            "ticks": "",
            "zerolinecolor": "white"
           }
          },
          "shapedefaults": {
           "line": {
            "color": "#2a3f5f"
           }
          },
          "ternary": {
           "aaxis": {
            "gridcolor": "white",
            "linecolor": "white",
            "ticks": ""
           },
           "baxis": {
            "gridcolor": "white",
            "linecolor": "white",
            "ticks": ""
           },
           "bgcolor": "#E5ECF6",
           "caxis": {
            "gridcolor": "white",
            "linecolor": "white",
            "ticks": ""
           }
          },
          "title": {
           "x": 0.05
          },
          "xaxis": {
           "automargin": true,
           "gridcolor": "white",
           "linecolor": "white",
           "ticks": "",
           "title": {
            "standoff": 15
           },
           "zerolinecolor": "white",
           "zerolinewidth": 2
          },
          "yaxis": {
           "automargin": true,
           "gridcolor": "white",
           "linecolor": "white",
           "ticks": "",
           "title": {
            "standoff": 15
           },
           "zerolinecolor": "white",
           "zerolinewidth": 2
          }
         }
        },
        "title": {
         "text": "ChatGPT Gender Distribution"
        }
       }
      },
      "text/html": [
       "<div>                            <div id=\"e402b908-eb7f-476f-a25f-e693ef981bd7\" class=\"plotly-graph-div\" style=\"height:525px; width:100%;\"></div>            <script type=\"text/javascript\">                require([\"plotly\"], function(Plotly) {                    window.PLOTLYENV=window.PLOTLYENV || {};                                    if (document.getElementById(\"e402b908-eb7f-476f-a25f-e693ef981bd7\")) {                    Plotly.newPlot(                        \"e402b908-eb7f-476f-a25f-e693ef981bd7\",                        [{\"domain\":{\"x\":[0.0,1.0],\"y\":[0.0,1.0]},\"hole\":0.3,\"hovertemplate\":\"index=%{label}<br>gender=%{value}<extra></extra>\",\"labels\":[\"male\",\"unknown\",\"female\",\"mixed\"],\"legendgroup\":\"\",\"name\":\"\",\"showlegend\":true,\"values\":[136,96,90,7],\"type\":\"pie\"}],                        {\"template\":{\"data\":{\"histogram2dcontour\":[{\"type\":\"histogram2dcontour\",\"colorbar\":{\"outlinewidth\":0,\"ticks\":\"\"},\"colorscale\":[[0.0,\"#0d0887\"],[0.1111111111111111,\"#46039f\"],[0.2222222222222222,\"#7201a8\"],[0.3333333333333333,\"#9c179e\"],[0.4444444444444444,\"#bd3786\"],[0.5555555555555556,\"#d8576b\"],[0.6666666666666666,\"#ed7953\"],[0.7777777777777778,\"#fb9f3a\"],[0.8888888888888888,\"#fdca26\"],[1.0,\"#f0f921\"]]}],\"choropleth\":[{\"type\":\"choropleth\",\"colorbar\":{\"outlinewidth\":0,\"ticks\":\"\"}}],\"histogram2d\":[{\"type\":\"histogram2d\",\"colorbar\":{\"outlinewidth\":0,\"ticks\":\"\"},\"colorscale\":[[0.0,\"#0d0887\"],[0.1111111111111111,\"#46039f\"],[0.2222222222222222,\"#7201a8\"],[0.3333333333333333,\"#9c179e\"],[0.4444444444444444,\"#bd3786\"],[0.5555555555555556,\"#d8576b\"],[0.6666666666666666,\"#ed7953\"],[0.7777777777777778,\"#fb9f3a\"],[0.8888888888888888,\"#fdca26\"],[1.0,\"#f0f921\"]]}],\"heatmap\":[{\"type\":\"heatmap\",\"colorbar\":{\"outlinewidth\":0,\"ticks\":\"\"},\"colorscale\":[[0.0,\"#0d0887\"],[0.1111111111111111,\"#46039f\"],[0.2222222222222222,\"#7201a8\"],[0.3333333333333333,\"#9c179e\"],[0.4444444444444444,\"#bd3786\"],[0.5555555555555556,\"#d8576b\"],[0.6666666666666666,\"#ed7953\"],[0.7777777777777778,\"#fb9f3a\"],[0.8888888888888888,\"#fdca26\"],[1.0,\"#f0f921\"]]}],\"heatmapgl\":[{\"type\":\"heatmapgl\",\"colorbar\":{\"outlinewidth\":0,\"ticks\":\"\"},\"colorscale\":[[0.0,\"#0d0887\"],[0.1111111111111111,\"#46039f\"],[0.2222222222222222,\"#7201a8\"],[0.3333333333333333,\"#9c179e\"],[0.4444444444444444,\"#bd3786\"],[0.5555555555555556,\"#d8576b\"],[0.6666666666666666,\"#ed7953\"],[0.7777777777777778,\"#fb9f3a\"],[0.8888888888888888,\"#fdca26\"],[1.0,\"#f0f921\"]]}],\"contourcarpet\":[{\"type\":\"contourcarpet\",\"colorbar\":{\"outlinewidth\":0,\"ticks\":\"\"}}],\"contour\":[{\"type\":\"contour\",\"colorbar\":{\"outlinewidth\":0,\"ticks\":\"\"},\"colorscale\":[[0.0,\"#0d0887\"],[0.1111111111111111,\"#46039f\"],[0.2222222222222222,\"#7201a8\"],[0.3333333333333333,\"#9c179e\"],[0.4444444444444444,\"#bd3786\"],[0.5555555555555556,\"#d8576b\"],[0.6666666666666666,\"#ed7953\"],[0.7777777777777778,\"#fb9f3a\"],[0.8888888888888888,\"#fdca26\"],[1.0,\"#f0f921\"]]}],\"surface\":[{\"type\":\"surface\",\"colorbar\":{\"outlinewidth\":0,\"ticks\":\"\"},\"colorscale\":[[0.0,\"#0d0887\"],[0.1111111111111111,\"#46039f\"],[0.2222222222222222,\"#7201a8\"],[0.3333333333333333,\"#9c179e\"],[0.4444444444444444,\"#bd3786\"],[0.5555555555555556,\"#d8576b\"],[0.6666666666666666,\"#ed7953\"],[0.7777777777777778,\"#fb9f3a\"],[0.8888888888888888,\"#fdca26\"],[1.0,\"#f0f921\"]]}],\"mesh3d\":[{\"type\":\"mesh3d\",\"colorbar\":{\"outlinewidth\":0,\"ticks\":\"\"}}],\"scatter\":[{\"fillpattern\":{\"fillmode\":\"overlay\",\"size\":10,\"solidity\":0.2},\"type\":\"scatter\"}],\"parcoords\":[{\"type\":\"parcoords\",\"line\":{\"colorbar\":{\"outlinewidth\":0,\"ticks\":\"\"}}}],\"scatterpolargl\":[{\"type\":\"scatterpolargl\",\"marker\":{\"colorbar\":{\"outlinewidth\":0,\"ticks\":\"\"}}}],\"bar\":[{\"error_x\":{\"color\":\"#2a3f5f\"},\"error_y\":{\"color\":\"#2a3f5f\"},\"marker\":{\"line\":{\"color\":\"#E5ECF6\",\"width\":0.5},\"pattern\":{\"fillmode\":\"overlay\",\"size\":10,\"solidity\":0.2}},\"type\":\"bar\"}],\"scattergeo\":[{\"type\":\"scattergeo\",\"marker\":{\"colorbar\":{\"outlinewidth\":0,\"ticks\":\"\"}}}],\"scatterpolar\":[{\"type\":\"scatterpolar\",\"marker\":{\"colorbar\":{\"outlinewidth\":0,\"ticks\":\"\"}}}],\"histogram\":[{\"marker\":{\"pattern\":{\"fillmode\":\"overlay\",\"size\":10,\"solidity\":0.2}},\"type\":\"histogram\"}],\"scattergl\":[{\"type\":\"scattergl\",\"marker\":{\"colorbar\":{\"outlinewidth\":0,\"ticks\":\"\"}}}],\"scatter3d\":[{\"type\":\"scatter3d\",\"line\":{\"colorbar\":{\"outlinewidth\":0,\"ticks\":\"\"}},\"marker\":{\"colorbar\":{\"outlinewidth\":0,\"ticks\":\"\"}}}],\"scattermapbox\":[{\"type\":\"scattermapbox\",\"marker\":{\"colorbar\":{\"outlinewidth\":0,\"ticks\":\"\"}}}],\"scatterternary\":[{\"type\":\"scatterternary\",\"marker\":{\"colorbar\":{\"outlinewidth\":0,\"ticks\":\"\"}}}],\"scattercarpet\":[{\"type\":\"scattercarpet\",\"marker\":{\"colorbar\":{\"outlinewidth\":0,\"ticks\":\"\"}}}],\"carpet\":[{\"aaxis\":{\"endlinecolor\":\"#2a3f5f\",\"gridcolor\":\"white\",\"linecolor\":\"white\",\"minorgridcolor\":\"white\",\"startlinecolor\":\"#2a3f5f\"},\"baxis\":{\"endlinecolor\":\"#2a3f5f\",\"gridcolor\":\"white\",\"linecolor\":\"white\",\"minorgridcolor\":\"white\",\"startlinecolor\":\"#2a3f5f\"},\"type\":\"carpet\"}],\"table\":[{\"cells\":{\"fill\":{\"color\":\"#EBF0F8\"},\"line\":{\"color\":\"white\"}},\"header\":{\"fill\":{\"color\":\"#C8D4E3\"},\"line\":{\"color\":\"white\"}},\"type\":\"table\"}],\"barpolar\":[{\"marker\":{\"line\":{\"color\":\"#E5ECF6\",\"width\":0.5},\"pattern\":{\"fillmode\":\"overlay\",\"size\":10,\"solidity\":0.2}},\"type\":\"barpolar\"}],\"pie\":[{\"automargin\":true,\"type\":\"pie\"}]},\"layout\":{\"autotypenumbers\":\"strict\",\"colorway\":[\"#636efa\",\"#EF553B\",\"#00cc96\",\"#ab63fa\",\"#FFA15A\",\"#19d3f3\",\"#FF6692\",\"#B6E880\",\"#FF97FF\",\"#FECB52\"],\"font\":{\"color\":\"#2a3f5f\"},\"hovermode\":\"closest\",\"hoverlabel\":{\"align\":\"left\"},\"paper_bgcolor\":\"white\",\"plot_bgcolor\":\"#E5ECF6\",\"polar\":{\"bgcolor\":\"#E5ECF6\",\"angularaxis\":{\"gridcolor\":\"white\",\"linecolor\":\"white\",\"ticks\":\"\"},\"radialaxis\":{\"gridcolor\":\"white\",\"linecolor\":\"white\",\"ticks\":\"\"}},\"ternary\":{\"bgcolor\":\"#E5ECF6\",\"aaxis\":{\"gridcolor\":\"white\",\"linecolor\":\"white\",\"ticks\":\"\"},\"baxis\":{\"gridcolor\":\"white\",\"linecolor\":\"white\",\"ticks\":\"\"},\"caxis\":{\"gridcolor\":\"white\",\"linecolor\":\"white\",\"ticks\":\"\"}},\"coloraxis\":{\"colorbar\":{\"outlinewidth\":0,\"ticks\":\"\"}},\"colorscale\":{\"sequential\":[[0.0,\"#0d0887\"],[0.1111111111111111,\"#46039f\"],[0.2222222222222222,\"#7201a8\"],[0.3333333333333333,\"#9c179e\"],[0.4444444444444444,\"#bd3786\"],[0.5555555555555556,\"#d8576b\"],[0.6666666666666666,\"#ed7953\"],[0.7777777777777778,\"#fb9f3a\"],[0.8888888888888888,\"#fdca26\"],[1.0,\"#f0f921\"]],\"sequentialminus\":[[0.0,\"#0d0887\"],[0.1111111111111111,\"#46039f\"],[0.2222222222222222,\"#7201a8\"],[0.3333333333333333,\"#9c179e\"],[0.4444444444444444,\"#bd3786\"],[0.5555555555555556,\"#d8576b\"],[0.6666666666666666,\"#ed7953\"],[0.7777777777777778,\"#fb9f3a\"],[0.8888888888888888,\"#fdca26\"],[1.0,\"#f0f921\"]],\"diverging\":[[0,\"#8e0152\"],[0.1,\"#c51b7d\"],[0.2,\"#de77ae\"],[0.3,\"#f1b6da\"],[0.4,\"#fde0ef\"],[0.5,\"#f7f7f7\"],[0.6,\"#e6f5d0\"],[0.7,\"#b8e186\"],[0.8,\"#7fbc41\"],[0.9,\"#4d9221\"],[1,\"#276419\"]]},\"xaxis\":{\"gridcolor\":\"white\",\"linecolor\":\"white\",\"ticks\":\"\",\"title\":{\"standoff\":15},\"zerolinecolor\":\"white\",\"automargin\":true,\"zerolinewidth\":2},\"yaxis\":{\"gridcolor\":\"white\",\"linecolor\":\"white\",\"ticks\":\"\",\"title\":{\"standoff\":15},\"zerolinecolor\":\"white\",\"automargin\":true,\"zerolinewidth\":2},\"scene\":{\"xaxis\":{\"backgroundcolor\":\"#E5ECF6\",\"gridcolor\":\"white\",\"linecolor\":\"white\",\"showbackground\":true,\"ticks\":\"\",\"zerolinecolor\":\"white\",\"gridwidth\":2},\"yaxis\":{\"backgroundcolor\":\"#E5ECF6\",\"gridcolor\":\"white\",\"linecolor\":\"white\",\"showbackground\":true,\"ticks\":\"\",\"zerolinecolor\":\"white\",\"gridwidth\":2},\"zaxis\":{\"backgroundcolor\":\"#E5ECF6\",\"gridcolor\":\"white\",\"linecolor\":\"white\",\"showbackground\":true,\"ticks\":\"\",\"zerolinecolor\":\"white\",\"gridwidth\":2}},\"shapedefaults\":{\"line\":{\"color\":\"#2a3f5f\"}},\"annotationdefaults\":{\"arrowcolor\":\"#2a3f5f\",\"arrowhead\":0,\"arrowwidth\":1},\"geo\":{\"bgcolor\":\"white\",\"landcolor\":\"#E5ECF6\",\"subunitcolor\":\"white\",\"showland\":true,\"showlakes\":true,\"lakecolor\":\"white\"},\"title\":{\"x\":0.05},\"mapbox\":{\"style\":\"light\"}}},\"legend\":{\"tracegroupgap\":0},\"title\":{\"text\":\"ChatGPT Gender Distribution\"},\"piecolorway\":[\"rgb(3, 35, 51)\",\"rgb(13, 48, 100)\",\"rgb(53, 50, 155)\",\"rgb(93, 62, 153)\",\"rgb(126, 77, 143)\",\"rgb(158, 89, 135)\",\"rgb(193, 100, 121)\",\"rgb(225, 113, 97)\",\"rgb(246, 139, 69)\",\"rgb(251, 173, 60)\",\"rgb(246, 211, 70)\",\"rgb(231, 250, 90)\"]},                        {\"responsive\": true}                    ).then(function(){\n",
       "                            \n",
       "var gd = document.getElementById('e402b908-eb7f-476f-a25f-e693ef981bd7');\n",
       "var x = new MutationObserver(function (mutations, observer) {{\n",
       "        var display = window.getComputedStyle(gd).display;\n",
       "        if (!display || display === 'none') {{\n",
       "            console.log([gd, 'removed!']);\n",
       "            Plotly.purge(gd);\n",
       "            observer.disconnect();\n",
       "        }}\n",
       "}});\n",
       "\n",
       "// Listen for the removal of the full notebook cells\n",
       "var notebookContainer = gd.closest('#notebook-container');\n",
       "if (notebookContainer) {{\n",
       "    x.observe(notebookContainer, {childList: true});\n",
       "}}\n",
       "\n",
       "// Listen for the clearing of the current output cell\n",
       "var outputEl = gd.closest('.output');\n",
       "if (outputEl) {{\n",
       "    x.observe(outputEl, {childList: true});\n",
       "}}\n",
       "\n",
       "                        })                };                });            </script>        </div>"
      ]
     },
     "metadata": {},
     "output_type": "display_data"
    }
   ],
   "source": [
    "sex_type_counts=bog_mummies.gender.value_counts().reset_index()\n",
    "fig = px.pie(sex_type_counts, values='gender', names='index', title='ChatGPT Gender Distribution', color_discrete_sequence=px.colors.sequential.thermal, hole=.3)\n",
    "fig.show()\n",
    "file_path = 'sex_distribution.svg'\n",
    "pio.write_image(fig, file_path)"
   ]
  },
  {
   "cell_type": "code",
   "execution_count": 16,
   "id": "fa6b715b",
   "metadata": {},
   "outputs": [
    {
     "data": {
      "application/vnd.plotly.v1+json": {
       "config": {
        "plotlyServerURL": "https://plot.ly"
       },
       "data": [
        {
         "domain": {
          "x": [
           0,
           1
          ],
          "y": [
           0,
           1
          ]
         },
         "hole": 0.3,
         "hovertemplate": "index=%{label}<br>Sex=%{value}<extra></extra>",
         "labels": [
          "male",
          "unknown",
          "female",
          "mixed"
         ],
         "legendgroup": "",
         "name": "",
         "showlegend": true,
         "type": "pie",
         "values": [
          136,
          96,
          90,
          7
         ]
        }
       ],
       "layout": {
        "legend": {
         "tracegroupgap": 0
        },
        "piecolorway": [
         "rgb(3, 35, 51)",
         "rgb(13, 48, 100)",
         "rgb(53, 50, 155)",
         "rgb(93, 62, 153)",
         "rgb(126, 77, 143)",
         "rgb(158, 89, 135)",
         "rgb(193, 100, 121)",
         "rgb(225, 113, 97)",
         "rgb(246, 139, 69)",
         "rgb(251, 173, 60)",
         "rgb(246, 211, 70)",
         "rgb(231, 250, 90)"
        ],
        "template": {
         "data": {
          "bar": [
           {
            "error_x": {
             "color": "#2a3f5f"
            },
            "error_y": {
             "color": "#2a3f5f"
            },
            "marker": {
             "line": {
              "color": "#E5ECF6",
              "width": 0.5
             },
             "pattern": {
              "fillmode": "overlay",
              "size": 10,
              "solidity": 0.2
             }
            },
            "type": "bar"
           }
          ],
          "barpolar": [
           {
            "marker": {
             "line": {
              "color": "#E5ECF6",
              "width": 0.5
             },
             "pattern": {
              "fillmode": "overlay",
              "size": 10,
              "solidity": 0.2
             }
            },
            "type": "barpolar"
           }
          ],
          "carpet": [
           {
            "aaxis": {
             "endlinecolor": "#2a3f5f",
             "gridcolor": "white",
             "linecolor": "white",
             "minorgridcolor": "white",
             "startlinecolor": "#2a3f5f"
            },
            "baxis": {
             "endlinecolor": "#2a3f5f",
             "gridcolor": "white",
             "linecolor": "white",
             "minorgridcolor": "white",
             "startlinecolor": "#2a3f5f"
            },
            "type": "carpet"
           }
          ],
          "choropleth": [
           {
            "colorbar": {
             "outlinewidth": 0,
             "ticks": ""
            },
            "type": "choropleth"
           }
          ],
          "contour": [
           {
            "colorbar": {
             "outlinewidth": 0,
             "ticks": ""
            },
            "colorscale": [
             [
              0,
              "#0d0887"
             ],
             [
              0.1111111111111111,
              "#46039f"
             ],
             [
              0.2222222222222222,
              "#7201a8"
             ],
             [
              0.3333333333333333,
              "#9c179e"
             ],
             [
              0.4444444444444444,
              "#bd3786"
             ],
             [
              0.5555555555555556,
              "#d8576b"
             ],
             [
              0.6666666666666666,
              "#ed7953"
             ],
             [
              0.7777777777777778,
              "#fb9f3a"
             ],
             [
              0.8888888888888888,
              "#fdca26"
             ],
             [
              1,
              "#f0f921"
             ]
            ],
            "type": "contour"
           }
          ],
          "contourcarpet": [
           {
            "colorbar": {
             "outlinewidth": 0,
             "ticks": ""
            },
            "type": "contourcarpet"
           }
          ],
          "heatmap": [
           {
            "colorbar": {
             "outlinewidth": 0,
             "ticks": ""
            },
            "colorscale": [
             [
              0,
              "#0d0887"
             ],
             [
              0.1111111111111111,
              "#46039f"
             ],
             [
              0.2222222222222222,
              "#7201a8"
             ],
             [
              0.3333333333333333,
              "#9c179e"
             ],
             [
              0.4444444444444444,
              "#bd3786"
             ],
             [
              0.5555555555555556,
              "#d8576b"
             ],
             [
              0.6666666666666666,
              "#ed7953"
             ],
             [
              0.7777777777777778,
              "#fb9f3a"
             ],
             [
              0.8888888888888888,
              "#fdca26"
             ],
             [
              1,
              "#f0f921"
             ]
            ],
            "type": "heatmap"
           }
          ],
          "heatmapgl": [
           {
            "colorbar": {
             "outlinewidth": 0,
             "ticks": ""
            },
            "colorscale": [
             [
              0,
              "#0d0887"
             ],
             [
              0.1111111111111111,
              "#46039f"
             ],
             [
              0.2222222222222222,
              "#7201a8"
             ],
             [
              0.3333333333333333,
              "#9c179e"
             ],
             [
              0.4444444444444444,
              "#bd3786"
             ],
             [
              0.5555555555555556,
              "#d8576b"
             ],
             [
              0.6666666666666666,
              "#ed7953"
             ],
             [
              0.7777777777777778,
              "#fb9f3a"
             ],
             [
              0.8888888888888888,
              "#fdca26"
             ],
             [
              1,
              "#f0f921"
             ]
            ],
            "type": "heatmapgl"
           }
          ],
          "histogram": [
           {
            "marker": {
             "pattern": {
              "fillmode": "overlay",
              "size": 10,
              "solidity": 0.2
             }
            },
            "type": "histogram"
           }
          ],
          "histogram2d": [
           {
            "colorbar": {
             "outlinewidth": 0,
             "ticks": ""
            },
            "colorscale": [
             [
              0,
              "#0d0887"
             ],
             [
              0.1111111111111111,
              "#46039f"
             ],
             [
              0.2222222222222222,
              "#7201a8"
             ],
             [
              0.3333333333333333,
              "#9c179e"
             ],
             [
              0.4444444444444444,
              "#bd3786"
             ],
             [
              0.5555555555555556,
              "#d8576b"
             ],
             [
              0.6666666666666666,
              "#ed7953"
             ],
             [
              0.7777777777777778,
              "#fb9f3a"
             ],
             [
              0.8888888888888888,
              "#fdca26"
             ],
             [
              1,
              "#f0f921"
             ]
            ],
            "type": "histogram2d"
           }
          ],
          "histogram2dcontour": [
           {
            "colorbar": {
             "outlinewidth": 0,
             "ticks": ""
            },
            "colorscale": [
             [
              0,
              "#0d0887"
             ],
             [
              0.1111111111111111,
              "#46039f"
             ],
             [
              0.2222222222222222,
              "#7201a8"
             ],
             [
              0.3333333333333333,
              "#9c179e"
             ],
             [
              0.4444444444444444,
              "#bd3786"
             ],
             [
              0.5555555555555556,
              "#d8576b"
             ],
             [
              0.6666666666666666,
              "#ed7953"
             ],
             [
              0.7777777777777778,
              "#fb9f3a"
             ],
             [
              0.8888888888888888,
              "#fdca26"
             ],
             [
              1,
              "#f0f921"
             ]
            ],
            "type": "histogram2dcontour"
           }
          ],
          "mesh3d": [
           {
            "colorbar": {
             "outlinewidth": 0,
             "ticks": ""
            },
            "type": "mesh3d"
           }
          ],
          "parcoords": [
           {
            "line": {
             "colorbar": {
              "outlinewidth": 0,
              "ticks": ""
             }
            },
            "type": "parcoords"
           }
          ],
          "pie": [
           {
            "automargin": true,
            "type": "pie"
           }
          ],
          "scatter": [
           {
            "fillpattern": {
             "fillmode": "overlay",
             "size": 10,
             "solidity": 0.2
            },
            "type": "scatter"
           }
          ],
          "scatter3d": [
           {
            "line": {
             "colorbar": {
              "outlinewidth": 0,
              "ticks": ""
             }
            },
            "marker": {
             "colorbar": {
              "outlinewidth": 0,
              "ticks": ""
             }
            },
            "type": "scatter3d"
           }
          ],
          "scattercarpet": [
           {
            "marker": {
             "colorbar": {
              "outlinewidth": 0,
              "ticks": ""
             }
            },
            "type": "scattercarpet"
           }
          ],
          "scattergeo": [
           {
            "marker": {
             "colorbar": {
              "outlinewidth": 0,
              "ticks": ""
             }
            },
            "type": "scattergeo"
           }
          ],
          "scattergl": [
           {
            "marker": {
             "colorbar": {
              "outlinewidth": 0,
              "ticks": ""
             }
            },
            "type": "scattergl"
           }
          ],
          "scattermapbox": [
           {
            "marker": {
             "colorbar": {
              "outlinewidth": 0,
              "ticks": ""
             }
            },
            "type": "scattermapbox"
           }
          ],
          "scatterpolar": [
           {
            "marker": {
             "colorbar": {
              "outlinewidth": 0,
              "ticks": ""
             }
            },
            "type": "scatterpolar"
           }
          ],
          "scatterpolargl": [
           {
            "marker": {
             "colorbar": {
              "outlinewidth": 0,
              "ticks": ""
             }
            },
            "type": "scatterpolargl"
           }
          ],
          "scatterternary": [
           {
            "marker": {
             "colorbar": {
              "outlinewidth": 0,
              "ticks": ""
             }
            },
            "type": "scatterternary"
           }
          ],
          "surface": [
           {
            "colorbar": {
             "outlinewidth": 0,
             "ticks": ""
            },
            "colorscale": [
             [
              0,
              "#0d0887"
             ],
             [
              0.1111111111111111,
              "#46039f"
             ],
             [
              0.2222222222222222,
              "#7201a8"
             ],
             [
              0.3333333333333333,
              "#9c179e"
             ],
             [
              0.4444444444444444,
              "#bd3786"
             ],
             [
              0.5555555555555556,
              "#d8576b"
             ],
             [
              0.6666666666666666,
              "#ed7953"
             ],
             [
              0.7777777777777778,
              "#fb9f3a"
             ],
             [
              0.8888888888888888,
              "#fdca26"
             ],
             [
              1,
              "#f0f921"
             ]
            ],
            "type": "surface"
           }
          ],
          "table": [
           {
            "cells": {
             "fill": {
              "color": "#EBF0F8"
             },
             "line": {
              "color": "white"
             }
            },
            "header": {
             "fill": {
              "color": "#C8D4E3"
             },
             "line": {
              "color": "white"
             }
            },
            "type": "table"
           }
          ]
         },
         "layout": {
          "annotationdefaults": {
           "arrowcolor": "#2a3f5f",
           "arrowhead": 0,
           "arrowwidth": 1
          },
          "autotypenumbers": "strict",
          "coloraxis": {
           "colorbar": {
            "outlinewidth": 0,
            "ticks": ""
           }
          },
          "colorscale": {
           "diverging": [
            [
             0,
             "#8e0152"
            ],
            [
             0.1,
             "#c51b7d"
            ],
            [
             0.2,
             "#de77ae"
            ],
            [
             0.3,
             "#f1b6da"
            ],
            [
             0.4,
             "#fde0ef"
            ],
            [
             0.5,
             "#f7f7f7"
            ],
            [
             0.6,
             "#e6f5d0"
            ],
            [
             0.7,
             "#b8e186"
            ],
            [
             0.8,
             "#7fbc41"
            ],
            [
             0.9,
             "#4d9221"
            ],
            [
             1,
             "#276419"
            ]
           ],
           "sequential": [
            [
             0,
             "#0d0887"
            ],
            [
             0.1111111111111111,
             "#46039f"
            ],
            [
             0.2222222222222222,
             "#7201a8"
            ],
            [
             0.3333333333333333,
             "#9c179e"
            ],
            [
             0.4444444444444444,
             "#bd3786"
            ],
            [
             0.5555555555555556,
             "#d8576b"
            ],
            [
             0.6666666666666666,
             "#ed7953"
            ],
            [
             0.7777777777777778,
             "#fb9f3a"
            ],
            [
             0.8888888888888888,
             "#fdca26"
            ],
            [
             1,
             "#f0f921"
            ]
           ],
           "sequentialminus": [
            [
             0,
             "#0d0887"
            ],
            [
             0.1111111111111111,
             "#46039f"
            ],
            [
             0.2222222222222222,
             "#7201a8"
            ],
            [
             0.3333333333333333,
             "#9c179e"
            ],
            [
             0.4444444444444444,
             "#bd3786"
            ],
            [
             0.5555555555555556,
             "#d8576b"
            ],
            [
             0.6666666666666666,
             "#ed7953"
            ],
            [
             0.7777777777777778,
             "#fb9f3a"
            ],
            [
             0.8888888888888888,
             "#fdca26"
            ],
            [
             1,
             "#f0f921"
            ]
           ]
          },
          "colorway": [
           "#636efa",
           "#EF553B",
           "#00cc96",
           "#ab63fa",
           "#FFA15A",
           "#19d3f3",
           "#FF6692",
           "#B6E880",
           "#FF97FF",
           "#FECB52"
          ],
          "font": {
           "color": "#2a3f5f"
          },
          "geo": {
           "bgcolor": "white",
           "lakecolor": "white",
           "landcolor": "#E5ECF6",
           "showlakes": true,
           "showland": true,
           "subunitcolor": "white"
          },
          "hoverlabel": {
           "align": "left"
          },
          "hovermode": "closest",
          "mapbox": {
           "style": "light"
          },
          "paper_bgcolor": "white",
          "plot_bgcolor": "#E5ECF6",
          "polar": {
           "angularaxis": {
            "gridcolor": "white",
            "linecolor": "white",
            "ticks": ""
           },
           "bgcolor": "#E5ECF6",
           "radialaxis": {
            "gridcolor": "white",
            "linecolor": "white",
            "ticks": ""
           }
          },
          "scene": {
           "xaxis": {
            "backgroundcolor": "#E5ECF6",
            "gridcolor": "white",
            "gridwidth": 2,
            "linecolor": "white",
            "showbackground": true,
            "ticks": "",
            "zerolinecolor": "white"
           },
           "yaxis": {
            "backgroundcolor": "#E5ECF6",
            "gridcolor": "white",
            "gridwidth": 2,
            "linecolor": "white",
            "showbackground": true,
            "ticks": "",
            "zerolinecolor": "white"
           },
           "zaxis": {
            "backgroundcolor": "#E5ECF6",
            "gridcolor": "white",
            "gridwidth": 2,
            "linecolor": "white",
            "showbackground": true,
            "ticks": "",
            "zerolinecolor": "white"
           }
          },
          "shapedefaults": {
           "line": {
            "color": "#2a3f5f"
           }
          },
          "ternary": {
           "aaxis": {
            "gridcolor": "white",
            "linecolor": "white",
            "ticks": ""
           },
           "baxis": {
            "gridcolor": "white",
            "linecolor": "white",
            "ticks": ""
           },
           "bgcolor": "#E5ECF6",
           "caxis": {
            "gridcolor": "white",
            "linecolor": "white",
            "ticks": ""
           }
          },
          "title": {
           "x": 0.05
          },
          "xaxis": {
           "automargin": true,
           "gridcolor": "white",
           "linecolor": "white",
           "ticks": "",
           "title": {
            "standoff": 15
           },
           "zerolinecolor": "white",
           "zerolinewidth": 2
          },
          "yaxis": {
           "automargin": true,
           "gridcolor": "white",
           "linecolor": "white",
           "ticks": "",
           "title": {
            "standoff": 15
           },
           "zerolinecolor": "white",
           "zerolinewidth": 2
          }
         }
        },
        "title": {
         "text": "Gender Distribution"
        }
       }
      },
      "text/html": [
       "<div>                            <div id=\"d65ccf55-755d-45b6-8d3f-70d46fcc0356\" class=\"plotly-graph-div\" style=\"height:525px; width:100%;\"></div>            <script type=\"text/javascript\">                require([\"plotly\"], function(Plotly) {                    window.PLOTLYENV=window.PLOTLYENV || {};                                    if (document.getElementById(\"d65ccf55-755d-45b6-8d3f-70d46fcc0356\")) {                    Plotly.newPlot(                        \"d65ccf55-755d-45b6-8d3f-70d46fcc0356\",                        [{\"domain\":{\"x\":[0.0,1.0],\"y\":[0.0,1.0]},\"hole\":0.3,\"hovertemplate\":\"index=%{label}<br>Sex=%{value}<extra></extra>\",\"labels\":[\"male\",\"unknown\",\"female\",\"mixed\"],\"legendgroup\":\"\",\"name\":\"\",\"showlegend\":true,\"values\":[136,96,90,7],\"type\":\"pie\"}],                        {\"template\":{\"data\":{\"histogram2dcontour\":[{\"type\":\"histogram2dcontour\",\"colorbar\":{\"outlinewidth\":0,\"ticks\":\"\"},\"colorscale\":[[0.0,\"#0d0887\"],[0.1111111111111111,\"#46039f\"],[0.2222222222222222,\"#7201a8\"],[0.3333333333333333,\"#9c179e\"],[0.4444444444444444,\"#bd3786\"],[0.5555555555555556,\"#d8576b\"],[0.6666666666666666,\"#ed7953\"],[0.7777777777777778,\"#fb9f3a\"],[0.8888888888888888,\"#fdca26\"],[1.0,\"#f0f921\"]]}],\"choropleth\":[{\"type\":\"choropleth\",\"colorbar\":{\"outlinewidth\":0,\"ticks\":\"\"}}],\"histogram2d\":[{\"type\":\"histogram2d\",\"colorbar\":{\"outlinewidth\":0,\"ticks\":\"\"},\"colorscale\":[[0.0,\"#0d0887\"],[0.1111111111111111,\"#46039f\"],[0.2222222222222222,\"#7201a8\"],[0.3333333333333333,\"#9c179e\"],[0.4444444444444444,\"#bd3786\"],[0.5555555555555556,\"#d8576b\"],[0.6666666666666666,\"#ed7953\"],[0.7777777777777778,\"#fb9f3a\"],[0.8888888888888888,\"#fdca26\"],[1.0,\"#f0f921\"]]}],\"heatmap\":[{\"type\":\"heatmap\",\"colorbar\":{\"outlinewidth\":0,\"ticks\":\"\"},\"colorscale\":[[0.0,\"#0d0887\"],[0.1111111111111111,\"#46039f\"],[0.2222222222222222,\"#7201a8\"],[0.3333333333333333,\"#9c179e\"],[0.4444444444444444,\"#bd3786\"],[0.5555555555555556,\"#d8576b\"],[0.6666666666666666,\"#ed7953\"],[0.7777777777777778,\"#fb9f3a\"],[0.8888888888888888,\"#fdca26\"],[1.0,\"#f0f921\"]]}],\"heatmapgl\":[{\"type\":\"heatmapgl\",\"colorbar\":{\"outlinewidth\":0,\"ticks\":\"\"},\"colorscale\":[[0.0,\"#0d0887\"],[0.1111111111111111,\"#46039f\"],[0.2222222222222222,\"#7201a8\"],[0.3333333333333333,\"#9c179e\"],[0.4444444444444444,\"#bd3786\"],[0.5555555555555556,\"#d8576b\"],[0.6666666666666666,\"#ed7953\"],[0.7777777777777778,\"#fb9f3a\"],[0.8888888888888888,\"#fdca26\"],[1.0,\"#f0f921\"]]}],\"contourcarpet\":[{\"type\":\"contourcarpet\",\"colorbar\":{\"outlinewidth\":0,\"ticks\":\"\"}}],\"contour\":[{\"type\":\"contour\",\"colorbar\":{\"outlinewidth\":0,\"ticks\":\"\"},\"colorscale\":[[0.0,\"#0d0887\"],[0.1111111111111111,\"#46039f\"],[0.2222222222222222,\"#7201a8\"],[0.3333333333333333,\"#9c179e\"],[0.4444444444444444,\"#bd3786\"],[0.5555555555555556,\"#d8576b\"],[0.6666666666666666,\"#ed7953\"],[0.7777777777777778,\"#fb9f3a\"],[0.8888888888888888,\"#fdca26\"],[1.0,\"#f0f921\"]]}],\"surface\":[{\"type\":\"surface\",\"colorbar\":{\"outlinewidth\":0,\"ticks\":\"\"},\"colorscale\":[[0.0,\"#0d0887\"],[0.1111111111111111,\"#46039f\"],[0.2222222222222222,\"#7201a8\"],[0.3333333333333333,\"#9c179e\"],[0.4444444444444444,\"#bd3786\"],[0.5555555555555556,\"#d8576b\"],[0.6666666666666666,\"#ed7953\"],[0.7777777777777778,\"#fb9f3a\"],[0.8888888888888888,\"#fdca26\"],[1.0,\"#f0f921\"]]}],\"mesh3d\":[{\"type\":\"mesh3d\",\"colorbar\":{\"outlinewidth\":0,\"ticks\":\"\"}}],\"scatter\":[{\"fillpattern\":{\"fillmode\":\"overlay\",\"size\":10,\"solidity\":0.2},\"type\":\"scatter\"}],\"parcoords\":[{\"type\":\"parcoords\",\"line\":{\"colorbar\":{\"outlinewidth\":0,\"ticks\":\"\"}}}],\"scatterpolargl\":[{\"type\":\"scatterpolargl\",\"marker\":{\"colorbar\":{\"outlinewidth\":0,\"ticks\":\"\"}}}],\"bar\":[{\"error_x\":{\"color\":\"#2a3f5f\"},\"error_y\":{\"color\":\"#2a3f5f\"},\"marker\":{\"line\":{\"color\":\"#E5ECF6\",\"width\":0.5},\"pattern\":{\"fillmode\":\"overlay\",\"size\":10,\"solidity\":0.2}},\"type\":\"bar\"}],\"scattergeo\":[{\"type\":\"scattergeo\",\"marker\":{\"colorbar\":{\"outlinewidth\":0,\"ticks\":\"\"}}}],\"scatterpolar\":[{\"type\":\"scatterpolar\",\"marker\":{\"colorbar\":{\"outlinewidth\":0,\"ticks\":\"\"}}}],\"histogram\":[{\"marker\":{\"pattern\":{\"fillmode\":\"overlay\",\"size\":10,\"solidity\":0.2}},\"type\":\"histogram\"}],\"scattergl\":[{\"type\":\"scattergl\",\"marker\":{\"colorbar\":{\"outlinewidth\":0,\"ticks\":\"\"}}}],\"scatter3d\":[{\"type\":\"scatter3d\",\"line\":{\"colorbar\":{\"outlinewidth\":0,\"ticks\":\"\"}},\"marker\":{\"colorbar\":{\"outlinewidth\":0,\"ticks\":\"\"}}}],\"scattermapbox\":[{\"type\":\"scattermapbox\",\"marker\":{\"colorbar\":{\"outlinewidth\":0,\"ticks\":\"\"}}}],\"scatterternary\":[{\"type\":\"scatterternary\",\"marker\":{\"colorbar\":{\"outlinewidth\":0,\"ticks\":\"\"}}}],\"scattercarpet\":[{\"type\":\"scattercarpet\",\"marker\":{\"colorbar\":{\"outlinewidth\":0,\"ticks\":\"\"}}}],\"carpet\":[{\"aaxis\":{\"endlinecolor\":\"#2a3f5f\",\"gridcolor\":\"white\",\"linecolor\":\"white\",\"minorgridcolor\":\"white\",\"startlinecolor\":\"#2a3f5f\"},\"baxis\":{\"endlinecolor\":\"#2a3f5f\",\"gridcolor\":\"white\",\"linecolor\":\"white\",\"minorgridcolor\":\"white\",\"startlinecolor\":\"#2a3f5f\"},\"type\":\"carpet\"}],\"table\":[{\"cells\":{\"fill\":{\"color\":\"#EBF0F8\"},\"line\":{\"color\":\"white\"}},\"header\":{\"fill\":{\"color\":\"#C8D4E3\"},\"line\":{\"color\":\"white\"}},\"type\":\"table\"}],\"barpolar\":[{\"marker\":{\"line\":{\"color\":\"#E5ECF6\",\"width\":0.5},\"pattern\":{\"fillmode\":\"overlay\",\"size\":10,\"solidity\":0.2}},\"type\":\"barpolar\"}],\"pie\":[{\"automargin\":true,\"type\":\"pie\"}]},\"layout\":{\"autotypenumbers\":\"strict\",\"colorway\":[\"#636efa\",\"#EF553B\",\"#00cc96\",\"#ab63fa\",\"#FFA15A\",\"#19d3f3\",\"#FF6692\",\"#B6E880\",\"#FF97FF\",\"#FECB52\"],\"font\":{\"color\":\"#2a3f5f\"},\"hovermode\":\"closest\",\"hoverlabel\":{\"align\":\"left\"},\"paper_bgcolor\":\"white\",\"plot_bgcolor\":\"#E5ECF6\",\"polar\":{\"bgcolor\":\"#E5ECF6\",\"angularaxis\":{\"gridcolor\":\"white\",\"linecolor\":\"white\",\"ticks\":\"\"},\"radialaxis\":{\"gridcolor\":\"white\",\"linecolor\":\"white\",\"ticks\":\"\"}},\"ternary\":{\"bgcolor\":\"#E5ECF6\",\"aaxis\":{\"gridcolor\":\"white\",\"linecolor\":\"white\",\"ticks\":\"\"},\"baxis\":{\"gridcolor\":\"white\",\"linecolor\":\"white\",\"ticks\":\"\"},\"caxis\":{\"gridcolor\":\"white\",\"linecolor\":\"white\",\"ticks\":\"\"}},\"coloraxis\":{\"colorbar\":{\"outlinewidth\":0,\"ticks\":\"\"}},\"colorscale\":{\"sequential\":[[0.0,\"#0d0887\"],[0.1111111111111111,\"#46039f\"],[0.2222222222222222,\"#7201a8\"],[0.3333333333333333,\"#9c179e\"],[0.4444444444444444,\"#bd3786\"],[0.5555555555555556,\"#d8576b\"],[0.6666666666666666,\"#ed7953\"],[0.7777777777777778,\"#fb9f3a\"],[0.8888888888888888,\"#fdca26\"],[1.0,\"#f0f921\"]],\"sequentialminus\":[[0.0,\"#0d0887\"],[0.1111111111111111,\"#46039f\"],[0.2222222222222222,\"#7201a8\"],[0.3333333333333333,\"#9c179e\"],[0.4444444444444444,\"#bd3786\"],[0.5555555555555556,\"#d8576b\"],[0.6666666666666666,\"#ed7953\"],[0.7777777777777778,\"#fb9f3a\"],[0.8888888888888888,\"#fdca26\"],[1.0,\"#f0f921\"]],\"diverging\":[[0,\"#8e0152\"],[0.1,\"#c51b7d\"],[0.2,\"#de77ae\"],[0.3,\"#f1b6da\"],[0.4,\"#fde0ef\"],[0.5,\"#f7f7f7\"],[0.6,\"#e6f5d0\"],[0.7,\"#b8e186\"],[0.8,\"#7fbc41\"],[0.9,\"#4d9221\"],[1,\"#276419\"]]},\"xaxis\":{\"gridcolor\":\"white\",\"linecolor\":\"white\",\"ticks\":\"\",\"title\":{\"standoff\":15},\"zerolinecolor\":\"white\",\"automargin\":true,\"zerolinewidth\":2},\"yaxis\":{\"gridcolor\":\"white\",\"linecolor\":\"white\",\"ticks\":\"\",\"title\":{\"standoff\":15},\"zerolinecolor\":\"white\",\"automargin\":true,\"zerolinewidth\":2},\"scene\":{\"xaxis\":{\"backgroundcolor\":\"#E5ECF6\",\"gridcolor\":\"white\",\"linecolor\":\"white\",\"showbackground\":true,\"ticks\":\"\",\"zerolinecolor\":\"white\",\"gridwidth\":2},\"yaxis\":{\"backgroundcolor\":\"#E5ECF6\",\"gridcolor\":\"white\",\"linecolor\":\"white\",\"showbackground\":true,\"ticks\":\"\",\"zerolinecolor\":\"white\",\"gridwidth\":2},\"zaxis\":{\"backgroundcolor\":\"#E5ECF6\",\"gridcolor\":\"white\",\"linecolor\":\"white\",\"showbackground\":true,\"ticks\":\"\",\"zerolinecolor\":\"white\",\"gridwidth\":2}},\"shapedefaults\":{\"line\":{\"color\":\"#2a3f5f\"}},\"annotationdefaults\":{\"arrowcolor\":\"#2a3f5f\",\"arrowhead\":0,\"arrowwidth\":1},\"geo\":{\"bgcolor\":\"white\",\"landcolor\":\"#E5ECF6\",\"subunitcolor\":\"white\",\"showland\":true,\"showlakes\":true,\"lakecolor\":\"white\"},\"title\":{\"x\":0.05},\"mapbox\":{\"style\":\"light\"}}},\"legend\":{\"tracegroupgap\":0},\"title\":{\"text\":\"Gender Distribution\"},\"piecolorway\":[\"rgb(3, 35, 51)\",\"rgb(13, 48, 100)\",\"rgb(53, 50, 155)\",\"rgb(93, 62, 153)\",\"rgb(126, 77, 143)\",\"rgb(158, 89, 135)\",\"rgb(193, 100, 121)\",\"rgb(225, 113, 97)\",\"rgb(246, 139, 69)\",\"rgb(251, 173, 60)\",\"rgb(246, 211, 70)\",\"rgb(231, 250, 90)\"]},                        {\"responsive\": true}                    ).then(function(){\n",
       "                            \n",
       "var gd = document.getElementById('d65ccf55-755d-45b6-8d3f-70d46fcc0356');\n",
       "var x = new MutationObserver(function (mutations, observer) {{\n",
       "        var display = window.getComputedStyle(gd).display;\n",
       "        if (!display || display === 'none') {{\n",
       "            console.log([gd, 'removed!']);\n",
       "            Plotly.purge(gd);\n",
       "            observer.disconnect();\n",
       "        }}\n",
       "}});\n",
       "\n",
       "// Listen for the removal of the full notebook cells\n",
       "var notebookContainer = gd.closest('#notebook-container');\n",
       "if (notebookContainer) {{\n",
       "    x.observe(notebookContainer, {childList: true});\n",
       "}}\n",
       "\n",
       "// Listen for the clearing of the current output cell\n",
       "var outputEl = gd.closest('.output');\n",
       "if (outputEl) {{\n",
       "    x.observe(outputEl, {childList: true});\n",
       "}}\n",
       "\n",
       "                        })                };                });            </script>        </div>"
      ]
     },
     "metadata": {},
     "output_type": "display_data"
    }
   ],
   "source": [
    "#double check that it is correct  by manually cleaning up data. \n",
    "bog_mummies.loc[bog_mummies.Sex=='male ','Sex']='male'\n",
    "bog_mummies.loc[bog_mummies.Sex=='mixed (but mainly men)','Sex']='mixed'\n",
    "bog_mummies.loc[bog_mummies.Sex=='mixed (both males and females)','Sex']='mixed'\n",
    "bog_mummies.loc[bog_mummies.Sex=='probably mixed','Sex']='mixed'\n",
    "bog_mummies.loc[bog_mummies.Sex=='probably mixed, but at least two males are represented','Sex']='mixed'\n",
    "bog_mummies.loc[bog_mummies.Sex=='mixed; both males and females are represented','Sex']='mixed'\n",
    "bog_mummies.loc[bog_mummies.Sex=='unknown (but possible dominated by males)','Sex']='unknown'\n",
    "\n",
    "sex_type_counts=bog_mummies.Sex.value_counts().reset_index()\n",
    "fig = px.pie(sex_type_counts, values='Sex', names='index', title='Gender Distribution', color_discrete_sequence=px.colors.sequential.thermal, hole=.3)\n",
    "fig.show()\n",
    "file_path = 'sex_distribution.svg'\n",
    "pio.write_image(fig, file_path)"
   ]
  },
  {
   "cell_type": "code",
   "execution_count": 18,
   "id": "ba341f97",
   "metadata": {
    "collapsed": true
   },
   "outputs": [
    {
     "data": {
      "text/plain": [
       "array([['adult', 'c. 18'],\n",
       "       ['adult', 'c. 20-25'],\n",
       "       ['adult', 'c. 25-35'],\n",
       "       ['adult', '25-40'],\n",
       "       ['adult', '25-40'],\n",
       "       ['adult', '25-35'],\n",
       "       ['adult', 'adult'],\n",
       "       ['adult', 'adult'],\n",
       "       ['adult', 'young adult'],\n",
       "       ['adult', 'adult'],\n",
       "       ['adult', 'adult'],\n",
       "       ['adult', 'c. 40'],\n",
       "       ['unknown', 'unknown'],\n",
       "       ['child', '6-7'],\n",
       "       ['unknown', \"'youngish'\"],\n",
       "       ['adult', 'adult'],\n",
       "       ['adult', 'adult'],\n",
       "       ['adult', 'adult'],\n",
       "       ['adult', 'adult'],\n",
       "       ['old', \"old' \"],\n",
       "       ['adult', 'young adult'],\n",
       "       ['child', 'c. 12'],\n",
       "       ['adult', 'middle-aged'],\n",
       "       ['adult', '45-60'],\n",
       "       ['adult', '20-30'],\n",
       "       ['adult', 'adult'],\n",
       "       ['adult', 'adult'],\n",
       "       ['adult', 'adult '],\n",
       "       ['adult', '19-22'],\n",
       "       ['adult', 'adult'],\n",
       "       ['adult', 'adult'],\n",
       "       ['adult', 'young adult'],\n",
       "       ['adult', 'young adult'],\n",
       "       ['adult', 'young adult'],\n",
       "       ['adult', '25-38'],\n",
       "       ['adult', 'c. 26-45'],\n",
       "       ['adult', 'adult'],\n",
       "       ['child', 'child'],\n",
       "       ['adult', 'adult'],\n",
       "       ['adult', 'adult'],\n",
       "       ['adult', 'c. 40'],\n",
       "       ['adult', 'adult'],\n",
       "       ['adult', 'young adult'],\n",
       "       ['child', 'c. 17'],\n",
       "       ['adult', 'adult'],\n",
       "       ['child', 'child'],\n",
       "       ['adult', 'adult'],\n",
       "       ['adult', '20-25'],\n",
       "       ['adult', 'adult'],\n",
       "       ['adult', 'adult'],\n",
       "       ['unknown', 'unknown'],\n",
       "       ['adult', 'adult'],\n",
       "       ['child', 'c. 4'],\n",
       "       ['adult', 'young adult'],\n",
       "       ['adult', 'adult'],\n",
       "       ['adult', 'young adult'],\n",
       "       ['adult', 'young adult'],\n",
       "       ['adult', 'adult'],\n",
       "       ['unknown', 'unknown'],\n",
       "       ['adult', 'adult'],\n",
       "       ['adult', 'adult'],\n",
       "       ['adult', 'adult'],\n",
       "       ['child', 'c. 16'],\n",
       "       ['adult', 'adult, <45'],\n",
       "       ['adult', 'adult'],\n",
       "       ['adult', '35-45'],\n",
       "       ['adult', 'c. 35'],\n",
       "       ['adult', 'adult'],\n",
       "       ['adult', 'adult'],\n",
       "       ['adult', 'adult'],\n",
       "       ['child', 'c. 14-16'],\n",
       "       ['adult', 'adult'],\n",
       "       ['unknown', 'young?'],\n",
       "       ['adult', 'adult'],\n",
       "       ['adult', '25-32'],\n",
       "       ['adult', 'adult, possibly 30-40 '],\n",
       "       ['adult', '30-60'],\n",
       "       ['child', '7-13'],\n",
       "       ['adult', 'c. 35'],\n",
       "       ['adult', 'adult'],\n",
       "       ['adult', 'adult'],\n",
       "       ['child', 'c. 12-14'],\n",
       "       ['adult', '40-50'],\n",
       "       ['unknown', 'unknown'],\n",
       "       ['adult', 'c. 46'],\n",
       "       ['adult', '40-50'],\n",
       "       ['adult', 'adult'],\n",
       "       ['adult', 'adult'],\n",
       "       ['child', '2-3'],\n",
       "       ['child', 'c. 14'],\n",
       "       ['adult', '50-60'],\n",
       "       ['adult', 'c. 30'],\n",
       "       ['adult', 'adult'],\n",
       "       ['mixed', '17-20'],\n",
       "       ['adult', '20-30'],\n",
       "       ['adult', 'adult'],\n",
       "       ['child', '12-14'],\n",
       "       ['adult', 'adult'],\n",
       "       ['adult', 'adult'],\n",
       "       ['adult', 'c. 25-27'],\n",
       "       ['old', 'c. 55-60'],\n",
       "       ['adult', 'c. 40-50'],\n",
       "       ['adult', 'c. 20'],\n",
       "       ['adult', 'c. 30'],\n",
       "       ['adult', 'adult'],\n",
       "       ['adult', '45-60'],\n",
       "       ['adult', 'c. 35-55'],\n",
       "       ['adult', 'c. 30-40'],\n",
       "       ['adult', 'c. 20'],\n",
       "       ['adult', 'c. 20 '],\n",
       "       ['adult', 'c. 25-40'],\n",
       "       ['mixed', 'c. 15-20'],\n",
       "       ['mixed', 'c. 15-20'],\n",
       "       ['adult', 'c. 20-25'],\n",
       "       ['adult', 'c. 19-25'],\n",
       "       ['adult', 'adult'],\n",
       "       ['adult', 'young adult'],\n",
       "       ['adult', '35-40'],\n",
       "       ['adult', '35-45'],\n",
       "       ['adult', '40-50'],\n",
       "       ['adult', 'middle-aged'],\n",
       "       ['adult', 'young adult'],\n",
       "       ['adult', 'young adult'],\n",
       "       ['adult', 'young adult'],\n",
       "       ['adult', 'young adult'],\n",
       "       ['adult', 'middle-aged'],\n",
       "       ['child', 'juvenile'],\n",
       "       ['adult', '45-60'],\n",
       "       ['adult', '> 35'],\n",
       "       ['adult', 'c. 20'],\n",
       "       ['adult', 'adult'],\n",
       "       ['adult', 'adult'],\n",
       "       ['adult', 'adult'],\n",
       "       ['adult', '40-60'],\n",
       "       ['adult', 'late adolescent or adult'],\n",
       "       ['adult', 'adult'],\n",
       "       ['adult', '20-35'],\n",
       "       ['adult', 'young adult'],\n",
       "       ['adult', 'adult'],\n",
       "       ['adult', 'adult'],\n",
       "       ['unknown', 'unknown'],\n",
       "       ['adult', 'c. 40'],\n",
       "       ['unknown', 'unknown'],\n",
       "       ['adult', 'adult'],\n",
       "       ['adult', 'adult'],\n",
       "       ['adult', 'c. 20'],\n",
       "       ['adult', 'adult'],\n",
       "       ['child', 'child'],\n",
       "       ['adult', 'adult'],\n",
       "       ['adult', 'adult'],\n",
       "       ['adult', 'adult'],\n",
       "       ['adult', 'adult'],\n",
       "       ['adult', 'adult'],\n",
       "       ['adult', 'c. 25-30'],\n",
       "       ['adult', 'c. 30'],\n",
       "       ['adult', 'adult'],\n",
       "       ['adult', 'probably adult'],\n",
       "       ['unknown', 'adult?'],\n",
       "       ['adult', '30-40'],\n",
       "       ['adult', '25-35'],\n",
       "       ['child', '7-8'],\n",
       "       ['adult', 'adult'],\n",
       "       ['mixed', '17-18'],\n",
       "       ['adult', 'adult'],\n",
       "       ['adult', '35-40'],\n",
       "       ['adult', '25-35'],\n",
       "       ['adult', '25-30'],\n",
       "       ['adult', 'c. 40'],\n",
       "       ['adult', 'adult'],\n",
       "       ['adult', 'c. 20-25'],\n",
       "       ['adult', '30-35'],\n",
       "       ['adult', 'adult'],\n",
       "       ['adult', 'adult'],\n",
       "       ['adult', '18-21'],\n",
       "       ['unknown', 'unknown'],\n",
       "       ['adult', 'adult'],\n",
       "       ['adult', 'adult'],\n",
       "       ['adult', '35-50'],\n",
       "       ['adult', '35-45'],\n",
       "       ['adult', 'c. 40'],\n",
       "       ['adult', '30-45'],\n",
       "       ['adult', '25-35'],\n",
       "       ['adult', '35-45'],\n",
       "       ['adult', '18-20'],\n",
       "       ['adult', '18-22'],\n",
       "       ['adult', '> 35'],\n",
       "       ['adult', '30-35'],\n",
       "       ['adult', '30-35'],\n",
       "       ['adult', '30-35'],\n",
       "       ['child', 'c. 12'],\n",
       "       ['unknown', 'unknown'],\n",
       "       ['adult', 'adult'],\n",
       "       ['adult', 'adult'],\n",
       "       ['adult', 'adult'],\n",
       "       ['adult', 'adult'],\n",
       "       ['adult', 'c 25'],\n",
       "       ['adult', 'c. 25'],\n",
       "       ['child', 'infant'],\n",
       "       ['adult', 'adult'],\n",
       "       ['adult', 'adult'],\n",
       "       ['adult', 'adult'],\n",
       "       ['adult', 'adult'],\n",
       "       ['adult', 'adult'],\n",
       "       ['adult', 'adult'],\n",
       "       ['adult', 'adult'],\n",
       "       ['child', 'possible child'],\n",
       "       ['child', 'child'],\n",
       "       ['adult', '20-45'],\n",
       "       ['adult', 'adult'],\n",
       "       ['adult', 'c. 18'],\n",
       "       ['adult', 'c. 30'],\n",
       "       ['child', 'newborn infant'],\n",
       "       ['adult', '19-34'],\n",
       "       ['adult', '40-60'],\n",
       "       ['child', '8-9'],\n",
       "       ['adult', 'adult'],\n",
       "       ['child', 'infant'],\n",
       "       ['adult', '18-20'],\n",
       "       ['child', '16'],\n",
       "       ['child', 'c. 16'],\n",
       "       ['adult', 'c. 35'],\n",
       "       ['adult', '21-35'],\n",
       "       ['adult', '18-21'],\n",
       "       ['adult', 'mixed (but mainly 20-40)'],\n",
       "       ['adult', 'adult'],\n",
       "       ['child', '8-10'],\n",
       "       ['adult', 'adult'],\n",
       "       ['adult', 'adult'],\n",
       "       ['child', 'child'],\n",
       "       ['adult', 'adult'],\n",
       "       ['child', 'child'],\n",
       "       ['child', 'child'],\n",
       "       ['adult', 'adult'],\n",
       "       ['unknown', 'unknown'],\n",
       "       ['unknown', 'unknown'],\n",
       "       ['adult', 'adult'],\n",
       "       ['adult', 'adult'],\n",
       "       ['unknown', 'unknown'],\n",
       "       ['unknown', 'unknown'],\n",
       "       ['unknown', 'unknown'],\n",
       "       ['unknown', 'unknown'],\n",
       "       ['unknown', 'unknown'],\n",
       "       ['adult', '19-20'],\n",
       "       ['child', 'c. 14'],\n",
       "       ['mixed', 'mixed (both adults and children)'],\n",
       "       ['unknown', 'mixed (both adults and children)'],\n",
       "       ['adult', '20-30'],\n",
       "       ['child', 'c. 15'],\n",
       "       ['adult', 'c. 30'],\n",
       "       ['adult', '40-45'],\n",
       "       ['adult', '30-40'],\n",
       "       ['unknown', 'mixed (both adults and children)'],\n",
       "       ['adult', '25-30'],\n",
       "       ['unknown', 'juvenile or adult'],\n",
       "       ['adult', '20-30'],\n",
       "       ['unknown', 'juvenile or adult'],\n",
       "       ['unknown', 'unknown'],\n",
       "       ['child', 'newborn'],\n",
       "       ['old', 'c. 60-69'],\n",
       "       ['adult', 'c. 50-59'],\n",
       "       ['adult', 'adult, probably below middle age'],\n",
       "       ['adult', 'adult, < 30'],\n",
       "       ['child', 'juvenile'],\n",
       "       ['adult', '40-50'],\n",
       "       ['adult', '30-40'],\n",
       "       ['old', 'c. 60-69'],\n",
       "       ['old', 'c. 60-69'],\n",
       "       ['adult', 'adult'],\n",
       "       ['adult', 'c. 30-39'],\n",
       "       ['adult', '20-25'],\n",
       "       ['adult', 'adult'],\n",
       "       ['adult', '28-44'],\n",
       "       ['adult', 'middle-aged'],\n",
       "       ['adult', '45 or older'],\n",
       "       ['adult', 'adult'],\n",
       "       ['adult', 'adult, young or middle-aged'],\n",
       "       ['adult', 'young adult'],\n",
       "       ['adult', 'adult, young or middle-aged'],\n",
       "       ['child', 'c. 10-12'],\n",
       "       ['child', '2-3'],\n",
       "       ['adult', 'young adult'],\n",
       "       ['adult', 'young adult'],\n",
       "       ['adult', 'probably adult, younger than 35'],\n",
       "       ['adult', 'probably adult, younger than 35'],\n",
       "       ['unknown', 'unknown, probably mixed'],\n",
       "       ['mixed',\n",
       "        'mixed (both juveniles and young adults are represented)'],\n",
       "       ['mixed', 'probably mixed'],\n",
       "       ['mixed',\n",
       "        'probably mixed, but at least one young adult and one middle-aged adult are represented'],\n",
       "       ['unknown', 'unknown'],\n",
       "       ['adult', 'c. 25-30'],\n",
       "       ['adult', 'c. 30-40'],\n",
       "       ['unknown', 'unknown'],\n",
       "       ['adult', 'c. 30'],\n",
       "       ['adult', 'adult'],\n",
       "       ['adult', '30-50'],\n",
       "       ['adult', 'adult'],\n",
       "       ['adult', '25-40'],\n",
       "       ['child', '14-16'],\n",
       "       ['adult', '20-35'],\n",
       "       ['unknown', 'unknown'],\n",
       "       ['adult', 'young adult'],\n",
       "       ['adult', 'young adult'],\n",
       "       ['adult', '35-45'],\n",
       "       ['adult', 'adult'],\n",
       "       ['unknown', 'unknown'],\n",
       "       ['adult', 'c. 35-50'],\n",
       "       ['unknown', 'unknown'],\n",
       "       ['adult', 'adult'],\n",
       "       ['adult', '19-20'],\n",
       "       ['adult', 'adult'],\n",
       "       ['adult', '40-60'],\n",
       "       ['adult', 'adult'],\n",
       "       ['adult', 'adult'],\n",
       "       ['adult', '45-50'],\n",
       "       ['adult', 'adult'],\n",
       "       ['adult', '30-40'],\n",
       "       ['adult', 'young adult'],\n",
       "       ['child', 'c. 8'],\n",
       "       ['mixed', '15-17'],\n",
       "       ['adult', 'mature'],\n",
       "       ['adult', 'c. 30-35'],\n",
       "       ['adult', 'adult'],\n",
       "       ['adult', '39-52'],\n",
       "       ['unknown', 'unknown'],\n",
       "       ['unknown', 'unknown'],\n",
       "       ['unknown', 'unknown'],\n",
       "       ['unknown', 'unknown'],\n",
       "       ['unknown', 'mixed; both children and adults are represented'],\n",
       "       ['adult', 'c. 40']], dtype=object)"
      ]
     },
     "execution_count": 18,
     "metadata": {},
     "output_type": "execute_result"
    }
   ],
   "source": [
    "age=list()\n",
    "for i in bog_mummies.Age:\n",
    "    chatgpt_response = client.chat.completions.create(\n",
    "        model=\"gpt-4-1106-preview\", \n",
    "        messages=[\n",
    "            {\"role\": \"system\", \"content\": \"\"\"You are an LLM that understands human age and is able to transform numbers into age categories. If you are unsure, provide 'unknown' as an answer. \"\"\"},\n",
    "            {\"role\": \"user\", \"content\": f\" You are provided information about human age {i}, transform it into one word, depending on the value: 'mixed','child','adult','old','unknown'. Provide a single word as answer.\"}\n",
    "        ],\n",
    "        max_tokens=4096\n",
    "    )\n",
    "    chatgpt_response_message = chatgpt_response.choices[0].message.content\n",
    "    age.append(chatgpt_response_message)\n",
    "bog_mummies['age']=age\n",
    "bog_mummies[['age','Age']].values\n"
   ]
  },
  {
   "cell_type": "code",
   "execution_count": 19,
   "id": "7b674433",
   "metadata": {},
   "outputs": [
    {
     "data": {
      "text/plain": [
       "array(['adult', 'unknown', 'child', 'old', 'mixed'], dtype=object)"
      ]
     },
     "execution_count": 19,
     "metadata": {},
     "output_type": "execute_result"
    }
   ],
   "source": [
    "bog_mummies['age'].unique()"
   ]
  },
  {
   "cell_type": "code",
   "execution_count": 21,
   "id": "2c2f2674",
   "metadata": {},
   "outputs": [
    {
     "data": {
      "application/vnd.plotly.v1+json": {
       "config": {
        "plotlyServerURL": "https://plot.ly"
       },
       "data": [
        {
         "domain": {
          "x": [
           0,
           1
          ],
          "y": [
           0,
           1
          ]
         },
         "hole": 0.3,
         "hovertemplate": "index=%{label}<br>age=%{value}<extra></extra>",
         "labels": [
          "adult",
          "child",
          "unknown",
          "mixed",
          "old"
         ],
         "legendgroup": "",
         "name": "",
         "showlegend": true,
         "type": "pie",
         "values": [
          244,
          37,
          34,
          9,
          5
         ]
        }
       ],
       "layout": {
        "legend": {
         "tracegroupgap": 0
        },
        "piecolorway": [
         "rgb(3, 35, 51)",
         "rgb(13, 48, 100)",
         "rgb(53, 50, 155)",
         "rgb(93, 62, 153)",
         "rgb(126, 77, 143)",
         "rgb(158, 89, 135)",
         "rgb(193, 100, 121)",
         "rgb(225, 113, 97)",
         "rgb(246, 139, 69)",
         "rgb(251, 173, 60)",
         "rgb(246, 211, 70)",
         "rgb(231, 250, 90)"
        ],
        "template": {
         "data": {
          "bar": [
           {
            "error_x": {
             "color": "#2a3f5f"
            },
            "error_y": {
             "color": "#2a3f5f"
            },
            "marker": {
             "line": {
              "color": "#E5ECF6",
              "width": 0.5
             },
             "pattern": {
              "fillmode": "overlay",
              "size": 10,
              "solidity": 0.2
             }
            },
            "type": "bar"
           }
          ],
          "barpolar": [
           {
            "marker": {
             "line": {
              "color": "#E5ECF6",
              "width": 0.5
             },
             "pattern": {
              "fillmode": "overlay",
              "size": 10,
              "solidity": 0.2
             }
            },
            "type": "barpolar"
           }
          ],
          "carpet": [
           {
            "aaxis": {
             "endlinecolor": "#2a3f5f",
             "gridcolor": "white",
             "linecolor": "white",
             "minorgridcolor": "white",
             "startlinecolor": "#2a3f5f"
            },
            "baxis": {
             "endlinecolor": "#2a3f5f",
             "gridcolor": "white",
             "linecolor": "white",
             "minorgridcolor": "white",
             "startlinecolor": "#2a3f5f"
            },
            "type": "carpet"
           }
          ],
          "choropleth": [
           {
            "colorbar": {
             "outlinewidth": 0,
             "ticks": ""
            },
            "type": "choropleth"
           }
          ],
          "contour": [
           {
            "colorbar": {
             "outlinewidth": 0,
             "ticks": ""
            },
            "colorscale": [
             [
              0,
              "#0d0887"
             ],
             [
              0.1111111111111111,
              "#46039f"
             ],
             [
              0.2222222222222222,
              "#7201a8"
             ],
             [
              0.3333333333333333,
              "#9c179e"
             ],
             [
              0.4444444444444444,
              "#bd3786"
             ],
             [
              0.5555555555555556,
              "#d8576b"
             ],
             [
              0.6666666666666666,
              "#ed7953"
             ],
             [
              0.7777777777777778,
              "#fb9f3a"
             ],
             [
              0.8888888888888888,
              "#fdca26"
             ],
             [
              1,
              "#f0f921"
             ]
            ],
            "type": "contour"
           }
          ],
          "contourcarpet": [
           {
            "colorbar": {
             "outlinewidth": 0,
             "ticks": ""
            },
            "type": "contourcarpet"
           }
          ],
          "heatmap": [
           {
            "colorbar": {
             "outlinewidth": 0,
             "ticks": ""
            },
            "colorscale": [
             [
              0,
              "#0d0887"
             ],
             [
              0.1111111111111111,
              "#46039f"
             ],
             [
              0.2222222222222222,
              "#7201a8"
             ],
             [
              0.3333333333333333,
              "#9c179e"
             ],
             [
              0.4444444444444444,
              "#bd3786"
             ],
             [
              0.5555555555555556,
              "#d8576b"
             ],
             [
              0.6666666666666666,
              "#ed7953"
             ],
             [
              0.7777777777777778,
              "#fb9f3a"
             ],
             [
              0.8888888888888888,
              "#fdca26"
             ],
             [
              1,
              "#f0f921"
             ]
            ],
            "type": "heatmap"
           }
          ],
          "heatmapgl": [
           {
            "colorbar": {
             "outlinewidth": 0,
             "ticks": ""
            },
            "colorscale": [
             [
              0,
              "#0d0887"
             ],
             [
              0.1111111111111111,
              "#46039f"
             ],
             [
              0.2222222222222222,
              "#7201a8"
             ],
             [
              0.3333333333333333,
              "#9c179e"
             ],
             [
              0.4444444444444444,
              "#bd3786"
             ],
             [
              0.5555555555555556,
              "#d8576b"
             ],
             [
              0.6666666666666666,
              "#ed7953"
             ],
             [
              0.7777777777777778,
              "#fb9f3a"
             ],
             [
              0.8888888888888888,
              "#fdca26"
             ],
             [
              1,
              "#f0f921"
             ]
            ],
            "type": "heatmapgl"
           }
          ],
          "histogram": [
           {
            "marker": {
             "pattern": {
              "fillmode": "overlay",
              "size": 10,
              "solidity": 0.2
             }
            },
            "type": "histogram"
           }
          ],
          "histogram2d": [
           {
            "colorbar": {
             "outlinewidth": 0,
             "ticks": ""
            },
            "colorscale": [
             [
              0,
              "#0d0887"
             ],
             [
              0.1111111111111111,
              "#46039f"
             ],
             [
              0.2222222222222222,
              "#7201a8"
             ],
             [
              0.3333333333333333,
              "#9c179e"
             ],
             [
              0.4444444444444444,
              "#bd3786"
             ],
             [
              0.5555555555555556,
              "#d8576b"
             ],
             [
              0.6666666666666666,
              "#ed7953"
             ],
             [
              0.7777777777777778,
              "#fb9f3a"
             ],
             [
              0.8888888888888888,
              "#fdca26"
             ],
             [
              1,
              "#f0f921"
             ]
            ],
            "type": "histogram2d"
           }
          ],
          "histogram2dcontour": [
           {
            "colorbar": {
             "outlinewidth": 0,
             "ticks": ""
            },
            "colorscale": [
             [
              0,
              "#0d0887"
             ],
             [
              0.1111111111111111,
              "#46039f"
             ],
             [
              0.2222222222222222,
              "#7201a8"
             ],
             [
              0.3333333333333333,
              "#9c179e"
             ],
             [
              0.4444444444444444,
              "#bd3786"
             ],
             [
              0.5555555555555556,
              "#d8576b"
             ],
             [
              0.6666666666666666,
              "#ed7953"
             ],
             [
              0.7777777777777778,
              "#fb9f3a"
             ],
             [
              0.8888888888888888,
              "#fdca26"
             ],
             [
              1,
              "#f0f921"
             ]
            ],
            "type": "histogram2dcontour"
           }
          ],
          "mesh3d": [
           {
            "colorbar": {
             "outlinewidth": 0,
             "ticks": ""
            },
            "type": "mesh3d"
           }
          ],
          "parcoords": [
           {
            "line": {
             "colorbar": {
              "outlinewidth": 0,
              "ticks": ""
             }
            },
            "type": "parcoords"
           }
          ],
          "pie": [
           {
            "automargin": true,
            "type": "pie"
           }
          ],
          "scatter": [
           {
            "fillpattern": {
             "fillmode": "overlay",
             "size": 10,
             "solidity": 0.2
            },
            "type": "scatter"
           }
          ],
          "scatter3d": [
           {
            "line": {
             "colorbar": {
              "outlinewidth": 0,
              "ticks": ""
             }
            },
            "marker": {
             "colorbar": {
              "outlinewidth": 0,
              "ticks": ""
             }
            },
            "type": "scatter3d"
           }
          ],
          "scattercarpet": [
           {
            "marker": {
             "colorbar": {
              "outlinewidth": 0,
              "ticks": ""
             }
            },
            "type": "scattercarpet"
           }
          ],
          "scattergeo": [
           {
            "marker": {
             "colorbar": {
              "outlinewidth": 0,
              "ticks": ""
             }
            },
            "type": "scattergeo"
           }
          ],
          "scattergl": [
           {
            "marker": {
             "colorbar": {
              "outlinewidth": 0,
              "ticks": ""
             }
            },
            "type": "scattergl"
           }
          ],
          "scattermapbox": [
           {
            "marker": {
             "colorbar": {
              "outlinewidth": 0,
              "ticks": ""
             }
            },
            "type": "scattermapbox"
           }
          ],
          "scatterpolar": [
           {
            "marker": {
             "colorbar": {
              "outlinewidth": 0,
              "ticks": ""
             }
            },
            "type": "scatterpolar"
           }
          ],
          "scatterpolargl": [
           {
            "marker": {
             "colorbar": {
              "outlinewidth": 0,
              "ticks": ""
             }
            },
            "type": "scatterpolargl"
           }
          ],
          "scatterternary": [
           {
            "marker": {
             "colorbar": {
              "outlinewidth": 0,
              "ticks": ""
             }
            },
            "type": "scatterternary"
           }
          ],
          "surface": [
           {
            "colorbar": {
             "outlinewidth": 0,
             "ticks": ""
            },
            "colorscale": [
             [
              0,
              "#0d0887"
             ],
             [
              0.1111111111111111,
              "#46039f"
             ],
             [
              0.2222222222222222,
              "#7201a8"
             ],
             [
              0.3333333333333333,
              "#9c179e"
             ],
             [
              0.4444444444444444,
              "#bd3786"
             ],
             [
              0.5555555555555556,
              "#d8576b"
             ],
             [
              0.6666666666666666,
              "#ed7953"
             ],
             [
              0.7777777777777778,
              "#fb9f3a"
             ],
             [
              0.8888888888888888,
              "#fdca26"
             ],
             [
              1,
              "#f0f921"
             ]
            ],
            "type": "surface"
           }
          ],
          "table": [
           {
            "cells": {
             "fill": {
              "color": "#EBF0F8"
             },
             "line": {
              "color": "white"
             }
            },
            "header": {
             "fill": {
              "color": "#C8D4E3"
             },
             "line": {
              "color": "white"
             }
            },
            "type": "table"
           }
          ]
         },
         "layout": {
          "annotationdefaults": {
           "arrowcolor": "#2a3f5f",
           "arrowhead": 0,
           "arrowwidth": 1
          },
          "autotypenumbers": "strict",
          "coloraxis": {
           "colorbar": {
            "outlinewidth": 0,
            "ticks": ""
           }
          },
          "colorscale": {
           "diverging": [
            [
             0,
             "#8e0152"
            ],
            [
             0.1,
             "#c51b7d"
            ],
            [
             0.2,
             "#de77ae"
            ],
            [
             0.3,
             "#f1b6da"
            ],
            [
             0.4,
             "#fde0ef"
            ],
            [
             0.5,
             "#f7f7f7"
            ],
            [
             0.6,
             "#e6f5d0"
            ],
            [
             0.7,
             "#b8e186"
            ],
            [
             0.8,
             "#7fbc41"
            ],
            [
             0.9,
             "#4d9221"
            ],
            [
             1,
             "#276419"
            ]
           ],
           "sequential": [
            [
             0,
             "#0d0887"
            ],
            [
             0.1111111111111111,
             "#46039f"
            ],
            [
             0.2222222222222222,
             "#7201a8"
            ],
            [
             0.3333333333333333,
             "#9c179e"
            ],
            [
             0.4444444444444444,
             "#bd3786"
            ],
            [
             0.5555555555555556,
             "#d8576b"
            ],
            [
             0.6666666666666666,
             "#ed7953"
            ],
            [
             0.7777777777777778,
             "#fb9f3a"
            ],
            [
             0.8888888888888888,
             "#fdca26"
            ],
            [
             1,
             "#f0f921"
            ]
           ],
           "sequentialminus": [
            [
             0,
             "#0d0887"
            ],
            [
             0.1111111111111111,
             "#46039f"
            ],
            [
             0.2222222222222222,
             "#7201a8"
            ],
            [
             0.3333333333333333,
             "#9c179e"
            ],
            [
             0.4444444444444444,
             "#bd3786"
            ],
            [
             0.5555555555555556,
             "#d8576b"
            ],
            [
             0.6666666666666666,
             "#ed7953"
            ],
            [
             0.7777777777777778,
             "#fb9f3a"
            ],
            [
             0.8888888888888888,
             "#fdca26"
            ],
            [
             1,
             "#f0f921"
            ]
           ]
          },
          "colorway": [
           "#636efa",
           "#EF553B",
           "#00cc96",
           "#ab63fa",
           "#FFA15A",
           "#19d3f3",
           "#FF6692",
           "#B6E880",
           "#FF97FF",
           "#FECB52"
          ],
          "font": {
           "color": "#2a3f5f"
          },
          "geo": {
           "bgcolor": "white",
           "lakecolor": "white",
           "landcolor": "#E5ECF6",
           "showlakes": true,
           "showland": true,
           "subunitcolor": "white"
          },
          "hoverlabel": {
           "align": "left"
          },
          "hovermode": "closest",
          "mapbox": {
           "style": "light"
          },
          "paper_bgcolor": "white",
          "plot_bgcolor": "#E5ECF6",
          "polar": {
           "angularaxis": {
            "gridcolor": "white",
            "linecolor": "white",
            "ticks": ""
           },
           "bgcolor": "#E5ECF6",
           "radialaxis": {
            "gridcolor": "white",
            "linecolor": "white",
            "ticks": ""
           }
          },
          "scene": {
           "xaxis": {
            "backgroundcolor": "#E5ECF6",
            "gridcolor": "white",
            "gridwidth": 2,
            "linecolor": "white",
            "showbackground": true,
            "ticks": "",
            "zerolinecolor": "white"
           },
           "yaxis": {
            "backgroundcolor": "#E5ECF6",
            "gridcolor": "white",
            "gridwidth": 2,
            "linecolor": "white",
            "showbackground": true,
            "ticks": "",
            "zerolinecolor": "white"
           },
           "zaxis": {
            "backgroundcolor": "#E5ECF6",
            "gridcolor": "white",
            "gridwidth": 2,
            "linecolor": "white",
            "showbackground": true,
            "ticks": "",
            "zerolinecolor": "white"
           }
          },
          "shapedefaults": {
           "line": {
            "color": "#2a3f5f"
           }
          },
          "ternary": {
           "aaxis": {
            "gridcolor": "white",
            "linecolor": "white",
            "ticks": ""
           },
           "baxis": {
            "gridcolor": "white",
            "linecolor": "white",
            "ticks": ""
           },
           "bgcolor": "#E5ECF6",
           "caxis": {
            "gridcolor": "white",
            "linecolor": "white",
            "ticks": ""
           }
          },
          "title": {
           "x": 0.05
          },
          "xaxis": {
           "automargin": true,
           "gridcolor": "white",
           "linecolor": "white",
           "ticks": "",
           "title": {
            "standoff": 15
           },
           "zerolinecolor": "white",
           "zerolinewidth": 2
          },
          "yaxis": {
           "automargin": true,
           "gridcolor": "white",
           "linecolor": "white",
           "ticks": "",
           "title": {
            "standoff": 15
           },
           "zerolinecolor": "white",
           "zerolinewidth": 2
          }
         }
        },
        "title": {
         "text": "Age Distribution"
        }
       }
      },
      "text/html": [
       "<div>                            <div id=\"55461e6f-60e0-4b29-8f6b-d1dad7e3c414\" class=\"plotly-graph-div\" style=\"height:525px; width:100%;\"></div>            <script type=\"text/javascript\">                require([\"plotly\"], function(Plotly) {                    window.PLOTLYENV=window.PLOTLYENV || {};                                    if (document.getElementById(\"55461e6f-60e0-4b29-8f6b-d1dad7e3c414\")) {                    Plotly.newPlot(                        \"55461e6f-60e0-4b29-8f6b-d1dad7e3c414\",                        [{\"domain\":{\"x\":[0.0,1.0],\"y\":[0.0,1.0]},\"hole\":0.3,\"hovertemplate\":\"index=%{label}<br>age=%{value}<extra></extra>\",\"labels\":[\"adult\",\"child\",\"unknown\",\"mixed\",\"old\"],\"legendgroup\":\"\",\"name\":\"\",\"showlegend\":true,\"values\":[244,37,34,9,5],\"type\":\"pie\"}],                        {\"template\":{\"data\":{\"histogram2dcontour\":[{\"type\":\"histogram2dcontour\",\"colorbar\":{\"outlinewidth\":0,\"ticks\":\"\"},\"colorscale\":[[0.0,\"#0d0887\"],[0.1111111111111111,\"#46039f\"],[0.2222222222222222,\"#7201a8\"],[0.3333333333333333,\"#9c179e\"],[0.4444444444444444,\"#bd3786\"],[0.5555555555555556,\"#d8576b\"],[0.6666666666666666,\"#ed7953\"],[0.7777777777777778,\"#fb9f3a\"],[0.8888888888888888,\"#fdca26\"],[1.0,\"#f0f921\"]]}],\"choropleth\":[{\"type\":\"choropleth\",\"colorbar\":{\"outlinewidth\":0,\"ticks\":\"\"}}],\"histogram2d\":[{\"type\":\"histogram2d\",\"colorbar\":{\"outlinewidth\":0,\"ticks\":\"\"},\"colorscale\":[[0.0,\"#0d0887\"],[0.1111111111111111,\"#46039f\"],[0.2222222222222222,\"#7201a8\"],[0.3333333333333333,\"#9c179e\"],[0.4444444444444444,\"#bd3786\"],[0.5555555555555556,\"#d8576b\"],[0.6666666666666666,\"#ed7953\"],[0.7777777777777778,\"#fb9f3a\"],[0.8888888888888888,\"#fdca26\"],[1.0,\"#f0f921\"]]}],\"heatmap\":[{\"type\":\"heatmap\",\"colorbar\":{\"outlinewidth\":0,\"ticks\":\"\"},\"colorscale\":[[0.0,\"#0d0887\"],[0.1111111111111111,\"#46039f\"],[0.2222222222222222,\"#7201a8\"],[0.3333333333333333,\"#9c179e\"],[0.4444444444444444,\"#bd3786\"],[0.5555555555555556,\"#d8576b\"],[0.6666666666666666,\"#ed7953\"],[0.7777777777777778,\"#fb9f3a\"],[0.8888888888888888,\"#fdca26\"],[1.0,\"#f0f921\"]]}],\"heatmapgl\":[{\"type\":\"heatmapgl\",\"colorbar\":{\"outlinewidth\":0,\"ticks\":\"\"},\"colorscale\":[[0.0,\"#0d0887\"],[0.1111111111111111,\"#46039f\"],[0.2222222222222222,\"#7201a8\"],[0.3333333333333333,\"#9c179e\"],[0.4444444444444444,\"#bd3786\"],[0.5555555555555556,\"#d8576b\"],[0.6666666666666666,\"#ed7953\"],[0.7777777777777778,\"#fb9f3a\"],[0.8888888888888888,\"#fdca26\"],[1.0,\"#f0f921\"]]}],\"contourcarpet\":[{\"type\":\"contourcarpet\",\"colorbar\":{\"outlinewidth\":0,\"ticks\":\"\"}}],\"contour\":[{\"type\":\"contour\",\"colorbar\":{\"outlinewidth\":0,\"ticks\":\"\"},\"colorscale\":[[0.0,\"#0d0887\"],[0.1111111111111111,\"#46039f\"],[0.2222222222222222,\"#7201a8\"],[0.3333333333333333,\"#9c179e\"],[0.4444444444444444,\"#bd3786\"],[0.5555555555555556,\"#d8576b\"],[0.6666666666666666,\"#ed7953\"],[0.7777777777777778,\"#fb9f3a\"],[0.8888888888888888,\"#fdca26\"],[1.0,\"#f0f921\"]]}],\"surface\":[{\"type\":\"surface\",\"colorbar\":{\"outlinewidth\":0,\"ticks\":\"\"},\"colorscale\":[[0.0,\"#0d0887\"],[0.1111111111111111,\"#46039f\"],[0.2222222222222222,\"#7201a8\"],[0.3333333333333333,\"#9c179e\"],[0.4444444444444444,\"#bd3786\"],[0.5555555555555556,\"#d8576b\"],[0.6666666666666666,\"#ed7953\"],[0.7777777777777778,\"#fb9f3a\"],[0.8888888888888888,\"#fdca26\"],[1.0,\"#f0f921\"]]}],\"mesh3d\":[{\"type\":\"mesh3d\",\"colorbar\":{\"outlinewidth\":0,\"ticks\":\"\"}}],\"scatter\":[{\"fillpattern\":{\"fillmode\":\"overlay\",\"size\":10,\"solidity\":0.2},\"type\":\"scatter\"}],\"parcoords\":[{\"type\":\"parcoords\",\"line\":{\"colorbar\":{\"outlinewidth\":0,\"ticks\":\"\"}}}],\"scatterpolargl\":[{\"type\":\"scatterpolargl\",\"marker\":{\"colorbar\":{\"outlinewidth\":0,\"ticks\":\"\"}}}],\"bar\":[{\"error_x\":{\"color\":\"#2a3f5f\"},\"error_y\":{\"color\":\"#2a3f5f\"},\"marker\":{\"line\":{\"color\":\"#E5ECF6\",\"width\":0.5},\"pattern\":{\"fillmode\":\"overlay\",\"size\":10,\"solidity\":0.2}},\"type\":\"bar\"}],\"scattergeo\":[{\"type\":\"scattergeo\",\"marker\":{\"colorbar\":{\"outlinewidth\":0,\"ticks\":\"\"}}}],\"scatterpolar\":[{\"type\":\"scatterpolar\",\"marker\":{\"colorbar\":{\"outlinewidth\":0,\"ticks\":\"\"}}}],\"histogram\":[{\"marker\":{\"pattern\":{\"fillmode\":\"overlay\",\"size\":10,\"solidity\":0.2}},\"type\":\"histogram\"}],\"scattergl\":[{\"type\":\"scattergl\",\"marker\":{\"colorbar\":{\"outlinewidth\":0,\"ticks\":\"\"}}}],\"scatter3d\":[{\"type\":\"scatter3d\",\"line\":{\"colorbar\":{\"outlinewidth\":0,\"ticks\":\"\"}},\"marker\":{\"colorbar\":{\"outlinewidth\":0,\"ticks\":\"\"}}}],\"scattermapbox\":[{\"type\":\"scattermapbox\",\"marker\":{\"colorbar\":{\"outlinewidth\":0,\"ticks\":\"\"}}}],\"scatterternary\":[{\"type\":\"scatterternary\",\"marker\":{\"colorbar\":{\"outlinewidth\":0,\"ticks\":\"\"}}}],\"scattercarpet\":[{\"type\":\"scattercarpet\",\"marker\":{\"colorbar\":{\"outlinewidth\":0,\"ticks\":\"\"}}}],\"carpet\":[{\"aaxis\":{\"endlinecolor\":\"#2a3f5f\",\"gridcolor\":\"white\",\"linecolor\":\"white\",\"minorgridcolor\":\"white\",\"startlinecolor\":\"#2a3f5f\"},\"baxis\":{\"endlinecolor\":\"#2a3f5f\",\"gridcolor\":\"white\",\"linecolor\":\"white\",\"minorgridcolor\":\"white\",\"startlinecolor\":\"#2a3f5f\"},\"type\":\"carpet\"}],\"table\":[{\"cells\":{\"fill\":{\"color\":\"#EBF0F8\"},\"line\":{\"color\":\"white\"}},\"header\":{\"fill\":{\"color\":\"#C8D4E3\"},\"line\":{\"color\":\"white\"}},\"type\":\"table\"}],\"barpolar\":[{\"marker\":{\"line\":{\"color\":\"#E5ECF6\",\"width\":0.5},\"pattern\":{\"fillmode\":\"overlay\",\"size\":10,\"solidity\":0.2}},\"type\":\"barpolar\"}],\"pie\":[{\"automargin\":true,\"type\":\"pie\"}]},\"layout\":{\"autotypenumbers\":\"strict\",\"colorway\":[\"#636efa\",\"#EF553B\",\"#00cc96\",\"#ab63fa\",\"#FFA15A\",\"#19d3f3\",\"#FF6692\",\"#B6E880\",\"#FF97FF\",\"#FECB52\"],\"font\":{\"color\":\"#2a3f5f\"},\"hovermode\":\"closest\",\"hoverlabel\":{\"align\":\"left\"},\"paper_bgcolor\":\"white\",\"plot_bgcolor\":\"#E5ECF6\",\"polar\":{\"bgcolor\":\"#E5ECF6\",\"angularaxis\":{\"gridcolor\":\"white\",\"linecolor\":\"white\",\"ticks\":\"\"},\"radialaxis\":{\"gridcolor\":\"white\",\"linecolor\":\"white\",\"ticks\":\"\"}},\"ternary\":{\"bgcolor\":\"#E5ECF6\",\"aaxis\":{\"gridcolor\":\"white\",\"linecolor\":\"white\",\"ticks\":\"\"},\"baxis\":{\"gridcolor\":\"white\",\"linecolor\":\"white\",\"ticks\":\"\"},\"caxis\":{\"gridcolor\":\"white\",\"linecolor\":\"white\",\"ticks\":\"\"}},\"coloraxis\":{\"colorbar\":{\"outlinewidth\":0,\"ticks\":\"\"}},\"colorscale\":{\"sequential\":[[0.0,\"#0d0887\"],[0.1111111111111111,\"#46039f\"],[0.2222222222222222,\"#7201a8\"],[0.3333333333333333,\"#9c179e\"],[0.4444444444444444,\"#bd3786\"],[0.5555555555555556,\"#d8576b\"],[0.6666666666666666,\"#ed7953\"],[0.7777777777777778,\"#fb9f3a\"],[0.8888888888888888,\"#fdca26\"],[1.0,\"#f0f921\"]],\"sequentialminus\":[[0.0,\"#0d0887\"],[0.1111111111111111,\"#46039f\"],[0.2222222222222222,\"#7201a8\"],[0.3333333333333333,\"#9c179e\"],[0.4444444444444444,\"#bd3786\"],[0.5555555555555556,\"#d8576b\"],[0.6666666666666666,\"#ed7953\"],[0.7777777777777778,\"#fb9f3a\"],[0.8888888888888888,\"#fdca26\"],[1.0,\"#f0f921\"]],\"diverging\":[[0,\"#8e0152\"],[0.1,\"#c51b7d\"],[0.2,\"#de77ae\"],[0.3,\"#f1b6da\"],[0.4,\"#fde0ef\"],[0.5,\"#f7f7f7\"],[0.6,\"#e6f5d0\"],[0.7,\"#b8e186\"],[0.8,\"#7fbc41\"],[0.9,\"#4d9221\"],[1,\"#276419\"]]},\"xaxis\":{\"gridcolor\":\"white\",\"linecolor\":\"white\",\"ticks\":\"\",\"title\":{\"standoff\":15},\"zerolinecolor\":\"white\",\"automargin\":true,\"zerolinewidth\":2},\"yaxis\":{\"gridcolor\":\"white\",\"linecolor\":\"white\",\"ticks\":\"\",\"title\":{\"standoff\":15},\"zerolinecolor\":\"white\",\"automargin\":true,\"zerolinewidth\":2},\"scene\":{\"xaxis\":{\"backgroundcolor\":\"#E5ECF6\",\"gridcolor\":\"white\",\"linecolor\":\"white\",\"showbackground\":true,\"ticks\":\"\",\"zerolinecolor\":\"white\",\"gridwidth\":2},\"yaxis\":{\"backgroundcolor\":\"#E5ECF6\",\"gridcolor\":\"white\",\"linecolor\":\"white\",\"showbackground\":true,\"ticks\":\"\",\"zerolinecolor\":\"white\",\"gridwidth\":2},\"zaxis\":{\"backgroundcolor\":\"#E5ECF6\",\"gridcolor\":\"white\",\"linecolor\":\"white\",\"showbackground\":true,\"ticks\":\"\",\"zerolinecolor\":\"white\",\"gridwidth\":2}},\"shapedefaults\":{\"line\":{\"color\":\"#2a3f5f\"}},\"annotationdefaults\":{\"arrowcolor\":\"#2a3f5f\",\"arrowhead\":0,\"arrowwidth\":1},\"geo\":{\"bgcolor\":\"white\",\"landcolor\":\"#E5ECF6\",\"subunitcolor\":\"white\",\"showland\":true,\"showlakes\":true,\"lakecolor\":\"white\"},\"title\":{\"x\":0.05},\"mapbox\":{\"style\":\"light\"}}},\"legend\":{\"tracegroupgap\":0},\"title\":{\"text\":\"Age Distribution\"},\"piecolorway\":[\"rgb(3, 35, 51)\",\"rgb(13, 48, 100)\",\"rgb(53, 50, 155)\",\"rgb(93, 62, 153)\",\"rgb(126, 77, 143)\",\"rgb(158, 89, 135)\",\"rgb(193, 100, 121)\",\"rgb(225, 113, 97)\",\"rgb(246, 139, 69)\",\"rgb(251, 173, 60)\",\"rgb(246, 211, 70)\",\"rgb(231, 250, 90)\"]},                        {\"responsive\": true}                    ).then(function(){\n",
       "                            \n",
       "var gd = document.getElementById('55461e6f-60e0-4b29-8f6b-d1dad7e3c414');\n",
       "var x = new MutationObserver(function (mutations, observer) {{\n",
       "        var display = window.getComputedStyle(gd).display;\n",
       "        if (!display || display === 'none') {{\n",
       "            console.log([gd, 'removed!']);\n",
       "            Plotly.purge(gd);\n",
       "            observer.disconnect();\n",
       "        }}\n",
       "}});\n",
       "\n",
       "// Listen for the removal of the full notebook cells\n",
       "var notebookContainer = gd.closest('#notebook-container');\n",
       "if (notebookContainer) {{\n",
       "    x.observe(notebookContainer, {childList: true});\n",
       "}}\n",
       "\n",
       "// Listen for the clearing of the current output cell\n",
       "var outputEl = gd.closest('.output');\n",
       "if (outputEl) {{\n",
       "    x.observe(outputEl, {childList: true});\n",
       "}}\n",
       "\n",
       "                        })                };                });            </script>        </div>"
      ]
     },
     "metadata": {},
     "output_type": "display_data"
    }
   ],
   "source": [
    "\n",
    "age_chatgpt_counts=bog_mummies['age'].value_counts().reset_index()\n",
    "fig = px.pie(age_chatgpt_counts, values='age', names='index', title='Age Distribution', color_discrete_sequence=px.colors.sequential.thermal, hole=.3)\n",
    "fig.show()\n",
    "file_path = 'age_distribution.svg'\n",
    "pio.write_image(fig, file_path)"
   ]
  },
  {
   "cell_type": "code",
   "execution_count": 24,
   "id": "8e78c5f6",
   "metadata": {
    "collapsed": true
   },
   "outputs": [
    {
     "data": {
      "text/plain": [
       "array([['1998', '1998'],\n",
       "       ['2011', '2011'],\n",
       "       ['2005', '2005'],\n",
       "       ['2003', '2003'],\n",
       "       ['2003', '2003'],\n",
       "       ['1978', '1978'],\n",
       "       ['1821', '1821'],\n",
       "       ['1953', '1953'],\n",
       "       ['2005', '2005'],\n",
       "       ['2006', '2006'],\n",
       "       ['1952', '1952'],\n",
       "       ['1929', '1929'],\n",
       "       ['1989', '1989'],\n",
       "       ['1950', '1950'],\n",
       "       ['1845', '1845'],\n",
       "       ['1954', '1954'],\n",
       "       ['1824', '1824'],\n",
       "       ['1946', '1946'],\n",
       "       ['1827', '1827'],\n",
       "       ['1939', '1939'],\n",
       "       ['1929', '1929'],\n",
       "       ['1936', '1936'],\n",
       "       ['1969', '1969'],\n",
       "       ['1960', '1960'],\n",
       "       ['1955', '1955'],\n",
       "       ['1962', '1962'],\n",
       "       ['1838', '1838'],\n",
       "       ['1840', '1840'],\n",
       "       ['1881', '1881'],\n",
       "       ['1878', '1878'],\n",
       "       ['1880', '1880'],\n",
       "       ['2012', '2012'],\n",
       "       ['1983', '1983'],\n",
       "       ['1987', '1987'],\n",
       "       ['1972', '1972'],\n",
       "       ['1958', '1958'],\n",
       "       ['1967', '1967'],\n",
       "       ['1984', '1984'],\n",
       "       ['before 1911', 'before 1911'],\n",
       "       ['1911', '1911'],\n",
       "       ['1864', '1864'],\n",
       "       ['1747', '1747'],\n",
       "       ['1927', '1927'],\n",
       "       ['1975', '1975'],\n",
       "       ['1920', '1920'],\n",
       "       ['1881', '1881'],\n",
       "       ['1951', '1951'],\n",
       "       ['1964', '1964'],\n",
       "       ['1932', '1932'],\n",
       "       ['1850', '1850'],\n",
       "       ['1973', '1973'],\n",
       "       ['Before 1923', 'before 1923'],\n",
       "       ['1968', '1968'],\n",
       "       ['1824', '1824'],\n",
       "       ['1720', '1720'],\n",
       "       ['1932', '1932'],\n",
       "       ['1846', '1846'],\n",
       "       ['NaN', 'before 1910'],\n",
       "       ['1879', '1879'],\n",
       "       ['1864', '1864'],\n",
       "       ['1820', 'c. 1820'],\n",
       "       ['1889', '1889'],\n",
       "       ['1897', '1897'],\n",
       "       ['1914', '1914'],\n",
       "       ['1938', '1938'],\n",
       "       ['1931', '1931'],\n",
       "       ['1951', '1951'],\n",
       "       ['1891', '1891'],\n",
       "       ['1921', '1921'],\n",
       "       ['1921', '1921'],\n",
       "       ['1784', '1784'],\n",
       "       ['1817', '1817'],\n",
       "       ['1861', '1861'],\n",
       "       ['1895', '1895'],\n",
       "       ['1900', '1900'],\n",
       "       ['1903', '1903'],\n",
       "       ['1907', '1907'],\n",
       "       ['1922', '1922'],\n",
       "       ['1934', '1934'],\n",
       "       ['1938', '1938'],\n",
       "       ['1949', '1949'],\n",
       "       ['1939', '1939'],\n",
       "       ['1941', '1941'],\n",
       "       ['1955', '1955'],\n",
       "       ['1978', '1978'],\n",
       "       ['1871', '1871'],\n",
       "       ['1890', '1890'],\n",
       "       ['1900', '1900'],\n",
       "       ['1926', '1926'],\n",
       "       ['1934', '1934'],\n",
       "       ['1948', '1948'],\n",
       "       ['1959', '1959/1960'],\n",
       "       ['1754', '1754'],\n",
       "       ['2000', '2000, 2005'],\n",
       "       ['1957', '1957'],\n",
       "       ['1927', '1927'],\n",
       "       ['1939', '1939'],\n",
       "       ['1943', '1943'],\n",
       "       ['1936', '1936'],\n",
       "       ['1936', '1936'],\n",
       "       ['1952', '1952'],\n",
       "       ['1936', '1936'],\n",
       "       ['1972', '1972'],\n",
       "       ['1946', '1946'],\n",
       "       ['2013', '2013-2014'],\n",
       "       ['1910', '1910'],\n",
       "       ['NaN', nan],\n",
       "       ['NaN', nan],\n",
       "       ['2013', '2013'],\n",
       "       ['1942', '1942'],\n",
       "       ['1936', '1936'],\n",
       "       ['1943', '1943'],\n",
       "       ['1980', '1980'],\n",
       "       ['1920', '1920'],\n",
       "       ['1948', '1948'],\n",
       "       ['1955', '1955'],\n",
       "       ['1991', '1991'],\n",
       "       ['NaN', nan],\n",
       "       ['1948', '1948'],\n",
       "       ['1929', '1929'],\n",
       "       ['NaN', nan],\n",
       "       ['NaN', nan],\n",
       "       ['1900', '1900'],\n",
       "       ['1865', '1865'],\n",
       "       ['NaN', nan],\n",
       "       ['NaN', nan],\n",
       "       ['1954', '1954'],\n",
       "       ['1994', '1994'],\n",
       "       ['1866', '1866'],\n",
       "       ['1903', '1903?'],\n",
       "       ['1949', '1949'],\n",
       "       ['1960', 'early 1960s'],\n",
       "       ['1942', '1942'],\n",
       "       ['1953', '1953'],\n",
       "       ['1946', '1946-1949, 1972-1974'],\n",
       "       ['1946', '1946'],\n",
       "       ['1948', '1948'],\n",
       "       ['1927', '1927'],\n",
       "       ['1843', '1843'],\n",
       "       ['1842', '1842'],\n",
       "       ['unknown', 'exact year unknown (but old find) '],\n",
       "       ['1835', '1835'],\n",
       "       ['1940', '1940'],\n",
       "       ['1879', '1879'],\n",
       "       ['1878', '1878'],\n",
       "       ['1942', '1942'],\n",
       "       ['1859', '1859'],\n",
       "       ['1887', '1887'],\n",
       "       ['1942', '1942'],\n",
       "       ['1797', '1797'],\n",
       "       ['1913', '1913'],\n",
       "       ['1883', '1883'],\n",
       "       ['1886', '1886'],\n",
       "       ['1942', '1942'],\n",
       "       ['1952', '1952'],\n",
       "       ['1900', '1900'],\n",
       "       ['1857', '1857'],\n",
       "       ['1913', '1913'],\n",
       "       ['1946', '1946'],\n",
       "       ['1944', '1944'],\n",
       "       ['1943', '1943'],\n",
       "       ['1943', '1943'],\n",
       "       ['1943', '1943'],\n",
       "       ['unknown', 'unknown'],\n",
       "       ['1946', '1946'],\n",
       "       ['1947', '1947'],\n",
       "       ['2013', '2013?'],\n",
       "       ['1941', '1941'],\n",
       "       ['1947', '1947'],\n",
       "       ['1941', '1941'],\n",
       "       ['1941', '1941'],\n",
       "       ['unknown', 'unknown'],\n",
       "       ['1898', '1898'],\n",
       "       ['1943', '1943'],\n",
       "       ['1968', '1968'],\n",
       "       ['1947', '1947'],\n",
       "       ['1949', '1949'],\n",
       "       ['1940', '1940'],\n",
       "       ['1944', '1944'],\n",
       "       ['2008', '2008'],\n",
       "       ['1944', '1944'],\n",
       "       ['1928', '1928'],\n",
       "       ['1949', '1949'],\n",
       "       ['1946', '1946'],\n",
       "       ['1952', '1952'],\n",
       "       ['1941', '1941'],\n",
       "       ['1938', '1938'],\n",
       "       ['1949', '1949'],\n",
       "       ['1951', '1951'],\n",
       "       ['1937', '1937'],\n",
       "       ['1950', '1950'],\n",
       "       ['1966', '1966 or earlier'],\n",
       "       ['1947', '1947'],\n",
       "       ['NaN', 'unknown'],\n",
       "       ['NaN', 'unknown'],\n",
       "       ['1944', '1944'],\n",
       "       ['1959', '1959'],\n",
       "       ['1959', '1959'],\n",
       "       ['1674', '1674'],\n",
       "       ['1674', '1674'],\n",
       "       ['1849', '1849'],\n",
       "       ['1849', '1849'],\n",
       "       ['1826', '1826 or 1827'],\n",
       "       ['1901', '1901'],\n",
       "       ['1901', '1901'],\n",
       "       ['1901', '1901'],\n",
       "       ['1901', '1901'],\n",
       "       ['1904', '1904'],\n",
       "       ['1904', '1904'],\n",
       "       ['1949', '1949'],\n",
       "       ['1949', '1949'],\n",
       "       ['1984', '1984'],\n",
       "       ['1949', '1949'],\n",
       "       ['1949', '1949'],\n",
       "       ['1949', '1949'],\n",
       "       ['1947', '1947'],\n",
       "       ['1947', '1947'],\n",
       "       ['1949', '1949'],\n",
       "       ['1949', '1949'],\n",
       "       ['1946', '1946'],\n",
       "       ['1946', '1946'],\n",
       "       ['1942', '1942'],\n",
       "       ['1942', '1942'],\n",
       "       ['2009', '2009, 2012-14'],\n",
       "       ['1958', '1958'],\n",
       "       ['1958', '1958'],\n",
       "       ['1968', '1968'],\n",
       "       ['1968', '1968'],\n",
       "       ['1968', '1968'],\n",
       "       ['1971', '1971'],\n",
       "       ['1971', '1971'],\n",
       "       ['1971', '1971'],\n",
       "       ['1989', '1989'],\n",
       "       ['1989', '1989'],\n",
       "       ['1989', '1989'],\n",
       "       ['1898', '1898'],\n",
       "       ['unknown', 'before 1911'],\n",
       "       ['1901', '1901'],\n",
       "       ['1880', '1880'],\n",
       "       ['1866', '1866'],\n",
       "       ['1865', 'c. 1865'],\n",
       "       ['1991', '1991'],\n",
       "       ['1936', '1936'],\n",
       "       ['1952', '1952'],\n",
       "       ['1957', '1957-1967'],\n",
       "       ['1942', '1942-1943, 1946, 1955-1956, 1961, 1968, 1988-1989'],\n",
       "       ['1930', '1930'],\n",
       "       ['1930', '1930-1931'],\n",
       "       ['1930', '1930-1931'],\n",
       "       ['NaN', nan],\n",
       "       ['NaN', nan],\n",
       "       ['1903', '1903-1970'],\n",
       "       ['1970', '1970'],\n",
       "       ['1998', '1998'],\n",
       "       ['1998', '1998'],\n",
       "       ['1998', '1998'],\n",
       "       ['1998', '1998'],\n",
       "       ['1928', '1928, 1930, 1959-1964'],\n",
       "       ['1928', '1928, 1930, 1959-1964'],\n",
       "       ['1928', '1928, 1930, 1959-1964'],\n",
       "       ['1928', '1928, 1930, 1959-1964'],\n",
       "       ['1928', '1928, 1930, 1959-1964'],\n",
       "       ['1928', '1928, 1930, 1959-1964'],\n",
       "       ['1928', '1928, 1930, 1959-1964'],\n",
       "       ['1928', '1928, 1930, 1959-1964'],\n",
       "       ['1928', '1928, 1930, 1959-1964'],\n",
       "       ['1928', '1928, 1930, 1959-1964'],\n",
       "       ['1928', '1928, 1930, 1959-1964'],\n",
       "       ['1928', '1928, 1930, 1959-1964'],\n",
       "       ['1928', '1928, 1930, 1959-1964'],\n",
       "       ['NaN', nan],\n",
       "       ['NaN', nan],\n",
       "       ['NaN', nan],\n",
       "       ['1904', '1904'],\n",
       "       ['1904', '1904'],\n",
       "       ['1918', '1918, 1927'],\n",
       "       ['1918', '1918, 1927'],\n",
       "       ['1918', '1918, 1927'],\n",
       "       ['1918', '1918, 1927'],\n",
       "       ['1918', '1918, 1927'],\n",
       "       ['1918', '1918, 1927'],\n",
       "       ['1918', '1918, 1927'],\n",
       "       ['2008', '2008-2009'],\n",
       "       ['2008', '2008-2009'],\n",
       "       ['1908', '1908-1930, 1956, 1976-1980.'],\n",
       "       ['1998', '1998'],\n",
       "       ['1924', '1924'],\n",
       "       ['NaN', nan],\n",
       "       ['1992', '1992'],\n",
       "       ['1938', '1938'],\n",
       "       ['1950', '1950'],\n",
       "       ['1891', '1891'],\n",
       "       ['1921', '1921'],\n",
       "       ['1960', '1960'],\n",
       "       ['1960', '1960'],\n",
       "       ['1921', '1921'],\n",
       "       ['1943', '1943'],\n",
       "       ['unknown', 'unknown'],\n",
       "       ['1945', '1945'],\n",
       "       ['1943', '1943'],\n",
       "       ['1940', '1940'],\n",
       "       ['1949', '1949'],\n",
       "       ['1943', '1943'],\n",
       "       ['1947', '1947'],\n",
       "       ['1858', '1858, 1859, 1863'],\n",
       "       ['1943', '1943, 1948'],\n",
       "       ['1930', '1930s, 1992, 1995'],\n",
       "       ['1945', '1945'],\n",
       "       ['1941', '1941-44'],\n",
       "       ['1941', '1941-44'],\n",
       "       ['1933', '1933'],\n",
       "       ['1845', '1845, 1893, various later finds'],\n",
       "       ['unknown', 'unknown'],\n",
       "       ['1942', '1942'],\n",
       "       ['1942', '1942'],\n",
       "       ['1943', '1943'],\n",
       "       ['1944', '1944'],\n",
       "       ['1945', '1945'],\n",
       "       ['1951', '1951'],\n",
       "       ['1945', '1945'],\n",
       "       ['1942', '1942'],\n",
       "       ['1944', '1944'],\n",
       "       ['1950', '1950-1956; 1975-1985'],\n",
       "       ['1950', '1950-1956; 1975-1985'],\n",
       "       ['1950', '1950-1956; 1975-1985'],\n",
       "       ['1950', '1950-1956; 1975-1985'],\n",
       "       ['1935', '1935-1937, 1967'],\n",
       "       ['1674', '1674, 1884-1886, 1912-1913, 1982-1984 '],\n",
       "       ['1990', '1990']], dtype=object)"
      ]
     },
     "execution_count": 24,
     "metadata": {},
     "output_type": "execute_result"
    }
   ],
   "source": [
    "find_year=list()\n",
    "for i in bog_mummies['Find year']:\n",
    "    chatgpt_response = client.chat.completions.create(\n",
    "        model=\"gpt-4-1106-preview\", \n",
    "        messages=[\n",
    "            {\"role\": \"system\", \"content\": \"\"\"You are an LLM that understands numbers and years. Furthermore, you can recognise when year range is given instead of a single year. If you are unsure, provide 'unknown' as an answer.\"\"\"},\n",
    "            {\"role\": \"user\", \"content\": f\" You are provided a string {i}, output the earliest year found in this string. If NaN is provided, return NaN. Provide a single number as answer.\"}\n",
    "        ],\n",
    "        max_tokens=4096\n",
    "    )\n",
    "    chatgpt_response_message = chatgpt_response.choices[0].message.content\n",
    "    find_year.append(chatgpt_response_message)\n",
    "bog_mummies['earliest_year']=find_year\n",
    "bog_mummies[['earliest_year','Find year']].values"
   ]
  },
  {
   "cell_type": "code",
   "execution_count": 25,
   "id": "fde1ac7c",
   "metadata": {},
   "outputs": [
    {
     "data": {
      "application/vnd.plotly.v1+json": {
       "config": {
        "plotlyServerURL": "https://plot.ly"
       },
       "data": [
        {
         "alignmentgroup": "True",
         "hovertemplate": "Year of Discovery=%{x}<br>Number of Discoveries=%{y}<extra></extra>",
         "legendgroup": "",
         "marker": {
          "color": [
           "rgb(3, 35, 51)",
           "rgb(3, 35, 51)",
           "rgb(13, 48, 100)",
           "rgb(13, 48, 100)",
           "rgb(53, 50, 155)",
           "rgb(53, 50, 155)",
           "rgb(93, 62, 153)",
           "rgb(93, 62, 153)",
           "rgb(126, 77, 143)",
           "rgb(126, 77, 143)",
           "rgb(158, 89, 135)",
           "rgb(193, 100, 121)",
           "rgb(193, 100, 121)",
           "rgb(225, 113, 97)",
           "rgb(225, 113, 97)",
           "rgb(246, 139, 69)",
           "rgb(246, 139, 69)",
           "rgb(251, 173, 60)",
           "rgb(251, 173, 60)",
           "rgb(246, 211, 70)"
          ],
          "pattern": {
           "shape": ""
          }
         },
         "name": "",
         "offsetgroup": "",
         "orientation": "v",
         "showlegend": false,
         "textposition": "auto",
         "type": "bar",
         "x": [
          1690.95,
          1724.85,
          1758.75,
          1707.9,
          1775.7,
          1792.65,
          1741.8,
          1674,
          1826.55,
          1809.6,
          1860.45,
          1843.5,
          1979.1,
          1877.4,
          1962.15,
          1996.05,
          1894.35,
          1911.3,
          1945.2,
          1928.25
         ],
         "xaxis": "x",
         "y": [
          0,
          0,
          0,
          1,
          1,
          1,
          2,
          3,
          6,
          6,
          8,
          9,
          14,
          15,
          19,
          21,
          24,
          36,
          69,
          70
         ],
         "yaxis": "y"
        }
       ],
       "layout": {
        "barmode": "relative",
        "legend": {
         "tracegroupgap": 0
        },
        "template": {
         "data": {
          "bar": [
           {
            "error_x": {
             "color": "#2a3f5f"
            },
            "error_y": {
             "color": "#2a3f5f"
            },
            "marker": {
             "line": {
              "color": "#E5ECF6",
              "width": 0.5
             },
             "pattern": {
              "fillmode": "overlay",
              "size": 10,
              "solidity": 0.2
             }
            },
            "type": "bar"
           }
          ],
          "barpolar": [
           {
            "marker": {
             "line": {
              "color": "#E5ECF6",
              "width": 0.5
             },
             "pattern": {
              "fillmode": "overlay",
              "size": 10,
              "solidity": 0.2
             }
            },
            "type": "barpolar"
           }
          ],
          "carpet": [
           {
            "aaxis": {
             "endlinecolor": "#2a3f5f",
             "gridcolor": "white",
             "linecolor": "white",
             "minorgridcolor": "white",
             "startlinecolor": "#2a3f5f"
            },
            "baxis": {
             "endlinecolor": "#2a3f5f",
             "gridcolor": "white",
             "linecolor": "white",
             "minorgridcolor": "white",
             "startlinecolor": "#2a3f5f"
            },
            "type": "carpet"
           }
          ],
          "choropleth": [
           {
            "colorbar": {
             "outlinewidth": 0,
             "ticks": ""
            },
            "type": "choropleth"
           }
          ],
          "contour": [
           {
            "colorbar": {
             "outlinewidth": 0,
             "ticks": ""
            },
            "colorscale": [
             [
              0,
              "#0d0887"
             ],
             [
              0.1111111111111111,
              "#46039f"
             ],
             [
              0.2222222222222222,
              "#7201a8"
             ],
             [
              0.3333333333333333,
              "#9c179e"
             ],
             [
              0.4444444444444444,
              "#bd3786"
             ],
             [
              0.5555555555555556,
              "#d8576b"
             ],
             [
              0.6666666666666666,
              "#ed7953"
             ],
             [
              0.7777777777777778,
              "#fb9f3a"
             ],
             [
              0.8888888888888888,
              "#fdca26"
             ],
             [
              1,
              "#f0f921"
             ]
            ],
            "type": "contour"
           }
          ],
          "contourcarpet": [
           {
            "colorbar": {
             "outlinewidth": 0,
             "ticks": ""
            },
            "type": "contourcarpet"
           }
          ],
          "heatmap": [
           {
            "colorbar": {
             "outlinewidth": 0,
             "ticks": ""
            },
            "colorscale": [
             [
              0,
              "#0d0887"
             ],
             [
              0.1111111111111111,
              "#46039f"
             ],
             [
              0.2222222222222222,
              "#7201a8"
             ],
             [
              0.3333333333333333,
              "#9c179e"
             ],
             [
              0.4444444444444444,
              "#bd3786"
             ],
             [
              0.5555555555555556,
              "#d8576b"
             ],
             [
              0.6666666666666666,
              "#ed7953"
             ],
             [
              0.7777777777777778,
              "#fb9f3a"
             ],
             [
              0.8888888888888888,
              "#fdca26"
             ],
             [
              1,
              "#f0f921"
             ]
            ],
            "type": "heatmap"
           }
          ],
          "heatmapgl": [
           {
            "colorbar": {
             "outlinewidth": 0,
             "ticks": ""
            },
            "colorscale": [
             [
              0,
              "#0d0887"
             ],
             [
              0.1111111111111111,
              "#46039f"
             ],
             [
              0.2222222222222222,
              "#7201a8"
             ],
             [
              0.3333333333333333,
              "#9c179e"
             ],
             [
              0.4444444444444444,
              "#bd3786"
             ],
             [
              0.5555555555555556,
              "#d8576b"
             ],
             [
              0.6666666666666666,
              "#ed7953"
             ],
             [
              0.7777777777777778,
              "#fb9f3a"
             ],
             [
              0.8888888888888888,
              "#fdca26"
             ],
             [
              1,
              "#f0f921"
             ]
            ],
            "type": "heatmapgl"
           }
          ],
          "histogram": [
           {
            "marker": {
             "pattern": {
              "fillmode": "overlay",
              "size": 10,
              "solidity": 0.2
             }
            },
            "type": "histogram"
           }
          ],
          "histogram2d": [
           {
            "colorbar": {
             "outlinewidth": 0,
             "ticks": ""
            },
            "colorscale": [
             [
              0,
              "#0d0887"
             ],
             [
              0.1111111111111111,
              "#46039f"
             ],
             [
              0.2222222222222222,
              "#7201a8"
             ],
             [
              0.3333333333333333,
              "#9c179e"
             ],
             [
              0.4444444444444444,
              "#bd3786"
             ],
             [
              0.5555555555555556,
              "#d8576b"
             ],
             [
              0.6666666666666666,
              "#ed7953"
             ],
             [
              0.7777777777777778,
              "#fb9f3a"
             ],
             [
              0.8888888888888888,
              "#fdca26"
             ],
             [
              1,
              "#f0f921"
             ]
            ],
            "type": "histogram2d"
           }
          ],
          "histogram2dcontour": [
           {
            "colorbar": {
             "outlinewidth": 0,
             "ticks": ""
            },
            "colorscale": [
             [
              0,
              "#0d0887"
             ],
             [
              0.1111111111111111,
              "#46039f"
             ],
             [
              0.2222222222222222,
              "#7201a8"
             ],
             [
              0.3333333333333333,
              "#9c179e"
             ],
             [
              0.4444444444444444,
              "#bd3786"
             ],
             [
              0.5555555555555556,
              "#d8576b"
             ],
             [
              0.6666666666666666,
              "#ed7953"
             ],
             [
              0.7777777777777778,
              "#fb9f3a"
             ],
             [
              0.8888888888888888,
              "#fdca26"
             ],
             [
              1,
              "#f0f921"
             ]
            ],
            "type": "histogram2dcontour"
           }
          ],
          "mesh3d": [
           {
            "colorbar": {
             "outlinewidth": 0,
             "ticks": ""
            },
            "type": "mesh3d"
           }
          ],
          "parcoords": [
           {
            "line": {
             "colorbar": {
              "outlinewidth": 0,
              "ticks": ""
             }
            },
            "type": "parcoords"
           }
          ],
          "pie": [
           {
            "automargin": true,
            "type": "pie"
           }
          ],
          "scatter": [
           {
            "fillpattern": {
             "fillmode": "overlay",
             "size": 10,
             "solidity": 0.2
            },
            "type": "scatter"
           }
          ],
          "scatter3d": [
           {
            "line": {
             "colorbar": {
              "outlinewidth": 0,
              "ticks": ""
             }
            },
            "marker": {
             "colorbar": {
              "outlinewidth": 0,
              "ticks": ""
             }
            },
            "type": "scatter3d"
           }
          ],
          "scattercarpet": [
           {
            "marker": {
             "colorbar": {
              "outlinewidth": 0,
              "ticks": ""
             }
            },
            "type": "scattercarpet"
           }
          ],
          "scattergeo": [
           {
            "marker": {
             "colorbar": {
              "outlinewidth": 0,
              "ticks": ""
             }
            },
            "type": "scattergeo"
           }
          ],
          "scattergl": [
           {
            "marker": {
             "colorbar": {
              "outlinewidth": 0,
              "ticks": ""
             }
            },
            "type": "scattergl"
           }
          ],
          "scattermapbox": [
           {
            "marker": {
             "colorbar": {
              "outlinewidth": 0,
              "ticks": ""
             }
            },
            "type": "scattermapbox"
           }
          ],
          "scatterpolar": [
           {
            "marker": {
             "colorbar": {
              "outlinewidth": 0,
              "ticks": ""
             }
            },
            "type": "scatterpolar"
           }
          ],
          "scatterpolargl": [
           {
            "marker": {
             "colorbar": {
              "outlinewidth": 0,
              "ticks": ""
             }
            },
            "type": "scatterpolargl"
           }
          ],
          "scatterternary": [
           {
            "marker": {
             "colorbar": {
              "outlinewidth": 0,
              "ticks": ""
             }
            },
            "type": "scatterternary"
           }
          ],
          "surface": [
           {
            "colorbar": {
             "outlinewidth": 0,
             "ticks": ""
            },
            "colorscale": [
             [
              0,
              "#0d0887"
             ],
             [
              0.1111111111111111,
              "#46039f"
             ],
             [
              0.2222222222222222,
              "#7201a8"
             ],
             [
              0.3333333333333333,
              "#9c179e"
             ],
             [
              0.4444444444444444,
              "#bd3786"
             ],
             [
              0.5555555555555556,
              "#d8576b"
             ],
             [
              0.6666666666666666,
              "#ed7953"
             ],
             [
              0.7777777777777778,
              "#fb9f3a"
             ],
             [
              0.8888888888888888,
              "#fdca26"
             ],
             [
              1,
              "#f0f921"
             ]
            ],
            "type": "surface"
           }
          ],
          "table": [
           {
            "cells": {
             "fill": {
              "color": "#EBF0F8"
             },
             "line": {
              "color": "white"
             }
            },
            "header": {
             "fill": {
              "color": "#C8D4E3"
             },
             "line": {
              "color": "white"
             }
            },
            "type": "table"
           }
          ]
         },
         "layout": {
          "annotationdefaults": {
           "arrowcolor": "#2a3f5f",
           "arrowhead": 0,
           "arrowwidth": 1
          },
          "autotypenumbers": "strict",
          "coloraxis": {
           "colorbar": {
            "outlinewidth": 0,
            "ticks": ""
           }
          },
          "colorscale": {
           "diverging": [
            [
             0,
             "#8e0152"
            ],
            [
             0.1,
             "#c51b7d"
            ],
            [
             0.2,
             "#de77ae"
            ],
            [
             0.3,
             "#f1b6da"
            ],
            [
             0.4,
             "#fde0ef"
            ],
            [
             0.5,
             "#f7f7f7"
            ],
            [
             0.6,
             "#e6f5d0"
            ],
            [
             0.7,
             "#b8e186"
            ],
            [
             0.8,
             "#7fbc41"
            ],
            [
             0.9,
             "#4d9221"
            ],
            [
             1,
             "#276419"
            ]
           ],
           "sequential": [
            [
             0,
             "#0d0887"
            ],
            [
             0.1111111111111111,
             "#46039f"
            ],
            [
             0.2222222222222222,
             "#7201a8"
            ],
            [
             0.3333333333333333,
             "#9c179e"
            ],
            [
             0.4444444444444444,
             "#bd3786"
            ],
            [
             0.5555555555555556,
             "#d8576b"
            ],
            [
             0.6666666666666666,
             "#ed7953"
            ],
            [
             0.7777777777777778,
             "#fb9f3a"
            ],
            [
             0.8888888888888888,
             "#fdca26"
            ],
            [
             1,
             "#f0f921"
            ]
           ],
           "sequentialminus": [
            [
             0,
             "#0d0887"
            ],
            [
             0.1111111111111111,
             "#46039f"
            ],
            [
             0.2222222222222222,
             "#7201a8"
            ],
            [
             0.3333333333333333,
             "#9c179e"
            ],
            [
             0.4444444444444444,
             "#bd3786"
            ],
            [
             0.5555555555555556,
             "#d8576b"
            ],
            [
             0.6666666666666666,
             "#ed7953"
            ],
            [
             0.7777777777777778,
             "#fb9f3a"
            ],
            [
             0.8888888888888888,
             "#fdca26"
            ],
            [
             1,
             "#f0f921"
            ]
           ]
          },
          "colorway": [
           "#636efa",
           "#EF553B",
           "#00cc96",
           "#ab63fa",
           "#FFA15A",
           "#19d3f3",
           "#FF6692",
           "#B6E880",
           "#FF97FF",
           "#FECB52"
          ],
          "font": {
           "color": "#2a3f5f"
          },
          "geo": {
           "bgcolor": "white",
           "lakecolor": "white",
           "landcolor": "#E5ECF6",
           "showlakes": true,
           "showland": true,
           "subunitcolor": "white"
          },
          "hoverlabel": {
           "align": "left"
          },
          "hovermode": "closest",
          "mapbox": {
           "style": "light"
          },
          "paper_bgcolor": "white",
          "plot_bgcolor": "#E5ECF6",
          "polar": {
           "angularaxis": {
            "gridcolor": "white",
            "linecolor": "white",
            "ticks": ""
           },
           "bgcolor": "#E5ECF6",
           "radialaxis": {
            "gridcolor": "white",
            "linecolor": "white",
            "ticks": ""
           }
          },
          "scene": {
           "xaxis": {
            "backgroundcolor": "#E5ECF6",
            "gridcolor": "white",
            "gridwidth": 2,
            "linecolor": "white",
            "showbackground": true,
            "ticks": "",
            "zerolinecolor": "white"
           },
           "yaxis": {
            "backgroundcolor": "#E5ECF6",
            "gridcolor": "white",
            "gridwidth": 2,
            "linecolor": "white",
            "showbackground": true,
            "ticks": "",
            "zerolinecolor": "white"
           },
           "zaxis": {
            "backgroundcolor": "#E5ECF6",
            "gridcolor": "white",
            "gridwidth": 2,
            "linecolor": "white",
            "showbackground": true,
            "ticks": "",
            "zerolinecolor": "white"
           }
          },
          "shapedefaults": {
           "line": {
            "color": "#2a3f5f"
           }
          },
          "ternary": {
           "aaxis": {
            "gridcolor": "white",
            "linecolor": "white",
            "ticks": ""
           },
           "baxis": {
            "gridcolor": "white",
            "linecolor": "white",
            "ticks": ""
           },
           "bgcolor": "#E5ECF6",
           "caxis": {
            "gridcolor": "white",
            "linecolor": "white",
            "ticks": ""
           }
          },
          "title": {
           "x": 0.05
          },
          "xaxis": {
           "automargin": true,
           "gridcolor": "white",
           "linecolor": "white",
           "ticks": "",
           "title": {
            "standoff": 15
           },
           "zerolinecolor": "white",
           "zerolinewidth": 2
          },
          "yaxis": {
           "automargin": true,
           "gridcolor": "white",
           "linecolor": "white",
           "ticks": "",
           "title": {
            "standoff": 15
           },
           "zerolinecolor": "white",
           "zerolinewidth": 2
          }
         }
        },
        "title": {
         "text": "Years of Bog Bodies Discoveries"
        },
        "xaxis": {
         "anchor": "y",
         "domain": [
          0,
          1
         ],
         "title": {
          "text": "Year of Discovery"
         }
        },
        "yaxis": {
         "anchor": "x",
         "domain": [
          0,
          1
         ],
         "title": {
          "text": "Number of Discoveries"
         }
        }
       }
      },
      "text/html": [
       "<div>                            <div id=\"dcc8fd1d-ec01-4875-b790-a7d408fe0492\" class=\"plotly-graph-div\" style=\"height:525px; width:100%;\"></div>            <script type=\"text/javascript\">                require([\"plotly\"], function(Plotly) {                    window.PLOTLYENV=window.PLOTLYENV || {};                                    if (document.getElementById(\"dcc8fd1d-ec01-4875-b790-a7d408fe0492\")) {                    Plotly.newPlot(                        \"dcc8fd1d-ec01-4875-b790-a7d408fe0492\",                        [{\"alignmentgroup\":\"True\",\"hovertemplate\":\"Year of Discovery=%{x}<br>Number of Discoveries=%{y}<extra></extra>\",\"legendgroup\":\"\",\"marker\":{\"color\":[\"rgb(3, 35, 51)\",\"rgb(3, 35, 51)\",\"rgb(13, 48, 100)\",\"rgb(13, 48, 100)\",\"rgb(53, 50, 155)\",\"rgb(53, 50, 155)\",\"rgb(93, 62, 153)\",\"rgb(93, 62, 153)\",\"rgb(126, 77, 143)\",\"rgb(126, 77, 143)\",\"rgb(158, 89, 135)\",\"rgb(193, 100, 121)\",\"rgb(193, 100, 121)\",\"rgb(225, 113, 97)\",\"rgb(225, 113, 97)\",\"rgb(246, 139, 69)\",\"rgb(246, 139, 69)\",\"rgb(251, 173, 60)\",\"rgb(251, 173, 60)\",\"rgb(246, 211, 70)\"],\"pattern\":{\"shape\":\"\"}},\"name\":\"\",\"offsetgroup\":\"\",\"orientation\":\"v\",\"showlegend\":false,\"textposition\":\"auto\",\"x\":[1690.95,1724.85,1758.75,1707.9,1775.7,1792.65,1741.8,1674.0,1826.55,1809.6,1860.45,1843.5,1979.1,1877.4,1962.15,1996.05,1894.35,1911.3,1945.2,1928.25],\"xaxis\":\"x\",\"y\":[0,0,0,1,1,1,2,3,6,6,8,9,14,15,19,21,24,36,69,70],\"yaxis\":\"y\",\"type\":\"bar\"}],                        {\"template\":{\"data\":{\"histogram2dcontour\":[{\"type\":\"histogram2dcontour\",\"colorbar\":{\"outlinewidth\":0,\"ticks\":\"\"},\"colorscale\":[[0.0,\"#0d0887\"],[0.1111111111111111,\"#46039f\"],[0.2222222222222222,\"#7201a8\"],[0.3333333333333333,\"#9c179e\"],[0.4444444444444444,\"#bd3786\"],[0.5555555555555556,\"#d8576b\"],[0.6666666666666666,\"#ed7953\"],[0.7777777777777778,\"#fb9f3a\"],[0.8888888888888888,\"#fdca26\"],[1.0,\"#f0f921\"]]}],\"choropleth\":[{\"type\":\"choropleth\",\"colorbar\":{\"outlinewidth\":0,\"ticks\":\"\"}}],\"histogram2d\":[{\"type\":\"histogram2d\",\"colorbar\":{\"outlinewidth\":0,\"ticks\":\"\"},\"colorscale\":[[0.0,\"#0d0887\"],[0.1111111111111111,\"#46039f\"],[0.2222222222222222,\"#7201a8\"],[0.3333333333333333,\"#9c179e\"],[0.4444444444444444,\"#bd3786\"],[0.5555555555555556,\"#d8576b\"],[0.6666666666666666,\"#ed7953\"],[0.7777777777777778,\"#fb9f3a\"],[0.8888888888888888,\"#fdca26\"],[1.0,\"#f0f921\"]]}],\"heatmap\":[{\"type\":\"heatmap\",\"colorbar\":{\"outlinewidth\":0,\"ticks\":\"\"},\"colorscale\":[[0.0,\"#0d0887\"],[0.1111111111111111,\"#46039f\"],[0.2222222222222222,\"#7201a8\"],[0.3333333333333333,\"#9c179e\"],[0.4444444444444444,\"#bd3786\"],[0.5555555555555556,\"#d8576b\"],[0.6666666666666666,\"#ed7953\"],[0.7777777777777778,\"#fb9f3a\"],[0.8888888888888888,\"#fdca26\"],[1.0,\"#f0f921\"]]}],\"heatmapgl\":[{\"type\":\"heatmapgl\",\"colorbar\":{\"outlinewidth\":0,\"ticks\":\"\"},\"colorscale\":[[0.0,\"#0d0887\"],[0.1111111111111111,\"#46039f\"],[0.2222222222222222,\"#7201a8\"],[0.3333333333333333,\"#9c179e\"],[0.4444444444444444,\"#bd3786\"],[0.5555555555555556,\"#d8576b\"],[0.6666666666666666,\"#ed7953\"],[0.7777777777777778,\"#fb9f3a\"],[0.8888888888888888,\"#fdca26\"],[1.0,\"#f0f921\"]]}],\"contourcarpet\":[{\"type\":\"contourcarpet\",\"colorbar\":{\"outlinewidth\":0,\"ticks\":\"\"}}],\"contour\":[{\"type\":\"contour\",\"colorbar\":{\"outlinewidth\":0,\"ticks\":\"\"},\"colorscale\":[[0.0,\"#0d0887\"],[0.1111111111111111,\"#46039f\"],[0.2222222222222222,\"#7201a8\"],[0.3333333333333333,\"#9c179e\"],[0.4444444444444444,\"#bd3786\"],[0.5555555555555556,\"#d8576b\"],[0.6666666666666666,\"#ed7953\"],[0.7777777777777778,\"#fb9f3a\"],[0.8888888888888888,\"#fdca26\"],[1.0,\"#f0f921\"]]}],\"surface\":[{\"type\":\"surface\",\"colorbar\":{\"outlinewidth\":0,\"ticks\":\"\"},\"colorscale\":[[0.0,\"#0d0887\"],[0.1111111111111111,\"#46039f\"],[0.2222222222222222,\"#7201a8\"],[0.3333333333333333,\"#9c179e\"],[0.4444444444444444,\"#bd3786\"],[0.5555555555555556,\"#d8576b\"],[0.6666666666666666,\"#ed7953\"],[0.7777777777777778,\"#fb9f3a\"],[0.8888888888888888,\"#fdca26\"],[1.0,\"#f0f921\"]]}],\"mesh3d\":[{\"type\":\"mesh3d\",\"colorbar\":{\"outlinewidth\":0,\"ticks\":\"\"}}],\"scatter\":[{\"fillpattern\":{\"fillmode\":\"overlay\",\"size\":10,\"solidity\":0.2},\"type\":\"scatter\"}],\"parcoords\":[{\"type\":\"parcoords\",\"line\":{\"colorbar\":{\"outlinewidth\":0,\"ticks\":\"\"}}}],\"scatterpolargl\":[{\"type\":\"scatterpolargl\",\"marker\":{\"colorbar\":{\"outlinewidth\":0,\"ticks\":\"\"}}}],\"bar\":[{\"error_x\":{\"color\":\"#2a3f5f\"},\"error_y\":{\"color\":\"#2a3f5f\"},\"marker\":{\"line\":{\"color\":\"#E5ECF6\",\"width\":0.5},\"pattern\":{\"fillmode\":\"overlay\",\"size\":10,\"solidity\":0.2}},\"type\":\"bar\"}],\"scattergeo\":[{\"type\":\"scattergeo\",\"marker\":{\"colorbar\":{\"outlinewidth\":0,\"ticks\":\"\"}}}],\"scatterpolar\":[{\"type\":\"scatterpolar\",\"marker\":{\"colorbar\":{\"outlinewidth\":0,\"ticks\":\"\"}}}],\"histogram\":[{\"marker\":{\"pattern\":{\"fillmode\":\"overlay\",\"size\":10,\"solidity\":0.2}},\"type\":\"histogram\"}],\"scattergl\":[{\"type\":\"scattergl\",\"marker\":{\"colorbar\":{\"outlinewidth\":0,\"ticks\":\"\"}}}],\"scatter3d\":[{\"type\":\"scatter3d\",\"line\":{\"colorbar\":{\"outlinewidth\":0,\"ticks\":\"\"}},\"marker\":{\"colorbar\":{\"outlinewidth\":0,\"ticks\":\"\"}}}],\"scattermapbox\":[{\"type\":\"scattermapbox\",\"marker\":{\"colorbar\":{\"outlinewidth\":0,\"ticks\":\"\"}}}],\"scatterternary\":[{\"type\":\"scatterternary\",\"marker\":{\"colorbar\":{\"outlinewidth\":0,\"ticks\":\"\"}}}],\"scattercarpet\":[{\"type\":\"scattercarpet\",\"marker\":{\"colorbar\":{\"outlinewidth\":0,\"ticks\":\"\"}}}],\"carpet\":[{\"aaxis\":{\"endlinecolor\":\"#2a3f5f\",\"gridcolor\":\"white\",\"linecolor\":\"white\",\"minorgridcolor\":\"white\",\"startlinecolor\":\"#2a3f5f\"},\"baxis\":{\"endlinecolor\":\"#2a3f5f\",\"gridcolor\":\"white\",\"linecolor\":\"white\",\"minorgridcolor\":\"white\",\"startlinecolor\":\"#2a3f5f\"},\"type\":\"carpet\"}],\"table\":[{\"cells\":{\"fill\":{\"color\":\"#EBF0F8\"},\"line\":{\"color\":\"white\"}},\"header\":{\"fill\":{\"color\":\"#C8D4E3\"},\"line\":{\"color\":\"white\"}},\"type\":\"table\"}],\"barpolar\":[{\"marker\":{\"line\":{\"color\":\"#E5ECF6\",\"width\":0.5},\"pattern\":{\"fillmode\":\"overlay\",\"size\":10,\"solidity\":0.2}},\"type\":\"barpolar\"}],\"pie\":[{\"automargin\":true,\"type\":\"pie\"}]},\"layout\":{\"autotypenumbers\":\"strict\",\"colorway\":[\"#636efa\",\"#EF553B\",\"#00cc96\",\"#ab63fa\",\"#FFA15A\",\"#19d3f3\",\"#FF6692\",\"#B6E880\",\"#FF97FF\",\"#FECB52\"],\"font\":{\"color\":\"#2a3f5f\"},\"hovermode\":\"closest\",\"hoverlabel\":{\"align\":\"left\"},\"paper_bgcolor\":\"white\",\"plot_bgcolor\":\"#E5ECF6\",\"polar\":{\"bgcolor\":\"#E5ECF6\",\"angularaxis\":{\"gridcolor\":\"white\",\"linecolor\":\"white\",\"ticks\":\"\"},\"radialaxis\":{\"gridcolor\":\"white\",\"linecolor\":\"white\",\"ticks\":\"\"}},\"ternary\":{\"bgcolor\":\"#E5ECF6\",\"aaxis\":{\"gridcolor\":\"white\",\"linecolor\":\"white\",\"ticks\":\"\"},\"baxis\":{\"gridcolor\":\"white\",\"linecolor\":\"white\",\"ticks\":\"\"},\"caxis\":{\"gridcolor\":\"white\",\"linecolor\":\"white\",\"ticks\":\"\"}},\"coloraxis\":{\"colorbar\":{\"outlinewidth\":0,\"ticks\":\"\"}},\"colorscale\":{\"sequential\":[[0.0,\"#0d0887\"],[0.1111111111111111,\"#46039f\"],[0.2222222222222222,\"#7201a8\"],[0.3333333333333333,\"#9c179e\"],[0.4444444444444444,\"#bd3786\"],[0.5555555555555556,\"#d8576b\"],[0.6666666666666666,\"#ed7953\"],[0.7777777777777778,\"#fb9f3a\"],[0.8888888888888888,\"#fdca26\"],[1.0,\"#f0f921\"]],\"sequentialminus\":[[0.0,\"#0d0887\"],[0.1111111111111111,\"#46039f\"],[0.2222222222222222,\"#7201a8\"],[0.3333333333333333,\"#9c179e\"],[0.4444444444444444,\"#bd3786\"],[0.5555555555555556,\"#d8576b\"],[0.6666666666666666,\"#ed7953\"],[0.7777777777777778,\"#fb9f3a\"],[0.8888888888888888,\"#fdca26\"],[1.0,\"#f0f921\"]],\"diverging\":[[0,\"#8e0152\"],[0.1,\"#c51b7d\"],[0.2,\"#de77ae\"],[0.3,\"#f1b6da\"],[0.4,\"#fde0ef\"],[0.5,\"#f7f7f7\"],[0.6,\"#e6f5d0\"],[0.7,\"#b8e186\"],[0.8,\"#7fbc41\"],[0.9,\"#4d9221\"],[1,\"#276419\"]]},\"xaxis\":{\"gridcolor\":\"white\",\"linecolor\":\"white\",\"ticks\":\"\",\"title\":{\"standoff\":15},\"zerolinecolor\":\"white\",\"automargin\":true,\"zerolinewidth\":2},\"yaxis\":{\"gridcolor\":\"white\",\"linecolor\":\"white\",\"ticks\":\"\",\"title\":{\"standoff\":15},\"zerolinecolor\":\"white\",\"automargin\":true,\"zerolinewidth\":2},\"scene\":{\"xaxis\":{\"backgroundcolor\":\"#E5ECF6\",\"gridcolor\":\"white\",\"linecolor\":\"white\",\"showbackground\":true,\"ticks\":\"\",\"zerolinecolor\":\"white\",\"gridwidth\":2},\"yaxis\":{\"backgroundcolor\":\"#E5ECF6\",\"gridcolor\":\"white\",\"linecolor\":\"white\",\"showbackground\":true,\"ticks\":\"\",\"zerolinecolor\":\"white\",\"gridwidth\":2},\"zaxis\":{\"backgroundcolor\":\"#E5ECF6\",\"gridcolor\":\"white\",\"linecolor\":\"white\",\"showbackground\":true,\"ticks\":\"\",\"zerolinecolor\":\"white\",\"gridwidth\":2}},\"shapedefaults\":{\"line\":{\"color\":\"#2a3f5f\"}},\"annotationdefaults\":{\"arrowcolor\":\"#2a3f5f\",\"arrowhead\":0,\"arrowwidth\":1},\"geo\":{\"bgcolor\":\"white\",\"landcolor\":\"#E5ECF6\",\"subunitcolor\":\"white\",\"showland\":true,\"showlakes\":true,\"lakecolor\":\"white\"},\"title\":{\"x\":0.05},\"mapbox\":{\"style\":\"light\"}}},\"xaxis\":{\"anchor\":\"y\",\"domain\":[0.0,1.0],\"title\":{\"text\":\"Year of Discovery\"}},\"yaxis\":{\"anchor\":\"x\",\"domain\":[0.0,1.0],\"title\":{\"text\":\"Number of Discoveries\"}},\"legend\":{\"tracegroupgap\":0},\"title\":{\"text\":\"Years of Bog Bodies Discoveries\"},\"barmode\":\"relative\"},                        {\"responsive\": true}                    ).then(function(){\n",
       "                            \n",
       "var gd = document.getElementById('dcc8fd1d-ec01-4875-b790-a7d408fe0492');\n",
       "var x = new MutationObserver(function (mutations, observer) {{\n",
       "        var display = window.getComputedStyle(gd).display;\n",
       "        if (!display || display === 'none') {{\n",
       "            console.log([gd, 'removed!']);\n",
       "            Plotly.purge(gd);\n",
       "            observer.disconnect();\n",
       "        }}\n",
       "}});\n",
       "\n",
       "// Listen for the removal of the full notebook cells\n",
       "var notebookContainer = gd.closest('#notebook-container');\n",
       "if (notebookContainer) {{\n",
       "    x.observe(notebookContainer, {childList: true});\n",
       "}}\n",
       "\n",
       "// Listen for the clearing of the current output cell\n",
       "var outputEl = gd.closest('.output');\n",
       "if (outputEl) {{\n",
       "    x.observe(outputEl, {childList: true});\n",
       "}}\n",
       "\n",
       "                        })                };                });            </script>        </div>"
      ]
     },
     "metadata": {},
     "output_type": "display_data"
    }
   ],
   "source": [
    "bog_mummies['earliest_year'] = pd.to_numeric(bog_mummies['earliest_year'], errors='coerce')\n",
    "\n",
    "# Calculate histogram bins\n",
    "counts, bins = np.histogram(bog_mummies['earliest_year'].dropna(), bins=20)\n",
    "bins = bins[:-1]  # Remove last edge\n",
    "\n",
    "# Sort counts and corresponding bins\n",
    "sorted_indices = np.argsort(counts)\n",
    "sorted_counts = counts[sorted_indices]\n",
    "sorted_bins = bins[sorted_indices]\n",
    "\n",
    "# Thermal color scale\n",
    "thermal_scale = px.colors.sequential.thermal\n",
    "\n",
    "# Assign a color to each sorted bin\n",
    "colors = [thermal_scale[int(i / len(sorted_bins) * (len(thermal_scale) - 1))] for i in range(len(sorted_bins))]\n",
    "\n",
    "# Create a bar chart\n",
    "fig = px.bar(x=sorted_bins, y=sorted_counts, title='Years of Bog Bodies Discoveries',\n",
    "             labels={'x': 'Year of Discovery', 'y': 'Number of Discoveries'})\n",
    "\n",
    "# Apply colors to each bar\n",
    "fig.update_traces(marker_color=colors)\n",
    "\n",
    "# Show the plot\n",
    "fig.show()\n",
    "file_path = 'earliest_year_distribution.svg'\n",
    "pio.write_image(fig, file_path)"
   ]
  },
  {
   "cell_type": "code",
   "execution_count": 30,
   "id": "83f67a41",
   "metadata": {
    "collapsed": true
   },
   "outputs": [
    {
     "data": {
      "text/plain": [
       "array([['unknown', 'unknown'],\n",
       "       ['violent', 'violent (cutting/stabbing)'],\n",
       "       ['unknown', 'unknown'],\n",
       "       ['violent', 'violent (multiple)'],\n",
       "       ['violent', 'violent (blows to head)'],\n",
       "       ['unknown', 'unknown'],\n",
       "       ['suicide', 'violent (hanging/strangulation)'],\n",
       "       ['unknown', 'unknown'],\n",
       "       ['unknown', 'unknown'],\n",
       "       ['unknown', 'unknown'],\n",
       "       ['unknown', 'unknown'],\n",
       "       ['unknown', 'unknown'],\n",
       "       ['unknown', 'unknown'],\n",
       "       ['unknown', 'unknown'],\n",
       "       ['suicide', 'suicide'],\n",
       "       ['unknown', 'unknown'],\n",
       "       ['unknown', 'unknown'],\n",
       "       ['unknown', 'unknown'],\n",
       "       ['suicide', 'suicide'],\n",
       "       ['unknown', 'unknown'],\n",
       "       ['unknown', 'unknown'],\n",
       "       ['unknown', 'unknown'],\n",
       "       ['unknown', 'unknown'],\n",
       "       ['unknown', 'unknown'],\n",
       "       ['unknown', 'unknown'],\n",
       "       ['suicide', 'suicide'],\n",
       "       ['suicide', 'suicide'],\n",
       "       ['violent', 'violent (cutting/stabbing)'],\n",
       "       ['unknown', 'unknown'],\n",
       "       ['suicide', 'suicide'],\n",
       "       ['violent', 'violent (blows to head)'],\n",
       "       ['unknown', 'unknown'],\n",
       "       ['unknown', 'unknown'],\n",
       "       ['unknown', 'unknown'],\n",
       "       ['unknown', 'unknown'],\n",
       "       ['violent', 'violent (multiple)'],\n",
       "       ['unknown', 'unknown'],\n",
       "       ['unknown', 'unknown'],\n",
       "       ['unknown', 'unknown'],\n",
       "       ['unknown', 'unknown'],\n",
       "       ['unknown', 'unknown'],\n",
       "       ['unknown', 'unknown'],\n",
       "       ['unknown', 'unknown'],\n",
       "       ['suicide', 'violent (hanging/strangulation)'],\n",
       "       ['violent', 'violent (blows to head)'],\n",
       "       ['unknown', 'unknown'],\n",
       "       ['accident', 'accidental (drowning/freezing)'],\n",
       "       ['violent', 'violent (blows to head)'],\n",
       "       ['unknown', 'unknown'],\n",
       "       ['unknown', 'unknown'],\n",
       "       ['unknown', 'unknown'],\n",
       "       ['unknown', 'unknown'],\n",
       "       ['unknown', 'unknown'],\n",
       "       ['unknown', 'unknown'],\n",
       "       ['unknown', 'unknown'],\n",
       "       ['unknown', 'unknown'],\n",
       "       ['unknown', 'unknown'],\n",
       "       ['unknown', 'unknown'],\n",
       "       ['unknown', 'unknown'],\n",
       "       ['unknown', 'unknown'],\n",
       "       ['suicide', 'suicide'],\n",
       "       ['unknown', 'unknown'],\n",
       "       ['suicide', 'violent (hanging/strangulation)'],\n",
       "       ['unknown', 'unknown'],\n",
       "       ['unknown', 'unknown'],\n",
       "       ['unknown', 'unknown'],\n",
       "       ['unknown', 'unknown'],\n",
       "       ['unknown', 'unknown'],\n",
       "       ['unknown', 'unknown'],\n",
       "       ['unknown', 'unknown'],\n",
       "       ['unknown', 'unknown'],\n",
       "       ['unknown', 'unknown'],\n",
       "       ['unknown', 'unknown'],\n",
       "       ['unknown', 'unknown'],\n",
       "       ['violent', 'violent (cutting/stabbing)'],\n",
       "       ['unknown', 'unknown'],\n",
       "       ['natural', 'natural (disease)'],\n",
       "       ['violent', 'violent (cutting/stabbing)'],\n",
       "       ['unknown', 'unknown'],\n",
       "       ['unknown', 'unknown'],\n",
       "       ['unknown', 'unknown'],\n",
       "       ['unknown', 'unknown'],\n",
       "       ['unknown', 'unknown'],\n",
       "       ['unknown', 'unknown'],\n",
       "       ['accident', 'accidental (drowning/freezing)'],\n",
       "       ['violent', 'violent (blows to head)'],\n",
       "       ['unknown', 'unknown'],\n",
       "       ['violent', 'violent (cutting/stabbing)'],\n",
       "       ['unknown', 'unknown'],\n",
       "       ['unknown', 'unknown'],\n",
       "       ['violent', 'violent (multiple)'],\n",
       "       ['violent', 'violent (multiple)'],\n",
       "       ['unknown', 'unknown'],\n",
       "       ['unknown', 'unknown'],\n",
       "       ['unknown', 'unknown'],\n",
       "       ['unknown', 'unknown'],\n",
       "       ['unknown', 'unknown'],\n",
       "       ['unknown', 'unknown'],\n",
       "       ['unknown', 'unknown'],\n",
       "       ['unknown', 'unknown'],\n",
       "       ['unknown', 'unknown'],\n",
       "       ['unknown', 'unknown'],\n",
       "       ['natural', 'natural (disease)'],\n",
       "       ['unknown', 'unknown'],\n",
       "       ['unknown', 'unknown'],\n",
       "       ['unknown', 'unknown'],\n",
       "       ['unknown', 'unknown'],\n",
       "       ['unknown', 'unknown'],\n",
       "       ['unknown', 'unknown'],\n",
       "       ['unknown', 'unknown'],\n",
       "       ['violent', 'violent (blows to head)'],\n",
       "       ['unknown', 'unknown'],\n",
       "       ['unknown', 'unknown'],\n",
       "       ['unknown', 'unknown'],\n",
       "       ['unknown', 'unknown'],\n",
       "       ['violent', 'violent (blows to head)'],\n",
       "       ['unknown', 'unknown'],\n",
       "       ['unknown', 'unknown'],\n",
       "       ['violent', 'violent (multiple)'],\n",
       "       ['violent', 'violent (blows to head)'],\n",
       "       ['unknown', 'unknown'],\n",
       "       ['unknown', 'unknown'],\n",
       "       ['unknown', 'unknown'],\n",
       "       ['unknown', 'unknown'],\n",
       "       ['unknown', 'unknown'],\n",
       "       ['unknown', 'unknown'],\n",
       "       ['unknown', 'unknown'],\n",
       "       ['unknown', 'unknown'],\n",
       "       ['violent', 'violent (multiple)'],\n",
       "       ['unknown', 'unknown'],\n",
       "       ['unknown', 'unknown'],\n",
       "       ['unknown', 'unknown'],\n",
       "       ['unknown', 'unknown'],\n",
       "       ['violent', 'violent (blows to head)'],\n",
       "       ['unknown', 'unknown'],\n",
       "       ['suicide', 'violent (hanging/strangulation)'],\n",
       "       ['unknown', 'unknown'],\n",
       "       ['unknown', 'unknown'],\n",
       "       ['unknown', 'unknown'],\n",
       "       ['unknown', 'unknown'],\n",
       "       ['unknown', 'unknown'],\n",
       "       ['suicide', 'violent (hanging/strangulation)'],\n",
       "       ['unknown', 'unknown'],\n",
       "       ['violent', 'violent (cutting/stabbing)'],\n",
       "       ['unknown', 'unknown'],\n",
       "       ['violent', 'violent (decapitation)'],\n",
       "       ['violent', 'violent (decapitation)'],\n",
       "       ['unknown', 'unknown'],\n",
       "       ['unknown', 'unknown'],\n",
       "       ['unknown', 'unknown'],\n",
       "       ['unknown', 'unknown'],\n",
       "       ['unknown', 'unknown'],\n",
       "       ['unknown', 'unknown'],\n",
       "       ['unknown', 'unknown'],\n",
       "       ['violent', 'violent (cutting/stabbing)'],\n",
       "       ['unknown', 'unknown'],\n",
       "       ['unknown', 'unknown'],\n",
       "       ['unknown', 'unknown'],\n",
       "       ['unknown', 'unknown'],\n",
       "       ['unknown', 'unknown'],\n",
       "       ['unknown', 'unknown'],\n",
       "       ['unknown', 'unknown'],\n",
       "       ['unknown', 'unknown'],\n",
       "       ['unknown', 'unknown'],\n",
       "       ['violent', 'violent (shooting)'],\n",
       "       ['unknown', 'unknown'],\n",
       "       ['violent', 'violent (multiple)'],\n",
       "       ['violent', 'violent (blows to head)'],\n",
       "       ['unknown', 'unknown'],\n",
       "       ['unknown', 'unknown'],\n",
       "       ['unknown', 'unknown'],\n",
       "       ['unknown', 'unknown'],\n",
       "       ['unknown', 'unknown'],\n",
       "       ['unknown', 'unknown'],\n",
       "       ['unknown', 'unknown'],\n",
       "       ['unknown', 'unknown'],\n",
       "       ['unknown', 'unknown'],\n",
       "       ['unknown', 'unknown'],\n",
       "       ['unknown', 'unknown'],\n",
       "       ['unknown', 'unknown'],\n",
       "       ['unknown', 'unknown'],\n",
       "       ['unknown', 'unknown'],\n",
       "       ['unknown', 'unknown'],\n",
       "       ['unknown', 'unknown'],\n",
       "       ['unknown', 'unknown'],\n",
       "       ['unknown', 'unknown'],\n",
       "       ['unknown', 'unknown'],\n",
       "       ['unknown', 'unknown'],\n",
       "       ['unknown', 'unknown'],\n",
       "       ['unknown', 'unknown'],\n",
       "       ['unknown', 'unknown'],\n",
       "       ['unknown', 'unknown'],\n",
       "       ['unknown', 'unknown'],\n",
       "       ['unknown', 'unknown'],\n",
       "       ['unknown', 'unknown'],\n",
       "       ['unknown', 'unknown'],\n",
       "       ['unknown', 'unknown'],\n",
       "       ['unknown', 'unknown'],\n",
       "       ['accident', 'accidental (drowning/freezing)'],\n",
       "       ['accident', 'accidental (drowning/freezing)'],\n",
       "       ['unknown', 'unknown'],\n",
       "       ['unknown', 'unknown'],\n",
       "       ['violent', 'violent (shooting)'],\n",
       "       ['unknown', 'unknown'],\n",
       "       ['unknown', 'unknown'],\n",
       "       ['unknown', 'unknown'],\n",
       "       ['unknown', 'unknown'],\n",
       "       ['violent', 'violent (cutting/stabbing)'],\n",
       "       ['unknown', 'unknown'],\n",
       "       ['unknown', 'unknown'],\n",
       "       ['unknown', 'unknown'],\n",
       "       ['unknown', 'unknown'],\n",
       "       ['unknown', 'unknown'],\n",
       "       ['unknown', 'unknown'],\n",
       "       ['unknown', 'unknown'],\n",
       "       ['unknown', 'unknown'],\n",
       "       ['unknown', 'unknown'],\n",
       "       ['suicide', 'violent (hanging/strangulation)'],\n",
       "       ['unknown', 'unknown'],\n",
       "       ['unknown', 'unknown'],\n",
       "       ['suicide', 'violent (hanging/strangulation)'],\n",
       "       ['unknown', 'unknown'],\n",
       "       ['unknown', 'unknown'],\n",
       "       ['violent',\n",
       "        'violent; probably mainly blows to head and cutting/stabbing'],\n",
       "       ['unknown', 'unknown'],\n",
       "       ['unknown', 'unknown'],\n",
       "       ['unknown', 'unknown'],\n",
       "       ['unknown', 'unknown'],\n",
       "       ['unknown', 'unknown'],\n",
       "       ['unknown', 'unknown'],\n",
       "       ['unknown', 'unknown'],\n",
       "       ['unknown', 'unknown'],\n",
       "       ['unknown', 'unknown'],\n",
       "       ['unknown', 'unknown'],\n",
       "       ['unknown', 'unknown'],\n",
       "       ['unknown', 'unknown'],\n",
       "       ['unknown', 'unknown'],\n",
       "       ['unknown', 'unknown'],\n",
       "       ['unknown', 'unknown'],\n",
       "       ['unknown', 'unknown'],\n",
       "       ['unknown', 'unknown'],\n",
       "       ['unknown', 'unknown'],\n",
       "       ['unknown', 'unknown'],\n",
       "       ['unknown', 'unknown'],\n",
       "       ['mixed', 'mixed (at least partly violent)'],\n",
       "       ['Understood. Please provide the string describing the cause of death, and I will generate the output with the reason of death in one word as per your instructions.',\n",
       "        \"no detailed data (but this seems to be a 'normal' cemetery)\"],\n",
       "       ['violent', 'violent (blows to head)'],\n",
       "       ['unknown', 'unknown'],\n",
       "       ['unknown', 'unknown'],\n",
       "       ['unknown', 'unknown'],\n",
       "       ['unknown', 'unknown'],\n",
       "       ['Understood. Please provide the string describing the cause of death, and I will generate the output with the reason of death in one word.',\n",
       "        \"no detailed data (but this seems to be a 'normal' cemetery)\"],\n",
       "       ['unknown', 'unknown'],\n",
       "       ['unknown', 'unknown'],\n",
       "       ['unknown', 'unknown'],\n",
       "       ['unknown', 'unknown'],\n",
       "       ['unknown', 'unknown'],\n",
       "       ['unknown', 'unknown'],\n",
       "       ['unknown', 'unknown'],\n",
       "       ['unknown', 'unknown'],\n",
       "       ['unknown', 'unknown'],\n",
       "       ['unknown', 'unknown'],\n",
       "       ['unknown', 'unknown'],\n",
       "       ['unknown', 'unknown'],\n",
       "       ['unknown', 'unknown'],\n",
       "       ['unknown', 'unknown'],\n",
       "       ['unknown', 'unknown'],\n",
       "       ['unknown', 'unknown'],\n",
       "       ['unknown', 'unknown'],\n",
       "       ['unknown', 'unknown'],\n",
       "       ['unknown', 'unknown'],\n",
       "       ['unknown', 'unknown'],\n",
       "       ['unknown', 'unknown'],\n",
       "       ['unknown', 'unknown'],\n",
       "       ['violent', 'violent (cutting/stabbing)'],\n",
       "       ['unknown', 'unknown'],\n",
       "       ['unknown', 'unknown'],\n",
       "       ['unknown', 'unknown'],\n",
       "       ['unknown', 'unknown'],\n",
       "       ['unknown', 'unknown'],\n",
       "       ['unknown', 'unknown'],\n",
       "       ['unknown', 'unknown'],\n",
       "       ['unknown', 'unknown'],\n",
       "       ['unknown', 'unknown'],\n",
       "       ['unknown', 'unknown (no detailed data)'],\n",
       "       ['unknown', 'unknown'],\n",
       "       ['violent', 'various indications of trauma have been attested'],\n",
       "       ['unknown',\n",
       "        'unknown (no indisputable evidence for a violent death)'],\n",
       "       ['unknown', 'unknown'],\n",
       "       ['suicide', 'violent (hanging/strangulation)'],\n",
       "       ['suicide', 'violent (hanging/strangulation)'],\n",
       "       ['unknown', 'unknown'],\n",
       "       ['unknown', 'unknown'],\n",
       "       ['unknown', 'unknown'],\n",
       "       ['unknown', 'unknown'],\n",
       "       ['unknown', 'unknown'],\n",
       "       ['unknown', 'unknown'],\n",
       "       ['unknown', 'unknown'],\n",
       "       ['violent', 'violent (blows to head)'],\n",
       "       ['unknown', 'unknown'],\n",
       "       ['unknown', 'unknown'],\n",
       "       ['unknown', 'unknown'],\n",
       "       ['unknown', 'unknown'],\n",
       "       ['unknown', 'unknown'],\n",
       "       ['unknown', 'unknown'],\n",
       "       ['unknown', 'unknown'],\n",
       "       ['unknown', 'unknown'],\n",
       "       ['unknown', 'unknown'],\n",
       "       ['unknown', 'unknown'],\n",
       "       ['unknown', 'unknown'],\n",
       "       ['unknown', 'unknown'],\n",
       "       ['unknown', 'unknown'],\n",
       "       ['unknown', 'unknown'],\n",
       "       ['violent', 'violent (shooting)'],\n",
       "       ['unknown', 'unknown'],\n",
       "       ['violent', 'violent (blows to head)'],\n",
       "       ['unknown', 'unknown'],\n",
       "       ['unknown', 'unknown'],\n",
       "       ['unknown', 'unknown'],\n",
       "       ['unknown', 'unknown'],\n",
       "       ['unknown', 'unknown'],\n",
       "       ['unknown', 'unknown'],\n",
       "       ['unknown', 'unknown'],\n",
       "       ['unknown', 'unknown'],\n",
       "       ['unknown', 'unknown'],\n",
       "       ['unknown', 'unknown'],\n",
       "       ['unknown', 'unknown'],\n",
       "       ['unknown',\n",
       "        'unknown (but there does not seem to be clear evidence for violence)'],\n",
       "       ['unknown', 'unknown']], dtype=object)"
      ]
     },
     "execution_count": 30,
     "metadata": {},
     "output_type": "execute_result"
    }
   ],
   "source": [
    "reason_death=list()\n",
    "for i in bog_mummies['Assumed cause of death']:\n",
    "    chatgpt_response = client.chat.completions.create(\n",
    "        model=\"gpt-4-1106-preview\", \n",
    "        messages=[\n",
    "            {\"role\": \"system\", \"content\": \"\"\"You are an LLM that understands descriptions of human deaths. You are able to synthesize a one-word description from several key words. You understand that if the  death description contains the word 'unknown', it means the cause is unknown. If it contains the word 'violent',  it means the cause is violent, and so on. In cases you are unsure do not ask for more information but provide the word 'unknown' as answer instead.\"\"\"},\n",
    "            {\"role\": \"user\", \"content\": f\"\"\"You are provided a string {i} describing in a few words cause of death. Generate an output with the reason of death in one word. It can be either 'violent','natural','suicide','accident','mixed' or 'unknown'. \"\"\"}\n",
    "        ],\n",
    "        max_tokens=4096,\n",
    "        temperature=0\n",
    "    )\n",
    "    chatgpt_response_message = chatgpt_response.choices[0].message.content\n",
    "    #print(chatgpt_response_message)\n",
    "    reason_death.append(chatgpt_response_message)\n",
    "bog_mummies['reason_death']=reason_death\n",
    "bog_mummies[['reason_death','Assumed cause of death']].values\n",
    "#"
   ]
  },
  {
   "cell_type": "code",
   "execution_count": 31,
   "id": "6014e7b7",
   "metadata": {},
   "outputs": [
    {
     "data": {
      "text/plain": [
       "array(['unknown', 'violent', 'suicide', 'accident', 'natural', 'mixed',\n",
       "       'Understood. Please provide the string describing the cause of death, and I will generate the output with the reason of death in one word as per your instructions.',\n",
       "       'Understood. Please provide the string describing the cause of death, and I will generate the output with the reason of death in one word.'],\n",
       "      dtype=object)"
      ]
     },
     "execution_count": 31,
     "metadata": {},
     "output_type": "execute_result"
    }
   ],
   "source": [
    "bog_mummies.reason_death.unique()"
   ]
  },
  {
   "cell_type": "code",
   "execution_count": 32,
   "id": "01c9b9a2",
   "metadata": {},
   "outputs": [],
   "source": [
    "bog_mummies.loc[bog_mummies['reason_death']=='Understood. Please provide the string describing the cause of death, and I will generate the output with the reason of death in one word.','reason_death']='unknown'\n",
    "bog_mummies.loc[bog_mummies['reason_death']=='Understood. Please provide the string describing the cause of death, and I will generate the output with the reason of death in one word as per your instructions.','reason_death']='unknown'\n",
    "\n"
   ]
  },
  {
   "cell_type": "code",
   "execution_count": 33,
   "id": "a2fe8c4f",
   "metadata": {},
   "outputs": [
    {
     "data": {
      "application/vnd.plotly.v1+json": {
       "config": {
        "plotlyServerURL": "https://plot.ly"
       },
       "data": [
        {
         "domain": {
          "x": [
           0,
           1
          ],
          "y": [
           0,
           1
          ]
         },
         "hole": 0.3,
         "hovertemplate": "index=%{label}<br>reason_death=%{value}<extra></extra>",
         "labels": [
          "unknown",
          "violent",
          "suicide",
          "accident",
          "natural",
          "mixed"
         ],
         "legendgroup": "",
         "name": "",
         "showlegend": true,
         "type": "pie",
         "values": [
          271,
          36,
          15,
          4,
          2,
          1
         ]
        }
       ],
       "layout": {
        "legend": {
         "tracegroupgap": 0
        },
        "piecolorway": [
         "rgb(3, 35, 51)",
         "rgb(13, 48, 100)",
         "rgb(53, 50, 155)",
         "rgb(93, 62, 153)",
         "rgb(126, 77, 143)",
         "rgb(158, 89, 135)",
         "rgb(193, 100, 121)",
         "rgb(225, 113, 97)",
         "rgb(246, 139, 69)",
         "rgb(251, 173, 60)",
         "rgb(246, 211, 70)",
         "rgb(231, 250, 90)"
        ],
        "template": {
         "data": {
          "bar": [
           {
            "error_x": {
             "color": "#2a3f5f"
            },
            "error_y": {
             "color": "#2a3f5f"
            },
            "marker": {
             "line": {
              "color": "#E5ECF6",
              "width": 0.5
             },
             "pattern": {
              "fillmode": "overlay",
              "size": 10,
              "solidity": 0.2
             }
            },
            "type": "bar"
           }
          ],
          "barpolar": [
           {
            "marker": {
             "line": {
              "color": "#E5ECF6",
              "width": 0.5
             },
             "pattern": {
              "fillmode": "overlay",
              "size": 10,
              "solidity": 0.2
             }
            },
            "type": "barpolar"
           }
          ],
          "carpet": [
           {
            "aaxis": {
             "endlinecolor": "#2a3f5f",
             "gridcolor": "white",
             "linecolor": "white",
             "minorgridcolor": "white",
             "startlinecolor": "#2a3f5f"
            },
            "baxis": {
             "endlinecolor": "#2a3f5f",
             "gridcolor": "white",
             "linecolor": "white",
             "minorgridcolor": "white",
             "startlinecolor": "#2a3f5f"
            },
            "type": "carpet"
           }
          ],
          "choropleth": [
           {
            "colorbar": {
             "outlinewidth": 0,
             "ticks": ""
            },
            "type": "choropleth"
           }
          ],
          "contour": [
           {
            "colorbar": {
             "outlinewidth": 0,
             "ticks": ""
            },
            "colorscale": [
             [
              0,
              "#0d0887"
             ],
             [
              0.1111111111111111,
              "#46039f"
             ],
             [
              0.2222222222222222,
              "#7201a8"
             ],
             [
              0.3333333333333333,
              "#9c179e"
             ],
             [
              0.4444444444444444,
              "#bd3786"
             ],
             [
              0.5555555555555556,
              "#d8576b"
             ],
             [
              0.6666666666666666,
              "#ed7953"
             ],
             [
              0.7777777777777778,
              "#fb9f3a"
             ],
             [
              0.8888888888888888,
              "#fdca26"
             ],
             [
              1,
              "#f0f921"
             ]
            ],
            "type": "contour"
           }
          ],
          "contourcarpet": [
           {
            "colorbar": {
             "outlinewidth": 0,
             "ticks": ""
            },
            "type": "contourcarpet"
           }
          ],
          "heatmap": [
           {
            "colorbar": {
             "outlinewidth": 0,
             "ticks": ""
            },
            "colorscale": [
             [
              0,
              "#0d0887"
             ],
             [
              0.1111111111111111,
              "#46039f"
             ],
             [
              0.2222222222222222,
              "#7201a8"
             ],
             [
              0.3333333333333333,
              "#9c179e"
             ],
             [
              0.4444444444444444,
              "#bd3786"
             ],
             [
              0.5555555555555556,
              "#d8576b"
             ],
             [
              0.6666666666666666,
              "#ed7953"
             ],
             [
              0.7777777777777778,
              "#fb9f3a"
             ],
             [
              0.8888888888888888,
              "#fdca26"
             ],
             [
              1,
              "#f0f921"
             ]
            ],
            "type": "heatmap"
           }
          ],
          "heatmapgl": [
           {
            "colorbar": {
             "outlinewidth": 0,
             "ticks": ""
            },
            "colorscale": [
             [
              0,
              "#0d0887"
             ],
             [
              0.1111111111111111,
              "#46039f"
             ],
             [
              0.2222222222222222,
              "#7201a8"
             ],
             [
              0.3333333333333333,
              "#9c179e"
             ],
             [
              0.4444444444444444,
              "#bd3786"
             ],
             [
              0.5555555555555556,
              "#d8576b"
             ],
             [
              0.6666666666666666,
              "#ed7953"
             ],
             [
              0.7777777777777778,
              "#fb9f3a"
             ],
             [
              0.8888888888888888,
              "#fdca26"
             ],
             [
              1,
              "#f0f921"
             ]
            ],
            "type": "heatmapgl"
           }
          ],
          "histogram": [
           {
            "marker": {
             "pattern": {
              "fillmode": "overlay",
              "size": 10,
              "solidity": 0.2
             }
            },
            "type": "histogram"
           }
          ],
          "histogram2d": [
           {
            "colorbar": {
             "outlinewidth": 0,
             "ticks": ""
            },
            "colorscale": [
             [
              0,
              "#0d0887"
             ],
             [
              0.1111111111111111,
              "#46039f"
             ],
             [
              0.2222222222222222,
              "#7201a8"
             ],
             [
              0.3333333333333333,
              "#9c179e"
             ],
             [
              0.4444444444444444,
              "#bd3786"
             ],
             [
              0.5555555555555556,
              "#d8576b"
             ],
             [
              0.6666666666666666,
              "#ed7953"
             ],
             [
              0.7777777777777778,
              "#fb9f3a"
             ],
             [
              0.8888888888888888,
              "#fdca26"
             ],
             [
              1,
              "#f0f921"
             ]
            ],
            "type": "histogram2d"
           }
          ],
          "histogram2dcontour": [
           {
            "colorbar": {
             "outlinewidth": 0,
             "ticks": ""
            },
            "colorscale": [
             [
              0,
              "#0d0887"
             ],
             [
              0.1111111111111111,
              "#46039f"
             ],
             [
              0.2222222222222222,
              "#7201a8"
             ],
             [
              0.3333333333333333,
              "#9c179e"
             ],
             [
              0.4444444444444444,
              "#bd3786"
             ],
             [
              0.5555555555555556,
              "#d8576b"
             ],
             [
              0.6666666666666666,
              "#ed7953"
             ],
             [
              0.7777777777777778,
              "#fb9f3a"
             ],
             [
              0.8888888888888888,
              "#fdca26"
             ],
             [
              1,
              "#f0f921"
             ]
            ],
            "type": "histogram2dcontour"
           }
          ],
          "mesh3d": [
           {
            "colorbar": {
             "outlinewidth": 0,
             "ticks": ""
            },
            "type": "mesh3d"
           }
          ],
          "parcoords": [
           {
            "line": {
             "colorbar": {
              "outlinewidth": 0,
              "ticks": ""
             }
            },
            "type": "parcoords"
           }
          ],
          "pie": [
           {
            "automargin": true,
            "type": "pie"
           }
          ],
          "scatter": [
           {
            "fillpattern": {
             "fillmode": "overlay",
             "size": 10,
             "solidity": 0.2
            },
            "type": "scatter"
           }
          ],
          "scatter3d": [
           {
            "line": {
             "colorbar": {
              "outlinewidth": 0,
              "ticks": ""
             }
            },
            "marker": {
             "colorbar": {
              "outlinewidth": 0,
              "ticks": ""
             }
            },
            "type": "scatter3d"
           }
          ],
          "scattercarpet": [
           {
            "marker": {
             "colorbar": {
              "outlinewidth": 0,
              "ticks": ""
             }
            },
            "type": "scattercarpet"
           }
          ],
          "scattergeo": [
           {
            "marker": {
             "colorbar": {
              "outlinewidth": 0,
              "ticks": ""
             }
            },
            "type": "scattergeo"
           }
          ],
          "scattergl": [
           {
            "marker": {
             "colorbar": {
              "outlinewidth": 0,
              "ticks": ""
             }
            },
            "type": "scattergl"
           }
          ],
          "scattermapbox": [
           {
            "marker": {
             "colorbar": {
              "outlinewidth": 0,
              "ticks": ""
             }
            },
            "type": "scattermapbox"
           }
          ],
          "scatterpolar": [
           {
            "marker": {
             "colorbar": {
              "outlinewidth": 0,
              "ticks": ""
             }
            },
            "type": "scatterpolar"
           }
          ],
          "scatterpolargl": [
           {
            "marker": {
             "colorbar": {
              "outlinewidth": 0,
              "ticks": ""
             }
            },
            "type": "scatterpolargl"
           }
          ],
          "scatterternary": [
           {
            "marker": {
             "colorbar": {
              "outlinewidth": 0,
              "ticks": ""
             }
            },
            "type": "scatterternary"
           }
          ],
          "surface": [
           {
            "colorbar": {
             "outlinewidth": 0,
             "ticks": ""
            },
            "colorscale": [
             [
              0,
              "#0d0887"
             ],
             [
              0.1111111111111111,
              "#46039f"
             ],
             [
              0.2222222222222222,
              "#7201a8"
             ],
             [
              0.3333333333333333,
              "#9c179e"
             ],
             [
              0.4444444444444444,
              "#bd3786"
             ],
             [
              0.5555555555555556,
              "#d8576b"
             ],
             [
              0.6666666666666666,
              "#ed7953"
             ],
             [
              0.7777777777777778,
              "#fb9f3a"
             ],
             [
              0.8888888888888888,
              "#fdca26"
             ],
             [
              1,
              "#f0f921"
             ]
            ],
            "type": "surface"
           }
          ],
          "table": [
           {
            "cells": {
             "fill": {
              "color": "#EBF0F8"
             },
             "line": {
              "color": "white"
             }
            },
            "header": {
             "fill": {
              "color": "#C8D4E3"
             },
             "line": {
              "color": "white"
             }
            },
            "type": "table"
           }
          ]
         },
         "layout": {
          "annotationdefaults": {
           "arrowcolor": "#2a3f5f",
           "arrowhead": 0,
           "arrowwidth": 1
          },
          "autotypenumbers": "strict",
          "coloraxis": {
           "colorbar": {
            "outlinewidth": 0,
            "ticks": ""
           }
          },
          "colorscale": {
           "diverging": [
            [
             0,
             "#8e0152"
            ],
            [
             0.1,
             "#c51b7d"
            ],
            [
             0.2,
             "#de77ae"
            ],
            [
             0.3,
             "#f1b6da"
            ],
            [
             0.4,
             "#fde0ef"
            ],
            [
             0.5,
             "#f7f7f7"
            ],
            [
             0.6,
             "#e6f5d0"
            ],
            [
             0.7,
             "#b8e186"
            ],
            [
             0.8,
             "#7fbc41"
            ],
            [
             0.9,
             "#4d9221"
            ],
            [
             1,
             "#276419"
            ]
           ],
           "sequential": [
            [
             0,
             "#0d0887"
            ],
            [
             0.1111111111111111,
             "#46039f"
            ],
            [
             0.2222222222222222,
             "#7201a8"
            ],
            [
             0.3333333333333333,
             "#9c179e"
            ],
            [
             0.4444444444444444,
             "#bd3786"
            ],
            [
             0.5555555555555556,
             "#d8576b"
            ],
            [
             0.6666666666666666,
             "#ed7953"
            ],
            [
             0.7777777777777778,
             "#fb9f3a"
            ],
            [
             0.8888888888888888,
             "#fdca26"
            ],
            [
             1,
             "#f0f921"
            ]
           ],
           "sequentialminus": [
            [
             0,
             "#0d0887"
            ],
            [
             0.1111111111111111,
             "#46039f"
            ],
            [
             0.2222222222222222,
             "#7201a8"
            ],
            [
             0.3333333333333333,
             "#9c179e"
            ],
            [
             0.4444444444444444,
             "#bd3786"
            ],
            [
             0.5555555555555556,
             "#d8576b"
            ],
            [
             0.6666666666666666,
             "#ed7953"
            ],
            [
             0.7777777777777778,
             "#fb9f3a"
            ],
            [
             0.8888888888888888,
             "#fdca26"
            ],
            [
             1,
             "#f0f921"
            ]
           ]
          },
          "colorway": [
           "#636efa",
           "#EF553B",
           "#00cc96",
           "#ab63fa",
           "#FFA15A",
           "#19d3f3",
           "#FF6692",
           "#B6E880",
           "#FF97FF",
           "#FECB52"
          ],
          "font": {
           "color": "#2a3f5f"
          },
          "geo": {
           "bgcolor": "white",
           "lakecolor": "white",
           "landcolor": "#E5ECF6",
           "showlakes": true,
           "showland": true,
           "subunitcolor": "white"
          },
          "hoverlabel": {
           "align": "left"
          },
          "hovermode": "closest",
          "mapbox": {
           "style": "light"
          },
          "paper_bgcolor": "white",
          "plot_bgcolor": "#E5ECF6",
          "polar": {
           "angularaxis": {
            "gridcolor": "white",
            "linecolor": "white",
            "ticks": ""
           },
           "bgcolor": "#E5ECF6",
           "radialaxis": {
            "gridcolor": "white",
            "linecolor": "white",
            "ticks": ""
           }
          },
          "scene": {
           "xaxis": {
            "backgroundcolor": "#E5ECF6",
            "gridcolor": "white",
            "gridwidth": 2,
            "linecolor": "white",
            "showbackground": true,
            "ticks": "",
            "zerolinecolor": "white"
           },
           "yaxis": {
            "backgroundcolor": "#E5ECF6",
            "gridcolor": "white",
            "gridwidth": 2,
            "linecolor": "white",
            "showbackground": true,
            "ticks": "",
            "zerolinecolor": "white"
           },
           "zaxis": {
            "backgroundcolor": "#E5ECF6",
            "gridcolor": "white",
            "gridwidth": 2,
            "linecolor": "white",
            "showbackground": true,
            "ticks": "",
            "zerolinecolor": "white"
           }
          },
          "shapedefaults": {
           "line": {
            "color": "#2a3f5f"
           }
          },
          "ternary": {
           "aaxis": {
            "gridcolor": "white",
            "linecolor": "white",
            "ticks": ""
           },
           "baxis": {
            "gridcolor": "white",
            "linecolor": "white",
            "ticks": ""
           },
           "bgcolor": "#E5ECF6",
           "caxis": {
            "gridcolor": "white",
            "linecolor": "white",
            "ticks": ""
           }
          },
          "title": {
           "x": 0.05
          },
          "xaxis": {
           "automargin": true,
           "gridcolor": "white",
           "linecolor": "white",
           "ticks": "",
           "title": {
            "standoff": 15
           },
           "zerolinecolor": "white",
           "zerolinewidth": 2
          },
          "yaxis": {
           "automargin": true,
           "gridcolor": "white",
           "linecolor": "white",
           "ticks": "",
           "title": {
            "standoff": 15
           },
           "zerolinecolor": "white",
           "zerolinewidth": 2
          }
         }
        },
        "title": {
         "text": "Causes of death"
        }
       }
      },
      "text/html": [
       "<div>                            <div id=\"72a2dd49-4ac5-4d9f-a6ca-129713935840\" class=\"plotly-graph-div\" style=\"height:525px; width:100%;\"></div>            <script type=\"text/javascript\">                require([\"plotly\"], function(Plotly) {                    window.PLOTLYENV=window.PLOTLYENV || {};                                    if (document.getElementById(\"72a2dd49-4ac5-4d9f-a6ca-129713935840\")) {                    Plotly.newPlot(                        \"72a2dd49-4ac5-4d9f-a6ca-129713935840\",                        [{\"domain\":{\"x\":[0.0,1.0],\"y\":[0.0,1.0]},\"hole\":0.3,\"hovertemplate\":\"index=%{label}<br>reason_death=%{value}<extra></extra>\",\"labels\":[\"unknown\",\"violent\",\"suicide\",\"accident\",\"natural\",\"mixed\"],\"legendgroup\":\"\",\"name\":\"\",\"showlegend\":true,\"values\":[271,36,15,4,2,1],\"type\":\"pie\"}],                        {\"template\":{\"data\":{\"histogram2dcontour\":[{\"type\":\"histogram2dcontour\",\"colorbar\":{\"outlinewidth\":0,\"ticks\":\"\"},\"colorscale\":[[0.0,\"#0d0887\"],[0.1111111111111111,\"#46039f\"],[0.2222222222222222,\"#7201a8\"],[0.3333333333333333,\"#9c179e\"],[0.4444444444444444,\"#bd3786\"],[0.5555555555555556,\"#d8576b\"],[0.6666666666666666,\"#ed7953\"],[0.7777777777777778,\"#fb9f3a\"],[0.8888888888888888,\"#fdca26\"],[1.0,\"#f0f921\"]]}],\"choropleth\":[{\"type\":\"choropleth\",\"colorbar\":{\"outlinewidth\":0,\"ticks\":\"\"}}],\"histogram2d\":[{\"type\":\"histogram2d\",\"colorbar\":{\"outlinewidth\":0,\"ticks\":\"\"},\"colorscale\":[[0.0,\"#0d0887\"],[0.1111111111111111,\"#46039f\"],[0.2222222222222222,\"#7201a8\"],[0.3333333333333333,\"#9c179e\"],[0.4444444444444444,\"#bd3786\"],[0.5555555555555556,\"#d8576b\"],[0.6666666666666666,\"#ed7953\"],[0.7777777777777778,\"#fb9f3a\"],[0.8888888888888888,\"#fdca26\"],[1.0,\"#f0f921\"]]}],\"heatmap\":[{\"type\":\"heatmap\",\"colorbar\":{\"outlinewidth\":0,\"ticks\":\"\"},\"colorscale\":[[0.0,\"#0d0887\"],[0.1111111111111111,\"#46039f\"],[0.2222222222222222,\"#7201a8\"],[0.3333333333333333,\"#9c179e\"],[0.4444444444444444,\"#bd3786\"],[0.5555555555555556,\"#d8576b\"],[0.6666666666666666,\"#ed7953\"],[0.7777777777777778,\"#fb9f3a\"],[0.8888888888888888,\"#fdca26\"],[1.0,\"#f0f921\"]]}],\"heatmapgl\":[{\"type\":\"heatmapgl\",\"colorbar\":{\"outlinewidth\":0,\"ticks\":\"\"},\"colorscale\":[[0.0,\"#0d0887\"],[0.1111111111111111,\"#46039f\"],[0.2222222222222222,\"#7201a8\"],[0.3333333333333333,\"#9c179e\"],[0.4444444444444444,\"#bd3786\"],[0.5555555555555556,\"#d8576b\"],[0.6666666666666666,\"#ed7953\"],[0.7777777777777778,\"#fb9f3a\"],[0.8888888888888888,\"#fdca26\"],[1.0,\"#f0f921\"]]}],\"contourcarpet\":[{\"type\":\"contourcarpet\",\"colorbar\":{\"outlinewidth\":0,\"ticks\":\"\"}}],\"contour\":[{\"type\":\"contour\",\"colorbar\":{\"outlinewidth\":0,\"ticks\":\"\"},\"colorscale\":[[0.0,\"#0d0887\"],[0.1111111111111111,\"#46039f\"],[0.2222222222222222,\"#7201a8\"],[0.3333333333333333,\"#9c179e\"],[0.4444444444444444,\"#bd3786\"],[0.5555555555555556,\"#d8576b\"],[0.6666666666666666,\"#ed7953\"],[0.7777777777777778,\"#fb9f3a\"],[0.8888888888888888,\"#fdca26\"],[1.0,\"#f0f921\"]]}],\"surface\":[{\"type\":\"surface\",\"colorbar\":{\"outlinewidth\":0,\"ticks\":\"\"},\"colorscale\":[[0.0,\"#0d0887\"],[0.1111111111111111,\"#46039f\"],[0.2222222222222222,\"#7201a8\"],[0.3333333333333333,\"#9c179e\"],[0.4444444444444444,\"#bd3786\"],[0.5555555555555556,\"#d8576b\"],[0.6666666666666666,\"#ed7953\"],[0.7777777777777778,\"#fb9f3a\"],[0.8888888888888888,\"#fdca26\"],[1.0,\"#f0f921\"]]}],\"mesh3d\":[{\"type\":\"mesh3d\",\"colorbar\":{\"outlinewidth\":0,\"ticks\":\"\"}}],\"scatter\":[{\"fillpattern\":{\"fillmode\":\"overlay\",\"size\":10,\"solidity\":0.2},\"type\":\"scatter\"}],\"parcoords\":[{\"type\":\"parcoords\",\"line\":{\"colorbar\":{\"outlinewidth\":0,\"ticks\":\"\"}}}],\"scatterpolargl\":[{\"type\":\"scatterpolargl\",\"marker\":{\"colorbar\":{\"outlinewidth\":0,\"ticks\":\"\"}}}],\"bar\":[{\"error_x\":{\"color\":\"#2a3f5f\"},\"error_y\":{\"color\":\"#2a3f5f\"},\"marker\":{\"line\":{\"color\":\"#E5ECF6\",\"width\":0.5},\"pattern\":{\"fillmode\":\"overlay\",\"size\":10,\"solidity\":0.2}},\"type\":\"bar\"}],\"scattergeo\":[{\"type\":\"scattergeo\",\"marker\":{\"colorbar\":{\"outlinewidth\":0,\"ticks\":\"\"}}}],\"scatterpolar\":[{\"type\":\"scatterpolar\",\"marker\":{\"colorbar\":{\"outlinewidth\":0,\"ticks\":\"\"}}}],\"histogram\":[{\"marker\":{\"pattern\":{\"fillmode\":\"overlay\",\"size\":10,\"solidity\":0.2}},\"type\":\"histogram\"}],\"scattergl\":[{\"type\":\"scattergl\",\"marker\":{\"colorbar\":{\"outlinewidth\":0,\"ticks\":\"\"}}}],\"scatter3d\":[{\"type\":\"scatter3d\",\"line\":{\"colorbar\":{\"outlinewidth\":0,\"ticks\":\"\"}},\"marker\":{\"colorbar\":{\"outlinewidth\":0,\"ticks\":\"\"}}}],\"scattermapbox\":[{\"type\":\"scattermapbox\",\"marker\":{\"colorbar\":{\"outlinewidth\":0,\"ticks\":\"\"}}}],\"scatterternary\":[{\"type\":\"scatterternary\",\"marker\":{\"colorbar\":{\"outlinewidth\":0,\"ticks\":\"\"}}}],\"scattercarpet\":[{\"type\":\"scattercarpet\",\"marker\":{\"colorbar\":{\"outlinewidth\":0,\"ticks\":\"\"}}}],\"carpet\":[{\"aaxis\":{\"endlinecolor\":\"#2a3f5f\",\"gridcolor\":\"white\",\"linecolor\":\"white\",\"minorgridcolor\":\"white\",\"startlinecolor\":\"#2a3f5f\"},\"baxis\":{\"endlinecolor\":\"#2a3f5f\",\"gridcolor\":\"white\",\"linecolor\":\"white\",\"minorgridcolor\":\"white\",\"startlinecolor\":\"#2a3f5f\"},\"type\":\"carpet\"}],\"table\":[{\"cells\":{\"fill\":{\"color\":\"#EBF0F8\"},\"line\":{\"color\":\"white\"}},\"header\":{\"fill\":{\"color\":\"#C8D4E3\"},\"line\":{\"color\":\"white\"}},\"type\":\"table\"}],\"barpolar\":[{\"marker\":{\"line\":{\"color\":\"#E5ECF6\",\"width\":0.5},\"pattern\":{\"fillmode\":\"overlay\",\"size\":10,\"solidity\":0.2}},\"type\":\"barpolar\"}],\"pie\":[{\"automargin\":true,\"type\":\"pie\"}]},\"layout\":{\"autotypenumbers\":\"strict\",\"colorway\":[\"#636efa\",\"#EF553B\",\"#00cc96\",\"#ab63fa\",\"#FFA15A\",\"#19d3f3\",\"#FF6692\",\"#B6E880\",\"#FF97FF\",\"#FECB52\"],\"font\":{\"color\":\"#2a3f5f\"},\"hovermode\":\"closest\",\"hoverlabel\":{\"align\":\"left\"},\"paper_bgcolor\":\"white\",\"plot_bgcolor\":\"#E5ECF6\",\"polar\":{\"bgcolor\":\"#E5ECF6\",\"angularaxis\":{\"gridcolor\":\"white\",\"linecolor\":\"white\",\"ticks\":\"\"},\"radialaxis\":{\"gridcolor\":\"white\",\"linecolor\":\"white\",\"ticks\":\"\"}},\"ternary\":{\"bgcolor\":\"#E5ECF6\",\"aaxis\":{\"gridcolor\":\"white\",\"linecolor\":\"white\",\"ticks\":\"\"},\"baxis\":{\"gridcolor\":\"white\",\"linecolor\":\"white\",\"ticks\":\"\"},\"caxis\":{\"gridcolor\":\"white\",\"linecolor\":\"white\",\"ticks\":\"\"}},\"coloraxis\":{\"colorbar\":{\"outlinewidth\":0,\"ticks\":\"\"}},\"colorscale\":{\"sequential\":[[0.0,\"#0d0887\"],[0.1111111111111111,\"#46039f\"],[0.2222222222222222,\"#7201a8\"],[0.3333333333333333,\"#9c179e\"],[0.4444444444444444,\"#bd3786\"],[0.5555555555555556,\"#d8576b\"],[0.6666666666666666,\"#ed7953\"],[0.7777777777777778,\"#fb9f3a\"],[0.8888888888888888,\"#fdca26\"],[1.0,\"#f0f921\"]],\"sequentialminus\":[[0.0,\"#0d0887\"],[0.1111111111111111,\"#46039f\"],[0.2222222222222222,\"#7201a8\"],[0.3333333333333333,\"#9c179e\"],[0.4444444444444444,\"#bd3786\"],[0.5555555555555556,\"#d8576b\"],[0.6666666666666666,\"#ed7953\"],[0.7777777777777778,\"#fb9f3a\"],[0.8888888888888888,\"#fdca26\"],[1.0,\"#f0f921\"]],\"diverging\":[[0,\"#8e0152\"],[0.1,\"#c51b7d\"],[0.2,\"#de77ae\"],[0.3,\"#f1b6da\"],[0.4,\"#fde0ef\"],[0.5,\"#f7f7f7\"],[0.6,\"#e6f5d0\"],[0.7,\"#b8e186\"],[0.8,\"#7fbc41\"],[0.9,\"#4d9221\"],[1,\"#276419\"]]},\"xaxis\":{\"gridcolor\":\"white\",\"linecolor\":\"white\",\"ticks\":\"\",\"title\":{\"standoff\":15},\"zerolinecolor\":\"white\",\"automargin\":true,\"zerolinewidth\":2},\"yaxis\":{\"gridcolor\":\"white\",\"linecolor\":\"white\",\"ticks\":\"\",\"title\":{\"standoff\":15},\"zerolinecolor\":\"white\",\"automargin\":true,\"zerolinewidth\":2},\"scene\":{\"xaxis\":{\"backgroundcolor\":\"#E5ECF6\",\"gridcolor\":\"white\",\"linecolor\":\"white\",\"showbackground\":true,\"ticks\":\"\",\"zerolinecolor\":\"white\",\"gridwidth\":2},\"yaxis\":{\"backgroundcolor\":\"#E5ECF6\",\"gridcolor\":\"white\",\"linecolor\":\"white\",\"showbackground\":true,\"ticks\":\"\",\"zerolinecolor\":\"white\",\"gridwidth\":2},\"zaxis\":{\"backgroundcolor\":\"#E5ECF6\",\"gridcolor\":\"white\",\"linecolor\":\"white\",\"showbackground\":true,\"ticks\":\"\",\"zerolinecolor\":\"white\",\"gridwidth\":2}},\"shapedefaults\":{\"line\":{\"color\":\"#2a3f5f\"}},\"annotationdefaults\":{\"arrowcolor\":\"#2a3f5f\",\"arrowhead\":0,\"arrowwidth\":1},\"geo\":{\"bgcolor\":\"white\",\"landcolor\":\"#E5ECF6\",\"subunitcolor\":\"white\",\"showland\":true,\"showlakes\":true,\"lakecolor\":\"white\"},\"title\":{\"x\":0.05},\"mapbox\":{\"style\":\"light\"}}},\"legend\":{\"tracegroupgap\":0},\"title\":{\"text\":\"Causes of death\"},\"piecolorway\":[\"rgb(3, 35, 51)\",\"rgb(13, 48, 100)\",\"rgb(53, 50, 155)\",\"rgb(93, 62, 153)\",\"rgb(126, 77, 143)\",\"rgb(158, 89, 135)\",\"rgb(193, 100, 121)\",\"rgb(225, 113, 97)\",\"rgb(246, 139, 69)\",\"rgb(251, 173, 60)\",\"rgb(246, 211, 70)\",\"rgb(231, 250, 90)\"]},                        {\"responsive\": true}                    ).then(function(){\n",
       "                            \n",
       "var gd = document.getElementById('72a2dd49-4ac5-4d9f-a6ca-129713935840');\n",
       "var x = new MutationObserver(function (mutations, observer) {{\n",
       "        var display = window.getComputedStyle(gd).display;\n",
       "        if (!display || display === 'none') {{\n",
       "            console.log([gd, 'removed!']);\n",
       "            Plotly.purge(gd);\n",
       "            observer.disconnect();\n",
       "        }}\n",
       "}});\n",
       "\n",
       "// Listen for the removal of the full notebook cells\n",
       "var notebookContainer = gd.closest('#notebook-container');\n",
       "if (notebookContainer) {{\n",
       "    x.observe(notebookContainer, {childList: true});\n",
       "}}\n",
       "\n",
       "// Listen for the clearing of the current output cell\n",
       "var outputEl = gd.closest('.output');\n",
       "if (outputEl) {{\n",
       "    x.observe(outputEl, {childList: true});\n",
       "}}\n",
       "\n",
       "                        })                };                });            </script>        </div>"
      ]
     },
     "metadata": {},
     "output_type": "display_data"
    }
   ],
   "source": [
    "\n",
    "reason_death_counts=bog_mummies['reason_death'].value_counts().reset_index()\n",
    "fig = px.pie(reason_death_counts, values='reason_death', names='index', title='Causes of death', color_discrete_sequence=px.colors.sequential.thermal, hole=.3)\n",
    "fig.show()\n",
    "file_path = 'reason_death_distribution.svg'\n",
    "pio.write_image(fig, file_path)\n"
   ]
  },
  {
   "cell_type": "code",
   "execution_count": 35,
   "id": "aeaf6c91",
   "metadata": {
    "collapsed": true
   },
   "outputs": [
    {
     "data": {
      "text/plain": [
       "array([['single',\n",
       "        'In 1998 the legs of a bog mummy were found during an archaeological survey of a peat-milled bog. A small-scale excavation followed. Alongside the body three short lengths of hazel bushwood, a hazel withy and a birch pole were found. The remains belong to a person of about 18 years old, who lay on the left side. The other parts of the body were probably lost during earlier peat cutting activities. No clothes were found; whether the person really was unclothed is uncertain.   '],\n",
       "       ['single',\n",
       "        'During peat milling in 2011 the remains of a young adult male, probably aged between 20-25, were found. A small-scale four-day field investigation followed. The milling machine had already removed the head, neck and left arm. The body was lying on the left side with the legs flexed tightly. It had been placed on the bog surface, possibly in a pool, and two hazel stakes marked the place of deposition. These appear to have crossed above the mans head. No clothes were found with the body. The mans right arm had been broken in antiquity by a sharp blow, and his spine was broken in two places. Cuts in his back may have been inflicted with an axe.  '],\n",
       "       ['single',\n",
       "        'In 2005 the bog mummy of an adult male, aged between c. 25-35 years, was found lodged in a peat harvesting machine. Most parts of the body, which appears to have been deposited in a crouched position, have been found; the head is missing. A published calibrated radiocarbon date has an outcome between 1431-1291 BC. '],\n",
       "       ['single',\n",
       "        'In 2003 the upper torso and arms of an adult male were found during the mechanical recutting of a drainage ditch. The man was between 25-40 years old. He probably died from a stab wound in his chest. A wound on his upper left arm demonstrates he tried to defend himself. He was decapitated and his thorax was severed from his abdomen. Withies made from hazel strands had been inserted through cuts made in the upper arms. No clothes were found. The man wore a plaited leather band including four bronze mounts around his left arm. The original landscape setting of the findspot was reconstructed by means of an in-depth interdisciplinary study. He appears to have been deposited in a small pool within the bog. '],\n",
       "       ['single',\n",
       "        'In 2003 the upper part of a male bog mummy was found in the debris of a peat-screening machine. The hair of the 25-40 year old man was bundled on the top of his head. The man was killed by a series of blows to the head and chest, probably with an axe. A long cut to his abdomen may suggest disembowelment. A published calibrated radiocarbon date has an outcome between 392-201 BC.'],\n",
       "       ['single',\n",
       "        'In 1978 the bog mummy of a woman aged between 25-35 was found during manual peat cutting, at a depth of approximately 1 m. She lay on her back. The woman was wrapped in a cloak, which is typologically dated in the late 16th or 17th century, and was otherwise unclothed. An examination of the area surrounding the body yielded no other finds. The body did not show any signs of trauma or pathology. The fact that the body was wrapped in a cloak is taken to indicate a deliberate burial. One radiocarbon date is available, which gives an older date than would be expected based on the typology of the cloak. The date of the cloak is assumed to be more reliable.  '],\n",
       "       ['single',\n",
       "        'In 1821 the bog mummy of an adult male was found during peat cutting, at a depth of approximately 9.5 feet. He wore a deerskin cape. No other clothes were found. A willow withy was wrapped around his neck, indicating that he was probably strangled. Pointed wooden sticks were found on both sides of the body. '],\n",
       "       ['single',\n",
       "        'In 1953 the bog mummy of an adult male was found, at a depth of approximately 6 feet (c. 1.8 m). The man lay on his back, and appears to have been covered with a woollen textile and leather cloak. The cranium appears to have been removed, but the scalp was present. Traces of wooden stakes and brushwood were found around the body. No evidence of trauma was detected.    '],\n",
       "       ['single',\n",
       "        'In 2005 the skeletal remains of a young woman and many scattered pieces of clothing were found after mechanical peat cutting. The finds were heavily damaged. No other finds were done in a following excavation. A piece of textile attached to her hip bone provided a calibrated date between 645-680 CE. '],\n",
       "       ['single',\n",
       "        'The 2006 the heavily damaged remains and incomplete remains of a bog mummy, most likely male, came to light presumably after peat milling. Only the upper right leg and the buttocks have been preserved. Hardly any information has been published on this find, apart from a calibrated radiocarbon date with a result of 228-343 CE.'],\n",
       "       ['single',\n",
       "        \"In 1952 the skeleton of an adult person was found, of which just the mandible has been preserved, as well as a number of bones of red deer and a wooden 'stave'. The finds were made at a depth of 8 feet (c. 2.4 m), presumably during peat cutting. Ó Floinn compares the 'stave' with the finds of wooden sticks with other bodies. \"],\n",
       "       ['single',\n",
       "        'In 1929 the articulated skeleton of a male adult of c. 40 years old was found, at a depth of about 10 feet (c. 3 m) and within inches of the base of the bog. It lay facing upwards with the arms extended. Not all skeletal elements have been found (the ribs, pelvis and right arm appear to be missing), which is probably due to postdepositional factors. At the time of deposition the site may have consisted of open water, with peat formation starting rapidly afterwards.   '],\n",
       "       ['single',\n",
       "        'In 1989 a human foot was found during mechanical peat extraction. The other parts of the body were probably destroyed. The find is dated in the 17th or 18th century, based on the characteristics of the woollen sock that was found. '],\n",
       "       ['single',\n",
       "        'In 1950 the body of a 6-7 year old child, probably a boy, was found during peat cutting. The body was heavily damaged due to the peat extraction activities. The child wore a long pinafore dress and possibly a cloak. Additionally, several fragments of two other garments were found. Also with the body were a comb and a leather purse which contained a tuft of flax fibres, and a ball of woollen thread. Based on the clothing the find is dated in the 17th century.'],\n",
       "       ['single',\n",
       "        \"In 1845 the well-preserved body of a 'youngish' girl was found . Her identity was known at the time. She had committed suicide by poison around 1775, because she was disappointed in love, and was buried in the bog. She was presented to the Museum of the Royal College of Surgeons of Ireland in 1895. \"],\n",
       "       ['single',\n",
       "        'In 1954 an adult human skeleton, possibly male, was found at a depth of 0.4 m. Hair was preserved also, as well as a woollen gown and stocking, a felt hat and a leather shoe. Based on the clothing the find is dated in the 17th century. '],\n",
       "       ['single',\n",
       "        \"In 1824 a well-preserved male body was found in a bog at a depth of 1.8 m. A long 'staff' lay under the body. A small leather bag containing a ball of thread and a small silver coin were found with the body. The man wore a jacket, trews, leather shoes and a sheepskin cap. The clothing is typologically dated to the early 17th century.   \"],\n",
       "       ['single',\n",
       "        'In 1946 the body of an adult male was found at a depth of 0.9 m, almost on the bottom of the bog. The man wore a patched and tattered suit, consisting of a cap, mantle, jacket and trews. There were indications that he had carried a dirk and had been a rider. The clothing is typologically dated to the late 16th or early 17th century.  '],\n",
       "       ['single',\n",
       "        'In 1827 the well-preserved body of a man who had committed suicide in 1776 was found in the bog where he was buried. '],\n",
       "       ['single',\n",
       "        \"In 1939 a grave with lime containing an adult male was found, at a depth of about 1 m. The man, who is described as 'old', was wrapped in canvas. Two loads of stones were placed on top of the body. A leather boot with nails is mentioned as well. Local tradition identifies the man as that of a Mr Connel or Connolly, a pedlar who died in 1846 or 1847.   \"],\n",
       "       ['single',\n",
       "        'In 1929 the head of a young adult, possibly male, was found at a depth of 1.8 m. after peat milling. The remains consist of a skull with hair. It is assumed that the other parts of the body originally were present, but were destroyed by the peat extraction activities.  '],\n",
       "       ['single',\n",
       "        'In 1936 the skeleton and hair of a c. 12 years old child were found, at a depth of c. 1.4 m. Fragments of a patched woollen cloak were found with the body. The age determination is based on the most recent source (Ó Floinn 1995). Briggs and Turner had given a tentative estimation of 18-25 years. These authors assume the find to date from the 16th or 17th century, probably based on the clothing.    '],\n",
       "       ['single',\n",
       "        'In 1969 the body of a middle-aged man was found at a depth of about 0.9 m. He lay extended on his back, on birch twigs. His clothing consisted of an overcoat, jacket, breeches, a pair of knitted woollen stockings, a pair of garters, leather shoes and a hat. Based on the clothing the find is dated in the late 17th century. '],\n",
       "       ['single',\n",
       "        'In 1960 the body of a woman aged between 45-60 was found at a depth of about 0.7 m. She was fully clothed. A bodice, dress, cloak, woollen stockings, woollen tassels, a kerchief, and a bag are mentioned. Based on these clothes the find is dated in the 17th century.  '],\n",
       "       ['single',\n",
       "        'In 1955 the body of a man aged between 20-30 was found. No details are provided about the preservation of the body or the depth of the find. Nevertheless the age and gender determination suggests that human remains were indeed present. A woollen coat and cloak were found, which indicate a date in the 17th century. '],\n",
       "       ['single',\n",
       "        'In 1962 the body of a (presumably adult) male was found at a depth of 0.6 m. He was buried in a plank coffin, and was known to have committed suicide in the 19th century. The body has been reburied. '],\n",
       "       ['single',\n",
       "        \"In 1838 the well-preserved body of a (presumably adult) male was found, '5½ sods deep'. Nine or ten irregularly placed upright sticks and a large stone were placed over the body, which was placed on its back. The body was reputed to be the remains of one Denis Looney, wo had committed suicide about 200 years earlier. \"],\n",
       "       ['single',\n",
       "        'In 1840 the well-preserved body of a (presumably adult) female was found, near the surface. She wore a dark gown, flannel petticoat and had a scarlet handkerchief with her. The throat of the woman was cut and her left arm was broken. Inquest identified her as a Batty Thompson who disappeared in May 1811. '],\n",
       "       ['single',\n",
       "        \"In 1881 the well-preserved body of a 19-22 year old woman was found, in a wood adjacent to Athea village. She was wrapped in a mantle. A wooden dish was found near the body, containing shoemaker's implements. An inscription on one of these objects indicates that the find dates from 1800 or later. \"],\n",
       "       ['single',\n",
       "        'In 1878 a lidded wooden coffin containing a skeleton was found. Knitted woollen stockings were present on the feet, which were tied. According to an old local inhabitant the body might have been that of a woman called Bermingham, who had committed suicide nearly 70 years earlier and had been denied a Christian burial. '],\n",
       "       ['single',\n",
       "        'In 1880 the body of an adult woman was found at a depth of 1.2 m, lying on her back and unclothed. A fracture of the frontal bone of the skull may well have been the cause of death. According to local belief the deceased was murdered some 60 years previously and buried unclothed to prevent identification. The body was reburied at the churchyard. '],\n",
       "       ['single',\n",
       "        'In 2012 the partial remains of a young adult, probably male, were found after peat harvesting. The remains were very incomplete and heavily damaged. The find is not published in detail yet, but the outcome of a radiocarbon date indicates a date between c. 700-400 BC.   '],\n",
       "       ['single',\n",
       "        'In 1983 the head of an adult person was found on the conveyer belt of a peat company. The area of the likely findspot of the skull was investigated, but no other remains were found. The head was orginally thought to be of a 30-50 year old female, but this may not be correct; more recent publications mention it is a young adult, and possibly male.  '],\n",
       "       ['single',\n",
       "        'In 1987 part of a human body, which later proved to be part of the back, was found on the conveyor belt of a peat company. The peat coming from the assumed findspot was carefully investigated, which led to the find of over 70 additional pieces of the body. An excavation followed later that year. The remains are of a young adult male. '],\n",
       "       ['single',\n",
       "        'In 1972 a disarticulated skeleton of a male adult was found in Hartlepool Bay. It was uncovered by the sea on the beach. The body appears to have been lying on its right side. At the time of deposition the area was a coastal bog; it is also known for its submerged forests. The man was between 25-38 years old. He had suffered from two head injuries and a fractured rib, but these had healed. In the same layer as the skeleton, but at some distance, was a flint flake.   '],\n",
       "       ['single',\n",
       "        'In 1958 the head and upper three vertebrae of a c. 26-45 year old man were found during peat cutting. The find has been studied intensively and physical anthropological interpretations differ to some extent, but it is clear that the remains display various injuries. The man had a skull fracture, caused by a heavy blow (possibly with an axe) to the top of the head. He received a non-fatal sword blow behind the right ear, and was decapitated consecutively. It is assumed that at least two or three armed figures were involved in the assault that ended his life. An investigation after the find did not yield addition finds, probably indicating that the head was deposited separately in the bog.'],\n",
       "       ['single',\n",
       "        \"In 1967 a truncated skeleton of an adult female was found, scattered on either side of a ditch. The damage to the find was post-depositional. Below the body a 'regular setting of wood' was found. \"],\n",
       "       ['single',\n",
       "        'In 1984 the partial skeleton of a child was found during construction work. It was enclosed by an oval post setting consisting of oak stakes, position nearby a tree. Just a radiocarbon date of the stratigraphical layer of the find is available, which consists of coastal peat. '],\n",
       "       ['single',\n",
       "        'Before 1911 a human skull and lower jaw of an adult male were found at this site in the Cambridgeshire Fens. No detailed find circumstances are provided, except for a provenance from a peat deposit. Two similar finds of human bone material from Upware are recorded (Turner 1995, cat. no. 9/2 and 9/3), but these are undated and the relation with this find is unknown. '],\n",
       "       ['single',\n",
       "        \"In 1911 the skeleton of an adult male was found during draining activities. The bones were found just above the base of a fen peat layer of about 1.4 m thick, which rested on a clay deposit. According to the finder the skeleton was found 'hunched up and crowded into a small space, less than two feet square'. \"],\n",
       "       ['single',\n",
       "        'In 1864 the skeleton of an adult male of about 40 years old was found when workmen repaired an embankment, nearby the sea. It was situated underneath a peat layer on top of the blue clay underneath. The find was originally thought to be prehistoric, but a recent radiocarbon date has shown it to be between 1600 and 1900 years old. '],\n",
       "       ['single',\n",
       "        'In 1747 the well-preserved body of an adult was found during peat cutting, at a depth of c. 1.8 m. The body was reburied at the nearby churchyard. Just her left shoe has been preserved. Based on its characteristics the find has been dated in the late third or fourth century CE. The body has been described as female in the literature, but this only appears to be based on the size of the shoe. Therefore this gender determination should probably be considered unreliable.  '],\n",
       "       ['single',\n",
       "        'In 1927 the skeleton af a young adult was found, along with a knitted cap and a pair of trews. Some dark hair was still adhering to the bones. A birch stick was found across the body. Based on the clothing the find probably dates to the late 16th or first half of the 17th century CE. '],\n",
       "       ['single',\n",
       "        'In 1975 a nearly complete skeleton of a c. 17 year old, probably male person was found during peat cutting. The body lay on its back, at a depth of c. 0.9 m. Parts of the tissue were still preserved. The body appears to have been wrapped in cloth. A sleeved woollen jacket was found at the top half of the body. It is unclear whether this had covered the body, or if the deceased wore it at the time of burial. Along the body lay a twisted rush rope, which suggests hanging as a possible cause of death. This could not be corrobrated by physical anthropological observations because the hyoid bone and top vertebrae are missing. Two large slabs and two smaller stones were placed on top of the body. The cut of the doublet dates to about 1650-1660 CE, but may have been used for longer. '],\n",
       "       ['single',\n",
       "        'In 1920 the skeleton of an adult male was found, lying face down in the bog at a depth of c. 0.9 m. He was fully clothed, and wrapped in a plaid or blanket. His cap and shoes were placed above the knees. A purse with coins was found with the body. The youngest coin dates to 1694. The man appears to have met a violent death, as his skull showed the mark of a heavy blow.  '],\n",
       "       ['single',\n",
       "        'In 1881, the skeleton of a girl was found. Based on the worn and patched woollen clothing that was found with her, the find is dated in the 17th century. '],\n",
       "       ['single',\n",
       "        'In 1951 the fully clothed body of an adult male was found, stretched out in a shallow grave just below the surface. Various items were found with the body, including a horn spoon, a small horn, a knitted purse containing a silk ribbon and three coins, a small wooden tub, a wooden knife handle, two tables of wood and and two lengths of woollen cord. A stick lay across his legs. The youngest coin dates to 1690. His clothes, including knitted gloves, indicate a death in winter. The find is interpreted as a traveller who had lost his way in winter, and had been buried on the spot. '],\n",
       "       ['single',\n",
       "        \"In 1964, the body of a 20-25 year old man was found during peat cutting. He lay on his back, at a depth of c. 0.6 m below the surface. Even though traces of dark hair and finger and toe nails were found, the skeleton was in a poor state of preservation. His  clothes, including a knitted bonnet, were preserved well. No shoes or breeches were found. A small woollen bag containing a wooden comb and a small block of oak, a horn spoon, two quills, and three clews of wooll was found in the clothing. The quills are interpreted as pens. A fracture at the back of the skull, caused by a blow wielded by a right-handed assailant from the back, is is the cause of death. Based on the clothing the find is dated in the early 18th century. According to a Lewis tradition two young men quarrelled when they shared the spoil of a birds' nesting expedition, after which one of them fell the other by a blow on the head.     \"],\n",
       "       ['single',\n",
       "        'In 1932 the body of a fully clothed adult male was found during peat cutting. The man lay on his back in a shallow grave, on a depth of c. 0.75 m. He was covered with 5 carefully placed pieces of silver birch wood, parallel with the body, which are thought to have been used to carry the body across the bog. In an early source the shoes and cap are mentioned to have been cut by sword thrusts, but the reliability of this observation is unclear (damage caused by the peat cutting may be more plausible). Based on the clothing the find probably dates from the 18th or early 19th century. '],\n",
       "       ['single',\n",
       "        'In 1850 a well-preserved body of an adult male was found during peat cutting, as one of the few bog mummies retrieved from an upland blanket bog. According to the find descriptions the body had turned into a white fatty substance (adipocere). The body was clad in brightly-coloured woollen garments and a pair of leather shoes. No additional finds were done with the body. Just two pieces of textile, one of which is an insole, and one shoe have survived. The nailed shoe sole is of a distinct Romano-British regional style, providing an indication for the date of the find between the late first century and first half of the third century CE.  '],\n",
       "       ['single',\n",
       "        \"During construction work in 1973 for the development of a car park an oak coffin was found, consisting of two 'canoe-shaped' parts that originally were pegged together. The lid, which was damaged by plant roots, had been shatted by the mechanical excavator. The coffin was situated at the base of a blanket peat layer which was about 0.45 m thick. Whether it had been dug in the underlying gray clay is not fully clear. Just some human hair and nails had been preserved, as well as a folded woollen cloth of some 1.5 meter square. It appears that the body had been lain diagonally across the cloth so it could be wrapped in it. A separate piece of cloth, cut from the large one, was used to wrap the feet. Turner (1995) also mentions the find of three white feathers, which do not appear in the other sources.  \"],\n",
       "       ['single',\n",
       "        'Before 1923 the skeleton of an adult was found in Soham Fen. Jet beads and plates from a spacer necklace were found with the body, and Fox (1923) mentions a socketed chisel-like axe as well. Whether this axe forms a closed find with the other finds is not fully clear. Based on the jet ornaments the skeleton is dated in the Bronze Age. '],\n",
       "       ['single',\n",
       "        \"In 1968 a complete set of clothes of an approximately 4 years old child were found during peat cutting, at a depth of 3.5 feet (c. 1.05 m). The clothes were covered with a a man's much worn bonnet. No signs of the remains of a body have been found, apart from human hair on various places on the cloth. It is considered likely that the body had completely dissolved. The find is inpreted as a child burial, dated in the 18th century based on the typology of the clothes. \"],\n",
       "       ['single',\n",
       "        'In 1824 the skull of a young adult female was found during peat cutting, at a depth of 6 feet (c. 1.8 m). The skull, which still had abundant long hair attached to it, appears to have been wrapped in a coarse woollen cloth. Two strings of jet beads were found with the skull, one of them also containing a large amber bead. Based on the description of these beads the find is dated in the Bronze Age. '],\n",
       "       ['single',\n",
       "        \"In 1720 an oak coffin containing a skeleton of an adult was found during the digging of a drainage ditch, in a 'moist springy ground'. It was full of water when it was found. Besides the skeleton it contained about 30 small blue beads, a golden funnel and a shale object. Based on the description of these artefacts the find is dated in the Early Bronze Age.  \"],\n",
       "       ['single',\n",
       "        'In 1932 the skeleton of a young adult female was found during the widening and deepening of a drainage ditch. The skeleton was situated just above the base of a peat layer of 2 feet (c. 0.6 m) thick, overlying buttery clay. Along with the skeleton eight fusiform jet beads and a bronze awl or pin were found. Based on these artefacts the find is dated in the Early Bronze Age. '],\n",
       "       ['single',\n",
       "        'In 1846 labourers digging peat discovered the skeleton of a young adult female, at a depth of some 10 feet (c. 3.3 m) underneath the surface. A pair of leather shoes had earlier been found. A stone was found near the head of the skeleton, and another one near the feet. In Turner 1995 the find is tentatively dated in the Roman period, based on the description of the shoes. Nevertheless the association of the shoes and skeleton is not fully clear.    '],\n",
       "       ['single',\n",
       "        'Before 1910 a fragment of a human skull was found, associated with a sacrum of Irish elk. Turner (1995) dates the find in the Neolithic, based on the site stratigraphy. '],\n",
       "       ['single',\n",
       "        'In 1879 a log coffin was found, presumably during peat cutting, with an apparent mound over it. The ends of the hollowed out trunk had planks inserted, which were kept in place by stakes driven into the bog. Logs were placed on top and around the structure, with a cover of hazel and birch twigs. Even though no bones were found in the coffin it is generallu assumed to be a burial.  '],\n",
       "       ['single',\n",
       "        'In 1864 the body of an adult female was found during peat cutting, at a depth of c. 1.2 m. The well-preserved body was clothed, and wrapped in two petticoats. One was around the lower part of the body, the second was tied around the upper half. The find has - amongst others - been linked locally with the disappearance of a young woman around 1600, who was allegedly murdered and buried in a moss. This claim is uncertain, but Cowie et al (2011) date the body after the Middle Ages. This assumption is probably at least partly based on the clothing.  '],\n",
       "       ['single',\n",
       "        'A few years before 1823 two peat cutters re-opened the burial of a man who, according to local tradition, had committed suicide around the year 1718. They discovered that the deceased had been buried with the rope that he had hanged himself with. The fully clothed body was well-preserved. In his pocket three coins were found. The find has been described first by the writer James Hogg, short after it was discovered, and has been disregarded in earlier publications as being fictional. However, Cowie et al. assume the description to be reliable. '],\n",
       "       ['several',\n",
       "        'In 1889 the body of an adult man was found during peat cutting, at a depth of 4 feet and 6 inches (c. 1.4 m). The feet and one bone of the lower leg were missing, probably due to the peat cutting. The man lay face down. No clothes were found on the body. Based on the described stratigraphy the find is dated in the Early or Middle Bronze Age. The body was reburied at the churchyard soon after the find. Two bog mummies are reported to have been found earlier in the same bog, but these cannot be dated.  '],\n",
       "       ['single',\n",
       "        'A c. 16-year old girl was found in 1897 when extracting peat with dredging poles in a small bog near Yde. She was wrapped in a heavily worn woollen cloack, missed the right half of her hair and probably lay face down. A braided woollen cord with a sliding knot around her neck was probably used to strangle her. She may have suffered from scoliosis. '],\n",
       "       ['single',\n",
       "        'In 1914 a bog mummy of an adult person was found during peat cutting, at a depth of 50-60 cm. The body probably lay face down, and according to the finders was deposited in a dug pit. Based on facial hair the person is assumed to be male. An age younger than 45 is likely. The legs were missing and the front part of the body was poorly preserved. '],\n",
       "       ['single',\n",
       "        'In 1938 a possibly male bog mummy was found during peat cutting, at a depth of 90 cm. The site was investigated by researchers of Groningen University, right after discovery.The body probably lay face down, under a number of hazel branches. The man was wrapped in a skin cape. Within the cape two thick alder branches were found, parallel to the body. An undergarment was wrapped around the feet. A sheepskin cap and one deerskin shoe were found near the body. A tonguebone and a toe phalanx are the only bones that were found.'],\n",
       "       ['single',\n",
       "        'In 1931 an almost complete skeleton of a male was found, aged between 35-45, possibly underneath brushwood or two birch branches.  Sources differ on the exact find depth; a depth of 3.50m is probable. Arrested growth during childhood and adolescence, had had a broken right upper arm which had not healed perfectly.'],\n",
       "       ['single',\n",
       "        'In 1951 an unclothed female bog mummy was found during reclamation of a relatively small bog. She was aged around 35. She probably lay on her back and was deposited in a dug pit. She probably suffered from dyschondrosteosis, a condition causing a short stature and short forearms and lower legs. Her hair appears to have been cut before deposition. '],\n",
       "       ['single',\n",
       "        'An unclothed bog mummy of an adult male was found during peat cutting in 1891, at a depth of one metre and just six metres away from the wooden trackway known as Valtherbrug which appears to be roughly contemporaneous. A second small trackway section, 55 m north of the body and called X (Bou) by Casparie (1987), has not been dated. The man lay on his back. His right arm pointed upwards and his left one lay on the abdomen. Gender determination based on the observation of a beard. The body was reburied within a few days by command of the mayor. Only a piece of hair has survived, enabling a radiocarbon date. '],\n",
       "       ['single',\n",
       "        'An almost complete bog mummy, probably male, was found during peat cutting in 1921 at a depth of c. 25 cm. The body was divided in pieces; only the left arm has been preserved.'],\n",
       "       ['single',\n",
       "        'In 1921 various finds were done during construction work for a ship lock, in a peat layer at a depth of 5 m. The site consisted of a low-lying peaty area between coastal barriers. The finds consist of a human jaw of an adult, a bronze neck ring, 34 amber beads and 10 glass beads. They are assumed to represent one single deliberate deposition, dated to the Late Iron Age.  '],\n",
       "       ['single',\n",
       "        'In 1784 a bog mummy was found during peat cutting in a relatively small bog, at a depth of 2,5 feet (c. 0.75 m). The body was excavated in two stages. Just a skin fragment of the left part of the chest has survived. The body was probably of a young female, who more or less lay face down. At the time of the find she was estimated to be around 14-16 years old. It is unsure how reliable this statement is. The body was unclothed, and no other finds were done.'],\n",
       "       ['single',\n",
       "        'In 1817 a human skeleton was found underneath two rotten cross-placed wooden posts, at a depth of about 2 meters. In the first historical find publication the skeleton is ascribed to a woman. It is uncertain how reliable this statement is. Some clothes were found as well: a sleeveless woollen tunic, a pair of woollen knee-length breeches, remains of a third woollen garment and a leather shoe.  '],\n",
       "       ['single',\n",
       "        'In 1861 a human body was found. The feet had already been dug away at an earlier stage. At least part of the skin had been preserved, along with skeletal material. Based on the size and form of the skull the body was tentatively ascribed to a young woman. It is uncertain how reliable this observation is. Several woollen garments were found, one of which after analysis appeared to be of subrecent date (time of discovery). '],\n",
       "       ['single',\n",
       "        'In 1895 a male body was found during peat cutting at a depth of about two metres in the Kehdinger Moor, along with several pieces of clothing: a woollen cloak, a tunic, a pair of breeches, leg wrappings and shoes. Two small silver ornaments were found as well. The man was noted to have a moustache and beard. Large parts of his body were probably ground to mumia, a medicin supposed to have healing power. '],\n",
       "       ['single',\n",
       "        'In 1900 an unclothed male body was found during peat cutting at a depth of about 0.5 metres. The body lay on its back and had striking long hair. His age is estimated between 25-32 years. Skeletal markers on his femurs indicate that the man rode horse intensively. His right collar bone was fractured during his lifetime, possibly resulting from a spear or arrow hit, and had not healed properly. A knife wound on the left side of the neck is the probable cause of death. The body was probably deposited in a depression in the bog and may have remained on the surface for a while before it fully submerged. After the find the body was reburied at the churchyard, but re-excavated again afterwards. In 1901 a green piece of cloth was found at a distance of four meters of the findspot, which was not preserved. '],\n",
       "       ['single',\n",
       "        'In 1903 a male bog mummy was found during peat cutting at a depth of 75-80 cm. The body belonged to an adult male, who according to one report was between 30-40 years old. It is unclear how reliable that statement is. The body was unclothed and lay face down, probably in a dug pit. The arms and legs were probably tied with twigs of ash wood, with the hands behind the neck. Near the body three stones were found. An iron ring may have been found as well, but reports on this differ. The body, which was kept in Berlin, was lost in 1945 during a bombardment. Just a lock of hair has survived. '],\n",
       "       ['single',\n",
       "        'In 1907 a body of an adult male was found during peat cutting. He had been buried in a pit that, according to the finders, had been padded with moss. A large hazel branch was placed diagonally over the body. Most of the skeleton has been preserved, as well as hair and clothes. The man was between 30-60 years old. His clothes consisted of two cloaks, a sleeved tunic, leg wrappings and two leather belts. A leather knife sheath was found with the body. Research in 2011-2016 demonstrated that the man had suffered from phases of malnutrition and had osteoarthritis in his hip joints. He had a well-healed rib fracture, and some vertebrae in his back had fused as a result of an inflammatory disease. Additionally he may have had cancer, which was possibly the cause of death.   '],\n",
       "       ['single',\n",
       "        'In 1922 the body of a 7-13 year old boy was found by a farmer, during peat cutting at a depth of 1.2 m. The boy was unclothed and lay on his back. His arms were tied behind its back with pieces of woollen cloth, which was also wrapped around its neck. The feet probably were tied together with a cape. It has been assumed that the child could not walk properly because of an infection on the right hip joint, but this could not be corroborated by later forensic research. He did suffer from phases of malnutrition or poor health. The boy was killed with three knife stabs in the left side of the neck.    '],\n",
       "       ['single',\n",
       "        'In 1934 the body of an adult male was found during the clearing out of a drainage ditch in a raised bog. The man was about 35 years old. He lay on his right side, in an elongated natural depression. He lay under three pointed wooden posts. One was positioned in the same direction as the body. The other two had an opposite orientation and were driven in both sides of the depression, ensuring that the body was firmly fixed. A woollen cloak and cape skin cape were found with the body. '],\n",
       "       ['single',\n",
       "        'In 1938 a left leather shoe or low boot was found in the middle of the Grossen Moor, at a depth of about 90 cm. It contained the bones and skin remains of a foot. Based on the size of the shoe (42-43) the remains are assumed to belong to a male adult. Next to the foot a crooked wooden stick was found, which stood pointing upwards. No other body parts were found. The only other find was a thin fragment of calf skin leather, which was not part of the shoe. The shoe was dated typologically in the 13th or first half of the 14th century CE. The site is about 320 m away from the findspot of the Hunteburg Men, who date from a significantly older period.'],\n",
       "       ['single',\n",
       "        'In june 1949 human remains were found in the Grossen Moor, at a distance of about 300 metres from the findspot of Hunteburg I and II. In this case it concerned a humerus, part of a shoulder blade, possibly part of a pelvic bone, a rib, and a radius or ulna. These bone were determined to belong to an adult male. A piece of animal skin, possibly of a roe deer, was found as well.   '],\n",
       "       ['single',\n",
       "        'In 1939 parts of a human skeleton were found during peat cutting. The remains had been stacked in an area of approximately 0,5 m2. Originally there was uncertainty about the gender (the remains have both been ascribed to a man and to a woman) but detailed analysis in 2010 has demonstrated they belong to a child of 12-14 years old, probably a boy. During his lifetime he probably limped due to a deformation of the head of the left femur and an infection of the right tibia, near the ankle. A pointed wooden stick was found nearby the body, the lower part of which was charred. According to Hayen this probably is unrelated to the skeleton due to a different stratigraphical position.   '],\n",
       "       ['single',\n",
       "        'In 1941 the body of a c. 40-50 year old male was found during peat cutting. The man lay on his back and was unclothed. During excavation the body was heavily damaged. Especially the legs are preserved poorly.'],\n",
       "       ['single',\n",
       "        \"In 1955 a shoe containing a foot and part of the lower leg was found when drainage ditches were dug in a part of the Lengemoor. It had already been dug up the year before, but was not discovered then. The shoe also contained a fragment of textile. A small-scale excavation followed, but no other body parts were found. The original stratigraphical position of the foot was estimated to be about 0.75 m above the sandy subsoil. Later analysis demonstrated ancient hew marks on the leg, leading to the conclusion that just an 'amputated' left foot was deposited.\"],\n",
       "       ['single',\n",
       "        'In 1828 the travelling merchant Johann Spieker died, probably due to drowning, in the Goldenstedter Moor. When his body was found that same year he was not brought to a churchyard, but buried in the bog. His grave, marked with a fence and an oak wooden cross, remained visible for since. It was excavated when it was threatened by peat cutting in 1978.  Just his cloak, some coins and remains of a prayer book were preserved. '],\n",
       "       ['single',\n",
       "        'In 1871 the body of an adult male of about 40-50 years old was found during peat cutting, approximately 0.9 metres under the surface and with the head about 40 cm deeper than the feet. The man lay face down and wore a fur cape and woollen cloak. Various skull injuries demonstrate that he was killed with severe blows to the head. According to the finder his clothes lay nearby the head, leading to the assumption that he may have been dragged through the bog. Near the findspot a horse bone was found, but a relation with the body is probably unlikely. At a later stage pieces of leather clothing were found 4 m east of the body, at a depth of 115 cm., which could not be preserved. According to the finder these may have been found earlier, after which they were reburied. '],\n",
       "       ['single',\n",
       "        'In 1890 a body of an adult was found during peat cutting, at a depth of about 1.0 m. The body, of an unknown gender and unclothed, lay on brushwood of birch and was positioned within a small burial chamber (2 x 0.6 x 0.9 m) constructed with wooden posts.  A woollen necklace with a length of 59 cm was found with the body. Only little remains of the body itself have survived. An early report mentions a severe blow to the back side of the head as cause of death, but this is not repeated in more recent literature and can be considered doutbful seen the poor preservation state.'],\n",
       "       ['single',\n",
       "        'In 1900 the body of an adult male was found during peat cutting, at a depth of 2.5 - 3.0 m. The man lay on his left side, his head lying on his left arm. The man was unclothed, but near his feet a woollen cloak, a pair of woollen breeches, two woollen leg wrappings, two leather belts and a pair of leather shoes were found. A possible stab wound in the chest may indicate the cause of death. Trace element analysis indicates that the man was probably in metalworking, for example the gilding of gold and silver.'],\n",
       "       ['single',\n",
       "        'In 1926 the body of a 2 or 3 year old girl was found during peat cutting. The girl lay on her back, with her arms and knees raised. She was placed in a pit and covered with a woollen cloak, and may have been covered with heath sods afterwards. The body was lost in a bombardment in the Second World War. '],\n",
       "       ['single',\n",
       "        'In 1934 human skeletal remains, including a skull and some other bones, werd found during peat cutting. Pieces of woollen and roe deer leather clothing were found as well. During a following small-scale excavation a leather vessel, some pointed wooden sticks and a few stones were retrieved. One of the sticks pinned a piece of textile to the ground. The vessel was composed of two types of leather and decorated with horse hair. The remains belong to a girl of approximately 14 years old.   '],\n",
       "       ['single',\n",
       "        'In 1948 the head of a man was found during peat-cutting, at a depth of between 0.65-0.70 m. The well-preserved hair of the man was tied in a so-called Swabian knot. The head was wrapped in a fur cape of roe deer. The man, who was between 50-60 years old, was hit on the left temple with a blunt object, causing bone splinters to enter the brain. The second cervical vertrebra demonstrates cut marks, indicating decapitation. '],\n",
       "       ['single',\n",
       "        'The 1959 the body of a unclothed, decapitated male adult of c. 30 years old was found during mechanical peat cutting, by prisoners. The following year the head of the man was found, at a distance of three meter. The hair was tied in a Swabian knot. The man had a partially healed fracture of the left humerus. His body demonstrated various cut, stab, and blowmarks. One of the stabwounds, near the heart, is the likely cause of death. The penis of the man was cut off at or immediately after the time of death. The body was pinned to the bog with three large birchwood sticks, and a smaller fourth one. '],\n",
       "       ['single',\n",
       "        'In 1754 a bog mummy was found during peat cutting, at a depth of approximately 1 m. In the literature the body is described as an adult male, without further explanation. The man lay face down and wore a cloak, cap and shoes. On top of the body a wooden stick as thick as an arm was found. The body was reburied at the churchyard of Zeven. Just some textile fragments have been preserved.  '],\n",
       "       ['single',\n",
       "        'In 2000 and 2005 remains of a young woman of between c. 17-20 year old were found during mechanical peat cutting, at a depth of about 0.6-0.8 m. Most parts of the skeleton were found, as well as some tissue (mainly a well-preserved hand) and hair. No clothing or associated finds were retrieved. The girl suffered from repeated phases of physical stress, probably caused by malnutrition or infectuous diseases, during her childhood. The cause of death is unknown.    '],\n",
       "       ['single',\n",
       "        'In 1957 a wooden coffin with the body of adult woman was found during peat cutting, at a depth of about 0.5 m. She wore a woollen cloak, knee-high boots and a hairband. She was about 20-30 years old at the time of death. The cause of death is uncertain; one hypothesis is that she died during or after childbirth. This is based on an early physical anthropological study, but could not be confirmed during later analyses.  '],\n",
       "       ['single',\n",
       "        'In 1927 the body of an adult male was found during peat cutting, at a depth of 0.75 m. The man lay face down and was covered with spruce branches. A wooden knife handle was found with the body, as well as some leather straps situated in the neck area. Additionally, some two dozen acorns were found. Based on the clothes of the man (especially his Lederhosen) the find is dated in the 18th or early 19th century. '],\n",
       "       ['single',\n",
       "        'In 1939 the bog mummy of a 12-14 year old girl was found during peat cutting, at a depth of between 1.60 and 2.05 m. She lay on her back, with her arms crossed over her chest, and was wrapped in a large sheepskin coat. A wooden comb was found with the body. The girl suffered from repeated phases of physical stress, probably caused by malnutrition or infectuous diseases, during her childhood. The cause of death is unknown. The body was lost in 1944-1945 during bombardments of Kaliningrad, where she was stored. Based on an early palynological study the find was dated around 500 BC, whereas the comb was typologically dated in Hallstatt D. As such a date between c. 800 and 400 BC is likely. According to Van der Sanden a younger date cannot be fully excluded, based on decorations of the comb (dot-circles). '],\n",
       "       ['single',\n",
       "        'In 1943 the bog mummy of an adult male was found, presumably during peat cutting. The man lay on his back. The body was lifted by archaeologists of the Landesamt fur Vorgeschichte. The body was lost during a bombardment in the final years of WWII. Based on palynological research at the find location the body was dated around 500 CE, but this date can only be used as a rough first indication of its age. Research of his intestines demonstrated that he suffered from three different parasites, probably including human whipworm. This species has been observed repeatedly in human remains dated to the Roman period. '],\n",
       "       ['single',\n",
       "        'In 1936 a human skeleton was found during peat cutting. Two amber beads and a bronze fibula were found as well. Not much is known about the site and the skeletal remains, but the beads and an Armbrustfibel are listed by Tempelmann-Magzynska (1985) in her overview of Roman-period and early Migration period beads in central Europe. Typologically these finds can be placed roughly in the phase 150-550 CE. '],\n",
       "       ['single',\n",
       "        'In 1936 the bog mummy of a c. 25-27 year old woman was found during peat cutting, at a depth of c. 1.1 m. Based on the find of a coin minted in 1667 and a brooch the body has been dated in the final stage of the 17th or the initial stage of the 18th century. After forensic examinations the body was reburied. The clothes, coin and brooch have been preserved. Possible marks of strangulation or hanging have been reported, but it is unclear how reliable this is.   '],\n",
       "       ['single',\n",
       "        'In 1952 parts of a skeleton of an approximately 55-60 year old man were found, during the digging of a drainage ditch and a consecutive small-scale excavation. The remains were found at a depth of approximately 0.7 m. Amongst others the skull, a humerus, two femurs, a rib and two vertebrae are represented. The cause of death could not be determined with certainty, but drowning has been suggested.  '],\n",
       "       ['single',\n",
       "        'In 1936 the skeleton of an approximately 40-50 year old woman was found during peat cutting, at a depth of 0.67 m. The body was fully clothed and wrapped in a woollen blanket. It was covered by birch bark and was lying on a skin of reindeer, which was placed on top of a number of birch branches. The finder mentioned to have seen fractures of the skull, but this is not mentioned in later studies and may well have been a post-depositional feature. The find is dated in the 11th c. CE, and probably in the second half of that century, based on a combination of radiocarbon dates and the costume. The discussion has centered on the ethnic origin of the woman, who is thought to have been a Sami; nevertheless the burial and costume also show Norse features.   '],\n",
       "       ['single',\n",
       "        'In 1972 a large part of a cranium (without the mandible) of a c. 20 year old female was found during the digging of a ditch to drain a bog. It wa found in a clay layer underneath the bog of a depth of c. 1m. A small test pit was excavated, but no further human skeletal remains were found. Defects in the bone structure indicate that the woman may have died from meningitis. The cranium is assumed to have been skeletonised at the time of deposition. At that moment the site probably consisted of open water. '],\n",
       "       ['single',\n",
       "        'In 1946 the skeletal remains of a c. 30 year old female were found. The initial finds were done during drainage activities, at a depth of 0.4 m, after which a small test pit was excavated. The bones were found scattered. Not all bones were retrieved, but the skeleton is assumed to have been complete at the time of deposition. At that time the site probably consisted of a pond. Anatomical analysis did not reveal any traces that could indicate the time of death. A small flint flake was also found in the bog, and a flint axe was found nearby the site as well. The association with the skeletal remains is unclear.   '],\n",
       "       ['single',\n",
       "        'After an initial find of a human femur in a wetland area during drainage activities in 2013 an extensive excavation followed the next year, during which a second femur and various animal bones were found. Both femurs probaby belong to the same woman, with an age of c. 20-30 year. They are dated to the Iron Age, whereas the animal bones (mainly consisting of horse, cattle, sheep/goat and pig) are younger. The only exception is a cattle bone, which has produced a date similar to the human bones. A small cairn, placed on the former shore, is also dated to a younger phase.  Overall the site was used, somewhat discontinuously, between c. 500 BC and AD 1000. At the time of deposition of the human bones the site consisted of open, standing water. The cause of death is not established. It is assumed that the deposition consisted of detached body parts; no significant disturbance of the find context has taken place.  '],\n",
       "       ['single',\n",
       "        'In 1910 the partial skeleton of a female of 45-60 year old was found in a bog on a farmstead. The find was done at a depth of 1.5 m about 40 m from the edge of the bog. The mandible, right forearm, left hand, both feet, vertrebrae and right lower leg are missing. The remains are preserved and fragmented. They are assumed to have been deposited in anatomical disorder. The cause of death is unknown. Traces of osteoarthritis were observed on the left elbow and both knee joints.    '],\n",
       "       ['single',\n",
       "        'During an excavation the partial skeleton of a male of c. 35-55 years old was found. The skull, left forearm and hand, left scapula, most vertebrae and various ribs are missing. The bones were in disorder, but nevertheless close together. This is interpreted as a deliberate act and not a postdepositional feature. The remains were covered with branches and trunks of birch, as well as several large limestones. Additionally, bones of dog, geese, and cattle/horse were found. No radiocarbon dates are available for the human bone, but a birch branch and bast rope have been dated. Based on that the skeleton is assumed to date from approximately 500 BC.  '],\n",
       "       ['unknown',\n",
       "        'During an excavation various human bones were found. At least part of these belong to a male of c. 30-40 year old. As some bones appear to display female traits, it is possible that a second individual is represented. Nevertheless this is not certain. The bog context was disturbed, and the excavation was hampered by wet conditions. This may explain why so little remains were found. At the time of deposition the site consisted of open water. The cause of death has not been established. At a distance of 300 m two more skeletons (II and III) were found. '],\n",
       "       ['single',\n",
       "        'During drainage activities in 2013 parts of a skull of a male of c. 20 years old were found. The exact find location has not been recorded, and an attempt to locate the site through archaeological survey did not yield any results. '],\n",
       "       ['single',\n",
       "        'In 1942 the remains of a wooden coffin were found during peat cutting, at a depth of 0.45 m. The coffin, which did not have a lid, contained the remains of an approximately 20-year old fully clothed woman. She lay on her left side and was covered with a woollen cloak. Her hands, and possibly her legs as well, were tied. A deformation of her right shin bone indicates that she suffered from athethosis. Beside the body a leather pouch with some coins, a glass bead, a knife, three buttons, a brass tobacco box and a clay pipe. Based on the coins and the typology of the pipe the find is dated around the last decade of the 17th c. CE. '],\n",
       "       ['single',\n",
       "        'In 1936 the well-preserved bog mummy of an approximately 25-40 year old male was found during peat extraction, in a relatively small bog. The upper parts of the body were heavily damaged by the extraction work, whereas the lower parts were preserved well. At the time of deposition the site probably was a lake. The man had been impaled to the lake bed with an oak stake and a beech stake. He had suffered three blows to the skull, one of which was probably fatal. Based on the typology of the clothing the find was dated around the 14th c. CE, which fits well with the outcome of a radiocarbon date of textile. '],\n",
       "       ['single',\n",
       "        'In 1943 the largely complete skeleton of an 15-20 year old girl was found during peat cutting. After the initial find of some bones the peat block was lifted and excavated in Stockholm. Near the position of her stomach a large quantity of raspberry seeds were found, indicating her last meal shortly before her death. The skeleton was situated at the base of a layer of marsh peat, underlain by chalk gyttja, at a depth of c. 1.2 m. At the time of deposition the site consisted of a chalk marsh with stands of sedge, some shallow open water, and a seasonally fluctuating water level. Three years earlier a flint arrowhead was found some 6 metres away from the site, but a connection with the skeleton is thought to be unlikely. The feet of the girl may have been tied, and she was possibly intentionally drowned. Strontium isotope analysis demonstrates that the girl was probably born in Scania in southern Sweden. '],\n",
       "       ['single',\n",
       "        'Around 1980 the skull of an approximately 15-20 year old girl was found during the cleaning of a canal between two lakes. The mandible is missing. The find was not spotted in situ but was noted later, lying among the sediments cleared out by the machine. It is not known whether postcranial bones were originally present as well. Even though the find has not been recorded in its stratigraphic context it is thought to have come from the transition between a layer of at least two metres of peat and the underlying layer of chalk gyttja. No signs of disease or trauma have been observed on the skull.'],\n",
       "       ['single',\n",
       "        \"In 1920 the complete skeleton of a c. 20-25 year old male was found during the digging of a canal. The skeleton was lying in the bottom part of a layer of clay gyttja, above an oyster shell layer. The body appears to have been lying on the left side, with its face downwards. Beside the head a neolithic stone axe of unusual type was found, and in the same layer there were also a few animal bones of red deer, cattle and beaver. The man had suffered sharp force trauma on his left ulna and right tibia, presumably from a stone axe. In 1992 a small-scale excavation was done at the site. The find was originally interpreted as a 'normal' burial related to a nearby settlement, but Sjögren et al (2017) indicate a wetland deposit/sacrifice may be more likely.  \"],\n",
       "       ['single',\n",
       "        'In 1948 parts of a skeleton of a c. 19-25 year old female were found during peat cutting. At least the cranium, four ribs and four extremity bones are represented. Due to the find circumstances it is unclear whether the other parts of the skeleton had been deposited as well. The find was done in a small bog, in which several Neolithic finds were done in the 1940s. This includes stone axes, funnel beaker pottery and animal bones. '],\n",
       "       ['single',\n",
       "        'In 1955 a human skull and a few vertebrae of a c. 40-year old man were found in a carr, in a gyttja layer at a depth of 0.9m. Two lesions were observed on the skull, only one of which had healed. The fatal wound may have resulted from an axe blow. According to Sjögren et al. (2017) an assignment to the (possibly late) Neolithic appears reasonable, based on the combination of a radiocarbon date of gyttja and palynological observations.   '],\n",
       "       ['single',\n",
       "        'In 1991 the skull of a young adult male was found during the digging of a drainage ditch. No other skeletal elements or associated artefacts were retrieved. The skull has been subjected to genetic analysis.'],\n",
       "       ['single',\n",
       "        'Find of a skull of a female of c. 35-40 year old. The find circumstances are not described in detail. The find has been subject to strontium isotope analysis. '],\n",
       "       ['single',\n",
       "        'In 1948 the skeleton of a 35-45 year old male was found during the excavation of a drainage ditch in a bog, at a depth of c. 1.0 m. The body lay on its back. The skeleton was partly disturbed, but most skeletal parts were recovered during a small-scale excavation. Seven bones of horse, cattle and sheet/goat were found 30 cm above the body, but have older radiocarbon dates and therefore also point to disturbance. The skeleton lay under a layer of birch brushwood, which is interpreted as either related to the deposition of the body or a (younger) trackway. The stratigraphical relation with the animal bones is not described in detail. The skeleton shows various indications of trauma, both ante and perimortem. Healed blunt force trauma to the head may result from a blow or fall. The right fibula was fractured, causing an infection and strain on the lower left fibula. Signs of antemortem  tooth-loss, ectocranial pitting and osteoarthritis indicate a deteriorated health status. Several indications of sharp force trauma to the head and the body (clavicle, ribs, coxae and femurs), inflicted by at least two persons, point to a violent death. A rope was found nearby the body, which may indicate the man was tied or strangled. At the time of deposition the site was a smaller, shallow water element in a landscape characterised by a number of deeper bays.'],\n",
       "       ['single',\n",
       "        'In 1929 an oak-log coffin was found while ploughing land that had recently been transformed from wetland to farmland. It contained the skeleton of a 40-50 year old man. A sword and a fibula were found with the body, as well as a resin cake. The skull demonstrates both blunt and sharp force trauma. One of the blunt force injuries had healed. Further indications of sharp trauma and cut and scrape marks were observed on various bones. There were degenerative changes in the vertebrae, shoulder blades and pelvis, including eburnation in the vertebrae, but these are not unusual in older individuals. The observed trauma indicates that the man was involved in armed conflict, met a violent death and a kind of post-mortem body treatment such as defleshing. A date in the 14th or 13th century BC is likely, based on the artefact typology and similar Danish oak coffin finds.  '],\n",
       "       ['single',\n",
       "        'Fredengren (2011) mentions the find of a cranium of a middle-aged woman and various animal bones of dog, cattle, horse and pig, found in a bog within an area of 50 m. The find circumstances are not described, but the stratigraphy is mentioned to consist of peat on top of gyttja and clay. Based on pollen analysis the finds have been dated in period III-V of the Bronze Age. Some reservations with regard to the reliability of this date are necessary. '],\n",
       "       ['single',\n",
       "        'Skeletal remains of a young adult female, found at a depth of c. 0.5 m. The find circumstances are not mentioned, apart from a provenance from a bog. Nothing is mentioned about the represented body parts, but at least a skull has been found. The teeth demonstrate enamel hypoplasia, which may point to malnutrition or disease in early childhood.'],\n",
       "       ['single',\n",
       "        \"In 1900, a human skull of a young adult, possibly male, was found at a depth of c. 1.5 m. The find circumstances are not described. The skull demonstrates indications of cribra orbitalia, ectocranial pitting and periostitis, as well as possible post-mortem modifications ('shaping'). Based on staining of the skull it is assumed to have been placed upside down on the surface of the bog and exposed to air at some stage, after which it became buried. No other finds were directly associated with the skull, but the bog has also amongst others yielded a stone axe, a bronze age lur and a bronze torc. \"],\n",
       "       ['single',\n",
       "        'In 1865 the (incomplete) skull of a young adult, possibly female, was found. The find circumstances are not described. The skull demonstrates indications of mild ectocranial pitting and ante mortem blunt force trauma.  '],\n",
       "       ['single',\n",
       "        'A human mandible of a young adult, possibly male, was found in a clay pit at the edges of Vesum bog. It shows evidence of an infection and mild periostitis. Signs of gnaw marks indicate that it was left exposed to animals for some time before it was deposited in the bog. '],\n",
       "       ['single',\n",
       "        'Skeletal remains, including a skull, of a middle-aged male. As the description of the find and find circumstances are undetailed it is not clear whether the skeleton was complete or if only parts of it have been deposited. The remains demonstrate evidence of periostitis, a benign tumour and ante-mortem blunt-force trauma to the head. Furthermore, post-mortem cut-marks have been observed. '],\n",
       "       ['single',\n",
       "        'In 1954 the skeleton of a juvenile, possibly female, was found during peat extraction. Attempts to establish a radiocarbon date failed due to low collagen values. The find is palynologically dated to the Boreal period. '],\n",
       "       ['single',\n",
       "        'In 1994 the skeleton of a 45-60 year old male was found during the digging of a pond, at a depth of c. 1.2 m. in a gyttja layer. It had been deposited in open water in a small lake.  '],\n",
       "       ['single',\n",
       "        'In 1866 skeletal remains of a male of mature age (older than 35) were found during peat extraction. A provisional excavation followed. The skeleton was not complete, and the bones were not in anatomic order. The skeleton demonstates numerous injuries. These include three circular fractures to the head (perhaps caused by a spear shaft), a massive blow to the skull, stab wounds to the abdomen and hip (from a dagger or knife), deep ‘chopping’ blows to the mandible (possibly caused by an axe) and over seven hundred smaller cut marks across all skeletal elements (including the interior of the cranium).  These injuries suggest multiple fatal wounds followed by dismemberment and complete defleshing of the body. '],\n",
       "       ['single',\n",
       "        'During the digging of drainage ditches in a bog, possibly in 1903, the skeletal remains of a c. 20 year old woman and a dog skeleton were found. '],\n",
       "       ['single',\n",
       "        'During peat extraction in 1949 the femur, tibia and ilium of an adult, probably male, were found. '],\n",
       "       ['single',\n",
       "        'In the early 1960s skeletal elements of an adult woman were found during the digging of a canal. '],\n",
       "       ['single',\n",
       "        'In 1942 a skeleton of an adult was found in a bog. No additional artefacts were retrieved. Sjögren et al. (2017) mention a probable Early Iron Age date. '],\n",
       "       ['single',\n",
       "        'In 1953 skeletal remains of the upper body and some of the foot bones of a 40-60 year old man were found in peat during the digging of a trench in a field near Granhammar castle. The personal equipment of the man, including a bone awl, a bronze awl with wooden shaft, a tip of worked elk bone, a flint scraper and a whetstone were found with the remains. Various axemarks on the skull indicate that the man was killed with a bronze axe. His left arm demonstrates defensive injuries. The man is thought to have come from the Skåne area and to have travelled by boat. After the attack his body floted out in the river, and later sunk. At the time of his death the man had severely worn teeth, a chronic infection in his jawbone and abrasions in his right arm '],\n",
       "       ['unknown',\n",
       "        'During the excavation of a Mesolithic settlement layer in a bog, between 1946-1949 and 1972-1974, five scattered human bones were found. Four of these come from a white layer containing waterlain sand and gravel, the fifth from an overlying peat layer. The bones all come from late adolescents or adults. It is unclear how many individuals are represented. The bone from the upper peat layer, a humerus, shows evidence of an infection that had caused secundary reactive bone growth. This had not healed.  '],\n",
       "       ['single',\n",
       "        'In 1946 the bog mummy of an adult male was found during peat extraction, at a depth of c. 0.5 m. He had been put in an old peat cutting in a sitting position, with his legs bent and crossed. The body was covered with a layer of birch branches. The man was unclothed, apart from two sheepskin capes placed at his feet. The back of the skull was crushed, and the right thigh-bone was fractured. A long hemp rope with a slip-knot found around his neck had been used to strangle or hang the man. '],\n",
       "       ['single',\n",
       "        'In 1948, the bog mummy of a 20-35 year old female was found, lying face down in an old peat cutting. She was partially covered by a blanket or skirt, and a leather strap was found as well. The woman was originally thought to have suffered from skull trauma and to have been scalped, but later forensic research demonstrated this to be post-depositional. The cause of death has not been determined.'],\n",
       "       ['single',\n",
       "        'In 1927 the bog mummy of a young adult male was found during peat cutting. The body was wrapped in three skin capes. No other clothing is mentioned in the literature. '],\n",
       "       ['single',\n",
       "        \"In 1843 the bog mummy af an adult woman was found. She was wrapped in a blanket of sheep's wool. At her neck lay a bronze fibula of Haralted type and seven glass beads. According to Ravn (2011) the caring treatment of the body and the accompanying artefacts are reminiscent of inhumation graves from the Late Roman period. Shortly after the discovery the body  was reburied, but later it was excavated again. \"],\n",
       "       ['single',\n",
       "        'In 1842 a bog mummy of an adult was found during peat cutting. It lay outstretched, facing downwards, at a depth of c. 1.2 m. Just a foot wearing a shoe and two pieces of cloth have been preserved. Because of the small size of the foot it was previously interpreted as belonging to a female, but recent anthropological research has shown that a male is more likely. '],\n",
       "       ['single',\n",
       "        'Mannering et al. (2010) list the find of a bog mummy. It was found by the landowner and sent to the National Museum, but has not been preserved. The gender and age are unknown, but textile associated with the body has been radiocarbon dated. Hald (1980) mentions three pieces of cloth tacked together with a coarse thread, found in a bog near Grathe Hede. The relation between both is unclear.  '],\n",
       "       ['single',\n",
       "        'In 1835 the bog mummy of a c. 40 year old woman was found during peat cutting. The woman, who originally was believed to be the Viking queen Gunhild, had long hair. She was found with a rich set of wool textiles, a wool cap, several wool cords and a skin cape, which were placed on top of her body. The body was pinned down with wooden stakes. The woman was probably strangled. Strontium isotope analysis has demonstrated that the woman undertook long distance travel shortly before her death. '],\n",
       "       ['single',\n",
       "        'In 1940 a bog mummy was found during peat cutting. Just a few small scraps of skin have been preserved, presumably from a skin cape. '],\n",
       "       ['single',\n",
       "        'In 1879 the bog mummy of an adult woman was found during peat extraction, at a depth of c. 1m in an ancient peat cutting. The woman, who was over 40 years old, wore a woollen skirt and two skin capes. A scarf was placed around the head or neck of the woman. A pocket in the inner cape contained a horn comb, a leather thong and a narrow woven band. Her right clavicle had possibly been fractured during her lifetime. The woman suffered a violent death. Her right arm had almost been severed by means of a cut or blow with a sharp tool. Cutmarks on one of her feet are also interpreted as a perimortem injury. '],\n",
       "       ['single',\n",
       "        \"In 1878 some skin and human bones were found during digging in a small bog, at a depth of c. 0.3 m. Not all of the bones could be retrieved, but a complete body appears to have been present. Associated with the bones were a hooded cape of sheepskin, skin fragments of a possible second cape, a leather ring of 47 cm circumference, joined by a knot, a woollen bag, and various pieces of cloth. The bones were perceived to be 'quite slight', which led to the assumption that the body was female. \"],\n",
       "       ['single',\n",
       "        'In 1942 a severed head of a man of c. 20 year old was found during peat cutting in a small bog, at a depth of c. 1.5 m. The head, which was originally thought to belong to a woman, was wrapped in a sheepskin. It was severed from the torso between the 2nd and 3rd vertebrae. '],\n",
       "       ['single',\n",
       "        'In 1859, the head of an adult woman was found. It had been severed from her body by a blow passing between the third and fourth vertebrae. Her hair was wound up into a beehive setting and was held in place by a woven hair band. The head was wrapped in a skin cape. '],\n",
       "       ['single',\n",
       "        'The bog mummy of a small child, covered with a blanket made of a pair of leg wrappers that was sewn together, was found in Thorup Mose in 1887. This find is registered as Thorup I. Thorup II is a textile find from the same bog, with a roughly similar radiocarbon date as Thorup I.   '],\n",
       "       ['single',\n",
       "        'In 1942 the bones of a human lower leg and foot and a lump of granite were found during peat cutting, at a depth of c. 0.8 m and c. 0.5 above the base of the bog. Peat had been extracted at this location before. The bones and stone had been wrapped in animal skin, which must have sunk to the bottom as soon as it was thrown into the bog. The original shape of the skin garment cannot be determined, but they probably were part of a skin cape. '],\n",
       "       ['single',\n",
       "        \"In 1797 the bog mummy of an adult male was found at a depth of c. 1.2-1.8 m. It was wrapped in skins, which were held together with straps through eyelets. No traces of other clothing are reported, but a shoe and three hazel 'switches' were found as well. The body was reburied soon after the discovery, but at least the shoe has been preserved (this is radiocarbon dated). \"],\n",
       "       ['single',\n",
       "        'In 1913 the body of an adult male was found during peat cutting, at a depth of c. 0.6 m. It was wrapped in a fragmentary skin garment. The slender trunk of a birch lay on top of it and may have been used to anchor the body in the bog. '],\n",
       "       ['single',\n",
       "        'In 1883 a human skeleton, possibly of a female adult, was found. It was wrapped in animal skins, only fragments of which have survived. '],\n",
       "       ['single',\n",
       "        'In 1886 the bog mummy of an adult woman was found, as well as a piece of cloth and fragments of a skin cape. The body had been secured in the bog with wooden hooks and sticks. In 2010 a reconstruction of her face was made.  '],\n",
       "       ['single',\n",
       "        'In 1942 the bog mummy of a c. 25-30 year old woman was found during peat cutting. She lay on her right side with her legs closely drawn up. Her hair was dressed in two coils wound round the head, and twined with woollen cords. Over the hair was a woollen cap held in place with a pair of laces. Three pieces of cloth were found with the body, the original position of which is uncertain. '],\n",
       "       ['single',\n",
       "        'In 1952 the bog mummy of a c. 30 year old male was found during peat extraction in a relatively small kettle-hole bog. The body was found at a depth of c. 1.0 meter in an old peat cutting; peat had been dug at this location in modern times before. No clothes or other associated objects were found. The shinbone of the man had fractured, possibly shortly before death, due to a heavy blow. He was killed by a deep cut to the throat. '],\n",
       "       ['single',\n",
       "        'In 1900 the skeletal remains of an adult male were found at a depth of c. 1.8 m, along with a large piece of cloth and the remains of at least four skin garments. Three were made of sheepskin, one probably of a combination of beaver, wolf/dog and cow skin. .'],\n",
       "       ['single',\n",
       "        'In 1857 a farm worker found the bog mummy of what was assumed to be a c. 10-12 year old child, positioned almost upright in the bog and wearing a large calfskin jacket. In later sources the find is decribed as a probably adult woman, who may have drowned. '],\n",
       "       ['single',\n",
       "        'In 1913 a human foot, tibia, femur and skull were recovered during peat cutting. The sinews and skin of the foot and leg were preserved. Additionally the remains of a sheepskin boot or leg wrapper and probably a skin cape were found. A wooden stake and three or four large stones may have served to keep the body submerged in the bog. It is unclear from the description whether a complete body was originally present, but this seems plausible. Both the gender and age of the find are unknown. '],\n",
       "       ['single',\n",
       "        'In Veksø Mose the skeletal remains of a 30-40 year old female were found in 1946, at a depth of 1.6 m. It was found together with a ceramic vessel dated to the Middle Neolithic II phase and many flint artefacts. Many of the latter are dated to the Late Neolithic. The woman suffered from a dental disease. .'],\n",
       "       ['single',\n",
       "        'In Ferle Enge the skeletal remains of a 25-35 year old female were found in 1944, at a depth between 2-3 m. The skeleton appears to have been more or less complete. It was found in close vicinity of a large TRB beaker and pig, sheep and roe deer bones. '],\n",
       "       ['single',\n",
       "        'The partial skeletal remains of a 7-8 year old child were found during peat extraction in 1943 in a bay of Søborg Sø, together with a Middle Neolithic ceramic vessel and deer bones. The represented skeletal remains are the upper arms, femur and part of the cranium. '],\n",
       "       ['single',\n",
       "        'In 1943 the cranium of an adult was found. The find circumstances are not described in detail.   '],\n",
       "       ['single',\n",
       "        'In 1943 skeletal remains of a 17-18 year old male were found. The cranium demonstrates trauma. It is unclear from the sources whether a complete skeleton was present.'],\n",
       "       ['single',\n",
       "        'At Vængegårds turf factory the skeletal remains of a small female adult were found. The bog area where they come from has also yielded a large number of ceramic vessels and other human remains. '],\n",
       "       ['single',\n",
       "        'In 1946 the skeleton of a 35-40 year old male was found. Bone arrowheads were embedded in his skull and sternum. The first arrow was shot through the nose from above, from a short distance. The second arrow wound was probably lethal. '],\n",
       "       ['single',\n",
       "        'In 1947 skeletal remains of a 25-35 year old man were found during peat extraction. A Late Bronze Age dagger was found nearby, but according to the radiocarbon date of the skeleton both do not date from the same phase. '],\n",
       "       ['single',\n",
       "        'During construction work for a new hospital the skeleton of a 25-30 year old man was found. Blunt force trauma to the head, possibly caused by a blow with a stone axe, is the probable cause of death. A 15 cm long bone arrowhead was found nearby the body and may indicate a shot wound as well. An older skull trauma, also caused by a heavy blow, had healed. The man probably limped due to an injury to the lower leg. He is thought to have been killed at the edge of a lake, which later developed into a bog.'],\n",
       "       ['single',\n",
       "        'In 1941 the largely complete skeleton of a c. 40-year old male was found during peat cutting, at depth of 3.5 m. A probably peri-mortem lesion to the left side of the cranium was observed, which may indicate an injury sustained in face-tot-face combat. The skeleton had a cord close to the neck, the end of which was tied to two large stones (15 to 20kg). The rope was placed around the stones. The skeleton may have been lowered down into the bog (and kept down) with the help of the rope and stones. '],\n",
       "       ['single',\n",
       "        'In 1947 the skeleton of an adult male was excavated. The skeletal remains were found in a disarticulated state, and demonstrate evidence of partial butchering after death. This is demonstrated by cut marks on both ulnas and the mandible, made with a sharp tool. These cuts were made when the soft tissue was still present. The femur heads are fractured in an unusual way, but this may be caused by postdepositional factors.  '],\n",
       "       ['single',\n",
       "        'In 1941 an incomplete skeleton was found during peat extraction. Originally it was thought to be a female, but aDNA analysis demonstrated the remains to belong to a male. The man was about 20-25 year old. The remains were scattered over an area of some 10m. The skull and two bones were found at a depth of 2.5 m, most other bones at a depth of 3-3.5 m. The site may originally have been a lake, in which the man may have drowned.'],\n",
       "       ['single',\n",
       "        'In 1941 the skeleton of a 30-35 year old woman was found, lying on her back with her knees towards the chest. Nearby in the same bog various concentrations of wooden objects were found, including parts of wooden wheels, other wagon parts, plough shares and tools, as well as animal bones and hazel and birch branches.'],\n",
       "       ['single',\n",
       "        'Both Fischer et al. (2007) and Nielsen and Sørensen (2018) list human remains of an adult male found in Hallebygård. More details on the find circumstances are not provided, but the find certainly comes from a wetland deposit. '],\n",
       "       ['single',\n",
       "        'In 1898 the bog mummy of an adult male was found during peat extraction, at a depth of c. 1.15m. The man lay on his back, was clothed and had long hair and a beard. A wooden stick was found nearby the body, the original position of which could not be determined. The body was the first to be photographed in situ. The body has not been preserved, but a tunic is kept at the National Museum. Based on that a date between 1050-1400 CE is assumed likely. '],\n",
       "       ['single',\n",
       "        'In 1943 an alder log-boat containing a skeleton of an 18-21 year old male was found during peat extraction. '],\n",
       "       ['single',\n",
       "        'In 1968 human skeleton material was found 0.25 m under a logboat dated to the Viking Age. According to a radiocarbon date the human remains are older. Some of the bones lay in anatomically correct order, whereas some did not. They were found in two different layers of clay.'],\n",
       "       ['single',\n",
       "        'In 1947 skeletal remains of a female adult were found, probably during peat extraction. Just a cranium has been preserved; it is unclear whether more remains were found. Nearby a number of Neolithic axes were found as well, which may well be related to a nearby Middle Neolithic settlement. A radiocarbon date demonstrates that the skeletal remains date from a younger phase.  '],\n",
       "       ['single',\n",
       "        'In 1949 skeletal remains of a female adult were found during drainage work. Animal bones were found as well. The bones (a cranium and various long bones) were found at a depth between 0.6-1.0 m, gathered in piles next to two large stones. On a higher level than the bones Iron Age potsherds were found. Dental pathologies and anomalities and a minor osteoma on the right tibia were observed.  '],\n",
       "       ['single',\n",
       "        'In 1940 the skeleton of a 35-50 year old man was found during peat extraction, at a depth of c. 1.5 m. The man lay stretched out on his back. His skull demonstrates evidence of a trepanation, which had healed. '],\n",
       "       ['single',\n",
       "        'In 1944 skeletal remains of a 35-45 year old male were found during peat extraction. Just a cranium has been preserved; it is unclear whether more remains have been found. A bronze sword was found in the same vicinity 8 years later. '],\n",
       "       ['single',\n",
       "        'In 2008 the skeleton of a c. 40-year old male was found during an excavation. The man had possibly been deposited in a peat extraction pit, on his side with the knees pulled up. Below the human remains a horse skeleton was found. The finds were done in a part of the bog nearby dry land. '],\n",
       "       ['single',\n",
       "        'In 1943-1944 partial skeletal remains of a 30-45 year old male were found during peat extraction. In the same bog animal bones and various ceramic vessels dated to the Iron Age and Roman period have been found as well. Only parts of animals were deposited. A lower leg of cattle was bound with a rope to a pole standing in the bog. '],\n",
       "       ['single',\n",
       "        'In 1928 the cranium of a 25-35 year old female was found in a dried out inlet. On the inner side of the frontal bone a reactive bone periosteal irritation is visible, perhaps due to an infection. '],\n",
       "       ['single',\n",
       "        'In 1949 the partial skeleton of a 35-45 year old female were found. The pelvis and leg bones were absent. One radius demonstrates light osteoarthritis, and the end of one rib consists of calcified cartilage. Both could either result from a trauma followed by an infection, or just an infection. Nearby, but not in direct association with the skeleton, a flint axe, flint dagger, bone tool and Iron Age pottery were found. '],\n",
       "       ['single',\n",
       "        'In 1946 the skull of an 18-20 year old female was found in a small bog.  '],\n",
       "       ['single',\n",
       "        'In 1952 the cranium (without the mandible) and a small number of bones of a 18-22 year old female were found during peat extraction in a small bog, at a depth of c. 1m.  The skeleton does not appear to have been disturbed in (pre)historic times. Three healed ante-mortem injuries were observed on the cranium. '],\n",
       "       ['single',\n",
       "        'In 1941 the cranium of a male older than 35 was found during peat extraction in a small bog, at a depth of 0.5 m.  A benign osteoma was observed on the left occipital. '],\n",
       "       ['single',\n",
       "        'In 1938 the partial skeleton of a 30-35 year old female was found during peat extraction. The woman had a severely deformed left hip joint, probably due to a disease in the femur head. Strontium isotope analysis demonstrates her to be of non-local origin. '],\n",
       "       ['single',\n",
       "        'In 1949 the skeleton of a 30-35 year old woman was found during drainage work in a wetland area. '],\n",
       "       ['single',\n",
       "        'In 1951 the skeleton of a 30-35 year old male was found at a depth of 0.75 m. The man had suffered from ante-mortem trauma to both knee joints, a fracture of the left ankle, severe osteoarthritis and several abscesses in both maxilla and mandible. '],\n",
       "       ['single',\n",
       "        'In 1937 skeletal remains of a c. 12 year old child were found during drainage activities, along with animal bones (cattle, sheep and dog), two pottery sherds and six bone needles. The human bones were scattered but probably were complete when the body was deposited. '],\n",
       "       ['single',\n",
       "        'In 1950 part of a human cranium was found during peat extraction, along with flint artefacts, fragments of a Middle Neolithic ceramic vessel, amber, a bone harpoon, roe deer bones and a claw of a sea eagle. '],\n",
       "       ['single',\n",
       "        'In 1966 skeletal remains of an adult female were given to Moesgård museum, together with animal bones, an Iron Age ceramic vessel and a wooden pile. The human remains consist of a cranium and various long bones. They demonstrate a probably healed fracture of the right clavicula, osteoarthritis and a dental pathology. '],\n",
       "       ['single',\n",
       "        'In 1947 the skeleton of an adult person was found during peat extraction, at c. 2m depth. The area was checked for other finds but none were found. '],\n",
       "       ['single',\n",
       "        'A cranial vault of an adult was found during peat extraction close to the Lindenborg Å valley. '],\n",
       "       ['single',\n",
       "        'In a peat layer at a depth of c. 2 m a human cranium was found, as well as dog and horse bones. A greenstone axe was found in the vicinity, but according to the radiocarbon date that is far older than the human remains. '],\n",
       "       ['single',\n",
       "        'In 1944 skeletal remains of a c. 25 year old woman were found during peat extraction. In the same bog a stone axe, flint dagger, bronze axe and Iron Age ceramic vessel were found as well, but these are not directly associated with the human remains.'],\n",
       "       ['several',\n",
       "        \"In 1959 the skeleton of an approximately 25-year old woman and the skull of an infant were found. They were placed in a dug grave, with a piece of wood next to the woman's head and a stone placed over her pelvis. An antler point and some animal bones (of sheep/goat and dog) were found in the grave.\"],\n",
       "       ['single',\n",
       "        \"In 1959 the skeleton of an approximately 25-year old woman and the skull of an infant were found. They were placed in a dug grave, with a piece of wood next to the woman's head and a stone placed over her pelvis. An antler point and some animal bones (of sheep/goat and dog) were found in the grave.\"],\n",
       "       ['several',\n",
       "        'On January 14, 1674 a man and a woman got lost in a snowstorm on Hope Moors. They died there, and were only found months later, after which they were buried in the bog. Their burial was repeatedly opened in later times by curious countrymen, until the bodies were finally buried at the nearby churchyard. '],\n",
       "       ['several',\n",
       "        'On January 14, 1674 a man and a woman got lost in a snowstorm on Hope Moors. They died there, and were only found months later, after which they were buried in the bog. Their burial was repeatedly opened in later times by curious countrymen, until the bodies were finally buried at the nearby churchyard. '],\n",
       "       ['several',\n",
       "        'In 1849 two skeletons and a lock of hair were found, of an adult male and an adult female. Two tunics and a piece of wood were found with the bodies. One from one of the bodies is radiocarbon dated, but it is unclear whether this came from the male or the female individual. '],\n",
       "       ['several',\n",
       "        'In 1849 two skeletons and a lock of hair were found, of an adult male and an adult female. Two tunics and a piece of wood were found with the bodies. One from one of the bodies is radiocarbon dated, but it is unclear whether this came from the male or the female individual. '],\n",
       "       ['several',\n",
       "        \"In 1826 or 1827 human remains were found in an upland peat deposit during the erection of a monument to the memory of three 'Covenantors', who were killed in 1685. The well-preserved remains were the bodies of these men, Joseph Wilson, John Jamieson and John Humphrey, who were religious dissidents that were shot. A hairlock and textile fragment have been preserved.  \"],\n",
       "       ['several',\n",
       "        'In 1901, during peat cutting in a small bog near Wijster, four bog mummies were found with woollen garments (red woollen jacket, green breeches, brown leather vest and small leather strap) probably dating to the late 16th c. CE. The bodies were found within an area of c. 3 m, probably within a dug pit. One or two children appear to be present. The gender of the bodies is unknown. They appear to have been covered with elderberry branches. The uppermost body was missing hands and feet, but this may have been post-depositional. A copper kettle and 16 coins were found, the youngest of which dates from 1585 CE.'],\n",
       "       ['several',\n",
       "        'In 1901, during peat cutting in a small bog near Wijster, four bog mummies were found with woollen garments (red woollen jacket, green breeches, brown leather vest and small leather strap) probably dating to the late 16th c. CE. The bodies were found within an area of c. 3 m, probably within a dug pit. One or two children appear to be present. The gender of the bodies is unknown. They appear to have been covered with elderberry branches. The uppermost body was missing hands and feet, but this may have been post-depositional. A copper kettle and 16 coins were found, the youngest of which dates from 1585 CE.'],\n",
       "       ['several',\n",
       "        'In 1901, during peat cutting in a small bog near Wijster, four bog mummies were found with woollen garments (red woollen jacket, green breeches, brown leather vest and small leather strap) probably dating to the late 16th c. CE. The bodies were found within an area of c. 3 m, probably within a dug pit. One or two children appear to be present. The gender of the bodies is unknown. They appear to have been covered with elderberry branches. The uppermost body was missing hands and feet, but this may have been post-depositional. A copper kettle and 16 coins were found, the youngest of which dates from 1585 CE.'],\n",
       "       ['several',\n",
       "        'In 1901, during peat cutting in a small bog near Wijster, four bog mummies were found with woollen garments (red woollen jacket, green breeches, brown leather vest and small leather strap) probably dating to the late 16th c. CE. The bodies were found within an area of c. 3 m, probably within a dug pit. One or two children appear to be present. The gender of the bodies is unknown. They appear to have been covered with elderberry branches. The uppermost body was missing hands and feet, but this may have been post-depositional. A copper kettle and 16 coins were found, the youngest of which dates from 1585 CE.'],\n",
       "       ['several',\n",
       "        'In 1904 two bog mummies were found during peat-cutting, laying close to each other on their  backs. Both were naked. One of them was stabbed in the abdomen, causing the intestines to come out. This person is certainly male and between 20-45 years old. The second person is an adult and probably male as well.'],\n",
       "       ['several',\n",
       "        'In 1904 two bog mummies were found during peat-cutting, laying close to each other on their  backs. Both were naked. One of them was stabbed in the abdomen, causing the intestines to come out. This person is certainly male and between 20-45 years old. The second person is an adult and probably male as well.'],\n",
       "       ['several',\n",
       "        \"In april 1949 the bodies of two males were found during peat cutting in the Campemoor, part of the Grossen Moor, during peat cutting. The bodies were found at a depth of about 105 cm. They lay close to each other, on their left side, and were deposited in a natural depression. Each of the men was wrapped in a woollen cloak and probably did not wear other clothes. The man lying at the back (I) had reached the end of puberty, the second man (II) was about 30 years old. The bodies were raised 'en bloc' and brought to the museum in Hannover, but were lost when an attempt to dry them in an oven went wrong.   \"],\n",
       "       ['several',\n",
       "        \"In april 1949 the bodies of two males were found during peat cutting in the Campemoor, part of the Grossen Moor, during peat cutting. The bodies were found at a depth of about 105 cm. They lay close to each other, on their left side, and were deposited in a natural depression. Each of the men was wrapped in a woollen cloak and probably did not wear other clothes. The man lying at the back (I) had reached the end of puberty, the second man (II) was about 30 years old. The bodies were raised 'en bloc' and brought to the museum in Hannover, but were lost when an attempt to dry them in an oven went wrong.   \"],\n",
       "       ['several',\n",
       "        'In 1984 different fragments of the crania of at least four newborn infants were found in a relatively small bog during the digging of a drainage ditch. The finds were done at a depth of c. 1 m, on the transition of the peat and the underlying clay. No more than 30 cm was between the different bones, which appear to have been deposited before the flesh desintegrated. There was no evidence of the skeletal remains of the rest of the corpses; these are assumed to have dissolved in the bog. No traces of illness, disease or injury have been observed. No artefacts were found accompanying the skeletal material. '],\n",
       "       ['several',\n",
       "        'In 1949 close to lake Oppmanna four skeletons were found buried together in two oak-log boats, covered by wood. They were laid out in pairs, foot to foot. Skeleton I and III were in one boat, and II and IV in the other. The skeletal remains of an infant were found 10 cm above the stern of one of the boats. With skeleton II a flint dagger, flint strike-a-light and iron-pyrite were found, with skeleton I a flint spearhead and flint flake, and with skeleton III a flint blade. '],\n",
       "       ['several',\n",
       "        'In 1949 close to lake Oppmanna four skeletons were found buried together in two oak-log boats, covered by wood. They were laid out in pairs, foot to foot. Skeleton I and III were in one boat, and II and IV in the other. The skeletal remains of an infant were found 10 cm above the stern of one of the boats. With skeleton II a flint dagger, flint strike-a-light and iron-pyrite were found, with skeleton I a flint spearhead and flint flake, and with skeleton III a flint blade. '],\n",
       "       ['several',\n",
       "        'In 1949 close to lake Oppmanna four skeletons were found buried together in two oak-log boats, covered by wood. They were laid out in pairs, foot to foot. Skeleton I and III were in one boat, and II and IV in the other. The skeletal remains of an infant were found 10 cm above the stern of one of the boats. With skeleton II a flint dagger, flint strike-a-light and iron-pyrite were found, with skeleton I a flint spearhead and flint flake, and with skeleton III a flint blade. '],\n",
       "       ['single',\n",
       "        'In 1947 the bog mummy of an adult female was found. She was placed in an ancient peat cutting, at a depth of c. 0.6 m. She lay unclothed on a sheet of birch bark, with her lower body covered by a skirt of twill and a shawl. She had long hair, and around her neck was a leather strap with an amber bead and a bronze disc. Her right leg was broken, perhaps before death. Three birch sticks were found just above the body, as well as the bones of an infant. Additionally, a pot sherd was found. Birch brushwood was found nearby. '],\n",
       "       ['single',\n",
       "        'In 1947 the bog mummy of an adult female was found. She was placed in an ancient peat cutting, at a depth of c. 0.6 m. She lay unclothed on a sheet of birch bark, with her lower body covered by a skirt of twill and a shawl. She had long hair, and around her neck was a leather strap with an amber bead and a bronze disc. Her right leg was broken, perhaps before death. Three birch sticks were found just above the body, as well as the bones of an infant. Additionally, a pot sherd was found. Birch brushwood was found nearby. '],\n",
       "       ['several',\n",
       "        'In 1949 the skeletons of two females were found during peat cutting, within 5 m distance of each other. One of them (Sigersdal A) was 18-20 year old and had a cord around her neck, which was probably used to strangle her. This skeleton was excavated. The second skeleton (Sigersdal B) is of a c. 16 year old girl and was found during peat extraction. The cause of her death has not been established. At the time of deposition, which probably happened in the winter time, the site probably was a lake. In the same bog a large undecorated pot was found. '],\n",
       "       ['several',\n",
       "        'In 1949 the skeletons of two females were found during peat cutting, within 5 m distance of each other. One of them (Sigersdal A) was 18-20 year old and had a cord around her neck, which was probably used to strangle her. This skeleton was excavated. The second skeleton (Sigersdal B) is of a c. 16 year old girl and was found during peat extraction. The cause of her death has not been established. At the time of deposition, which probably happened in the winter time, the site probably was a lake. In the same bog a large undecorated pot was found. '],\n",
       "       ['several',\n",
       "        'In 1946 two male skeletons were found during peat cutting in a small bog. They were found at a depth of 2.5 m and about 0.5 m above the base of the bog, lying close to each other outstretched on their back. One of the skeletons (Bolkilde I) is of a c. 16 year old boy. The other belongs to a man of c. 35 year old. Under his neck a piece of plated rope was found, indicating that he was probably strangled. Near the skeleton some pieces of cloth were found. '],\n",
       "       ['several',\n",
       "        'In 1946 two male skeletons were found during peat cutting in a small bog. They were found at a depth of 2.5 m and about 0.5 m above the base of the bog, lying close to each other outstretched on their back. One of the skeletons (Bolkilde I) is of a c. 16 year old boy. The other belongs to a man of c. 35 year old. Under his neck a piece of plated rope was found, indicating that he was probably strangled. Near the skeleton some pieces of cloth were found. '],\n",
       "       ['several',\n",
       "        'In 1942 two male skeletons were found close to each other during peat extraction. The first skeleton (I) belongs to a 21-35 year old man. His skull demonstrates evidence of at least one, possibly two trepanations that had healed. His right humerus was shorter than the left one, and one of his thoracic vertebrae was split on the back side (spina bifida). The second skeleton (II) belongs to a 18-21 year old man. His skull shows signs of a healed trepanation as well. His left humerus was badly deformed, possibly because of a fracture during childhood. '],\n",
       "       ['several',\n",
       "        'In 1942 two male skeletons were found close to each other during peat extraction. The first skeleton (I) belongs to a 21-35 year old man. His skull demonstrates evidence of at least one, possibly two trepanations that had healed. His right humerus was shorter than the left one, and one of his thoracic vertebrae was split on the back side (spina bifida). The second skeleton (II) belongs to a 18-21 year old man. His skull shows signs of a healed trepanation as well. His left humerus was badly deformed, possibly because of a fracture during childhood. '],\n",
       "       ['several',\n",
       "        'A large number of disarticulated human remains were found during excavations at Alken Enge. At least 380 people were killed in a violent conflict (killed by axes, swords and lances).The deceased were mainly men (67% between 20-40 years old, some younger and some older). They were deposited some time after death as animals had gnawed on some of the skeletal material. The deceased were probably placed in open water in a lake at the time of deposition. Additional depositions include ceramic vessels, cattle and goat bones. Younger depositions in the same area include amongst others weapons and wooden artefacts. '],\n",
       "       ['several',\n",
       "        'In 1958 the remains of three human skeletons were ploughed up, from a depth of 0.6 m. at the bottom of the fen peat. The remains belong to a female adult and two children, of 8-10 and 9-11 years old. A flint flake and bone awl were found as well. There is no radiocarbon date available for the 9-11 year old child. '],\n",
       "       ['several',\n",
       "        'In 1958 the remains of three human skeletons were ploughed up, from a depth of 0.6 m. at the bottom of the fen peat. The remains belong to a female adult and two children, of 8-10 and 9-11 years old. A flint flake and bone awl were found as well. There is no radiocarbon date available for the 9-11 year old child. '],\n",
       "       ['several',\n",
       "        'In 1967-1968 the skeletal remains of several burials, partly articulated, were ploughed up in a fen peat area. The remains were partly disturbed by the ploughing, but some disturbance had also taken place soon after the death of the individuals. The only other find was a bronze awl. Three individals have been radiocarbon dated and provide a likely age estimate for the other finds as well. Turners inventory lists 40/2 as a partly articulated skeleton of an adult male. '],\n",
       "       ['several',\n",
       "        'In 1967-1968 the skeletal remains of several burials, partly articulated, were ploughed up in a fen peat area. The remains were partly disturbed by the ploughing, but some disturbance had also taken place soon after the death of the individuals. The only other find was a bronze awl. Three individals have been radiocarbon dated and provide a likely age estimate for the other finds as well. Turners inventory lists 40/3 as a partly articulated skeleton of an adult female. '],\n",
       "       ['several',\n",
       "        'In 1967-1968 the skeletal remains of several burials, partly articulated, were ploughed up in a fen peat area. The remains were partly disturbed by the ploughing, but some disturbance had also taken place soon after the death of the individuals. The only other find was a bronze awl. Three individals have been radiocarbon dated and provide a likely age estimate for the other finds as well. Turners inventory lists 40/5 as a skeleton of a child. '],\n",
       "       ['several',\n",
       "        'In 1971 more human remains were ploughed up from a depth of c. 0.6 m in fen peat, close to the location where similar finds had been done in 1967-1968. They consist of the remains of three individuals. Two flint scrapers were found just under the bones. Turners inventory lists 41/1 as a skeleton of a male adult. '],\n",
       "       ['several',\n",
       "        'In 1971 more human remains were ploughed up from a depth of c. 0.6 m in fen peat, close to the location where similar finds had been done in 1967-1968. They consist of the remains of three individuals. Two flint scrapers were found just under the bones. Turners inventory lists 41/2 as a skeleton of a child. '],\n",
       "       ['several',\n",
       "        'In 1971 more human remains were ploughed up from a depth of c. 0.6 m in fen peat, close to the location where similar finds had been done in 1967-1968. They consist of the remains of three individuals. Two flint scrapers were found just under the bones. Turners inventory lists 41/3 as a skeleton of a child. '],\n",
       "       ['single',\n",
       "        'In 1989 a partly articulated skeleton of an adult was found, as well as a wide range of Late Bronze Age/Early Iron Age metalwork and adornments. An Early Iron Age date is considered probable. '],\n",
       "       ['single',\n",
       "        'In 1989 two human femurs were found, as well as a wide range of Late Bronze Age/Early Iron Age metalwork and adornments. An Early Iron Age date is considered probable. '],\n",
       "       ['unknown',\n",
       "        'In 1989 a collection of human bones was found in a pit, along with a broken shale bracelet. An Iron Age date is considered probable.  '],\n",
       "       ['single',\n",
       "        'Human remains have repeatedly been found in Burwell Fen. No detailed find circumstances for these finds are provided, except for a provenance from a peat deposit, and just two of these finds are radiocarbon dated. This record relates to the skull of an adult female.   '],\n",
       "       ['unknown',\n",
       "        'Human remains have repeatedly been found in Burwell Fen. No detailed find circumstances for these finds are provided, except for a provenance from a peat deposit, and just two of these finds are radiocarbon dated. This record relates to the mandible of an adult female.   '],\n",
       "       ['unknown',\n",
       "        'In 1901 a human mandible was found, just below a peat layer on top of the underlying clay. The find circumstances are not described in detail. Turner (1995) dates the find to the Bronze Age, based on stratigraphical reasons. More human remains are found in Feltwell Fen, on multiple occasions, but these are undated.  '],\n",
       "       ['several',\n",
       "        \"In 1880 six fully clothed skeletons were found 'in a moss', including woollen garments and leather shoes. Based on clothing fragments the find is dated in the post-medieval period. \"],\n",
       "       ['several',\n",
       "        'In 1866 twelve pine wood coffins were discovered in an area about 48 by 20 feet in size, all coming from within peat. Most did not contain human remains anymore. One had two stones above it, each with a crudely carved symbol, and this coffin contained a fatty substance. Similar substances were found in several other coffins; one produced a finger nail. The deepest positioned coffin contained a well-preserved body, consisting of bones and tissue. Some coffins were covered with a woollen fabric, and one contained some wooden buttons. The cemetery is assumed to be post-medieval. '],\n",
       "       ['several',\n",
       "        \"Around 1865 a number of human bones, including two well-preserved crania, were found during drainage operations in a former moss at a depth of between 6 and 8 feet (1.82-2.43 m). Another foot (0.3 m) of peat was beneath the finds, which besides the human bones consisted of animal bones and a jet 'belt-fastener' of Late Neolithic date. \"],\n",
       "       ['single',\n",
       "        'In 1991 a multi-period cult site was excavated, situated in a peaty wetland area adjacent to a coastal barrier. The site was mainly used in the period between the Middle/Late Iron Age and AD 200/300. The area was modified in different phases by bundles of juniper branches and the digging of two parallel ditches whilst raising the are in between with sand. Between c. 200 BC and AD 100 four human thigh bones were deposited, in different phases. Associated materials include dog and horse skulls, a metal and an antler spearhead, a piec of oak with an iron nail, and bronze fastenings and fibulae.  '],\n",
       "       ['single',\n",
       "        'In 1936 the body of an adult male was found during peat cutting, at a depth of between 110-145 cm. The man, who was 19 or 20 years old, lay face down and was unclothed. Five years earlier another bog mummy was found just 8 m south, which was originally was preserved but was disposed of in 1950. Detailed data for that find are unavailable.   '],\n",
       "       ['single',\n",
       "        \"In 1952 the remains of a bog mummy were found during peat cutting, in a relatively small bog of about 300 x 200m.  It was raised 'en block' and excavated at a laboratory. The body is generally assumed to belong to a girl of approximately 14 years old, but doubts have frequently been raised on the reliability of this determination. According to the most recent physical anthropological study by Gill-Robinson (2005) the pelvic bone rather points to a boy. The body was deposited in a pit, at a depth of approximately 1.30 m. A braided woollen ribbon was placed over the eyes. A cow skin fur coat was placed over the shoulders. It is possible that (part of) the hair was shaved off before the deposition. Along with the body a large stone, a long birch branch, fragments of thinner branches and pottery sherds of at least four vessels were found. The child probably suffered from phases of malnutrition. \"],\n",
       "       ['several',\n",
       "        'The cult site of Oberdorla was discovered during peat extraction and investigated between 1957-1967. A large quantity of finds were done dated to the period between c. 600 BC - AD 600, including the skeletal remains of c. 38-43 persons, wooden idols, wooden wheels, pottery and animal bone. Various areas are fenced off with wattle. The site consisted of a gradually terrestrialising lake. The human remains mainly consist of disarticulated bones. They date from the entire time span, with most finds from the later Iron Age and Early/Middle Roman period. Infants, juvenile females and adult males en females are representated. There are various indications for antemortem, perimortem and post-mortem trauma (cut marks, deliberate fragmentation, gnawing marks). One complete skeleton of a 15-year old girl is representated. She was buried in a wooden coffin in the 3rd century AD, which was disturbed in a later phase. Her skeleton demonstrates various antemortem pathologies. '],\n",
       "       ['several',\n",
       "        'During excavations in 1942-1943, 1946, 1955-1956, 1961, 1968 and 1988-1989 a Neolithic settlement site including including 25 more or less intact burials was investigated, in the area where the Vahejõgi River issues  into Lake Tamula. The cultural layer is located in peat and sand mixed with peat, and contained numerous flint and bone artefacts  (e.g. arrow heads, harpoons, fish hooks) and animal bones (elk, beaver, wild boar, aurochs, marten, otter, bear, deer, roe deer, badger, hare and different fish species). The burials, which contain various anthropomorphic and zoomorphic figurines from bone and amber, belong to both females and females and different age groups, including children. They are dug into the peat to a depth of 34-60 cm. Based on the material finds and a series of radiocarbon dates the site is dated between c. 3900-2600 BC. '],\n",
       "       ['several',\n",
       "        'In 1930 human skeletal remains were found in a wetland context at the archaeological site of Turlojiškė, which is situated on the bank of the Kirsna river and the edge of a former lake. The finds were done at the transition of a peat layer and the underlying sapropel layer, along with a flint arrowhead, a copper lunula pendant, two wooden sticks and stone artefact with an unknown function. The remains belong to three males, aged 25-30, 20-25 and 25-30. The skulls of two individuals demonstrate evidence of blunt force trauma. Inhumation burials have been found on the nearby dryland.'],\n",
       "       ['several',\n",
       "        'In 1930 and 1931 two female skulls were found during the drainage of a bog. They were found within 20-30 m of another, and lay 2-3 m deep at the bottom of the bog. As only a limited excavation was carried out, it is possible that the associated skeletons still remain in the bog. The two women appear to have been deposited into a partially overgrown pond. They died when approximately aged 15 and 30. The cause of death could not be established. Originally the finds were dated in the stone age, but two radiocarbon dates have proven they are far younger and probably reflect two different events.  '],\n",
       "       ['several',\n",
       "        'In 1930 and 1931 two female skulls were found during the drainage of a bog. They were found within 20-30 m of another, and lay 2-3 m deep at the bottom of the bog. As only a limited excavation was carried out, it is possible that the associated skeletons still remain in the bog. The two women appear to have been deposited into a partially overgrown pond. They died when approximately aged 15 and 30. The cause of death could not be established. Originally the finds were dated in the stone age, but two radiocarbon dates have proven they are far younger and probably reflect two different events.  '],\n",
       "       ['several',\n",
       "        'During an excavation parts of a skull of a male of 40-45 years old were found, as well as parts of a skull and the left forearm of a female of 30-40 years old. They are thought to be contemporary; the bones are mixed without modern disturbance being noted. Nevertheless the available radiocarbon dates do not exclude the possibility of different events. The cause of death has not been established. Small rocks, twigs, nuts and leaves are traces of possible human activity associated with the bodies. At the time of deposition the site consisted of open water. The cause of death has not been established. At a distance of 300 m another skeleton (I) was found. '],\n",
       "       ['several',\n",
       "        'During an excavation parts of a skull of a male of 40-45 years old were found, as well as parts of a skull and the left forearm of a female of 30-40 years old. They are thought to be contemporary; the bones are mixed without modern disturbance being noted. Nevertheless the available radiocarbon dates do not exclude the possibility of different events. The cause of death has not been established. Small rocks, twigs, nuts and leaves are traces of possible human activity associated with the bodies. At the time of deposition the site consisted of open water. The cause of death has not been established. At a distance of 300 m another skeleton (I) was found. '],\n",
       "       ['several',\n",
       "        'The immediate vicinity of the church of Guddal, which is situated on a small, rocky hill, is exposed to seasonal flooding from a nearby river and lake. The area south of the church is very boggy. Here, several well-preserved burials have been found between 1903 and 1970, over large areas of the bog. Both adults and a number of children, many of whom were newborn, are buried in the cemetery. Some of the burials contain wooden coffins.  In some cases wooden crosses were found on the chest of the deceased. Hazel wands are frequently found as well. Based on dendrochronological research this part of the Christian cemetery is dated between the 11-13th century AD. In the Middle Ages the location was even wetter than nowadays, but nevertheless it was deliberately selected. '],\n",
       "       ['several',\n",
       "        'In 1970 a number of human and animal bones were found during road construction. The human bones belong to at least two persons, one of which was a c. 25-30 year old female. This woman had healed fractures on both the radius and the clavicula. Furthermore, she had raspberry seeds between her teeth. The other person was only represented by two bones, a left radius and ulna, presumably also from a woman. The animal bones originated from wolf, pig, grouse and turtle. More bones are reported to have been found earlier, but these have not been recovered. Dating of the turtle bones provided results similar to the human bone. '],\n",
       "       ['several',\n",
       "        'In 1998, a small bog and a nearby Funnel Beaker settlement were excavated. Eight find-bearing layers were encountered. The neolithic layer, concentrated in an area of 350 m2 in the southern part of the bog, finds of flint, pottery, wood and animal and human bone were done. The 39 (fragments of) human bone were predominantly from crania or long bones and belong to 3-5 individuals. One is determined as a young adult female, one a juvenile or adult female, and one as a juvenile or adult person. Cut marks were identified on a clavicula. The animal bones were dominated by cattle, sheep/goat and pigs, with minor occurences of other species.  '],\n",
       "       ['several',\n",
       "        'In 1998, a small bog and a nearby Funnel Beaker settlement were excavated. Eight find-bearing layers were encountered. The neolithic layer, concentrated in an area of 350 m2 in the southern part of the bog, finds of flint, pottery, wood and animal and human bone were done. The 39 (fragments of) human bone were predominantly from crania or long bones and belong to 3-5 individuals. One is determined as a young adult female, one a juvenile or adult female, and one as a juvenile or adult person. Cut marks were identified on a clavicula. The animal bones were dominated by cattle, sheep/goat and pigs, with minor occurences of other species.  '],\n",
       "       ['several',\n",
       "        'In 1998, a small bog and a nearby Funnel Beaker settlement were excavated. Eight find-bearing layers were encountered. The neolithic layer, concentrated in an area of 350 m2 in the southern part of the bog, finds of flint, pottery, wood and animal and human bone were done. The 39 (fragments of) human bone were predominantly from crania or long bones and belong to 3-5 individuals. One is determined as a young adult female, one a juvenile or adult female, and one as a juvenile or adult person. Cut marks were identified on a clavicula. The animal bones were dominated by cattle, sheep/goat and pigs, with minor occurences of other species.  '],\n",
       "       ['unknown',\n",
       "        'In 1998, a small bog and a nearby Funnel Beaker settlement were excavated. Eight find-bearing layers were encountered. Layer 103 is spread over e large part of the mire. Besides a large quantity of flint, animal bones, ceramics and some worked wooden objects some human bone was found as well, including parts of a cranium.'],\n",
       "       ['several',\n",
       "        'Various excavations have been done in the Skedemosse bog, most notably in 1928, 1930 and 1959-1964. During these investigations, centring on a peatland area with a surface of some 700 x 400 m, a large quantity of find material was retrieved. These include golden ornaments, silver Roman coins, silver-plated and gilded belt fittings, iron weapons including spearheads and arrowheads, various shield bosses, thousands of animal bones (mainly horse and cattle) and the remains of at least 38 humans. Men, women and children (including an infant) are represented. A range of radiocarbon dates indicates that the site was used for a prolonged period of time for the deposition of human skeletal remains. Stab wounds were observed on the upper arm of a male individual in his 60s. At the time of the earliest depositions the site consisted of a shallow lake, which gradually developed into a marsh.'],\n",
       "       ['several',\n",
       "        'Various excavations have been done in the Skedemosse bog, most notably in 1928, 1930 and 1959-1964. During these investigations, centring on a peatland area with a surface of some 700 x 400 m, a large quantity of find material was retrieved. These include golden ornaments, silver Roman coins, silver-plated and gilded belt fittings, iron weapons including spearheads and arrowheads, various shield bosses, thousands of animal bones (mainly horse and cattle) and the remains of at least 38 humans. Men, women and children (including an infant) are represented. A range of radiocarbon dates indicates that the site was used for a prolonged period of time for the deposition of human skeletal remains. Stab wounds were observed on the upper arm of a male individual in his 60s. At the time of the earliest depositions the site consisted of a shallow lake, which gradually developed into a marsh.'],\n",
       "       ['several',\n",
       "        'Various excavations have been done in the Skedemosse bog, most notably in 1928, 1930 and 1959-1964. During these investigations, centring on a peatland area with a surface of some 700 x 400 m, a large quantity of find material was retrieved. These include golden ornaments, silver Roman coins, silver-plated and gilded belt fittings, iron weapons including spearheads and arrowheads, various shield bosses, thousands of animal bones (mainly horse and cattle) and the remains of at least 38 humans. Men, women and children (including an infant) are represented. A range of radiocarbon dates indicates that the site was used for a prolonged period of time for the deposition of human skeletal remains. Stab wounds were observed on the upper arm of a male individual in his 60s. At the time of the earliest depositions the site consisted of a shallow lake, which gradually developed into a marsh.'],\n",
       "       ['several',\n",
       "        'Various excavations have been done in the Skedemosse bog, most notably in 1928, 1930 and 1959-1964. During these investigations, centring on a peatland area with a surface of some 700 x 400 m, a large quantity of find material was retrieved. These include golden ornaments, silver Roman coins, silver-plated and gilded belt fittings, iron weapons including spearheads and arrowheads, various shield bosses, thousands of animal bones (mainly horse and cattle) and the remains of at least 38 humans. Men, women and children (including an infant) are represented. A range of radiocarbon dates indicates that the site was used for a prolonged period of time for the deposition of human skeletal remains. Stab wounds were observed on the upper arm of a male individual in his 60s. At the time of the earliest depositions the site consisted of a shallow lake, which gradually developed into a marsh.'],\n",
       "       ['several',\n",
       "        'Various excavations have been done in the Skedemosse bog, most notably in 1928, 1930 and 1959-1964. During these investigations, centring on a peatland area with a surface of some 700 x 400 m, a large quantity of find material was retrieved. These include golden ornaments, silver Roman coins, silver-plated and gilded belt fittings, iron weapons including spearheads and arrowheads, various shield bosses, thousands of animal bones (mainly horse and cattle) and the remains of at least 38 humans. Men, women and children (including an infant) are represented. A range of radiocarbon dates indicates that the site was used for a prolonged period of time for the deposition of human skeletal remains. Stab wounds were observed on the upper arm of a male individual in his 60s. At the time of the earliest depositions the site consisted of a shallow lake, which gradually developed into a marsh.'],\n",
       "       ['several',\n",
       "        'Various excavations have been done in the Skedemosse bog, most notably in 1928, 1930 and 1959-1964. During these investigations, centring on a peatland area with a surface of some 700 x 400 m, a large quantity of find material was retrieved. These include golden ornaments, silver Roman coins, silver-plated and gilded belt fittings, iron weapons including spearheads and arrowheads, various shield bosses, thousands of animal bones (mainly horse and cattle) and the remains of at least 38 humans. Men, women and children (including an infant) are represented. A range of radiocarbon dates indicates that the site was used for a prolonged period of time for the deposition of human skeletal remains. Stab wounds were observed on the upper arm of a male individual in his 60s. At the time of the earliest depositions the site consisted of a shallow lake, which gradually developed into a marsh.'],\n",
       "       ['several',\n",
       "        'Various excavations have been done in the Skedemosse bog, most notably in 1928, 1930 and 1959-1964. During these investigations, centring on a peatland area with a surface of some 700 x 400 m, a large quantity of find material was retrieved. These include golden ornaments, silver Roman coins, silver-plated and gilded belt fittings, iron weapons including spearheads and arrowheads, various shield bosses, thousands of animal bones (mainly horse and cattle) and the remains of at least 38 humans. Men, women and children (including an infant) are represented. A range of radiocarbon dates indicates that the site was used for a prolonged period of time for the deposition of human skeletal remains. Stab wounds were observed on the upper arm of a male individual in his 60s. At the time of the earliest depositions the site consisted of a shallow lake, which gradually developed into a marsh.'],\n",
       "       ['several',\n",
       "        'Various excavations have been done in the Skedemosse bog, most notably in 1928, 1930 and 1959-1964. During these investigations, centring on a peatland area with a surface of some 700 x 400 m, a large quantity of find material was retrieved. These include golden ornaments, silver Roman coins, silver-plated and gilded belt fittings, iron weapons including spearheads and arrowheads, various shield bosses, thousands of animal bones (mainly horse and cattle) and the remains of at least 38 humans. Men, women and children (including an infant) are represented. A range of radiocarbon dates indicates that the site was used for a prolonged period of time for the deposition of human skeletal remains. Stab wounds were observed on the upper arm of a male individual in his 60s. At the time of the earliest depositions the site consisted of a shallow lake, which gradually developed into a marsh.'],\n",
       "       ['several',\n",
       "        'Various excavations have been done in the Skedemosse bog, most notably in 1928, 1930 and 1959-1964. During these investigations, centring on a peatland area with a surface of some 700 x 400 m, a large quantity of find material was retrieved. These include golden ornaments, silver Roman coins, silver-plated and gilded belt fittings, iron weapons including spearheads and arrowheads, various shield bosses, thousands of animal bones (mainly horse and cattle) and the remains of at least 38 humans. Men, women and children (including an infant) are represented. A range of radiocarbon dates indicates that the site was used for a prolonged period of time for the deposition of human skeletal remains. Stab wounds were observed on the upper arm of a male individual in his 60s. At the time of the earliest depositions the site consisted of a shallow lake, which gradually developed into a marsh.'],\n",
       "       ['several',\n",
       "        'Various excavations have been done in the Skedemosse bog, most notably in 1928, 1930 and 1959-1964. During these investigations, centring on a peatland area with a surface of some 700 x 400 m, a large quantity of find material was retrieved. These include golden ornaments, silver Roman coins, silver-plated and gilded belt fittings, iron weapons including spearheads and arrowheads, various shield bosses, thousands of animal bones (mainly horse and cattle) and the remains of at least 38 humans. Men, women and children (including an infant) are represented. A range of radiocarbon dates indicates that the site was used for a prolonged period of time for the deposition of human skeletal remains. Stab wounds were observed on the upper arm of a male individual in his 60s. At the time of the earliest depositions the site consisted of a shallow lake, which gradually developed into a marsh.'],\n",
       "       ['several',\n",
       "        'Various excavations have been done in the Skedemosse bog, most notably in 1928, 1930 and 1959-1964. During these investigations, centring on a peatland area with a surface of some 700 x 400 m, a large quantity of find material was retrieved. These include golden ornaments, silver Roman coins, silver-plated and gilded belt fittings, iron weapons including spearheads and arrowheads, various shield bosses, thousands of animal bones (mainly horse and cattle) and the remains of at least 38 humans. Men, women and children (including an infant) are represented. A range of radiocarbon dates indicates that the site was used for a prolonged period of time for the deposition of human skeletal remains. Stab wounds were observed on the upper arm of a male individual in his 60s. At the time of the earliest depositions the site consisted of a shallow lake, which gradually developed into a marsh.'],\n",
       "       ['several',\n",
       "        'Various excavations have been done in the Skedemosse bog, most notably in 1928, 1930 and 1959-1964. During these investigations, centring on a peatland area with a surface of some 700 x 400 m, a large quantity of find material was retrieved. These include golden ornaments, silver Roman coins, silver-plated and gilded belt fittings, iron weapons including spearheads and arrowheads, various shield bosses, thousands of animal bones (mainly horse and cattle) and the remains of at least 38 humans. Men, women and children (including an infant) are represented. A range of radiocarbon dates indicates that the site was used for a prolonged period of time for the deposition of human skeletal remains. Stab wounds were observed on the upper arm of a male individual in his 60s. At the time of the earliest depositions the site consisted of a shallow lake, which gradually developed into a marsh.'],\n",
       "       ['several',\n",
       "        'Various excavations have been done in the Skedemosse bog, most notably in 1928, 1930 and 1959-1964. During these investigations, centring on a peatland area with a surface of some 700 x 400 m, a large quantity of find material was retrieved. These include golden ornaments, silver Roman coins, silver-plated and gilded belt fittings, iron weapons including spearheads and arrowheads, various shield bosses, thousands of animal bones (mainly horse and cattle) and the remains of at least 38 humans. Men, women and children (including an infant) are represented. A range of radiocarbon dates indicates that the site was used for a prolonged period of time for the deposition of human skeletal remains. Stab wounds were observed on the upper arm of a male individual in his 60s. At the time of the earliest depositions the site consisted of a shallow lake, which gradually developed into a marsh.'],\n",
       "       ['several',\n",
       "        'Various finds of human skeletal material were done in the bog of Alva myr, in what appears to have been a marl/mud layer. The remains derive from up to five individuals (four adults and one juvenile). Two of these are radiocarbon dated, indicating that the site was used in different phases. The oldest find, dated to the Neolithic, consists of the fragmented skeletal bones of an adult of indeterminate sex. Possible gnawing marks are observed on the left radius. This may indicate that the human remains decayed in a place where animals had access to them, and were moved from a land location to a secondary location in water. The second date has an outcome in the 7th or 8th century CE. It concerns a more complete and better preserved skeleton of a woman of 28-44 years old. Her skull demonstrates several cut-marks which could be interpreted as the result of scalping. Possible cutmarks have been observed on other bones. Associated with the bones a circular bronze clasp, an amber ring and eight glass beads were found, which are dated in the Migration Period (c. CE 375-550). As the other skeletal remains are undated, it is uncertain whether human remains were deposited in this phase as well.  '],\n",
       "       ['several',\n",
       "        'Various finds of human skeletal material were done in the bog of Alva myr, in what appears to have been a marl/mud layer. The remains derive from up to five individuals (four adults and one juvenile). Two of these are radiocarbon dated, indicating that the site was used in different phases. The oldest find, dated to the Neolithic, consists of the fragmented skeletal bones of an adult of indeterminate sex. Possible gnawing marks are observed on the left radius. This may indicate that the human remains decayed in a place where animals had access to them, and were moved from a land location to a secondary location in water. The second date has an outcome in the 7th or 8th century CE. It concerns a more complete and better preserved skeleton of a woman of 28-44 years old. Her skull demonstrates several cut-marks which could be interpreted as the result of scalping. Possible cutmarks have been observed on other bones. Associated with the bones a circular bronze clasp, an amber ring and eight glass beads were found, which are dated in the Migration Period (c. CE 375-550). As the other skeletal remains are undated, it is uncertain whether human remains were deposited in this phase as well.  '],\n",
       "       ['several',\n",
       "        'In Hässleberga bog human skeletal remains of four individuals are found. The find circumstances are not described in detail, but the skeletons do not appear to have been complete. Just for one of the individuals (sk. 27) a radiocarbon date is available. This individual consists of the skull and postcranial bones of a middle-aged adult, possibly female, who had suffered from ectocranial pitting, osteo-arthritis and possibly cribra orbitalia. '],\n",
       "       ['several',\n",
       "        'In 1904 a collection of human and animal bones was found during peat extraction, at the transition between peat and marl. Remains of two human individuals are represented. One consists of the skull of a female of c. 45 years or older. Faint striations on the frontal bone may either be perimortem cutmarks or be more recent damage caused by the peat cutting. The second individual, an adult male, is represented by the frontal bone. This has a straight cutmark across the tip of both nasal bones, made with a sharp blade from above. This injury has an evident perimortem signature. The radiocarbon dates demonstrate that the human remains were deposited at different times, and that the male remains are of a remarkably recent date. The depositions are assumed to have been made in open water and to later have become embedded in peat. The animal bones consist of at least four horses and a number of cattle, which date from different phases than the human finds.'],\n",
       "       ['several',\n",
       "        'In 1904 a collection of human and animal bones was found during peat extraction, at the transition between peat and marl. Remains of two human individuals are represented. One consists of the skull of a female of c. 45 years or older. Faint striations on the frontal bone may either be perimortem cutmarks or be more recent damage caused by the peat cutting. The second individual, an adult male, is represented by the frontal bone. This has a straight cutmark across the tip of both nasal bones, made with a sharp blade from above. This injury has an evident perimortem signature. The radiocarbon dates demonstrate that the human remains were deposited at different times, and that the male remains are of a remarkably recent date. The depositions are assumed to have been made in open water and to later have become embedded in peat. The animal bones consist of at least four horses and a number of cattle, which date from different phases than the human finds.'],\n",
       "       ['several',\n",
       "        'In 1918 and 1927 three pits (A-C) containing human and animal bones were discovered during peat-cutting. These were dug in clayed water and had been lined with upright posts. Human bones have only been found in pits B and C. These consist of the incomplete remains of five adults and two children. Just the remains of a child in pit C are relatively complete. The bones show some evidence of weathering, predepositional handling and (in one case) gnaw marks. Both remains with soft tissue present and skeletal elements without soft tissue appear to have been deposited. With regard to the animal bones dogs are well-represented, with additional finds of fox, cattle, sheep, horse, red deer and pig. A few wooden artefacts, probably clubs and red deer antlers were found as well. Pit C was reused at a later stage for the deposition of sheep bones (or body parts) during the 7-8th centuries AD and a bone comb dating to the Viking Age, in the 9-10th centuries AD.'],\n",
       "       ['several',\n",
       "        'In 1918 and 1927 three pits (A-C) containing human and animal bones were discovered during peat-cutting. These were dug in clayed water and had been lined with upright posts. Human bones have only been found in pits B and C. These consist of the incomplete remains of five adults and two children. Just the remains of a child in pit C are relatively complete. The bones show some evidence of weathering, predepositional handling and (in one case) gnaw marks. Both remains with soft tissue present and skeletal elements without soft tissue appear to have been deposited. With regard to the animal bones dogs are well-represented, with additional finds of fox, cattle, sheep, horse, red deer and pig. A few wooden artefacts, probably clubs and red deer antlers were found as well. Pit C was reused at a later stage for the deposition of sheep bones (or body parts) during the 7-8th centuries AD and a bone comb dating to the Viking Age, in the 9-10th centuries AD.'],\n",
       "       ['several',\n",
       "        'In 1918 and 1927 three pits (A-C) containing human and animal bones were discovered during peat-cutting. These were dug in clayed water and had been lined with upright posts. Human bones have only been found in pits B and C. These consist of the incomplete remains of five adults and two children. Just the remains of a child in pit C are relatively complete. The bones show some evidence of weathering, predepositional handling and (in one case) gnaw marks. Both remains with soft tissue present and skeletal elements without soft tissue appear to have been deposited. With regard to the animal bones dogs are well-represented, with additional finds of fox, cattle, sheep, horse, red deer and pig. A few wooden artefacts, probably clubs and red deer antlers were found as well. Pit C was reused at a later stage for the deposition of sheep bones (or body parts) during the 7-8th centuries AD and a bone comb dating to the Viking Age, in the 9-10th centuries AD.'],\n",
       "       ['several',\n",
       "        'In 1918 and 1927 three pits (A-C) containing human and animal bones were discovered during peat-cutting. These were dug in clayed water and had been lined with upright posts. Human bones have only been found in pits B and C. These consist of the incomplete remains of five adults and two children. Just the remains of a child in pit C are relatively complete. The bones show some evidence of weathering, predepositional handling and (in one case) gnaw marks. Both remains with soft tissue present and skeletal elements without soft tissue appear to have been deposited. With regard to the animal bones dogs are well-represented, with additional finds of fox, cattle, sheep, horse, red deer and pig. A few wooden artefacts, probably clubs and red deer antlers were found as well. Pit C was reused at a later stage for the deposition of sheep bones (or body parts) during the 7-8th centuries AD and a bone comb dating to the Viking Age, in the 9-10th centuries AD.'],\n",
       "       ['several',\n",
       "        'In 1918 and 1927 three pits (A-C) containing human and animal bones were discovered during peat-cutting. These were dug in clayed water and had been lined with upright posts. Human bones have only been found in pits B and C. These consist of the incomplete remains of five adults and two children. Just the remains of a child in pit C are relatively complete. The bones show some evidence of weathering, predepositional handling and (in one case) gnaw marks. Both remains with soft tissue present and skeletal elements without soft tissue appear to have been deposited. With regard to the animal bones dogs are well-represented, with additional finds of fox, cattle, sheep, horse, red deer and pig. A few wooden artefacts, probably clubs and red deer antlers were found as well. Pit C was reused at a later stage for the deposition of sheep bones (or body parts) during the 7-8th centuries AD and a bone comb dating to the Viking Age, in the 9-10th centuries AD.'],\n",
       "       ['several',\n",
       "        'In 1918 and 1927 three pits (A-C) containing human and animal bones were discovered during peat-cutting. These were dug in clayed water and had been lined with upright posts. Human bones have only been found in pits B and C. These consist of the incomplete remains of five adults and two children. Just the remains of a child in pit C are relatively complete. The bones show some evidence of weathering, predepositional handling and (in one case) gnaw marks. Both remains with soft tissue present and skeletal elements without soft tissue appear to have been deposited. With regard to the animal bones dogs are well-represented, with additional finds of fox, cattle, sheep, horse, red deer and pig. A few wooden artefacts, probably clubs and red deer antlers were found as well. Pit C was reused at a later stage for the deposition of sheep bones (or body parts) during the 7-8th centuries AD and a bone comb dating to the Viking Age, in the 9-10th centuries AD.'],\n",
       "       ['several',\n",
       "        'In 1918 and 1927 three pits (A-C) containing human and animal bones were discovered during peat-cutting. These were dug in clayed water and had been lined with upright posts. Human bones have only been found in pits B and C. These consist of the incomplete remains of five adults and two children. Just the remains of a child in pit C are relatively complete. The bones show some evidence of weathering, predepositional handling and (in one case) gnaw marks. Both remains with soft tissue present and skeletal elements without soft tissue appear to have been deposited. With regard to the animal bones dogs are well-represented, with additional finds of fox, cattle, sheep, horse, red deer and pig. A few wooden artefacts, probably clubs and red deer antlers were found as well. Pit C was reused at a later stage for the deposition of sheep bones (or body parts) during the 7-8th centuries AD and a bone comb dating to the Viking Age, in the 9-10th centuries AD.'],\n",
       "       ['several',\n",
       "        'During an excavation in 2008-2009 a small carr adjacent to a Middle Neolithic settlement was investigated. 13 human cranial fragments were found, as well as a large quantity of bones of mainly cattle, pig and sheep/goat. The cranial fragments belong to at least two individuals, younger than 35 years old. A variety of cut marks was observed on a mandible, which appears to point to skinning. The human bones display a higher degree of weathering than the animal bones. This may indicate that they were used for some time outside their final deposition environment. No direct dates are available for the human bones, but the majority of the finds at the site are dated to the Middle Neolithic period II-IV. This date is also likely for the human remains. '],\n",
       "       ['several',\n",
       "        'During an excavation in 2008-2009 a small carr adjacent to a Middle Neolithic settlement was investigated. 13 human cranial fragments were found, as well as a large quantity of bones of mainly cattle, pig and sheep/goat. The cranial fragments belong to at least two individuals, younger than 35 years old. A variety of cut marks was observed on a mandible, which appears to point to skinning. The human bones display a higher degree of weathering than the animal bones. This may indicate that they were used for some time outside their final deposition environment. No direct dates are available for the human bones, but the majority of the finds at the site are dated to the Middle Neolithic period II-IV. This date is also likely for the human remains. '],\n",
       "       ['several',\n",
       "        'Near Alvastra a Middle Neolithic wooden pile dwelling or platform was found in 1908, which was situated in a spring mire. It was excavated between 1908-1930, 1956 end 1976-1980.  Over sixty fireplaces were documented, as well as numerous material finds including animal bones (of both domestic and wild species), pottery and flint, stone, bone and horn tools and ornaments.  Disarticulated human bones from some 40 individuals were found, including a skull with cut marks. In preliminary publications it is suggested that these all are males or boys, but the most recent insights are unknown. The site is interpreted as a seasonally used central site, that was used for festivities and ritual and funerary acts. Based on dendrochonological research and the typology of the find material the site is dated to around 3100 BC. '],\n",
       "       ['several',\n",
       "        'In 1998 a small bog, with a surface of 40 x 20 m, was excavated almost completely. Various find-bearing layers were documented, mainly dating from the Neolithic and Bronze Age. These contain large numbers of animal bones, mostly from domestic species such as cattle, pig and sheep/goat. A total of 45 human bones were found. Dates on five bones indicate that these were deposited during the Late Neolithic and Early Bronze Age. They belong to at least three individuals. Their sex could not be determined, but their age ranges from juveniles to young adults. Two humerus fragments show cut marks and several bones have tooth marks from animals, as well as signs of weathering. '],\n",
       "       ['several',\n",
       "        'In 1924 human skeletal remains were found during the digging of draining ditches in a bog. Along with the human remains was an assemblage of wood including worked pieces, some of which were burnt. Further survey and trial excavation took place, during which more bones of humans and horses were found. The finds are are interpreted as the remains of a wooden platform in a lake, that served as a sacrifial site. The human remains point to the presence of at least 13 individuals. They show various indications of ante-, peri- and post-mortem trauma. Individual 60, a female, had received a blow to the lower leg which had healed. Individual 66, a young adult female, had blunt force trauma to the head (caused by a blow or a fall) which had healed, and had suffered from cranial pitting. The skulls of sk. 58, sk. 64 and possibly sk. 67 suggest pot-mortem alterations, indicated by cutmarks. Cuts observed on the long bones of sk. 60 and sk. 61, such as the femur and humerus, indicate dismemberment before deposition. One femur of sk. 61 also had possible gnawing marks, showing that scavengers may have had access to the bone at some stage. Four radiocarbon dates are available, which are not assigned to specific individuals in the literature.'],\n",
       "       ['several',\n",
       "        'Human skeletal remains of several individuals were found in a bog area, possibly during the construction of a railway (the sources are not specific). The remains of two individuals are radiocarbon dated, with outcomes indicating different depositional events. Sk 56, a middle aged male, had suffered from a (benign?) brain tumor and cribra orbitalia. The skull shows post-mortem cutmarks. Sk 57, a young adult male, also demonstrates evidence of a (benign?) brain tumor and cranial pitting. Blunt force trauma to the skull was observed as well, resulting from blows to the head or a fall. '],\n",
       "       ['several',\n",
       "        'On various occasions since 1902 finds have been done at a bog at Finnestorp, which is interpreted as a weapon sacrifice or war booty site. A small-scale excavation was done in 1959 and systematic investigations are carried out since 2000. Numerous horse bones, fragments of horse gear and harnesses, swords and ornaments have been found, many of which have been deliberately demolished. Additionally skeletal remains of at least six humans have been collected, for which four radiocarbon dates are available. At the time of deposition the site probably was a shallow lake. This date relates to a find in a secondary position after road construction in 1992.  '],\n",
       "       ['single',\n",
       "        'In 1938 the bog mummy of a woman of c. 25-30 year old was found during peat extraction. She was placed in an old peat cutting, a few decimeters above the base of the bog. She had long, braided hair, wore a sheepskin cape and an oxhide cape was wrapped around her hips and legs. A woollen belt was found as well. The woman was hanged, probably with a leather cord that was found nearby the body. The site is situated in a narrow bog that developed in the Bjaelskovdal valley.'],\n",
       "       ['single',\n",
       "        'In 1950 the well-preserved bog mummy of a c. 30-40 year old man was found during peat extraction. The body was placed in an old peat cutting. The man was naked, apart from a calfskin cap and a leather waistbelt. Even though the cervical vertebrae were not broken the man is likely to have been hanged, with  the leather rope that was still around his neck. The site is situated in a narrow bog that developed in the Bjaelskovdal valley.'],\n",
       "       ['several',\n",
       "        'On three occasions remains of bodies and clothing have been found in Rønbjerg Mose. The first body is undated. It was found in 1886, and buried in the churchyard. A knife sheath, cap and cape were reportedly preserved. Rønbjerg II was discovered in 1891. The gender and age of this body are not described, and it is possible that the associated finds of the two bodies have become mixed up. In 1921 the bog mummy of a c. 30-year old man was found at a depth of c. 2.4 m. It is unclear from the literature whether the man wore clothes; these have not been preserved, apart from a pair of leather shoes.  '],\n",
       "       ['several',\n",
       "        'On three occasions remains of bodies and clothing have been found in Rønbjerg Mose. The first body is undated. It was found in 1886, and buried in the churchyard. A knife sheath, cap and cape were reportedly preserved. Rønbjerg II was discovered in 1891. The gender and age of this body are not described, and it is possible that the associated finds of the two bodies have become mixed up. In 1921 the bog mummy of a c. 30-year old man was found at a depth of c. 2.4 m. It is unclear from the literature whether the man wore clothes; these have not been preserved, apart from a pair of leather shoes.  '],\n",
       "       ['unknown',\n",
       "        'In Bodal Mose disarticulated skeletal remains of humans, dogs and cattle were found in 1960. Hardly any information on the find circumstances is provided, but part of the finds were collected after ploughing. Three radiocarbon dates of human bones are available. One is performed on a humerus of an adult, the other two on a femur and tibia of an man of 30-50 year old. Radiocarbon dates of animal bones are available as well. The outcomes indicate that the site does not reflect a single use-phase but was used for a prolonged period of time. '],\n",
       "       ['unknown',\n",
       "        'In Bodal Mose disarticulated skeletal remains of humans, dogs and cattle were found in 1960. Hardly any information on the find circumstances is provided, but part of the finds were collected after ploughing. Three radiocarbon dates of human bones are available. One is performed on a humerus of an adult, the other two on a femur and tibia of an man of 30-50 year old. Radiocarbon dates of animal bones are available as well. The outcomes indicate that the site does not reflect a single use-phase but was used for a prolonged period of time. '],\n",
       "       ['several',\n",
       "        'In 1921 five human skeletons were found in Myrebjerg mose. These belong to an adult woman, two males of 15-18 and 18-20 years old, and two children of 3 and 4 years old. Additionally bones of cattle, sheep, pig, horse, marsh turtle and duck were found, as well as a number of flint tools, a bronze axe and a belt plate. The exact association with the skeleton material is unclear. Just the adult female has been radiocarbon dated. '],\n",
       "       ['several',\n",
       "        'In 1943 the skeleton of a female of 25-40 year old was found during peat extraction, at a depth of c. 2 meter. Nearby the cranium of a 10-16 year old child was found at a depth of c. 3 meter, as well as three middle neolithic ceramic vessels. '],\n",
       "       ['several',\n",
       "        'Skeletal remains of 9 individuals were found during peat extraction, as well as a Funnel Beaker culture flask. Just one of the individuals, a child of 14-16 years old, has been radiocarbon dated. '],\n",
       "       ['single',\n",
       "        'In 1945 two human skulls were found during the dredging of a stream. One of these skulls, of a 20-35 year old woman, demonstrates blunt force trauma to the back of the head. This skull is radiocarbon dated. An Early Iron Age spear head was found as well, pointing to a younger activity phase.  '],\n",
       "       ['single',\n",
       "        'In 1943 a dug-out canoe of alder was found, which was fixed in place with vertical piles of hazel. In the front of the boat, which was 7 m long and 0.7 m wide, human skeletal remains were found. These are possibly of a male, of unknown age. The back of the boast demonstrates traces of fire. Some flint flakes and a bronze knife were found here as well. A second boat, also of alder (boat IV) was found 10 m to the northeast. The area yielding finds is approximately 35 x 5 m large.'],\n",
       "       ['single',\n",
       "        'In 1940 the skeleton of a young adult female were found during peat extraction, along with swan bones. '],\n",
       "       ['single',\n",
       "        'In 1949 the skeleton of a young adult male was found, along with a bone awl, flint flakes, pyrite and hoof fungus (fire making kit).'],\n",
       "       ['single',\n",
       "        'In 1943 the skeletal remains of an adult of 35-45 year old were found, in front of a an alder log-boat. The remains appear to have been washed out of the boat. This was 7 m long and 0.7 m wide and contaned flint flakes and a bone knife. '],\n",
       "       ['several',\n",
       "        'In 1947 the skeletal remains of two male adults (aged 25-35 and 30-50), two children (aged 9-11 and 11-13) and three infants were found at a depth of 1m. The two children were lying on their side and were covered with branches. And iron knife was found with them. The adults and infants were found c. 5 meters north. Besides the human skeletons other finds were done as well, including four horse skulls, pottery sherds, pointed sticks and a bone spearhead. Just one of the adult males has been radiocarbon dated.  '],\n",
       "       ['several',\n",
       "        \"The site of Vimose is well-known for its 'war-booty' sacrifice, consisting of over 5000 objects (mainly weapons, personal equipment and tools). The finds date from between the 1st and 7th c. CE, with a clear peak in the 2nd and early 3rd century. 5 or 6 human skulls have been found in the bog as well. One of these is radiocarbon dated in the Early Bronze Age. The date of the others is unclear yet. A Bronze Age deer antler axe is found in the bog as well. \"],\n",
       "       ['several',\n",
       "        'In 1943 a human cranium was found in Uglemose. In 1948 two well-preserved skeletons were retrieved from the same bog, and later that year more human remains were collected. The bog has yielded various finds from the period between the Neolithic and the Iron Age, including three or four rare wooden helmets, cups and animal bones. The human remains belong to at at least two children and two adult males. The skull of one of these males, who was c. 35-50 years old, demonstrates an ante-mortem lesion of the left maxilla. It is unclear what caused this lesion. Just a tibia of an adult has been dated; therefore it is unclear whether all human finds date from the same period.  '],\n",
       "       ['several',\n",
       "        'The cult site of Almosen has been known since the 1930s, when a bronze armring and various human skulls were found during cleaning of a watercourse that runs through the bog. In 1992 new finds were done  during mechanical excavation for a nature restoration project. An investigation followed, and test trenches were dug in 1995. In total human bones of c. 15 individuals have been found, including both adults and children. It is unknown whether the complete bodies were deposited. Additional finds include bones of horse, pig, cattle, goat/sheep, potsherds, a bronze dress pin, a granite saddle quern, flint tools, sharpened wooden stakes and other worked wood. The finds are done in erosion layers overlying fen peat, and are sealed off with gyttja layers. They mainly appear to date from the period 600-400 BC; just one of the individuals has been radiocarbon dated. '],\n",
       "       ['several',\n",
       "        'In 1945 skeletal remains of two human individuals were found in a small bog, as well as animal bones, a ceramic vessel and a wooden club. The human bones belong to an adult male (Tybjerg Mose I) and possibly an adult female (Tybjerg Mose II), and were found close together. The animal bones were found in two clusters, one of which was fenced off with wooden poles. Just Tybjerg Mose I has been radiocarbon dated.  '],\n",
       "       ['several',\n",
       "        'The cult site of Valmose was discovered during peat extraction, and investigated between 1941-1944. The finds were done in a long and narrow bog, which had formed in a stream. Human skeletal remains of at least four individuals were represented, including two largely complete skeletons of a female of 19-20 years old (Rislev I) and an adult female (II). A partial skeleton of a child is also present (III), as well as a talus and two teeth of a fourth individual (IV). Rislev II shows signs of a dental anomaly, severe spondylosis and osteoarthritis. A large quantity of animal bones was found, dominated by horse, ox, dog, sheep and pig. Additional finds include worked wood, a complete ceramic vessel, spindle whorls and stones. At the time of deposition the site consisted of an alder and willow swamp with meadow vegetation on the land side and reed swamp towards the open shallow water. The finds may represent a series of depositions rather than a single event. '],\n",
       "       ['several',\n",
       "        'The cult site of Valmose was discovered during peat extraction, and investigated between 1941-1944. The finds were done in a long and narrow bog, which had formed in a stream. Human skeletal remains of at least four individuals were represented, including two largely complete skeletons of a female of 19-20 years old (Rislev I) and an adult female (II). A partial skeleton of a child is also present (III), as well as a talus and two teeth of a fourth individual (IV). Rislev II shows signs of a dental anomaly, severe spondylosis and osteoarthritis. A large quantity of animal bones was found, dominated by horse, ox, dog, sheep and pig. Additional finds include worked wood, a complete ceramic vessel, spindle whorls and stones. At the time of deposition the site consisted of an alder and willow swamp with meadow vegetation on the land side and reed swamp towards the open shallow water. The finds may represent a series of depositions rather than a single event. '],\n",
       "       ['several',\n",
       "        'In 1933 two skeletons were found close to each other during ploughing in a former bog. One of these is of a 40-60 year old male. aDNA research has confirmed these remains are indeed of a male. '],\n",
       "       ['several',\n",
       "        'Since the middle of the 19th century various finds have been done during peat extraction in Illemose. A small-scale excavation took place in 1893. The finds date from the Iron Age and Roman period and are interpreted as a war booty site. They consist of the human skeletal remains of at least four individuals, animal bones (horse, cattle, dog, sheep, sea eagle), wooden boats, a bronze vessel and various weapons (often bent or deliberately damaged). One male adult has been radiocarbon dated to the Iron Age. The relation of the human remains with the other deposits, which appear to date from multiple phases, is not fully clear.'],\n",
       "       ['several',\n",
       "        'Two partial human mandibles of adults were found during peat extraction, as well as an animal rib. '],\n",
       "       ['single',\n",
       "        'In Trudstrupsgårds Mose skeletal remains of a 45-50 year old male were found in 1942. A flint arrowhead was embedded in his pelvis. The find circumstances are not described in detail, but the skeleton appears to have been more or less complete. The pelvis is radiocarbon dated. Fischer et al (2007) also list a second, far younger radiocarbon date of the femur of an adult male, demonstrating that different individuals are represented as well as different activity phases. In the same year other finds were done as well, including animal bones and pottery, but the association with the human material is unclear. '],\n",
       "       ['single',\n",
       "        'In Trudstrupsgårds Mose skeletal remains of a 45-50 year old male were found in 1942. A flint arrowhead was embedded in his pelvis. The find circumstances are not described in detail, but the skeleton appears to have been more or less complete. The pelvis is radiocarbon dated. Fischer et al (2007) also list a second, far younger radiocarbon date of the femur of an adult male, demonstrating that different individuals are represented as well as different activity phases. In the same year other finds were done as well, including animal bones and pottery, but the association with the human material is unclear. '],\n",
       "       ['single',\n",
       "        'In 1943 the skeletal remains of a 30-40 year old male were found at a depth of 2.5 m. Lesions on the right parietal bone and on the back of the cranium were observed. In the same bog but on another location a younger skeleton was found, as well as two Middle Neolithic ceramic vessels found together. '],\n",
       "       ['single',\n",
       "        'In 1944 the skeleton of a young adult male was found at a depth of 1 m, lying on its right side with the knees pulled up. It was found with animal bones, in an area that was fenced off with wickerwork. The skull demonstrated cut marks; it is unclear whether these are peri-mortem or post-mortem. In the same bog but on another location an older skeleton was found, as well as two Middle Neolithic ceramic vessels found together.'],\n",
       "       ['single',\n",
       "        'In 1945 the partial skeleton of a c. 8 year old child was found. It was lying on its back at a depth of 0.75m. The pelvis, leg bones and arms were missing. The skeleton does not seem to have been disturbed in (pre)historic times. Two dental defects were observed (linear enamel hypoplasia). This find is known as Riskærene I. A second find with a younger date was done in the same bog 6 years later (Riskærene II).    '],\n",
       "       ['single',\n",
       "        'In 1951 the skeleton of a c. 15-17 year old woman were found at a depth of 1.5 m. This find is known as Risærene II. Pottery sherds and a whetstone were found in the same bog, but not directly associated with the skeletal remains. Another find with an older date had been done six years before (Riskærene I).  '],\n",
       "       ['several',\n",
       "        'In 1945 human skeletal remains were found during peat extraction, at a depth of 1 m. They were associated with a cart axle, wood remains and a ceramic vessel. A fragmented cranium and extremity bones of at least three individuals appear to be represented. The remains of an adult male have been dated. '],\n",
       "       ['single',\n",
       "        'In 1942 the bog mummy of a c. 30-35 year old man was found during peat cutting, at a depth of c. 1.2 m. It was wrapped in animal skins and lay facing downwards. One skin lay to the left of the body, and one or two to the right of it. One shoe lay left of the body and one below it; both were tied together with the laces. A strand of vegetable fibre lay by the waist. Søgård I and II have been found in the same bog, but appear to date from different phases. The spatial relation between both is unclear from the literature.  '],\n",
       "       ['unknown',\n",
       "        'In 1944 the arms and lower legs of an adult man were found. One foot was missing. The legs were covered with woollen wrappings. A skin cape associated with the body has been radiocarbon dated. From the sources it is unclear whether the complete body was originally present, or if only parts of the body were deposited. The spatial relation between both is unclear from the literature. '],\n",
       "       ['several',\n",
       "        'Between 1950-1956 and 1975-1985 a war-booty site dating from the period between AD 200-500 was excavated at Illerup Ådalen. Older skeletal remains were found as well. It seems that at two more or less complete skeletons were found, as well as probable remains of (at least) two more individuals. Two radiocarbon dates are available for skeleton I, which belongs to a male of 39-53 years old, whereas three other dates are not assigned to specific individuals. '],\n",
       "       ['several',\n",
       "        'Between 1950-1956 and 1975-1985 a war-booty site dating from the period between AD 200-500 was excavated at Illerup Ådalen. Older skeletal remains were found as well. It seems that at two more or less complete skeletons were found, as well as probable remains of (at least) two more individuals. Two radiocarbon dates are available for skeleton I, which belongs to a male of 39-53 years old, whereas three other dates are not assigned to specific individuals. '],\n",
       "       ['several',\n",
       "        'Between 1950-1956 and 1975-1985 a war-booty site dating from the period between AD 200-500 was excavated at Illerup Ådalen. Older skeletal remains were found as well. It seems that at two more or less complete skeletons were found, as well as probable remains of (at least) two more individuals. Two radiocarbon dates are available for skeleton I, which belongs to a male of 39-53 years old, whereas three other dates are not assigned to specific individuals. '],\n",
       "       ['several',\n",
       "        'Between 1950-1956 and 1975-1985 a war-booty site dating from the period between AD 200-500 was excavated at Illerup Ådalen. Older skeletal remains were found as well. It seems that at two more or less complete skeletons were found, as well as probable remains of (at least) two more individuals. Two radiocarbon dates are available for skeleton I, which belongs to a male of 39-53 years old, whereas three other dates are not assigned to specific individuals. '],\n",
       "       ['several',\n",
       "        'In 1935 human bones were found during drainage work at a ditch. Earlier finds were reported to have been done at the site as well. An excavation followed in 1936-1937. The human bones were found at a depth of c. 1 m, along with a few cattle bone fragments and some wooden poles. In 1967 a human skull was found at the same location. Additionally an axe shaft, a nearly complete fish trap and a bronze rod have been recovered. The relation between these finds is not described in detail. The human remains point to the presence of at least six individuals. At least two males and two females could be identified, and their age ranged from juveniles to adults and mature individuals. The remains were deposited in shallow brackish water. The animal bones appear to date from a younger phase than the human remains. Just one unspecified individual has been radiocarbon dated.'],\n",
       "       ['several',\n",
       "        \"On various occasions since 1674 finds have been made at the bog site of Levänluhta, including excavations in 1886, 1912-1913 and 1982-1984. The finds consist of scattered human bones of almost 100 individuals. Bones of horses, cattle, sheep, dog and birds are represented as well. Additional finds include a bronze cauldron, bronze arm rings, bronze and silver neck rings, brooches, bronze finger rings, a bronze chain, a bone comb, and bronze and iron rods. Vertically struck birch poles were observed. The majority of the bones was found close to the surface, at a depth between c. 25-35 cm, in the direct vicinity of a number of springs. Only a few finds were made at lower levels. Both adult males and females as well as a significant number of children are represented. Three individuals demonstrate Harris lines on their tibia's, and a child's skull shows signs of cribra orbitalia. A few bones show evidence of osteoporosis and osteophytosis. However, only a few bones show such traces (Formisto 1993: 115–30). At the time of deposition the site was a shallow lake or pond. Based on the artefacts the human remains are dated between AD 300-800. A single radiocarbon date indeed fits in this time range. Most of the animal bones appear to date from a later phase, apart from a chicken and a goose bone. A cattle rib has produced a far older date. \"],\n",
       "       ['single',\n",
       "        'In 1990 an isolated human skull was found during digging in a small kettle hole. The skull was from an adult male, approximately 40 years old. ']],\n",
       "      dtype=object)"
      ]
     },
     "execution_count": 35,
     "metadata": {},
     "output_type": "execute_result"
    }
   ],
   "source": [
    "\n",
    "nr_dead=list()\n",
    "for i in bog_mummies['Concise description']:\n",
    "    chatgpt_response = client.chat.completions.create(\n",
    "        model=\"gpt-4-1106-preview\", \n",
    "        messages=[\n",
    "            {\"role\": \"system\", \"content\": \"\"\"You are an LLM that understands descriptions of human deaths. You are able to understand if several people or a single person were found in one location. You are also able synthesize a one-word description from several key words. \"\"\"},\n",
    "            {\"role\": \"user\", \"content\": f\"\"\"You are provided a string {i} describing in a few words the finds of bog bodies. Generate an output with the count of how many corpses were found in one location. The answer can be either 'single','several', or 'unknown'. In cases you are unsure do not ask for more information but provide the word 'unknown' as answer instead.\"\"\"}\n",
    "        ],\n",
    "        max_tokens=4096,\n",
    "        temperature=0\n",
    "    )\n",
    "    chatgpt_response_message = chatgpt_response.choices[0].message.content\n",
    "    nr_dead.append(chatgpt_response_message)\n",
    "bog_mummies['nr_dead']=nr_dead\n",
    "bog_mummies[['nr_dead','Concise description']].values\n"
   ]
  },
  {
   "cell_type": "code",
   "execution_count": 37,
   "id": "f95c2908",
   "metadata": {},
   "outputs": [
    {
     "data": {
      "text/plain": [
       "array(['single', 'several', 'unknown'], dtype=object)"
      ]
     },
     "execution_count": 37,
     "metadata": {},
     "output_type": "execute_result"
    }
   ],
   "source": [
    "bog_mummies['nr_dead'].unique()"
   ]
  },
  {
   "cell_type": "code",
   "execution_count": 39,
   "id": "039cb273",
   "metadata": {},
   "outputs": [
    {
     "data": {
      "application/vnd.plotly.v1+json": {
       "config": {
        "plotlyServerURL": "https://plot.ly"
       },
       "data": [
        {
         "domain": {
          "x": [
           0,
           1
          ],
          "y": [
           0,
           1
          ]
         },
         "hole": 0.3,
         "hovertemplate": "index=%{label}<br>nr_dead=%{value}<extra></extra>",
         "labels": [
          "single",
          "several",
          "unknown"
         ],
         "legendgroup": "",
         "name": "",
         "showlegend": true,
         "type": "pie",
         "values": [
          217,
          103,
          9
         ]
        }
       ],
       "layout": {
        "legend": {
         "tracegroupgap": 0
        },
        "piecolorway": [
         "rgb(3, 35, 51)",
         "rgb(13, 48, 100)",
         "rgb(53, 50, 155)",
         "rgb(93, 62, 153)",
         "rgb(126, 77, 143)",
         "rgb(158, 89, 135)",
         "rgb(193, 100, 121)",
         "rgb(225, 113, 97)",
         "rgb(246, 139, 69)",
         "rgb(251, 173, 60)",
         "rgb(246, 211, 70)",
         "rgb(231, 250, 90)"
        ],
        "template": {
         "data": {
          "bar": [
           {
            "error_x": {
             "color": "#2a3f5f"
            },
            "error_y": {
             "color": "#2a3f5f"
            },
            "marker": {
             "line": {
              "color": "#E5ECF6",
              "width": 0.5
             },
             "pattern": {
              "fillmode": "overlay",
              "size": 10,
              "solidity": 0.2
             }
            },
            "type": "bar"
           }
          ],
          "barpolar": [
           {
            "marker": {
             "line": {
              "color": "#E5ECF6",
              "width": 0.5
             },
             "pattern": {
              "fillmode": "overlay",
              "size": 10,
              "solidity": 0.2
             }
            },
            "type": "barpolar"
           }
          ],
          "carpet": [
           {
            "aaxis": {
             "endlinecolor": "#2a3f5f",
             "gridcolor": "white",
             "linecolor": "white",
             "minorgridcolor": "white",
             "startlinecolor": "#2a3f5f"
            },
            "baxis": {
             "endlinecolor": "#2a3f5f",
             "gridcolor": "white",
             "linecolor": "white",
             "minorgridcolor": "white",
             "startlinecolor": "#2a3f5f"
            },
            "type": "carpet"
           }
          ],
          "choropleth": [
           {
            "colorbar": {
             "outlinewidth": 0,
             "ticks": ""
            },
            "type": "choropleth"
           }
          ],
          "contour": [
           {
            "colorbar": {
             "outlinewidth": 0,
             "ticks": ""
            },
            "colorscale": [
             [
              0,
              "#0d0887"
             ],
             [
              0.1111111111111111,
              "#46039f"
             ],
             [
              0.2222222222222222,
              "#7201a8"
             ],
             [
              0.3333333333333333,
              "#9c179e"
             ],
             [
              0.4444444444444444,
              "#bd3786"
             ],
             [
              0.5555555555555556,
              "#d8576b"
             ],
             [
              0.6666666666666666,
              "#ed7953"
             ],
             [
              0.7777777777777778,
              "#fb9f3a"
             ],
             [
              0.8888888888888888,
              "#fdca26"
             ],
             [
              1,
              "#f0f921"
             ]
            ],
            "type": "contour"
           }
          ],
          "contourcarpet": [
           {
            "colorbar": {
             "outlinewidth": 0,
             "ticks": ""
            },
            "type": "contourcarpet"
           }
          ],
          "heatmap": [
           {
            "colorbar": {
             "outlinewidth": 0,
             "ticks": ""
            },
            "colorscale": [
             [
              0,
              "#0d0887"
             ],
             [
              0.1111111111111111,
              "#46039f"
             ],
             [
              0.2222222222222222,
              "#7201a8"
             ],
             [
              0.3333333333333333,
              "#9c179e"
             ],
             [
              0.4444444444444444,
              "#bd3786"
             ],
             [
              0.5555555555555556,
              "#d8576b"
             ],
             [
              0.6666666666666666,
              "#ed7953"
             ],
             [
              0.7777777777777778,
              "#fb9f3a"
             ],
             [
              0.8888888888888888,
              "#fdca26"
             ],
             [
              1,
              "#f0f921"
             ]
            ],
            "type": "heatmap"
           }
          ],
          "heatmapgl": [
           {
            "colorbar": {
             "outlinewidth": 0,
             "ticks": ""
            },
            "colorscale": [
             [
              0,
              "#0d0887"
             ],
             [
              0.1111111111111111,
              "#46039f"
             ],
             [
              0.2222222222222222,
              "#7201a8"
             ],
             [
              0.3333333333333333,
              "#9c179e"
             ],
             [
              0.4444444444444444,
              "#bd3786"
             ],
             [
              0.5555555555555556,
              "#d8576b"
             ],
             [
              0.6666666666666666,
              "#ed7953"
             ],
             [
              0.7777777777777778,
              "#fb9f3a"
             ],
             [
              0.8888888888888888,
              "#fdca26"
             ],
             [
              1,
              "#f0f921"
             ]
            ],
            "type": "heatmapgl"
           }
          ],
          "histogram": [
           {
            "marker": {
             "pattern": {
              "fillmode": "overlay",
              "size": 10,
              "solidity": 0.2
             }
            },
            "type": "histogram"
           }
          ],
          "histogram2d": [
           {
            "colorbar": {
             "outlinewidth": 0,
             "ticks": ""
            },
            "colorscale": [
             [
              0,
              "#0d0887"
             ],
             [
              0.1111111111111111,
              "#46039f"
             ],
             [
              0.2222222222222222,
              "#7201a8"
             ],
             [
              0.3333333333333333,
              "#9c179e"
             ],
             [
              0.4444444444444444,
              "#bd3786"
             ],
             [
              0.5555555555555556,
              "#d8576b"
             ],
             [
              0.6666666666666666,
              "#ed7953"
             ],
             [
              0.7777777777777778,
              "#fb9f3a"
             ],
             [
              0.8888888888888888,
              "#fdca26"
             ],
             [
              1,
              "#f0f921"
             ]
            ],
            "type": "histogram2d"
           }
          ],
          "histogram2dcontour": [
           {
            "colorbar": {
             "outlinewidth": 0,
             "ticks": ""
            },
            "colorscale": [
             [
              0,
              "#0d0887"
             ],
             [
              0.1111111111111111,
              "#46039f"
             ],
             [
              0.2222222222222222,
              "#7201a8"
             ],
             [
              0.3333333333333333,
              "#9c179e"
             ],
             [
              0.4444444444444444,
              "#bd3786"
             ],
             [
              0.5555555555555556,
              "#d8576b"
             ],
             [
              0.6666666666666666,
              "#ed7953"
             ],
             [
              0.7777777777777778,
              "#fb9f3a"
             ],
             [
              0.8888888888888888,
              "#fdca26"
             ],
             [
              1,
              "#f0f921"
             ]
            ],
            "type": "histogram2dcontour"
           }
          ],
          "mesh3d": [
           {
            "colorbar": {
             "outlinewidth": 0,
             "ticks": ""
            },
            "type": "mesh3d"
           }
          ],
          "parcoords": [
           {
            "line": {
             "colorbar": {
              "outlinewidth": 0,
              "ticks": ""
             }
            },
            "type": "parcoords"
           }
          ],
          "pie": [
           {
            "automargin": true,
            "type": "pie"
           }
          ],
          "scatter": [
           {
            "fillpattern": {
             "fillmode": "overlay",
             "size": 10,
             "solidity": 0.2
            },
            "type": "scatter"
           }
          ],
          "scatter3d": [
           {
            "line": {
             "colorbar": {
              "outlinewidth": 0,
              "ticks": ""
             }
            },
            "marker": {
             "colorbar": {
              "outlinewidth": 0,
              "ticks": ""
             }
            },
            "type": "scatter3d"
           }
          ],
          "scattercarpet": [
           {
            "marker": {
             "colorbar": {
              "outlinewidth": 0,
              "ticks": ""
             }
            },
            "type": "scattercarpet"
           }
          ],
          "scattergeo": [
           {
            "marker": {
             "colorbar": {
              "outlinewidth": 0,
              "ticks": ""
             }
            },
            "type": "scattergeo"
           }
          ],
          "scattergl": [
           {
            "marker": {
             "colorbar": {
              "outlinewidth": 0,
              "ticks": ""
             }
            },
            "type": "scattergl"
           }
          ],
          "scattermapbox": [
           {
            "marker": {
             "colorbar": {
              "outlinewidth": 0,
              "ticks": ""
             }
            },
            "type": "scattermapbox"
           }
          ],
          "scatterpolar": [
           {
            "marker": {
             "colorbar": {
              "outlinewidth": 0,
              "ticks": ""
             }
            },
            "type": "scatterpolar"
           }
          ],
          "scatterpolargl": [
           {
            "marker": {
             "colorbar": {
              "outlinewidth": 0,
              "ticks": ""
             }
            },
            "type": "scatterpolargl"
           }
          ],
          "scatterternary": [
           {
            "marker": {
             "colorbar": {
              "outlinewidth": 0,
              "ticks": ""
             }
            },
            "type": "scatterternary"
           }
          ],
          "surface": [
           {
            "colorbar": {
             "outlinewidth": 0,
             "ticks": ""
            },
            "colorscale": [
             [
              0,
              "#0d0887"
             ],
             [
              0.1111111111111111,
              "#46039f"
             ],
             [
              0.2222222222222222,
              "#7201a8"
             ],
             [
              0.3333333333333333,
              "#9c179e"
             ],
             [
              0.4444444444444444,
              "#bd3786"
             ],
             [
              0.5555555555555556,
              "#d8576b"
             ],
             [
              0.6666666666666666,
              "#ed7953"
             ],
             [
              0.7777777777777778,
              "#fb9f3a"
             ],
             [
              0.8888888888888888,
              "#fdca26"
             ],
             [
              1,
              "#f0f921"
             ]
            ],
            "type": "surface"
           }
          ],
          "table": [
           {
            "cells": {
             "fill": {
              "color": "#EBF0F8"
             },
             "line": {
              "color": "white"
             }
            },
            "header": {
             "fill": {
              "color": "#C8D4E3"
             },
             "line": {
              "color": "white"
             }
            },
            "type": "table"
           }
          ]
         },
         "layout": {
          "annotationdefaults": {
           "arrowcolor": "#2a3f5f",
           "arrowhead": 0,
           "arrowwidth": 1
          },
          "autotypenumbers": "strict",
          "coloraxis": {
           "colorbar": {
            "outlinewidth": 0,
            "ticks": ""
           }
          },
          "colorscale": {
           "diverging": [
            [
             0,
             "#8e0152"
            ],
            [
             0.1,
             "#c51b7d"
            ],
            [
             0.2,
             "#de77ae"
            ],
            [
             0.3,
             "#f1b6da"
            ],
            [
             0.4,
             "#fde0ef"
            ],
            [
             0.5,
             "#f7f7f7"
            ],
            [
             0.6,
             "#e6f5d0"
            ],
            [
             0.7,
             "#b8e186"
            ],
            [
             0.8,
             "#7fbc41"
            ],
            [
             0.9,
             "#4d9221"
            ],
            [
             1,
             "#276419"
            ]
           ],
           "sequential": [
            [
             0,
             "#0d0887"
            ],
            [
             0.1111111111111111,
             "#46039f"
            ],
            [
             0.2222222222222222,
             "#7201a8"
            ],
            [
             0.3333333333333333,
             "#9c179e"
            ],
            [
             0.4444444444444444,
             "#bd3786"
            ],
            [
             0.5555555555555556,
             "#d8576b"
            ],
            [
             0.6666666666666666,
             "#ed7953"
            ],
            [
             0.7777777777777778,
             "#fb9f3a"
            ],
            [
             0.8888888888888888,
             "#fdca26"
            ],
            [
             1,
             "#f0f921"
            ]
           ],
           "sequentialminus": [
            [
             0,
             "#0d0887"
            ],
            [
             0.1111111111111111,
             "#46039f"
            ],
            [
             0.2222222222222222,
             "#7201a8"
            ],
            [
             0.3333333333333333,
             "#9c179e"
            ],
            [
             0.4444444444444444,
             "#bd3786"
            ],
            [
             0.5555555555555556,
             "#d8576b"
            ],
            [
             0.6666666666666666,
             "#ed7953"
            ],
            [
             0.7777777777777778,
             "#fb9f3a"
            ],
            [
             0.8888888888888888,
             "#fdca26"
            ],
            [
             1,
             "#f0f921"
            ]
           ]
          },
          "colorway": [
           "#636efa",
           "#EF553B",
           "#00cc96",
           "#ab63fa",
           "#FFA15A",
           "#19d3f3",
           "#FF6692",
           "#B6E880",
           "#FF97FF",
           "#FECB52"
          ],
          "font": {
           "color": "#2a3f5f"
          },
          "geo": {
           "bgcolor": "white",
           "lakecolor": "white",
           "landcolor": "#E5ECF6",
           "showlakes": true,
           "showland": true,
           "subunitcolor": "white"
          },
          "hoverlabel": {
           "align": "left"
          },
          "hovermode": "closest",
          "mapbox": {
           "style": "light"
          },
          "paper_bgcolor": "white",
          "plot_bgcolor": "#E5ECF6",
          "polar": {
           "angularaxis": {
            "gridcolor": "white",
            "linecolor": "white",
            "ticks": ""
           },
           "bgcolor": "#E5ECF6",
           "radialaxis": {
            "gridcolor": "white",
            "linecolor": "white",
            "ticks": ""
           }
          },
          "scene": {
           "xaxis": {
            "backgroundcolor": "#E5ECF6",
            "gridcolor": "white",
            "gridwidth": 2,
            "linecolor": "white",
            "showbackground": true,
            "ticks": "",
            "zerolinecolor": "white"
           },
           "yaxis": {
            "backgroundcolor": "#E5ECF6",
            "gridcolor": "white",
            "gridwidth": 2,
            "linecolor": "white",
            "showbackground": true,
            "ticks": "",
            "zerolinecolor": "white"
           },
           "zaxis": {
            "backgroundcolor": "#E5ECF6",
            "gridcolor": "white",
            "gridwidth": 2,
            "linecolor": "white",
            "showbackground": true,
            "ticks": "",
            "zerolinecolor": "white"
           }
          },
          "shapedefaults": {
           "line": {
            "color": "#2a3f5f"
           }
          },
          "ternary": {
           "aaxis": {
            "gridcolor": "white",
            "linecolor": "white",
            "ticks": ""
           },
           "baxis": {
            "gridcolor": "white",
            "linecolor": "white",
            "ticks": ""
           },
           "bgcolor": "#E5ECF6",
           "caxis": {
            "gridcolor": "white",
            "linecolor": "white",
            "ticks": ""
           }
          },
          "title": {
           "x": 0.05
          },
          "xaxis": {
           "automargin": true,
           "gridcolor": "white",
           "linecolor": "white",
           "ticks": "",
           "title": {
            "standoff": 15
           },
           "zerolinecolor": "white",
           "zerolinewidth": 2
          },
          "yaxis": {
           "automargin": true,
           "gridcolor": "white",
           "linecolor": "white",
           "ticks": "",
           "title": {
            "standoff": 15
           },
           "zerolinecolor": "white",
           "zerolinewidth": 2
          }
         }
        },
        "title": {
         "text": "Number of dead"
        }
       }
      },
      "text/html": [
       "<div>                            <div id=\"27debc80-c1f3-4598-b92d-2320d49d0a4b\" class=\"plotly-graph-div\" style=\"height:525px; width:100%;\"></div>            <script type=\"text/javascript\">                require([\"plotly\"], function(Plotly) {                    window.PLOTLYENV=window.PLOTLYENV || {};                                    if (document.getElementById(\"27debc80-c1f3-4598-b92d-2320d49d0a4b\")) {                    Plotly.newPlot(                        \"27debc80-c1f3-4598-b92d-2320d49d0a4b\",                        [{\"domain\":{\"x\":[0.0,1.0],\"y\":[0.0,1.0]},\"hole\":0.3,\"hovertemplate\":\"index=%{label}<br>nr_dead=%{value}<extra></extra>\",\"labels\":[\"single\",\"several\",\"unknown\"],\"legendgroup\":\"\",\"name\":\"\",\"showlegend\":true,\"values\":[217,103,9],\"type\":\"pie\"}],                        {\"template\":{\"data\":{\"histogram2dcontour\":[{\"type\":\"histogram2dcontour\",\"colorbar\":{\"outlinewidth\":0,\"ticks\":\"\"},\"colorscale\":[[0.0,\"#0d0887\"],[0.1111111111111111,\"#46039f\"],[0.2222222222222222,\"#7201a8\"],[0.3333333333333333,\"#9c179e\"],[0.4444444444444444,\"#bd3786\"],[0.5555555555555556,\"#d8576b\"],[0.6666666666666666,\"#ed7953\"],[0.7777777777777778,\"#fb9f3a\"],[0.8888888888888888,\"#fdca26\"],[1.0,\"#f0f921\"]]}],\"choropleth\":[{\"type\":\"choropleth\",\"colorbar\":{\"outlinewidth\":0,\"ticks\":\"\"}}],\"histogram2d\":[{\"type\":\"histogram2d\",\"colorbar\":{\"outlinewidth\":0,\"ticks\":\"\"},\"colorscale\":[[0.0,\"#0d0887\"],[0.1111111111111111,\"#46039f\"],[0.2222222222222222,\"#7201a8\"],[0.3333333333333333,\"#9c179e\"],[0.4444444444444444,\"#bd3786\"],[0.5555555555555556,\"#d8576b\"],[0.6666666666666666,\"#ed7953\"],[0.7777777777777778,\"#fb9f3a\"],[0.8888888888888888,\"#fdca26\"],[1.0,\"#f0f921\"]]}],\"heatmap\":[{\"type\":\"heatmap\",\"colorbar\":{\"outlinewidth\":0,\"ticks\":\"\"},\"colorscale\":[[0.0,\"#0d0887\"],[0.1111111111111111,\"#46039f\"],[0.2222222222222222,\"#7201a8\"],[0.3333333333333333,\"#9c179e\"],[0.4444444444444444,\"#bd3786\"],[0.5555555555555556,\"#d8576b\"],[0.6666666666666666,\"#ed7953\"],[0.7777777777777778,\"#fb9f3a\"],[0.8888888888888888,\"#fdca26\"],[1.0,\"#f0f921\"]]}],\"heatmapgl\":[{\"type\":\"heatmapgl\",\"colorbar\":{\"outlinewidth\":0,\"ticks\":\"\"},\"colorscale\":[[0.0,\"#0d0887\"],[0.1111111111111111,\"#46039f\"],[0.2222222222222222,\"#7201a8\"],[0.3333333333333333,\"#9c179e\"],[0.4444444444444444,\"#bd3786\"],[0.5555555555555556,\"#d8576b\"],[0.6666666666666666,\"#ed7953\"],[0.7777777777777778,\"#fb9f3a\"],[0.8888888888888888,\"#fdca26\"],[1.0,\"#f0f921\"]]}],\"contourcarpet\":[{\"type\":\"contourcarpet\",\"colorbar\":{\"outlinewidth\":0,\"ticks\":\"\"}}],\"contour\":[{\"type\":\"contour\",\"colorbar\":{\"outlinewidth\":0,\"ticks\":\"\"},\"colorscale\":[[0.0,\"#0d0887\"],[0.1111111111111111,\"#46039f\"],[0.2222222222222222,\"#7201a8\"],[0.3333333333333333,\"#9c179e\"],[0.4444444444444444,\"#bd3786\"],[0.5555555555555556,\"#d8576b\"],[0.6666666666666666,\"#ed7953\"],[0.7777777777777778,\"#fb9f3a\"],[0.8888888888888888,\"#fdca26\"],[1.0,\"#f0f921\"]]}],\"surface\":[{\"type\":\"surface\",\"colorbar\":{\"outlinewidth\":0,\"ticks\":\"\"},\"colorscale\":[[0.0,\"#0d0887\"],[0.1111111111111111,\"#46039f\"],[0.2222222222222222,\"#7201a8\"],[0.3333333333333333,\"#9c179e\"],[0.4444444444444444,\"#bd3786\"],[0.5555555555555556,\"#d8576b\"],[0.6666666666666666,\"#ed7953\"],[0.7777777777777778,\"#fb9f3a\"],[0.8888888888888888,\"#fdca26\"],[1.0,\"#f0f921\"]]}],\"mesh3d\":[{\"type\":\"mesh3d\",\"colorbar\":{\"outlinewidth\":0,\"ticks\":\"\"}}],\"scatter\":[{\"fillpattern\":{\"fillmode\":\"overlay\",\"size\":10,\"solidity\":0.2},\"type\":\"scatter\"}],\"parcoords\":[{\"type\":\"parcoords\",\"line\":{\"colorbar\":{\"outlinewidth\":0,\"ticks\":\"\"}}}],\"scatterpolargl\":[{\"type\":\"scatterpolargl\",\"marker\":{\"colorbar\":{\"outlinewidth\":0,\"ticks\":\"\"}}}],\"bar\":[{\"error_x\":{\"color\":\"#2a3f5f\"},\"error_y\":{\"color\":\"#2a3f5f\"},\"marker\":{\"line\":{\"color\":\"#E5ECF6\",\"width\":0.5},\"pattern\":{\"fillmode\":\"overlay\",\"size\":10,\"solidity\":0.2}},\"type\":\"bar\"}],\"scattergeo\":[{\"type\":\"scattergeo\",\"marker\":{\"colorbar\":{\"outlinewidth\":0,\"ticks\":\"\"}}}],\"scatterpolar\":[{\"type\":\"scatterpolar\",\"marker\":{\"colorbar\":{\"outlinewidth\":0,\"ticks\":\"\"}}}],\"histogram\":[{\"marker\":{\"pattern\":{\"fillmode\":\"overlay\",\"size\":10,\"solidity\":0.2}},\"type\":\"histogram\"}],\"scattergl\":[{\"type\":\"scattergl\",\"marker\":{\"colorbar\":{\"outlinewidth\":0,\"ticks\":\"\"}}}],\"scatter3d\":[{\"type\":\"scatter3d\",\"line\":{\"colorbar\":{\"outlinewidth\":0,\"ticks\":\"\"}},\"marker\":{\"colorbar\":{\"outlinewidth\":0,\"ticks\":\"\"}}}],\"scattermapbox\":[{\"type\":\"scattermapbox\",\"marker\":{\"colorbar\":{\"outlinewidth\":0,\"ticks\":\"\"}}}],\"scatterternary\":[{\"type\":\"scatterternary\",\"marker\":{\"colorbar\":{\"outlinewidth\":0,\"ticks\":\"\"}}}],\"scattercarpet\":[{\"type\":\"scattercarpet\",\"marker\":{\"colorbar\":{\"outlinewidth\":0,\"ticks\":\"\"}}}],\"carpet\":[{\"aaxis\":{\"endlinecolor\":\"#2a3f5f\",\"gridcolor\":\"white\",\"linecolor\":\"white\",\"minorgridcolor\":\"white\",\"startlinecolor\":\"#2a3f5f\"},\"baxis\":{\"endlinecolor\":\"#2a3f5f\",\"gridcolor\":\"white\",\"linecolor\":\"white\",\"minorgridcolor\":\"white\",\"startlinecolor\":\"#2a3f5f\"},\"type\":\"carpet\"}],\"table\":[{\"cells\":{\"fill\":{\"color\":\"#EBF0F8\"},\"line\":{\"color\":\"white\"}},\"header\":{\"fill\":{\"color\":\"#C8D4E3\"},\"line\":{\"color\":\"white\"}},\"type\":\"table\"}],\"barpolar\":[{\"marker\":{\"line\":{\"color\":\"#E5ECF6\",\"width\":0.5},\"pattern\":{\"fillmode\":\"overlay\",\"size\":10,\"solidity\":0.2}},\"type\":\"barpolar\"}],\"pie\":[{\"automargin\":true,\"type\":\"pie\"}]},\"layout\":{\"autotypenumbers\":\"strict\",\"colorway\":[\"#636efa\",\"#EF553B\",\"#00cc96\",\"#ab63fa\",\"#FFA15A\",\"#19d3f3\",\"#FF6692\",\"#B6E880\",\"#FF97FF\",\"#FECB52\"],\"font\":{\"color\":\"#2a3f5f\"},\"hovermode\":\"closest\",\"hoverlabel\":{\"align\":\"left\"},\"paper_bgcolor\":\"white\",\"plot_bgcolor\":\"#E5ECF6\",\"polar\":{\"bgcolor\":\"#E5ECF6\",\"angularaxis\":{\"gridcolor\":\"white\",\"linecolor\":\"white\",\"ticks\":\"\"},\"radialaxis\":{\"gridcolor\":\"white\",\"linecolor\":\"white\",\"ticks\":\"\"}},\"ternary\":{\"bgcolor\":\"#E5ECF6\",\"aaxis\":{\"gridcolor\":\"white\",\"linecolor\":\"white\",\"ticks\":\"\"},\"baxis\":{\"gridcolor\":\"white\",\"linecolor\":\"white\",\"ticks\":\"\"},\"caxis\":{\"gridcolor\":\"white\",\"linecolor\":\"white\",\"ticks\":\"\"}},\"coloraxis\":{\"colorbar\":{\"outlinewidth\":0,\"ticks\":\"\"}},\"colorscale\":{\"sequential\":[[0.0,\"#0d0887\"],[0.1111111111111111,\"#46039f\"],[0.2222222222222222,\"#7201a8\"],[0.3333333333333333,\"#9c179e\"],[0.4444444444444444,\"#bd3786\"],[0.5555555555555556,\"#d8576b\"],[0.6666666666666666,\"#ed7953\"],[0.7777777777777778,\"#fb9f3a\"],[0.8888888888888888,\"#fdca26\"],[1.0,\"#f0f921\"]],\"sequentialminus\":[[0.0,\"#0d0887\"],[0.1111111111111111,\"#46039f\"],[0.2222222222222222,\"#7201a8\"],[0.3333333333333333,\"#9c179e\"],[0.4444444444444444,\"#bd3786\"],[0.5555555555555556,\"#d8576b\"],[0.6666666666666666,\"#ed7953\"],[0.7777777777777778,\"#fb9f3a\"],[0.8888888888888888,\"#fdca26\"],[1.0,\"#f0f921\"]],\"diverging\":[[0,\"#8e0152\"],[0.1,\"#c51b7d\"],[0.2,\"#de77ae\"],[0.3,\"#f1b6da\"],[0.4,\"#fde0ef\"],[0.5,\"#f7f7f7\"],[0.6,\"#e6f5d0\"],[0.7,\"#b8e186\"],[0.8,\"#7fbc41\"],[0.9,\"#4d9221\"],[1,\"#276419\"]]},\"xaxis\":{\"gridcolor\":\"white\",\"linecolor\":\"white\",\"ticks\":\"\",\"title\":{\"standoff\":15},\"zerolinecolor\":\"white\",\"automargin\":true,\"zerolinewidth\":2},\"yaxis\":{\"gridcolor\":\"white\",\"linecolor\":\"white\",\"ticks\":\"\",\"title\":{\"standoff\":15},\"zerolinecolor\":\"white\",\"automargin\":true,\"zerolinewidth\":2},\"scene\":{\"xaxis\":{\"backgroundcolor\":\"#E5ECF6\",\"gridcolor\":\"white\",\"linecolor\":\"white\",\"showbackground\":true,\"ticks\":\"\",\"zerolinecolor\":\"white\",\"gridwidth\":2},\"yaxis\":{\"backgroundcolor\":\"#E5ECF6\",\"gridcolor\":\"white\",\"linecolor\":\"white\",\"showbackground\":true,\"ticks\":\"\",\"zerolinecolor\":\"white\",\"gridwidth\":2},\"zaxis\":{\"backgroundcolor\":\"#E5ECF6\",\"gridcolor\":\"white\",\"linecolor\":\"white\",\"showbackground\":true,\"ticks\":\"\",\"zerolinecolor\":\"white\",\"gridwidth\":2}},\"shapedefaults\":{\"line\":{\"color\":\"#2a3f5f\"}},\"annotationdefaults\":{\"arrowcolor\":\"#2a3f5f\",\"arrowhead\":0,\"arrowwidth\":1},\"geo\":{\"bgcolor\":\"white\",\"landcolor\":\"#E5ECF6\",\"subunitcolor\":\"white\",\"showland\":true,\"showlakes\":true,\"lakecolor\":\"white\"},\"title\":{\"x\":0.05},\"mapbox\":{\"style\":\"light\"}}},\"legend\":{\"tracegroupgap\":0},\"title\":{\"text\":\"Number of dead\"},\"piecolorway\":[\"rgb(3, 35, 51)\",\"rgb(13, 48, 100)\",\"rgb(53, 50, 155)\",\"rgb(93, 62, 153)\",\"rgb(126, 77, 143)\",\"rgb(158, 89, 135)\",\"rgb(193, 100, 121)\",\"rgb(225, 113, 97)\",\"rgb(246, 139, 69)\",\"rgb(251, 173, 60)\",\"rgb(246, 211, 70)\",\"rgb(231, 250, 90)\"]},                        {\"responsive\": true}                    ).then(function(){\n",
       "                            \n",
       "var gd = document.getElementById('27debc80-c1f3-4598-b92d-2320d49d0a4b');\n",
       "var x = new MutationObserver(function (mutations, observer) {{\n",
       "        var display = window.getComputedStyle(gd).display;\n",
       "        if (!display || display === 'none') {{\n",
       "            console.log([gd, 'removed!']);\n",
       "            Plotly.purge(gd);\n",
       "            observer.disconnect();\n",
       "        }}\n",
       "}});\n",
       "\n",
       "// Listen for the removal of the full notebook cells\n",
       "var notebookContainer = gd.closest('#notebook-container');\n",
       "if (notebookContainer) {{\n",
       "    x.observe(notebookContainer, {childList: true});\n",
       "}}\n",
       "\n",
       "// Listen for the clearing of the current output cell\n",
       "var outputEl = gd.closest('.output');\n",
       "if (outputEl) {{\n",
       "    x.observe(outputEl, {childList: true});\n",
       "}}\n",
       "\n",
       "                        })                };                });            </script>        </div>"
      ]
     },
     "metadata": {},
     "output_type": "display_data"
    }
   ],
   "source": [
    "nr_dead_counts=bog_mummies['nr_dead'].value_counts().reset_index()\n",
    "fig = px.pie(nr_dead_counts, values='nr_dead', names='index', title='Number of dead', color_discrete_sequence=px.colors.sequential.thermal, hole=.3)\n",
    "fig.show()\n",
    "file_path = 'nr_dead_distribution.svg'\n",
    "pio.write_image(fig, file_path)"
   ]
  },
  {
   "cell_type": "code",
   "execution_count": 54,
   "id": "fc1fa40a",
   "metadata": {},
   "outputs": [],
   "source": [
    "bog_mummies['Radiocarbon Age (BP)'] = pd.to_numeric(bog_mummies['Radiocarbon Age (BP)'], errors='coerce')\n",
    "bog_mummies['Radiocarbon Age (relativ)']=(bog_mummies['Radiocarbon Age (BP)']-1950)*(-1)"
   ]
  },
  {
   "cell_type": "code",
   "execution_count": 57,
   "id": "38de1431",
   "metadata": {},
   "outputs": [
    {
     "data": {
      "application/vnd.plotly.v1+json": {
       "config": {
        "plotlyServerURL": "https://plot.ly"
       },
       "data": [
        {
         "alignmentgroup": "True",
         "hovertemplate": "Year of Deposition=%{x}<br>Number of Discoveries=%{y}<extra></extra>",
         "legendgroup": "",
         "marker": {
          "color": [
           "rgb(3, 35, 51)",
           "rgb(3, 35, 51)",
           "rgb(3, 35, 51)",
           "rgb(13, 48, 100)",
           "rgb(13, 48, 100)",
           "rgb(53, 50, 155)",
           "rgb(53, 50, 155)",
           "rgb(93, 62, 153)",
           "rgb(93, 62, 153)",
           "rgb(93, 62, 153)",
           "rgb(126, 77, 143)",
           "rgb(126, 77, 143)",
           "rgb(158, 89, 135)",
           "rgb(158, 89, 135)",
           "rgb(193, 100, 121)",
           "rgb(193, 100, 121)",
           "rgb(225, 113, 97)",
           "rgb(225, 113, 97)",
           "rgb(225, 113, 97)",
           "rgb(246, 139, 69)",
           "rgb(246, 139, 69)",
           "rgb(251, 173, 60)",
           "rgb(251, 173, 60)",
           "rgb(246, 211, 70)",
           "rgb(246, 211, 70)"
          ],
          "pattern": {
           "shape": ""
          }
         },
         "name": "",
         "offsetgroup": "",
         "orientation": "v",
         "showlegend": false,
         "textposition": "auto",
         "type": "bar",
         "x": [
          -6563.2,
          -5836.4,
          -5473,
          -5109.6,
          -4746.200000000001,
          -3656,
          -7290,
          -6199.8,
          -4382.8,
          -4019.4,
          -1475.6000000000004,
          -6926.6,
          -2202.4000000000005,
          -3292.6000000000004,
          -2565.8,
          1431.5999999999985,
          -1112.2000000000007,
          704.7999999999993,
          1068.199999999999,
          341.39999999999964,
          -1839,
          -2929.2000000000007,
          -748.8000000000002,
          -22,
          -385.40000000000055
         ],
         "xaxis": "x",
         "y": [
          0,
          0,
          0,
          0,
          0,
          0,
          1,
          1,
          1,
          1,
          1,
          2,
          2,
          5,
          5,
          6,
          7,
          7,
          10,
          18,
          22,
          29,
          31,
          39,
          67
         ],
         "yaxis": "y"
        }
       ],
       "layout": {
        "barmode": "relative",
        "legend": {
         "tracegroupgap": 0
        },
        "template": {
         "data": {
          "bar": [
           {
            "error_x": {
             "color": "#2a3f5f"
            },
            "error_y": {
             "color": "#2a3f5f"
            },
            "marker": {
             "line": {
              "color": "#E5ECF6",
              "width": 0.5
             },
             "pattern": {
              "fillmode": "overlay",
              "size": 10,
              "solidity": 0.2
             }
            },
            "type": "bar"
           }
          ],
          "barpolar": [
           {
            "marker": {
             "line": {
              "color": "#E5ECF6",
              "width": 0.5
             },
             "pattern": {
              "fillmode": "overlay",
              "size": 10,
              "solidity": 0.2
             }
            },
            "type": "barpolar"
           }
          ],
          "carpet": [
           {
            "aaxis": {
             "endlinecolor": "#2a3f5f",
             "gridcolor": "white",
             "linecolor": "white",
             "minorgridcolor": "white",
             "startlinecolor": "#2a3f5f"
            },
            "baxis": {
             "endlinecolor": "#2a3f5f",
             "gridcolor": "white",
             "linecolor": "white",
             "minorgridcolor": "white",
             "startlinecolor": "#2a3f5f"
            },
            "type": "carpet"
           }
          ],
          "choropleth": [
           {
            "colorbar": {
             "outlinewidth": 0,
             "ticks": ""
            },
            "type": "choropleth"
           }
          ],
          "contour": [
           {
            "colorbar": {
             "outlinewidth": 0,
             "ticks": ""
            },
            "colorscale": [
             [
              0,
              "#0d0887"
             ],
             [
              0.1111111111111111,
              "#46039f"
             ],
             [
              0.2222222222222222,
              "#7201a8"
             ],
             [
              0.3333333333333333,
              "#9c179e"
             ],
             [
              0.4444444444444444,
              "#bd3786"
             ],
             [
              0.5555555555555556,
              "#d8576b"
             ],
             [
              0.6666666666666666,
              "#ed7953"
             ],
             [
              0.7777777777777778,
              "#fb9f3a"
             ],
             [
              0.8888888888888888,
              "#fdca26"
             ],
             [
              1,
              "#f0f921"
             ]
            ],
            "type": "contour"
           }
          ],
          "contourcarpet": [
           {
            "colorbar": {
             "outlinewidth": 0,
             "ticks": ""
            },
            "type": "contourcarpet"
           }
          ],
          "heatmap": [
           {
            "colorbar": {
             "outlinewidth": 0,
             "ticks": ""
            },
            "colorscale": [
             [
              0,
              "#0d0887"
             ],
             [
              0.1111111111111111,
              "#46039f"
             ],
             [
              0.2222222222222222,
              "#7201a8"
             ],
             [
              0.3333333333333333,
              "#9c179e"
             ],
             [
              0.4444444444444444,
              "#bd3786"
             ],
             [
              0.5555555555555556,
              "#d8576b"
             ],
             [
              0.6666666666666666,
              "#ed7953"
             ],
             [
              0.7777777777777778,
              "#fb9f3a"
             ],
             [
              0.8888888888888888,
              "#fdca26"
             ],
             [
              1,
              "#f0f921"
             ]
            ],
            "type": "heatmap"
           }
          ],
          "heatmapgl": [
           {
            "colorbar": {
             "outlinewidth": 0,
             "ticks": ""
            },
            "colorscale": [
             [
              0,
              "#0d0887"
             ],
             [
              0.1111111111111111,
              "#46039f"
             ],
             [
              0.2222222222222222,
              "#7201a8"
             ],
             [
              0.3333333333333333,
              "#9c179e"
             ],
             [
              0.4444444444444444,
              "#bd3786"
             ],
             [
              0.5555555555555556,
              "#d8576b"
             ],
             [
              0.6666666666666666,
              "#ed7953"
             ],
             [
              0.7777777777777778,
              "#fb9f3a"
             ],
             [
              0.8888888888888888,
              "#fdca26"
             ],
             [
              1,
              "#f0f921"
             ]
            ],
            "type": "heatmapgl"
           }
          ],
          "histogram": [
           {
            "marker": {
             "pattern": {
              "fillmode": "overlay",
              "size": 10,
              "solidity": 0.2
             }
            },
            "type": "histogram"
           }
          ],
          "histogram2d": [
           {
            "colorbar": {
             "outlinewidth": 0,
             "ticks": ""
            },
            "colorscale": [
             [
              0,
              "#0d0887"
             ],
             [
              0.1111111111111111,
              "#46039f"
             ],
             [
              0.2222222222222222,
              "#7201a8"
             ],
             [
              0.3333333333333333,
              "#9c179e"
             ],
             [
              0.4444444444444444,
              "#bd3786"
             ],
             [
              0.5555555555555556,
              "#d8576b"
             ],
             [
              0.6666666666666666,
              "#ed7953"
             ],
             [
              0.7777777777777778,
              "#fb9f3a"
             ],
             [
              0.8888888888888888,
              "#fdca26"
             ],
             [
              1,
              "#f0f921"
             ]
            ],
            "type": "histogram2d"
           }
          ],
          "histogram2dcontour": [
           {
            "colorbar": {
             "outlinewidth": 0,
             "ticks": ""
            },
            "colorscale": [
             [
              0,
              "#0d0887"
             ],
             [
              0.1111111111111111,
              "#46039f"
             ],
             [
              0.2222222222222222,
              "#7201a8"
             ],
             [
              0.3333333333333333,
              "#9c179e"
             ],
             [
              0.4444444444444444,
              "#bd3786"
             ],
             [
              0.5555555555555556,
              "#d8576b"
             ],
             [
              0.6666666666666666,
              "#ed7953"
             ],
             [
              0.7777777777777778,
              "#fb9f3a"
             ],
             [
              0.8888888888888888,
              "#fdca26"
             ],
             [
              1,
              "#f0f921"
             ]
            ],
            "type": "histogram2dcontour"
           }
          ],
          "mesh3d": [
           {
            "colorbar": {
             "outlinewidth": 0,
             "ticks": ""
            },
            "type": "mesh3d"
           }
          ],
          "parcoords": [
           {
            "line": {
             "colorbar": {
              "outlinewidth": 0,
              "ticks": ""
             }
            },
            "type": "parcoords"
           }
          ],
          "pie": [
           {
            "automargin": true,
            "type": "pie"
           }
          ],
          "scatter": [
           {
            "fillpattern": {
             "fillmode": "overlay",
             "size": 10,
             "solidity": 0.2
            },
            "type": "scatter"
           }
          ],
          "scatter3d": [
           {
            "line": {
             "colorbar": {
              "outlinewidth": 0,
              "ticks": ""
             }
            },
            "marker": {
             "colorbar": {
              "outlinewidth": 0,
              "ticks": ""
             }
            },
            "type": "scatter3d"
           }
          ],
          "scattercarpet": [
           {
            "marker": {
             "colorbar": {
              "outlinewidth": 0,
              "ticks": ""
             }
            },
            "type": "scattercarpet"
           }
          ],
          "scattergeo": [
           {
            "marker": {
             "colorbar": {
              "outlinewidth": 0,
              "ticks": ""
             }
            },
            "type": "scattergeo"
           }
          ],
          "scattergl": [
           {
            "marker": {
             "colorbar": {
              "outlinewidth": 0,
              "ticks": ""
             }
            },
            "type": "scattergl"
           }
          ],
          "scattermapbox": [
           {
            "marker": {
             "colorbar": {
              "outlinewidth": 0,
              "ticks": ""
             }
            },
            "type": "scattermapbox"
           }
          ],
          "scatterpolar": [
           {
            "marker": {
             "colorbar": {
              "outlinewidth": 0,
              "ticks": ""
             }
            },
            "type": "scatterpolar"
           }
          ],
          "scatterpolargl": [
           {
            "marker": {
             "colorbar": {
              "outlinewidth": 0,
              "ticks": ""
             }
            },
            "type": "scatterpolargl"
           }
          ],
          "scatterternary": [
           {
            "marker": {
             "colorbar": {
              "outlinewidth": 0,
              "ticks": ""
             }
            },
            "type": "scatterternary"
           }
          ],
          "surface": [
           {
            "colorbar": {
             "outlinewidth": 0,
             "ticks": ""
            },
            "colorscale": [
             [
              0,
              "#0d0887"
             ],
             [
              0.1111111111111111,
              "#46039f"
             ],
             [
              0.2222222222222222,
              "#7201a8"
             ],
             [
              0.3333333333333333,
              "#9c179e"
             ],
             [
              0.4444444444444444,
              "#bd3786"
             ],
             [
              0.5555555555555556,
              "#d8576b"
             ],
             [
              0.6666666666666666,
              "#ed7953"
             ],
             [
              0.7777777777777778,
              "#fb9f3a"
             ],
             [
              0.8888888888888888,
              "#fdca26"
             ],
             [
              1,
              "#f0f921"
             ]
            ],
            "type": "surface"
           }
          ],
          "table": [
           {
            "cells": {
             "fill": {
              "color": "#EBF0F8"
             },
             "line": {
              "color": "white"
             }
            },
            "header": {
             "fill": {
              "color": "#C8D4E3"
             },
             "line": {
              "color": "white"
             }
            },
            "type": "table"
           }
          ]
         },
         "layout": {
          "annotationdefaults": {
           "arrowcolor": "#2a3f5f",
           "arrowhead": 0,
           "arrowwidth": 1
          },
          "autotypenumbers": "strict",
          "coloraxis": {
           "colorbar": {
            "outlinewidth": 0,
            "ticks": ""
           }
          },
          "colorscale": {
           "diverging": [
            [
             0,
             "#8e0152"
            ],
            [
             0.1,
             "#c51b7d"
            ],
            [
             0.2,
             "#de77ae"
            ],
            [
             0.3,
             "#f1b6da"
            ],
            [
             0.4,
             "#fde0ef"
            ],
            [
             0.5,
             "#f7f7f7"
            ],
            [
             0.6,
             "#e6f5d0"
            ],
            [
             0.7,
             "#b8e186"
            ],
            [
             0.8,
             "#7fbc41"
            ],
            [
             0.9,
             "#4d9221"
            ],
            [
             1,
             "#276419"
            ]
           ],
           "sequential": [
            [
             0,
             "#0d0887"
            ],
            [
             0.1111111111111111,
             "#46039f"
            ],
            [
             0.2222222222222222,
             "#7201a8"
            ],
            [
             0.3333333333333333,
             "#9c179e"
            ],
            [
             0.4444444444444444,
             "#bd3786"
            ],
            [
             0.5555555555555556,
             "#d8576b"
            ],
            [
             0.6666666666666666,
             "#ed7953"
            ],
            [
             0.7777777777777778,
             "#fb9f3a"
            ],
            [
             0.8888888888888888,
             "#fdca26"
            ],
            [
             1,
             "#f0f921"
            ]
           ],
           "sequentialminus": [
            [
             0,
             "#0d0887"
            ],
            [
             0.1111111111111111,
             "#46039f"
            ],
            [
             0.2222222222222222,
             "#7201a8"
            ],
            [
             0.3333333333333333,
             "#9c179e"
            ],
            [
             0.4444444444444444,
             "#bd3786"
            ],
            [
             0.5555555555555556,
             "#d8576b"
            ],
            [
             0.6666666666666666,
             "#ed7953"
            ],
            [
             0.7777777777777778,
             "#fb9f3a"
            ],
            [
             0.8888888888888888,
             "#fdca26"
            ],
            [
             1,
             "#f0f921"
            ]
           ]
          },
          "colorway": [
           "#636efa",
           "#EF553B",
           "#00cc96",
           "#ab63fa",
           "#FFA15A",
           "#19d3f3",
           "#FF6692",
           "#B6E880",
           "#FF97FF",
           "#FECB52"
          ],
          "font": {
           "color": "#2a3f5f"
          },
          "geo": {
           "bgcolor": "white",
           "lakecolor": "white",
           "landcolor": "#E5ECF6",
           "showlakes": true,
           "showland": true,
           "subunitcolor": "white"
          },
          "hoverlabel": {
           "align": "left"
          },
          "hovermode": "closest",
          "mapbox": {
           "style": "light"
          },
          "paper_bgcolor": "white",
          "plot_bgcolor": "#E5ECF6",
          "polar": {
           "angularaxis": {
            "gridcolor": "white",
            "linecolor": "white",
            "ticks": ""
           },
           "bgcolor": "#E5ECF6",
           "radialaxis": {
            "gridcolor": "white",
            "linecolor": "white",
            "ticks": ""
           }
          },
          "scene": {
           "xaxis": {
            "backgroundcolor": "#E5ECF6",
            "gridcolor": "white",
            "gridwidth": 2,
            "linecolor": "white",
            "showbackground": true,
            "ticks": "",
            "zerolinecolor": "white"
           },
           "yaxis": {
            "backgroundcolor": "#E5ECF6",
            "gridcolor": "white",
            "gridwidth": 2,
            "linecolor": "white",
            "showbackground": true,
            "ticks": "",
            "zerolinecolor": "white"
           },
           "zaxis": {
            "backgroundcolor": "#E5ECF6",
            "gridcolor": "white",
            "gridwidth": 2,
            "linecolor": "white",
            "showbackground": true,
            "ticks": "",
            "zerolinecolor": "white"
           }
          },
          "shapedefaults": {
           "line": {
            "color": "#2a3f5f"
           }
          },
          "ternary": {
           "aaxis": {
            "gridcolor": "white",
            "linecolor": "white",
            "ticks": ""
           },
           "baxis": {
            "gridcolor": "white",
            "linecolor": "white",
            "ticks": ""
           },
           "bgcolor": "#E5ECF6",
           "caxis": {
            "gridcolor": "white",
            "linecolor": "white",
            "ticks": ""
           }
          },
          "title": {
           "x": 0.05
          },
          "xaxis": {
           "automargin": true,
           "gridcolor": "white",
           "linecolor": "white",
           "ticks": "",
           "title": {
            "standoff": 15
           },
           "zerolinecolor": "white",
           "zerolinewidth": 2
          },
          "yaxis": {
           "automargin": true,
           "gridcolor": "white",
           "linecolor": "white",
           "ticks": "",
           "title": {
            "standoff": 15
           },
           "zerolinecolor": "white",
           "zerolinewidth": 2
          }
         }
        },
        "title": {
         "text": "Years of Bog Bodies Deposition"
        },
        "xaxis": {
         "anchor": "y",
         "domain": [
          0,
          1
         ],
         "title": {
          "text": "Year of Deposition"
         }
        },
        "yaxis": {
         "anchor": "x",
         "domain": [
          0,
          1
         ],
         "title": {
          "text": "Number of Discoveries"
         }
        }
       }
      },
      "text/html": [
       "<div>                            <div id=\"97df4398-30a8-4f11-8d29-48875929efd8\" class=\"plotly-graph-div\" style=\"height:525px; width:100%;\"></div>            <script type=\"text/javascript\">                require([\"plotly\"], function(Plotly) {                    window.PLOTLYENV=window.PLOTLYENV || {};                                    if (document.getElementById(\"97df4398-30a8-4f11-8d29-48875929efd8\")) {                    Plotly.newPlot(                        \"97df4398-30a8-4f11-8d29-48875929efd8\",                        [{\"alignmentgroup\":\"True\",\"hovertemplate\":\"Year of Deposition=%{x}<br>Number of Discoveries=%{y}<extra></extra>\",\"legendgroup\":\"\",\"marker\":{\"color\":[\"rgb(3, 35, 51)\",\"rgb(3, 35, 51)\",\"rgb(3, 35, 51)\",\"rgb(13, 48, 100)\",\"rgb(13, 48, 100)\",\"rgb(53, 50, 155)\",\"rgb(53, 50, 155)\",\"rgb(93, 62, 153)\",\"rgb(93, 62, 153)\",\"rgb(93, 62, 153)\",\"rgb(126, 77, 143)\",\"rgb(126, 77, 143)\",\"rgb(158, 89, 135)\",\"rgb(158, 89, 135)\",\"rgb(193, 100, 121)\",\"rgb(193, 100, 121)\",\"rgb(225, 113, 97)\",\"rgb(225, 113, 97)\",\"rgb(225, 113, 97)\",\"rgb(246, 139, 69)\",\"rgb(246, 139, 69)\",\"rgb(251, 173, 60)\",\"rgb(251, 173, 60)\",\"rgb(246, 211, 70)\",\"rgb(246, 211, 70)\"],\"pattern\":{\"shape\":\"\"}},\"name\":\"\",\"offsetgroup\":\"\",\"orientation\":\"v\",\"showlegend\":false,\"textposition\":\"auto\",\"x\":[-6563.2,-5836.4,-5473.0,-5109.6,-4746.200000000001,-3656.0,-7290.0,-6199.8,-4382.8,-4019.4,-1475.6000000000004,-6926.6,-2202.4000000000005,-3292.6000000000004,-2565.8,1431.5999999999985,-1112.2000000000007,704.7999999999993,1068.199999999999,341.39999999999964,-1839.0,-2929.2000000000007,-748.8000000000002,-22.0,-385.40000000000055],\"xaxis\":\"x\",\"y\":[0,0,0,0,0,0,1,1,1,1,1,2,2,5,5,6,7,7,10,18,22,29,31,39,67],\"yaxis\":\"y\",\"type\":\"bar\"}],                        {\"template\":{\"data\":{\"histogram2dcontour\":[{\"type\":\"histogram2dcontour\",\"colorbar\":{\"outlinewidth\":0,\"ticks\":\"\"},\"colorscale\":[[0.0,\"#0d0887\"],[0.1111111111111111,\"#46039f\"],[0.2222222222222222,\"#7201a8\"],[0.3333333333333333,\"#9c179e\"],[0.4444444444444444,\"#bd3786\"],[0.5555555555555556,\"#d8576b\"],[0.6666666666666666,\"#ed7953\"],[0.7777777777777778,\"#fb9f3a\"],[0.8888888888888888,\"#fdca26\"],[1.0,\"#f0f921\"]]}],\"choropleth\":[{\"type\":\"choropleth\",\"colorbar\":{\"outlinewidth\":0,\"ticks\":\"\"}}],\"histogram2d\":[{\"type\":\"histogram2d\",\"colorbar\":{\"outlinewidth\":0,\"ticks\":\"\"},\"colorscale\":[[0.0,\"#0d0887\"],[0.1111111111111111,\"#46039f\"],[0.2222222222222222,\"#7201a8\"],[0.3333333333333333,\"#9c179e\"],[0.4444444444444444,\"#bd3786\"],[0.5555555555555556,\"#d8576b\"],[0.6666666666666666,\"#ed7953\"],[0.7777777777777778,\"#fb9f3a\"],[0.8888888888888888,\"#fdca26\"],[1.0,\"#f0f921\"]]}],\"heatmap\":[{\"type\":\"heatmap\",\"colorbar\":{\"outlinewidth\":0,\"ticks\":\"\"},\"colorscale\":[[0.0,\"#0d0887\"],[0.1111111111111111,\"#46039f\"],[0.2222222222222222,\"#7201a8\"],[0.3333333333333333,\"#9c179e\"],[0.4444444444444444,\"#bd3786\"],[0.5555555555555556,\"#d8576b\"],[0.6666666666666666,\"#ed7953\"],[0.7777777777777778,\"#fb9f3a\"],[0.8888888888888888,\"#fdca26\"],[1.0,\"#f0f921\"]]}],\"heatmapgl\":[{\"type\":\"heatmapgl\",\"colorbar\":{\"outlinewidth\":0,\"ticks\":\"\"},\"colorscale\":[[0.0,\"#0d0887\"],[0.1111111111111111,\"#46039f\"],[0.2222222222222222,\"#7201a8\"],[0.3333333333333333,\"#9c179e\"],[0.4444444444444444,\"#bd3786\"],[0.5555555555555556,\"#d8576b\"],[0.6666666666666666,\"#ed7953\"],[0.7777777777777778,\"#fb9f3a\"],[0.8888888888888888,\"#fdca26\"],[1.0,\"#f0f921\"]]}],\"contourcarpet\":[{\"type\":\"contourcarpet\",\"colorbar\":{\"outlinewidth\":0,\"ticks\":\"\"}}],\"contour\":[{\"type\":\"contour\",\"colorbar\":{\"outlinewidth\":0,\"ticks\":\"\"},\"colorscale\":[[0.0,\"#0d0887\"],[0.1111111111111111,\"#46039f\"],[0.2222222222222222,\"#7201a8\"],[0.3333333333333333,\"#9c179e\"],[0.4444444444444444,\"#bd3786\"],[0.5555555555555556,\"#d8576b\"],[0.6666666666666666,\"#ed7953\"],[0.7777777777777778,\"#fb9f3a\"],[0.8888888888888888,\"#fdca26\"],[1.0,\"#f0f921\"]]}],\"surface\":[{\"type\":\"surface\",\"colorbar\":{\"outlinewidth\":0,\"ticks\":\"\"},\"colorscale\":[[0.0,\"#0d0887\"],[0.1111111111111111,\"#46039f\"],[0.2222222222222222,\"#7201a8\"],[0.3333333333333333,\"#9c179e\"],[0.4444444444444444,\"#bd3786\"],[0.5555555555555556,\"#d8576b\"],[0.6666666666666666,\"#ed7953\"],[0.7777777777777778,\"#fb9f3a\"],[0.8888888888888888,\"#fdca26\"],[1.0,\"#f0f921\"]]}],\"mesh3d\":[{\"type\":\"mesh3d\",\"colorbar\":{\"outlinewidth\":0,\"ticks\":\"\"}}],\"scatter\":[{\"fillpattern\":{\"fillmode\":\"overlay\",\"size\":10,\"solidity\":0.2},\"type\":\"scatter\"}],\"parcoords\":[{\"type\":\"parcoords\",\"line\":{\"colorbar\":{\"outlinewidth\":0,\"ticks\":\"\"}}}],\"scatterpolargl\":[{\"type\":\"scatterpolargl\",\"marker\":{\"colorbar\":{\"outlinewidth\":0,\"ticks\":\"\"}}}],\"bar\":[{\"error_x\":{\"color\":\"#2a3f5f\"},\"error_y\":{\"color\":\"#2a3f5f\"},\"marker\":{\"line\":{\"color\":\"#E5ECF6\",\"width\":0.5},\"pattern\":{\"fillmode\":\"overlay\",\"size\":10,\"solidity\":0.2}},\"type\":\"bar\"}],\"scattergeo\":[{\"type\":\"scattergeo\",\"marker\":{\"colorbar\":{\"outlinewidth\":0,\"ticks\":\"\"}}}],\"scatterpolar\":[{\"type\":\"scatterpolar\",\"marker\":{\"colorbar\":{\"outlinewidth\":0,\"ticks\":\"\"}}}],\"histogram\":[{\"marker\":{\"pattern\":{\"fillmode\":\"overlay\",\"size\":10,\"solidity\":0.2}},\"type\":\"histogram\"}],\"scattergl\":[{\"type\":\"scattergl\",\"marker\":{\"colorbar\":{\"outlinewidth\":0,\"ticks\":\"\"}}}],\"scatter3d\":[{\"type\":\"scatter3d\",\"line\":{\"colorbar\":{\"outlinewidth\":0,\"ticks\":\"\"}},\"marker\":{\"colorbar\":{\"outlinewidth\":0,\"ticks\":\"\"}}}],\"scattermapbox\":[{\"type\":\"scattermapbox\",\"marker\":{\"colorbar\":{\"outlinewidth\":0,\"ticks\":\"\"}}}],\"scatterternary\":[{\"type\":\"scatterternary\",\"marker\":{\"colorbar\":{\"outlinewidth\":0,\"ticks\":\"\"}}}],\"scattercarpet\":[{\"type\":\"scattercarpet\",\"marker\":{\"colorbar\":{\"outlinewidth\":0,\"ticks\":\"\"}}}],\"carpet\":[{\"aaxis\":{\"endlinecolor\":\"#2a3f5f\",\"gridcolor\":\"white\",\"linecolor\":\"white\",\"minorgridcolor\":\"white\",\"startlinecolor\":\"#2a3f5f\"},\"baxis\":{\"endlinecolor\":\"#2a3f5f\",\"gridcolor\":\"white\",\"linecolor\":\"white\",\"minorgridcolor\":\"white\",\"startlinecolor\":\"#2a3f5f\"},\"type\":\"carpet\"}],\"table\":[{\"cells\":{\"fill\":{\"color\":\"#EBF0F8\"},\"line\":{\"color\":\"white\"}},\"header\":{\"fill\":{\"color\":\"#C8D4E3\"},\"line\":{\"color\":\"white\"}},\"type\":\"table\"}],\"barpolar\":[{\"marker\":{\"line\":{\"color\":\"#E5ECF6\",\"width\":0.5},\"pattern\":{\"fillmode\":\"overlay\",\"size\":10,\"solidity\":0.2}},\"type\":\"barpolar\"}],\"pie\":[{\"automargin\":true,\"type\":\"pie\"}]},\"layout\":{\"autotypenumbers\":\"strict\",\"colorway\":[\"#636efa\",\"#EF553B\",\"#00cc96\",\"#ab63fa\",\"#FFA15A\",\"#19d3f3\",\"#FF6692\",\"#B6E880\",\"#FF97FF\",\"#FECB52\"],\"font\":{\"color\":\"#2a3f5f\"},\"hovermode\":\"closest\",\"hoverlabel\":{\"align\":\"left\"},\"paper_bgcolor\":\"white\",\"plot_bgcolor\":\"#E5ECF6\",\"polar\":{\"bgcolor\":\"#E5ECF6\",\"angularaxis\":{\"gridcolor\":\"white\",\"linecolor\":\"white\",\"ticks\":\"\"},\"radialaxis\":{\"gridcolor\":\"white\",\"linecolor\":\"white\",\"ticks\":\"\"}},\"ternary\":{\"bgcolor\":\"#E5ECF6\",\"aaxis\":{\"gridcolor\":\"white\",\"linecolor\":\"white\",\"ticks\":\"\"},\"baxis\":{\"gridcolor\":\"white\",\"linecolor\":\"white\",\"ticks\":\"\"},\"caxis\":{\"gridcolor\":\"white\",\"linecolor\":\"white\",\"ticks\":\"\"}},\"coloraxis\":{\"colorbar\":{\"outlinewidth\":0,\"ticks\":\"\"}},\"colorscale\":{\"sequential\":[[0.0,\"#0d0887\"],[0.1111111111111111,\"#46039f\"],[0.2222222222222222,\"#7201a8\"],[0.3333333333333333,\"#9c179e\"],[0.4444444444444444,\"#bd3786\"],[0.5555555555555556,\"#d8576b\"],[0.6666666666666666,\"#ed7953\"],[0.7777777777777778,\"#fb9f3a\"],[0.8888888888888888,\"#fdca26\"],[1.0,\"#f0f921\"]],\"sequentialminus\":[[0.0,\"#0d0887\"],[0.1111111111111111,\"#46039f\"],[0.2222222222222222,\"#7201a8\"],[0.3333333333333333,\"#9c179e\"],[0.4444444444444444,\"#bd3786\"],[0.5555555555555556,\"#d8576b\"],[0.6666666666666666,\"#ed7953\"],[0.7777777777777778,\"#fb9f3a\"],[0.8888888888888888,\"#fdca26\"],[1.0,\"#f0f921\"]],\"diverging\":[[0,\"#8e0152\"],[0.1,\"#c51b7d\"],[0.2,\"#de77ae\"],[0.3,\"#f1b6da\"],[0.4,\"#fde0ef\"],[0.5,\"#f7f7f7\"],[0.6,\"#e6f5d0\"],[0.7,\"#b8e186\"],[0.8,\"#7fbc41\"],[0.9,\"#4d9221\"],[1,\"#276419\"]]},\"xaxis\":{\"gridcolor\":\"white\",\"linecolor\":\"white\",\"ticks\":\"\",\"title\":{\"standoff\":15},\"zerolinecolor\":\"white\",\"automargin\":true,\"zerolinewidth\":2},\"yaxis\":{\"gridcolor\":\"white\",\"linecolor\":\"white\",\"ticks\":\"\",\"title\":{\"standoff\":15},\"zerolinecolor\":\"white\",\"automargin\":true,\"zerolinewidth\":2},\"scene\":{\"xaxis\":{\"backgroundcolor\":\"#E5ECF6\",\"gridcolor\":\"white\",\"linecolor\":\"white\",\"showbackground\":true,\"ticks\":\"\",\"zerolinecolor\":\"white\",\"gridwidth\":2},\"yaxis\":{\"backgroundcolor\":\"#E5ECF6\",\"gridcolor\":\"white\",\"linecolor\":\"white\",\"showbackground\":true,\"ticks\":\"\",\"zerolinecolor\":\"white\",\"gridwidth\":2},\"zaxis\":{\"backgroundcolor\":\"#E5ECF6\",\"gridcolor\":\"white\",\"linecolor\":\"white\",\"showbackground\":true,\"ticks\":\"\",\"zerolinecolor\":\"white\",\"gridwidth\":2}},\"shapedefaults\":{\"line\":{\"color\":\"#2a3f5f\"}},\"annotationdefaults\":{\"arrowcolor\":\"#2a3f5f\",\"arrowhead\":0,\"arrowwidth\":1},\"geo\":{\"bgcolor\":\"white\",\"landcolor\":\"#E5ECF6\",\"subunitcolor\":\"white\",\"showland\":true,\"showlakes\":true,\"lakecolor\":\"white\"},\"title\":{\"x\":0.05},\"mapbox\":{\"style\":\"light\"}}},\"xaxis\":{\"anchor\":\"y\",\"domain\":[0.0,1.0],\"title\":{\"text\":\"Year of Deposition\"}},\"yaxis\":{\"anchor\":\"x\",\"domain\":[0.0,1.0],\"title\":{\"text\":\"Number of Discoveries\"}},\"legend\":{\"tracegroupgap\":0},\"title\":{\"text\":\"Years of Bog Bodies Deposition\"},\"barmode\":\"relative\"},                        {\"responsive\": true}                    ).then(function(){\n",
       "                            \n",
       "var gd = document.getElementById('97df4398-30a8-4f11-8d29-48875929efd8');\n",
       "var x = new MutationObserver(function (mutations, observer) {{\n",
       "        var display = window.getComputedStyle(gd).display;\n",
       "        if (!display || display === 'none') {{\n",
       "            console.log([gd, 'removed!']);\n",
       "            Plotly.purge(gd);\n",
       "            observer.disconnect();\n",
       "        }}\n",
       "}});\n",
       "\n",
       "// Listen for the removal of the full notebook cells\n",
       "var notebookContainer = gd.closest('#notebook-container');\n",
       "if (notebookContainer) {{\n",
       "    x.observe(notebookContainer, {childList: true});\n",
       "}}\n",
       "\n",
       "// Listen for the clearing of the current output cell\n",
       "var outputEl = gd.closest('.output');\n",
       "if (outputEl) {{\n",
       "    x.observe(outputEl, {childList: true});\n",
       "}}\n",
       "\n",
       "                        })                };                });            </script>        </div>"
      ]
     },
     "metadata": {},
     "output_type": "display_data"
    }
   ],
   "source": [
    "# Calculate histogram bins\n",
    "counts, bins = np.histogram(bog_mummies['Radiocarbon Age (relativ)'].dropna(), bins=25)\n",
    "bins = bins[:-1]  # Remove last edge\n",
    "\n",
    "# Sort counts and corresponding bins\n",
    "sorted_indices = np.argsort(counts)\n",
    "sorted_counts = counts[sorted_indices]\n",
    "sorted_bins = bins[sorted_indices]\n",
    "\n",
    "# Thermal color scale\n",
    "thermal_scale = px.colors.sequential.thermal\n",
    "\n",
    "# Assign a color to each sorted bin\n",
    "colors = [thermal_scale[int(i / len(sorted_bins) * (len(thermal_scale) - 1))] for i in range(len(sorted_bins))]\n",
    "\n",
    "# Create a bar chart\n",
    "fig = px.bar(x=sorted_bins, y=sorted_counts, title='Years of Bog Bodies Deposition',\n",
    "             labels={'x': 'Year of Deposition', 'y': 'Number of Discoveries'})\n",
    "\n",
    "# Apply colors to each bar\n",
    "fig.update_traces(marker_color=colors)\n",
    "\n",
    "# Show the plot\n",
    "fig.show()\n",
    "file_path = 'deposition_year_distribution.svg'\n",
    "pio.write_image(fig, file_path)"
   ]
  }
 ],
 "metadata": {
  "kernelspec": {
   "display_name": "Python 3 (ipykernel)",
   "language": "python",
   "name": "python3"
  },
  "language_info": {
   "codemirror_mode": {
    "name": "ipython",
    "version": 3
   },
   "file_extension": ".py",
   "mimetype": "text/x-python",
   "name": "python",
   "nbconvert_exporter": "python",
   "pygments_lexer": "ipython3",
   "version": "3.10.9"
  }
 },
 "nbformat": 4,
 "nbformat_minor": 5
}
