{
 "cells": [
  {
   "cell_type": "code",
   "execution_count": 1,
   "id": "cc64e26d",
   "metadata": {},
   "outputs": [],
   "source": [
    "#import libraries and packages\n",
    "import numpy as np\n",
    "import pandas as pd\n",
    "import pickle\n",
    "import matplotlib.pyplot as plt\n",
    "from sklearn.metrics import  make_scorer\n",
    "from sklearn.model_selection import GridSearchCV, ParameterGrid\n",
    "from sklearn.preprocessing import StandardScaler\n",
    "from sklearn.model_selection import train_test_split\n",
    "from sklearn.metrics import accuracy_score\n",
    "from sklearn.model_selection import StratifiedShuffleSplit\n",
    "from sklearn.metrics import recall_score\n",
    "from sklearn.metrics import roc_auc_score\n",
    "from sklearn.metrics import classification_report\n",
    "from sklearn.metrics import confusion_matrix\n",
    "from sklearn.linear_model import LogisticRegression\n",
    "from sklearn.calibration import CalibratedClassifierCV\n",
    "from dsutil.plotting import calibration_accuracy_plot\n",
    "from sklearn.calibration import calibration_curve\n",
    "from sklearn.metrics import brier_score_loss\n",
    "from numpy import argmax\n",
    "from numpy import arange\n",
    "from sklearn.impute import SimpleImputer\n",
    "from sklearn.ensemble import IsolationForest\n",
    "from imblearn.pipeline import make_pipeline\n",
    "from imblearn import FunctionSampler\n"
   ]
  },
  {
   "cell_type": "markdown",
   "id": "822639f4",
   "metadata": {},
   "source": [
    "We define some functions, that will be useful in the future analysis: to_labels function is used to transform probabilities, that the model develops, into 0/1 output; pos_recall function is used to calculate the recall of class 1 (subjects with diabetes); outlier_rejection function is used to get rid of outliers in the sample inside of the Pipeline. "
   ]
  },
  {
   "cell_type": "code",
   "execution_count": 2,
   "id": "ea545daa",
   "metadata": {},
   "outputs": [],
   "source": [
    "def to_labels(pos_probs, threshold):\n",
    "    return (pos_probs >= threshold).astype('int')\n",
    "def pos_recall(estimator, X, y):\n",
    "    y_pred = estimator.predict(X)  \n",
    "    rec = recall_score(y, y_pred,pos_label=1, average='binary')\n",
    "    return rec\n",
    "def outlier_rejection(X, y):\n",
    "    model = IsolationForest(max_samples=100, contamination=0.4, random_state=42)\n",
    "    model.fit(X)\n",
    "    y_pred = model.predict(X)\n",
    "    return X[y_pred == 1], y[y_pred == 1]\n"
   ]
  },
  {
   "cell_type": "markdown",
   "id": "154cda46",
   "metadata": {},
   "source": [
    "Any analysis will suffer, if there are hidden patterns in the missing values. We can handle missing values in many ways, but first we need to understand which missing values we have, and why. While a lady might not have any kids (min value in Pregnancies variable can be 0), it is unfeasible that Glucose, BloodPressure, SkinThickness, Insulin and BMI can be 0. Therefore, we interpret these 0 values as missing values. We want to replace all 0 in these columns with NaN's, since they are easy to handle in Python."
   ]
  },
  {
   "cell_type": "code",
   "execution_count": 3,
   "id": "c260075d",
   "metadata": {},
   "outputs": [],
   "source": [
    "df_full = pd.read_csv(r'/Users/alexfion/sciebo/python_WS/data/diabetes.csv')\n",
    "df_full[['Glucose', 'BloodPressure', 'SkinThickness', 'Insulin' , 'BMI']] =  df_full[['Glucose', 'BloodPressure', 'SkinThickness', 'Insulin' , 'BMI']].replace(0, np.NaN)\n",
    "df_full.head()\n",
    "X=df_full.drop(columns='Outcome')\n",
    "y=df_full.Outcome.ravel()"
   ]
  },
  {
   "cell_type": "code",
   "execution_count": 4,
   "id": "be0cac85",
   "metadata": {},
   "outputs": [],
   "source": [
    "y_hat_test_all=[]\n",
    "y_test_all=[]\n",
    "test_score=[]\n",
    "train_score=[]\n",
    "best_params=[]\n",
    "X_test_all=[]\n",
    "y_train_all=[]\n",
    "X_train_all=[]\n",
    "grid_result_all=[]\n",
    "results_all=[]\n",
    "train_roc_aucs=[]\n",
    "roc_auc_scorer = make_scorer(roc_auc_score)\n",
    "mean_train_roc_auc=[]\n",
    "norm=StandardScaler()\n",
    "test_roc_aucs=[]\n"
   ]
  },
  {
   "cell_type": "code",
   "execution_count": 5,
   "id": "030a51ee",
   "metadata": {},
   "outputs": [
    {
     "name": "stdout",
     "output_type": "stream",
     "text": [
      "Best Threshold=0.310000, ROC AUC=0.755\n",
      "Best Threshold=0.330000, ROC AUC=0.778\n",
      "Best Threshold=0.270000, ROC AUC=0.740\n",
      "Best Threshold=0.250000, ROC AUC=0.761\n",
      "Best Threshold=0.260000, ROC AUC=0.757\n",
      "Best Threshold=0.240000, ROC AUC=0.764\n",
      "Best Threshold=0.250000, ROC AUC=0.762\n",
      "Best Threshold=0.310000, ROC AUC=0.762\n",
      "Best Threshold=0.250000, ROC AUC=0.762\n",
      "Best Threshold=0.250000, ROC AUC=0.786\n",
      "Best Threshold=0.360000, ROC AUC=0.760\n",
      "Best Threshold=0.280000, ROC AUC=0.775\n",
      "Best Threshold=0.320000, ROC AUC=0.736\n",
      "Best Threshold=0.290000, ROC AUC=0.749\n",
      "Best Threshold=0.420000, ROC AUC=0.758\n",
      "Best Threshold=0.450000, ROC AUC=0.758\n",
      "Best Threshold=0.320000, ROC AUC=0.760\n",
      "Best Threshold=0.280000, ROC AUC=0.762\n",
      "Best Threshold=0.260000, ROC AUC=0.773\n",
      "Best Threshold=0.280000, ROC AUC=0.766\n",
      "Best Threshold=0.280000, ROC AUC=0.752\n",
      "Best Threshold=0.270000, ROC AUC=0.777\n",
      "Best Threshold=0.250000, ROC AUC=0.769\n",
      "Best Threshold=0.320000, ROC AUC=0.771\n",
      "Best Threshold=0.270000, ROC AUC=0.777\n",
      "Best Threshold=0.360000, ROC AUC=0.750\n",
      "Best Threshold=0.300000, ROC AUC=0.727\n",
      "Best Threshold=0.290000, ROC AUC=0.756\n",
      "Best Threshold=0.330000, ROC AUC=0.771\n",
      "Best Threshold=0.300000, ROC AUC=0.768\n",
      "Best Threshold=0.310000, ROC AUC=0.766\n",
      "Best Threshold=0.290000, ROC AUC=0.776\n",
      "Best Threshold=0.260000, ROC AUC=0.781\n",
      "Best Threshold=0.320000, ROC AUC=0.762\n",
      "Best Threshold=0.250000, ROC AUC=0.749\n",
      "Best Threshold=0.300000, ROC AUC=0.765\n",
      "Best Threshold=0.310000, ROC AUC=0.755\n",
      "Best Threshold=0.300000, ROC AUC=0.772\n",
      "Best Threshold=0.310000, ROC AUC=0.774\n",
      "Best Threshold=0.280000, ROC AUC=0.741\n",
      "Best Threshold=0.290000, ROC AUC=0.774\n",
      "Best Threshold=0.250000, ROC AUC=0.769\n",
      "Best Threshold=0.300000, ROC AUC=0.743\n",
      "Best Threshold=0.290000, ROC AUC=0.768\n",
      "Best Threshold=0.310000, ROC AUC=0.774\n",
      "Best Threshold=0.310000, ROC AUC=0.771\n",
      "Best Threshold=0.340000, ROC AUC=0.749\n",
      "Best Threshold=0.270000, ROC AUC=0.773\n",
      "Best Threshold=0.310000, ROC AUC=0.773\n",
      "Best Threshold=0.310000, ROC AUC=0.766\n",
      "Best Threshold=0.310000, ROC AUC=0.771\n",
      "Best Threshold=0.330000, ROC AUC=0.754\n",
      "Best Threshold=0.300000, ROC AUC=0.750\n",
      "Best Threshold=0.330000, ROC AUC=0.745\n",
      "Best Threshold=0.310000, ROC AUC=0.748\n",
      "Best Threshold=0.290000, ROC AUC=0.752\n",
      "Best Threshold=0.300000, ROC AUC=0.766\n",
      "Best Threshold=0.280000, ROC AUC=0.757\n",
      "Best Threshold=0.260000, ROC AUC=0.749\n",
      "Best Threshold=0.310000, ROC AUC=0.754\n",
      "Best Threshold=0.310000, ROC AUC=0.761\n",
      "Best Threshold=0.270000, ROC AUC=0.779\n",
      "Best Threshold=0.370000, ROC AUC=0.757\n",
      "Best Threshold=0.270000, ROC AUC=0.770\n",
      "Best Threshold=0.320000, ROC AUC=0.756\n",
      "Best Threshold=0.340000, ROC AUC=0.750\n",
      "Best Threshold=0.350000, ROC AUC=0.753\n",
      "Best Threshold=0.300000, ROC AUC=0.774\n",
      "Best Threshold=0.290000, ROC AUC=0.780\n",
      "Best Threshold=0.370000, ROC AUC=0.742\n",
      "Best Threshold=0.290000, ROC AUC=0.759\n",
      "Best Threshold=0.260000, ROC AUC=0.770\n",
      "Best Threshold=0.340000, ROC AUC=0.773\n",
      "Best Threshold=0.330000, ROC AUC=0.775\n",
      "Best Threshold=0.350000, ROC AUC=0.751\n",
      "Best Threshold=0.320000, ROC AUC=0.763\n",
      "Best Threshold=0.280000, ROC AUC=0.781\n",
      "Best Threshold=0.330000, ROC AUC=0.779\n",
      "Best Threshold=0.330000, ROC AUC=0.761\n",
      "Best Threshold=0.360000, ROC AUC=0.772\n",
      "Best Threshold=0.290000, ROC AUC=0.755\n",
      "Best Threshold=0.300000, ROC AUC=0.748\n",
      "Best Threshold=0.250000, ROC AUC=0.742\n",
      "Best Threshold=0.280000, ROC AUC=0.758\n",
      "Best Threshold=0.290000, ROC AUC=0.763\n",
      "Best Threshold=0.330000, ROC AUC=0.758\n",
      "Best Threshold=0.280000, ROC AUC=0.757\n",
      "Best Threshold=0.260000, ROC AUC=0.777\n",
      "Best Threshold=0.280000, ROC AUC=0.773\n",
      "Best Threshold=0.300000, ROC AUC=0.762\n",
      "Best Threshold=0.300000, ROC AUC=0.756\n",
      "Best Threshold=0.290000, ROC AUC=0.756\n",
      "Best Threshold=0.280000, ROC AUC=0.759\n",
      "Best Threshold=0.300000, ROC AUC=0.748\n",
      "Best Threshold=0.240000, ROC AUC=0.761\n",
      "Best Threshold=0.230000, ROC AUC=0.761\n",
      "Best Threshold=0.250000, ROC AUC=0.775\n",
      "Best Threshold=0.290000, ROC AUC=0.763\n",
      "Best Threshold=0.290000, ROC AUC=0.757\n",
      "Best Threshold=0.300000, ROC AUC=0.778\n"
     ]
    }
   ],
   "source": [
    "#outer cross validation\n",
    "for i in range(10):\n",
    "        cv_1 = StratifiedShuffleSplit(n_splits=10, test_size=0.3)\n",
    "        for train, test in cv_1.split(X, y):\n",
    "            X_train=X.iloc[train]\n",
    "            y_train=y[train]\n",
    "            X_test=X.iloc[test]\n",
    "            y_test=y[test]\n",
    "            X_train_lr=X_train.copy()\n",
    "            X_test_lr=X_test.copy()\n",
    "            \n",
    "            model=LogisticRegression()\n",
    "            pipeline = make_pipeline(SimpleImputer(missing_values=np.nan, strategy='median'),FunctionSampler(func=outlier_rejection),norm,model)              \n",
    "            # Create parameter grid\n",
    "            param_grid = [\n",
    "                {'base_estimator__logisticregression__penalty' : ['l1', 'l2'],\n",
    "                'base_estimator__logisticregression__C' : np.logspace(-4, 4, 10),\n",
    "                'base_estimator__logisticregression__solver' : ['liblinear']\n",
    "                }]\n",
    "            scoring={'roc_auc':roc_auc_scorer}\n",
    "            cv = StratifiedShuffleSplit(n_splits=3, random_state=0, test_size=0.5)\n",
    "            cal_clf = CalibratedClassifierCV(pipeline, cv=2, method='sigmoid')\n",
    "            #inner cross validation\n",
    "            grid = GridSearchCV(estimator=cal_clf, scoring=scoring, param_grid=param_grid,refit='roc_auc', n_jobs=1, cv=cv,return_train_score=True)\n",
    "            grid_result = grid.fit(X_train,y_train)            \n",
    "            best_model = grid_result.best_estimator_\n",
    "            best_params.append(grid.best_params_)\n",
    "            y_hat_test = grid_result.predict(X_test).ravel() \n",
    "            yhat_proba = grid_result.predict_proba(X_test)[:, 1].ravel() \n",
    "            y_train_hat = grid_result.predict(X_train).ravel() \n",
    "            y_train_proba = grid_result.predict_proba(X_train)[:, 1].ravel() \n",
    "\n",
    "            thresholds = arange(0, 1, 0.01)\n",
    "            # evaluate each threshold\n",
    "            roc_auc_score_1 = np.array([roc_auc_score(y_train, to_labels(y_train_proba, t)) for t in thresholds])\n",
    "            # locate the index of the largest ROC AUC\n",
    "            ix = argmax(roc_auc_score_1)\n",
    "            print('Best Threshold=%f, ROC AUC=%.3f' % (thresholds[ix], roc_auc_score_1[ix]))\n",
    "            new_threshold=thresholds[ix]\n",
    "            Y_train=to_labels(y_train_proba, new_threshold)\n",
    "            #print(pd.crosstab(np.array(y_train), Y_train, rownames=['Actual Features'], colnames=['Predicted Features']))\n",
    "            #print(classification_report(np.array(y_train), Y_train))\n",
    "            \n",
    "            y_test_all.append(y_test)\n",
    "            y_train_all.append(y_train)\n",
    "            X_train_all.append(X_train)\n",
    "            grid_result_all.append(grid_result) \n",
    "            y_hat_test_all.append(y_hat_test)\n",
    "            X_test_all.append(X_test)\n",
    "            Y_test=to_labels(yhat_proba, new_threshold)\n",
    "                        \n",
    "            results_all.append(pd.DataFrame(grid_result.cv_results_))\n",
    "            test_score.append(recall_score(y_test, Y_test,pos_label=1, average='binary'))\n",
    "            train_score.append(recall_score(y_train, Y_train,pos_label=1, average='binary'))\n",
    "        \n",
    "            test_roc_aucs.append(roc_auc_score(y_test, best_model.predict(X_test)))\n",
    "            train_roc_aucs.append(roc_auc_score(y_train, best_model.predict(X_train)))\n",
    "    \n"
   ]
  },
  {
   "cell_type": "code",
   "execution_count": 6,
   "id": "c03d1d82",
   "metadata": {},
   "outputs": [],
   "source": [
    "results_cv=pd.DataFrame({'Mean_pos_recall_Test': test_score,\n",
    "     'Mean_pos_recall_Train': train_score,\n",
    "     'Mean_ROC_AUC_Test': test_roc_aucs,\n",
    "     'Mean_ROC_AUC_Train': train_roc_aucs\n",
    "    })\n",
    "writer = pd.ExcelWriter(r'mean_results_log_reg_pima.xlsx', engine='xlsxwriter')\n",
    "# Convert the dataframe to an XlsxWriter Excel object.\n",
    "results_cv.to_excel(writer, sheet_name='Sheet1')\n",
    "# Close the Pandas Excel writer and output the Excel file.\n",
    "writer.save() "
   ]
  },
  {
   "cell_type": "markdown",
   "id": "fc2d6952",
   "metadata": {},
   "source": [
    "We can expect our model to deliver following ROC AUC on the unseen data, with the mean value:"
   ]
  },
  {
   "cell_type": "code",
   "execution_count": 7,
   "id": "f6408367",
   "metadata": {},
   "outputs": [
    {
     "data": {
      "text/plain": [
       "0.7084148148148148"
      ]
     },
     "execution_count": 7,
     "metadata": {},
     "output_type": "execute_result"
    }
   ],
   "source": [
    "np.mean(results_cv.Mean_ROC_AUC_Test)"
   ]
  },
  {
   "cell_type": "markdown",
   "id": "e8ebbc29",
   "metadata": {},
   "source": [
    "And the standard deviation:"
   ]
  },
  {
   "cell_type": "code",
   "execution_count": 8,
   "id": "b3b4a85d",
   "metadata": {},
   "outputs": [
    {
     "data": {
      "text/plain": [
       "0.027179413836644496"
      ]
     },
     "execution_count": 8,
     "metadata": {},
     "output_type": "execute_result"
    }
   ],
   "source": [
    "np.std(results_cv.Mean_ROC_AUC_Test)"
   ]
  },
  {
   "cell_type": "markdown",
   "id": "d3c07251",
   "metadata": {},
   "source": [
    "Let's train out final model for the future use, and save it with pickle."
   ]
  },
  {
   "cell_type": "code",
   "execution_count": 9,
   "id": "e131aba0",
   "metadata": {},
   "outputs": [
    {
     "name": "stdout",
     "output_type": "stream",
     "text": [
      "Best Threshold=0.330000, ROC AUC=0.761\n"
     ]
    }
   ],
   "source": [
    "\n",
    "model=LogisticRegression()\n",
    "pipeline = make_pipeline(SimpleImputer(missing_values=np.nan, strategy='median'),FunctionSampler(func=outlier_rejection),norm,model)              \n",
    "                        \n",
    "param_grid = [{'base_estimator__logisticregression__penalty' : ['l1', 'l2'],\n",
    "                'base_estimator__logisticregression__C' : np.logspace(-4, 4, 20),\n",
    "                'base_estimator__logisticregression__solver' : ['liblinear']\n",
    "                }]            \n",
    "scoring={'roc_auc':roc_auc_scorer}\n",
    "cv = StratifiedShuffleSplit(n_splits=3, random_state=0, test_size=0.5)\n",
    "cal_clf=CalibratedClassifierCV(pipeline, cv=2, method='sigmoid')\n",
    "grid_all= GridSearchCV(estimator=cal_clf, scoring=scoring, param_grid=param_grid,refit='roc_auc', n_jobs=1, cv=cv,return_train_score=True)\n",
    "grid_result_all = grid_all.fit(X,y)            \n",
    "best_model_T2 = grid_result_all.best_estimator_\n",
    "y_proba = best_model_T2.predict_proba(X)[:, 1].ravel() \n",
    "thresholds = arange(0, 1, 0.001)\n",
    "roc_auc_score_1 = np.array([roc_auc_score(y, to_labels(y_proba, t)) for t in thresholds])\n",
    "ix = argmax(roc_auc_score_1)\n",
    "print('Best Threshold=%f, ROC AUC=%.3f' % (thresholds[ix], roc_auc_score_1[ix]))\n"
   ]
  },
  {
   "cell_type": "code",
   "execution_count": 10,
   "id": "59306fc4",
   "metadata": {},
   "outputs": [
    {
     "name": "stdout",
     "output_type": "stream",
     "text": [
      "Predicted Features    0    1\n",
      "Actual Features             \n",
      "0                   377  123\n",
      "1                    62  206\n",
      "              precision    recall  f1-score   support\n",
      "\n",
      "           0       0.86      0.75      0.80       500\n",
      "           1       0.63      0.77      0.69       268\n",
      "\n",
      "    accuracy                           0.76       768\n",
      "   macro avg       0.74      0.76      0.75       768\n",
      "weighted avg       0.78      0.76      0.76       768\n",
      "\n"
     ]
    }
   ],
   "source": [
    "new_threshold=thresholds[ix]\n",
    "Y_=to_labels(y_proba, new_threshold)\n",
    "print(pd.crosstab(np.array(y), Y_, rownames=['Actual Features'], colnames=['Predicted Features']))\n",
    "print(classification_report(np.array(y), Y_))"
   ]
  },
  {
   "cell_type": "code",
   "execution_count": 11,
   "id": "35325a4b",
   "metadata": {},
   "outputs": [],
   "source": [
    "#threshold =0.330000\n",
    "filename = r'finalized_model_log_reg_pima.sav'\n",
    "pickle.dump(best_model_T2, open(filename, 'wb'))\n",
    " "
   ]
  },
  {
   "cell_type": "markdown",
   "id": "38f40463",
   "metadata": {},
   "source": [
    "Let's load our model and calculate the Brier's score, to evaluate the model calibration."
   ]
  },
  {
   "cell_type": "code",
   "execution_count": 12,
   "id": "e0ebf545",
   "metadata": {},
   "outputs": [
    {
     "name": "stdout",
     "output_type": "stream",
     "text": [
      "0.15546816503026653\n"
     ]
    }
   ],
   "source": [
    "loaded_model = pickle.load(open(filename, 'rb'))\n",
    "y_proba = loaded_model.predict_proba(X)[:, 1].ravel() \n",
    "lr_brier_score=brier_score_loss(y, y_proba)\n",
    "print(lr_brier_score)"
   ]
  },
  {
   "cell_type": "markdown",
   "id": "1dbbf53e",
   "metadata": {},
   "source": [
    "The low Brier score means, that the model is quite well calibrated. That is confirmed by the plot."
   ]
  },
  {
   "cell_type": "code",
   "execution_count": 13,
   "id": "c363c4cd",
   "metadata": {},
   "outputs": [
    {
     "data": {
      "image/png": "[encoded data removed]",
      "text/plain": [
       "<Figure size 432x432 with 1 Axes>"
      ]
     },
     "metadata": {
      "needs_background": "light"
     },
     "output_type": "display_data"
    }
   ],
   "source": [
    "x, y_plot = calibration_curve(y, y_proba, n_bins = 10, normalize = True)\n",
    "plt.figure(figsize=[6, 6])\n",
    "# Plot a perfectly calibrated curve\n",
    "plt.plot([0, 1], [0, 1], linestyle = '--', label = 'Ideally Calibrated')\n",
    "# Plot model's calibration curve\n",
    "plt.plot(y_plot, x, marker = '.', label = 'calibrated S-LR')\n",
    "plt.title(\"Calibration Curves\")\n",
    "plt.xlabel(\"Mean predicted probability\")\n",
    "plt.ylabel(\"Fraction of positives\")\n",
    "plt.legend(loc=\"upper left\")\n",
    "plt.savefig(\"calibration_curves_LR_pima_calib.svg\")\n"
   ]
  },
  {
   "cell_type": "code",
   "execution_count": 14,
   "id": "97e27d86",
   "metadata": {},
   "outputs": [],
   "source": [
    "df_w_groups_explained=X.copy()\n",
    "df_w_groups_explained['target']=y\n",
    "df_w_groups_explained['risk']=y_proba\n",
    "\n",
    "writer = pd.ExcelWriter(r'features_explained_groups_train_set_pima.xlsx', engine='xlsxwriter')\n",
    "# Convert the dataframe to an XlsxWriter Excel object.\n",
    "df_w_groups_explained.to_excel(writer, sheet_name='Sheet1')\n",
    "# Close the Pandas Excel writer and output the Excel file.\n",
    "writer.save()"
   ]
  },
  {
   "cell_type": "markdown",
   "id": "d3c6d74e",
   "metadata": {},
   "source": [
    "To investigate the decision curve, we saved the probabilities, that our model delivered. And now we import the package from R, that provides calculations and plots of decision curves."
   ]
  },
  {
   "cell_type": "code",
   "execution_count": 15,
   "id": "09a46c78",
   "metadata": {},
   "outputs": [],
   "source": [
    "#decision curve: R code\n",
    "%load_ext rpy2.ipython\n"
   ]
  },
  {
   "cell_type": "code",
   "execution_count": 16,
   "id": "66307dda",
   "metadata": {},
   "outputs": [
    {
     "name": "stderr",
     "output_type": "stream",
     "text": [
      "R[write to console]: New names:\n",
      "* `` -> ...1\n",
      "\n",
      "R[write to console]: Assuming '1' is [Event] and '0' is [non-Event]\n",
      "\n",
      "R[write to console]: Printing with `plot(x, type = 'net_benefit', smooth = FALSE, show_ggplot_code = FALSE)`\n",
      "\n"
     ]
    },
    {
     "data": {
      "image/png": "[encoded data removed]"
     },
     "metadata": {},
     "output_type": "display_data"
    }
   ],
   "source": [
    "%%R  -w 3 -h 3 --units in -r 200\n",
    "library(ggplot2)\n",
    "library(readxl)\n",
    "library(dcurves)\n",
    "\n",
    "data_df_nn_S <- read_excel(\"features_explained_groups_train_set_pima.xlsx\")\n",
    "data_nn_S_calib<-data.frame(data_df_nn_S$target,data_df_nn_S$risk)\n",
    "x <- c(\"target\",  \"calibrated LR\")\n",
    "colnames(data_nn_S_calib) <- x\n",
    "\n",
    "dca(target  ~ `calibrated LR`,\n",
    "    data = data_nn_S_calib,thresholds = seq(0., 1.0, by = 0.01)) "
   ]
  },
  {
   "cell_type": "markdown",
   "id": "ddb42145",
   "metadata": {},
   "source": [
   ]
  }
 ],
 "metadata": {
  "kernelspec": {
   "display_name": "Python 3 (ipykernel)",
   "language": "python",
   "name": "python3"
  },
  "language_info": {
   "codemirror_mode": {
    "name": "ipython",
    "version": 3
   },
   "file_extension": ".py",
   "mimetype": "text/x-python",
   "name": "python",
   "nbconvert_exporter": "python",
   "pygments_lexer": "ipython3",
   "version": "3.9.7"
  }
 },
 "nbformat": 4,
 "nbformat_minor": 5
}
